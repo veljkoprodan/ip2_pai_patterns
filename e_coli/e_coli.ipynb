{
 "cells": [
  {
   "cell_type": "code",
   "execution_count": 8,
   "id": "732f1641",
   "metadata": {},
   "outputs": [],
   "source": [
    "import os\n",
    "from Bio import SeqIO"
   ]
  },
  {
   "cell_type": "code",
   "execution_count": 9,
   "id": "773855f3",
   "metadata": {},
   "outputs": [],
   "source": [
    "def read_data():\n",
    "    base_directory = './e_coli_paidb/'\n",
    "    data = {}\n",
    "    \n",
    "    for name in os.listdir(base_directory):\n",
    "        dir_path = os.path.join(base_directory, name)\n",
    "\n",
    "        if os.path.isdir(dir_path):\n",
    "            fasta_file = os.path.join(dir_path, f\"{name}.fasta\")\n",
    "            pai_file   = os.path.join(dir_path, f\"{name}.pai\")\n",
    "            cpai_file  = os.path.join(dir_path, f\"{name}.cpai\")\n",
    "            npai_file  = os.path.join(dir_path, f\"{name}.npai\")\n",
    "\n",
    "            data[name] = {}\n",
    "            genome_sequence = next(SeqIO.parse(fasta_file, 'fasta'))\n",
    "            data[name]['genome_sequence'] = genome_sequence\n",
    "\n",
    "            with open(pai_file, 'r') as file:\n",
    "                data[name]['pai_sequences'] = []\n",
    "\n",
    "                while True:\n",
    "                    line = file.readline()\n",
    "                    if not line:\n",
    "                        break\n",
    "\n",
    "                    line = line.split()\n",
    "                    pai_start_index = int(line[0])\n",
    "                    pai_end_index = int(line[1])\n",
    "\n",
    "                    pai_sequence = genome_sequence.seq[pai_start_index:pai_end_index]\n",
    "\n",
    "                    data[name]['pai_sequences'].append((pai_sequence, (pai_start_index, pai_end_index)))\n",
    "\n",
    "            with open(cpai_file, 'r') as file:\n",
    "                data[name]['cpai_sequences'] = []\n",
    "\n",
    "                while True:\n",
    "                    line = file.readline()\n",
    "                    if not line:\n",
    "                        break\n",
    "\n",
    "                    line = line.split()\n",
    "                    cpai_start_index = int(line[0])\n",
    "                    cpai_end_index = int(line[1])\n",
    "\n",
    "                    cpai_sequence = genome_sequence.seq[cpai_start_index:cpai_end_index]\n",
    "\n",
    "                    data[name]['cpai_sequences'].append((cpai_sequence, (cpai_start_index, cpai_end_index)))\n",
    "\n",
    "            with open(npai_file, 'r') as file:\n",
    "                data[name]['npai_sequences'] = []\n",
    "\n",
    "                while True:\n",
    "                    line = file.readline()\n",
    "                    if not line:\n",
    "                        break\n",
    "\n",
    "                    line = line.split()\n",
    "                    npai_start_index = int(line[0])\n",
    "                    npai_end_index = int(line[1])\n",
    "\n",
    "                    npai_sequence = genome_sequence.seq[npai_start_index:npai_end_index]\n",
    "\n",
    "                    data[name]['npai_sequences'].append((npai_sequence, (npai_start_index, npai_end_index)))\n",
    "\n",
    "    return data"
   ]
  },
  {
   "cell_type": "markdown",
   "id": "a4a1ea63",
   "metadata": {},
   "source": [
    "### TF-IDF"
   ]
  },
  {
   "cell_type": "code",
   "execution_count": 13,
   "id": "47f0fe7d",
   "metadata": {},
   "outputs": [],
   "source": [
    "from sklearn.feature_extraction.text import TfidfVectorizer\n",
    "\n",
    "def tfidf(sequence, k):\n",
    "    kmers = get_kmers(str(sequence), k)\n",
    "    vectorizer = TfidfVectorizer()\n",
    "    X = vectorizer.fit_transform([kmers])\n",
    "    tfidf_matrix = X.toarray()\n",
    "    return tfidf_matrix, vectorizer\n",
    "\n",
    "def get_kmers(sequence, k):\n",
    "    kmers = [sequence[i:i+k] for i in range(len(sequence) - k + 1)]\n",
    "    return ' '.join(kmers)\n",
    "\n",
    "def get_kmers_map(tfidf_matrix, vectorizer, sequence, top_n=20):\n",
    "    feature_names = vectorizer.get_feature_names_out()\n",
    "    feature_scores = tfidf_matrix.flatten()\n",
    "    \n",
    "    top_kmers_indices = feature_scores.argsort()[-top_n:][::-1]\n",
    "    top_kmers = [(feature_names[i], feature_scores[i]) for i in top_kmers_indices]\n",
    "\n",
    "    mapped_kmers = {}\n",
    "    for kmer, score in top_kmers:\n",
    "        kmer = kmer.upper()\n",
    "        count = sequence.count(kmer)\n",
    "        mapped_kmers[kmer] = {'score': score, 'count': count}\n",
    "        \n",
    "    return mapped_kmers\n",
    "\n",
    "def find_unique_kmers(full_sequence, start_index, end_index, significant_kmers, unique_kmers):\n",
    "    for kmer, details in significant_kmers.items():\n",
    "        left_occurrences = full_sequence[:start_index].count(kmer)\n",
    "        right_occurrences = full_sequence[end_index:].count(kmer)\n",
    "        occurrences = left_occurrences + right_occurrences\n",
    "        if occurrences == 0:\n",
    "            unique_kmers.append((kmer, details['count']))"
   ]
  },
  {
   "cell_type": "code",
   "execution_count": 4,
   "id": "f0dcc7ee",
   "metadata": {},
   "outputs": [],
   "source": [
    "def get_unique_patterns(full_sequence, island_sequence, start_index, end_index, k_max):\n",
    "    \n",
    "    unique_kmers = []\n",
    "    \n",
    "    for k in range(4, k_max):\n",
    "        tfidf_matrix, vectorizer = tfidf(island_sequence, k)\n",
    "        kmers = get_kmers_map(tfidf_matrix, vectorizer, island_sequence)\n",
    "        find_unique_kmers(full_sequence, start_index, end_index, kmers, unique_kmers)\n",
    "        \n",
    "    return unique_kmers"
   ]
  },
  {
   "cell_type": "markdown",
   "id": "3be84de2",
   "metadata": {},
   "source": [
    "#### Patterns unique for each island"
   ]
  },
  {
   "cell_type": "code",
   "execution_count": 39,
   "id": "8e9ecdb6",
   "metadata": {},
   "outputs": [],
   "source": [
    "e_coli_data = read_data()"
   ]
  },
  {
   "cell_type": "code",
   "execution_count": 5,
   "id": "b9e58dbb",
   "metadata": {},
   "outputs": [],
   "source": [
    "import logging\n",
    "\n",
    "logging.basicConfig(filename='tfidf.log', level=logging.INFO,\n",
    "                    format='%(message)s')\n",
    "\n",
    "console = logging.StreamHandler()\n",
    "console.setLevel(logging.INFO)\n",
    "console.setFormatter(logging.Formatter('%(message)s'))\n",
    "\n",
    "logging.getLogger('').addHandler(console)"
   ]
  },
  {
   "cell_type": "code",
   "execution_count": 6,
   "id": "89224e95",
   "metadata": {},
   "outputs": [
    {
     "name": "stderr",
     "output_type": "stream",
     "text": [
      "Max pattern length: 100\n",
      "--------------------------\n",
      "Genome 1/90: NC_010468\n",
      "No PAI sequences\n",
      "CPAI 1/3: 1742 unique patterns\n",
      "CPAI 2/3: 1735 unique patterns\n",
      "CPAI 3/3: 631 unique patterns\n",
      "NPAI 1/2: 1743 unique patterns\n",
      "NPAI 2/2: 1746 unique patterns\n",
      "--------------------------\n",
      "Genome 2/90: NC_011748\n",
      "No PAI sequences\n",
      "CPAI 1/10: 641 unique patterns\n",
      "CPAI 2/10: 1760 unique patterns\n",
      "CPAI 3/10: 1751 unique patterns\n",
      "CPAI 4/10: 1749 unique patterns\n",
      "CPAI 5/10: 1619 unique patterns\n",
      "CPAI 6/10: 581 unique patterns\n",
      "CPAI 7/10: 36 unique patterns\n",
      "CPAI 8/10: 1638 unique patterns\n",
      "CPAI 9/10: 1648 unique patterns\n",
      "CPAI 10/10: 1066 unique patterns\n",
      "NPAI 1/1: 1740 unique patterns\n",
      "--------------------------\n",
      "Genome 3/90: NC_011751\n",
      "PAI 1/1: 1454 unique patterns\n",
      "CPAI 1/7: 657 unique patterns\n",
      "CPAI 2/7: 1754 unique patterns\n",
      "CPAI 3/7: 1738 unique patterns\n",
      "CPAI 4/7: 1745 unique patterns\n",
      "CPAI 5/7: 1753 unique patterns\n",
      "CPAI 6/7: 1748 unique patterns\n",
      "CPAI 7/7: 1399 unique patterns\n",
      "NPAI 1/2: 1748 unique patterns\n",
      "NPAI 2/2: 1737 unique patterns\n",
      "--------------------------\n",
      "Genome 4/90: NC_012759\n",
      "No PAI sequences\n",
      "CPAI 1/5: 1500 unique patterns\n",
      "CPAI 2/5: 1751 unique patterns\n",
      "CPAI 3/5: 1602 unique patterns\n",
      "CPAI 4/5: 1749 unique patterns\n",
      "CPAI 5/5: 1720 unique patterns\n",
      "NPAI 1/2: 1747 unique patterns\n",
      "NPAI 2/2: 1747 unique patterns\n",
      "--------------------------\n",
      "Genome 5/90: NC_017635\n",
      "No PAI sequences\n",
      "CPAI 1/4: 862 unique patterns\n",
      "CPAI 2/4: 1749 unique patterns\n",
      "CPAI 3/4: 1610 unique patterns\n",
      "CPAI 4/4: 1741 unique patterns\n",
      "NPAI 1/2: 1742 unique patterns\n",
      "NPAI 2/2: 1739 unique patterns\n",
      "--------------------------\n",
      "Genome 6/90: NC_013365\n",
      "No PAI sequences\n",
      "CPAI 1/1: 1801 unique patterns\n",
      "No NPAI sequences\n",
      "--------------------------\n",
      "Genome 7/90: NC_017641\n",
      "No PAI sequences\n",
      "CPAI 1/6: 666 unique patterns\n",
      "CPAI 2/6: 1728 unique patterns\n",
      "CPAI 3/6: 1761 unique patterns\n",
      "CPAI 4/6: 1746 unique patterns\n",
      "CPAI 5/6: 1733 unique patterns\n",
      "CPAI 6/6: 1685 unique patterns\n",
      "NPAI 1/1: 1721 unique patterns\n",
      "--------------------------\n",
      "Genome 8/90: NC_018662\n",
      "No PAI sequences\n",
      "No CPAI sequences\n",
      "NPAI 1/1: 1808 unique patterns\n",
      "--------------------------\n",
      "Genome 9/90: NC_010488\n",
      "No PAI sequences\n",
      "CPAI 1/1: 719 unique patterns\n",
      "No NPAI sequences\n",
      "--------------------------\n",
      "Genome 10/90: NC_017630\n",
      "No PAI sequences\n",
      "No CPAI sequences\n",
      "NPAI 1/1: 1809 unique patterns\n",
      "--------------------------\n",
      "Genome 11/90: NC_007946\n",
      "No PAI sequences\n",
      "CPAI 1/10: 666 unique patterns\n",
      "CPAI 2/10: 1743 unique patterns\n",
      "CPAI 3/10: 1752 unique patterns\n",
      "CPAI 4/10: 1742 unique patterns\n",
      "CPAI 5/10: 1749 unique patterns\n",
      "CPAI 6/10: 1730 unique patterns\n",
      "CPAI 7/10: 1747 unique patterns\n",
      "CPAI 8/10: 1750 unique patterns\n",
      "CPAI 9/10: 1754 unique patterns\n",
      "CPAI 10/10: 1748 unique patterns\n",
      "NPAI 1/2: 1746 unique patterns\n",
      "NPAI 2/2: 1748 unique patterns\n",
      "--------------------------\n",
      "Genome 12/90: NC_009786\n",
      "No PAI sequences\n",
      "No CPAI sequences\n",
      "No NPAI sequences\n",
      "--------------------------\n",
      "Genome 13/90: NC_017660\n",
      "No PAI sequences\n",
      "CPAI 1/4: 1067 unique patterns\n",
      "CPAI 2/4: 1748 unique patterns\n",
      "CPAI 3/4: 1635 unique patterns\n",
      "CPAI 4/4: 1744 unique patterns\n",
      "NPAI 1/2: 1738 unique patterns\n",
      "NPAI 2/2: 1743 unique patterns\n",
      "--------------------------\n",
      "Genome 14/90: NC_017651\n",
      "No PAI sequences\n",
      "CPAI 1/12: 665 unique patterns\n",
      "CPAI 2/12: 1746 unique patterns\n",
      "CPAI 3/12: 1714 unique patterns\n",
      "CPAI 4/12: 1747 unique patterns\n",
      "CPAI 5/12: 1747 unique patterns\n",
      "CPAI 6/12: 1738 unique patterns\n",
      "CPAI 7/12: 1742 unique patterns\n",
      "CPAI 8/12: 1665 unique patterns\n",
      "CPAI 9/12: 1750 unique patterns\n",
      "CPAI 10/12: 1734 unique patterns\n",
      "CPAI 11/12: 1758 unique patterns\n",
      "CPAI 12/12: 1597 unique patterns\n",
      "NPAI 1/2: 1749 unique patterns\n",
      "NPAI 2/2: 1746 unique patterns\n",
      "--------------------------\n",
      "Genome 15/90: NC_002695\n",
      "PAI 1/2: 1743 unique patterns\n",
      "PAI 2/2: 1747 unique patterns\n",
      "CPAI 1/6: 682 unique patterns\n",
      "CPAI 2/6: 1351 unique patterns\n",
      "CPAI 3/6: 1749 unique patterns\n",
      "CPAI 4/6: 1743 unique patterns\n",
      "CPAI 5/6: 1489 unique patterns\n",
      "CPAI 6/6: 1747 unique patterns\n",
      "NPAI 1/2: 1696 unique patterns\n",
      "NPAI 2/2: 1740 unique patterns\n",
      "--------------------------\n",
      "Genome 16/90: NC_013353\n",
      "PAI 1/1: 972 unique patterns\n",
      "CPAI 1/8: 1745 unique patterns\n",
      "CPAI 2/8: 1741 unique patterns\n",
      "CPAI 3/8: 1710 unique patterns\n",
      "CPAI 4/8: 1751 unique patterns\n",
      "CPAI 5/8: 26 unique patterns\n",
      "CPAI 6/8: 1441 unique patterns\n",
      "CPAI 7/8: 1711 unique patterns\n",
      "CPAI 8/8: 1753 unique patterns\n",
      "NPAI 1/1: 1740 unique patterns\n",
      "--------------------------\n",
      "Genome 17/90: NC_007414\n",
      "No PAI sequences\n",
      "No CPAI sequences\n",
      "NPAI 1/1: 1804 unique patterns\n",
      "--------------------------\n",
      "Genome 18/90: NC_017656\n",
      "No PAI sequences\n",
      "CPAI 1/5: 665 unique patterns\n",
      "CPAI 2/5: 1411 unique patterns\n",
      "CPAI 3/5: 1750 unique patterns\n",
      "CPAI 4/5: 1629 unique patterns\n",
      "CPAI 5/5: 1749 unique patterns\n",
      "NPAI 1/2: 1751 unique patterns\n",
      "NPAI 2/2: 1741 unique patterns\n",
      "--------------------------\n",
      "Genome 19/90: NC_017664\n",
      "No PAI sequences\n",
      "CPAI 1/4: 862 unique patterns\n",
      "CPAI 2/4: 1753 unique patterns\n",
      "CPAI 3/4: 1610 unique patterns\n",
      "CPAI 4/4: 1741 unique patterns\n",
      "NPAI 1/2: 1740 unique patterns\n",
      "NPAI 2/2: 1739 unique patterns\n",
      "--------------------------\n",
      "Genome 20/90: NC_017659\n",
      "No PAI sequences\n",
      "CPAI 1/2: 1774 unique patterns\n",
      "CPAI 2/2: 1773 unique patterns\n",
      "NPAI 1/1: 1701 unique patterns\n",
      "--------------------------\n",
      "Genome 21/90: NC_000913\n",
      "No PAI sequences\n",
      "CPAI 1/4: 1527 unique patterns\n",
      "CPAI 2/4: 1324 unique patterns\n",
      "CPAI 3/4: 1720 unique patterns\n",
      "CPAI 4/4: 1752 unique patterns\n",
      "NPAI 1/3: 1602 unique patterns\n",
      "NPAI 2/3: 1746 unique patterns\n",
      "NPAI 3/3: 1748 unique patterns\n",
      "--------------------------\n",
      "Genome 22/90: NC_007941\n",
      "No PAI sequences\n",
      "No CPAI sequences\n",
      "NPAI 1/1: 1806 unique patterns\n",
      "--------------------------\n",
      "Genome 23/90: NC_012892\n",
      "No PAI sequences\n",
      "CPAI 1/6: 1741 unique patterns\n",
      "CPAI 2/6: 1763 unique patterns\n",
      "CPAI 3/6: 1750 unique patterns\n",
      "CPAI 4/6: 1742 unique patterns\n",
      "CPAI 5/6: 1757 unique patterns\n",
      "CPAI 6/6: 1488 unique patterns\n",
      "NPAI 1/1: 1688 unique patterns\n",
      "--------------------------\n",
      "Genome 24/90: NC_011601\n",
      "No PAI sequences\n",
      "CPAI 1/5: 1735 unique patterns\n",
      "CPAI 2/5: 1548 unique patterns\n",
      "CPAI 3/5: 1756 unique patterns\n",
      "CPAI 4/5: 1469 unique patterns\n",
      "CPAI 5/5: 1761 unique patterns\n",
      "NPAI 1/2: 1748 unique patterns\n",
      "NPAI 2/2: 1747 unique patterns\n",
      "--------------------------\n",
      "Genome 25/90: NC_011993\n",
      "No PAI sequences\n",
      "CPAI 1/6: 253 unique patterns\n",
      "CPAI 2/6: 1749 unique patterns\n",
      "CPAI 3/6: 1753 unique patterns\n",
      "CPAI 4/6: 1753 unique patterns\n",
      "CPAI 5/6: 1743 unique patterns\n",
      "CPAI 6/6: 1746 unique patterns\n",
      "NPAI 1/1: 1748 unique patterns\n",
      "--------------------------\n",
      "Genome 26/90: NC_011419\n",
      "No PAI sequences\n",
      "No CPAI sequences\n",
      "NPAI 1/1: 1798 unique patterns\n",
      "--------------------------\n",
      "Genome 27/90: NC_013364\n",
      "PAI 1/1: 1759 unique patterns\n",
      "CPAI 1/9: 955 unique patterns\n",
      "CPAI 2/9: 0 unique patterns\n",
      "CPAI 3/9: 17 unique patterns\n",
      "CPAI 4/9: 1625 unique patterns\n",
      "CPAI 5/9: 572 unique patterns\n",
      "CPAI 6/9: 1752 unique patterns\n",
      "CPAI 7/9: 1757 unique patterns\n",
      "CPAI 8/9: 1662 unique patterns\n",
      "CPAI 9/9: 1404 unique patterns\n",
      "No NPAI sequences\n",
      "--------------------------\n",
      "Genome 28/90: NC_007779\n",
      "No PAI sequences\n",
      "CPAI 1/4: 1521 unique patterns\n",
      "CPAI 2/4: 1751 unique patterns\n",
      "CPAI 3/4: 1720 unique patterns\n",
      "CPAI 4/4: 1586 unique patterns\n",
      "NPAI 1/3: 1600 unique patterns\n",
      "NPAI 2/3: 1744 unique patterns\n",
      "NPAI 3/3: 1750 unique patterns\n",
      "--------------------------\n",
      "Genome 29/90: NC_017645\n",
      "No PAI sequences\n",
      "CPAI 1/2: 1795 unique patterns\n",
      "CPAI 2/2: 1802 unique patterns\n",
      "No NPAI sequences\n",
      "--------------------------\n",
      "Genome 30/90: NC_013941\n",
      "No PAI sequences\n",
      "CPAI 1/5: 704 unique patterns\n",
      "CPAI 2/5: 1757 unique patterns\n",
      "CPAI 3/5: 1749 unique patterns\n",
      "CPAI 4/5: 1710 unique patterns\n",
      "CPAI 5/5: 1750 unique patterns\n",
      "NPAI 1/2: 1751 unique patterns\n",
      "NPAI 2/2: 1741 unique patterns\n",
      "--------------------------\n",
      "Genome 31/90: NC_009790\n",
      "No PAI sequences\n",
      "CPAI 1/2: 1616 unique patterns\n",
      "CPAI 2/2: 968 unique patterns\n",
      "No NPAI sequences\n",
      "--------------------------\n",
      "Genome 32/90: NC_012967\n",
      "No PAI sequences\n",
      "CPAI 1/7: 1741 unique patterns\n",
      "CPAI 2/7: 1763 unique patterns\n",
      "CPAI 3/7: 1683 unique patterns\n",
      "CPAI 4/7: 1742 unique patterns\n",
      "CPAI 5/7: 1756 unique patterns\n",
      "CPAI 6/7: 1487 unique patterns\n",
      "CPAI 7/7: 1753 unique patterns\n",
      "NPAI 1/1: 1687 unique patterns\n",
      "--------------------------\n",
      "Genome 33/90: NC_017628\n",
      "No PAI sequences\n",
      "CPAI 1/8: 656 unique patterns\n",
      "CPAI 2/8: 1745 unique patterns\n"
     ]
    },
    {
     "name": "stderr",
     "output_type": "stream",
     "text": [
      "CPAI 3/8: 1752 unique patterns\n",
      "CPAI 4/8: 1749 unique patterns\n",
      "CPAI 5/8: 1744 unique patterns\n",
      "CPAI 6/8: 1736 unique patterns\n",
      "CPAI 7/8: 1743 unique patterns\n",
      "CPAI 8/8: 1746 unique patterns\n",
      "NPAI 1/3: 1749 unique patterns\n",
      "NPAI 2/3: 1749 unique patterns\n",
      "NPAI 3/3: 1750 unique patterns\n",
      "--------------------------\n",
      "Genome 34/90: NC_009800\n",
      "No PAI sequences\n",
      "CPAI 1/4: 654 unique patterns\n",
      "CPAI 2/4: 1768 unique patterns\n",
      "CPAI 3/4: 1407 unique patterns\n",
      "CPAI 4/4: 1736 unique patterns\n",
      "NPAI 1/1: 1688 unique patterns\n",
      "--------------------------\n",
      "Genome 35/90: NC_004431\n",
      "PAI 1/2: 14 unique patterns\n",
      "PAI 2/2: 4 unique patterns\n",
      "CPAI 1/12: 664 unique patterns\n",
      "CPAI 2/12: 1716 unique patterns\n",
      "CPAI 3/12: 1744 unique patterns\n",
      "CPAI 4/12: 1753 unique patterns\n",
      "CPAI 5/12: 10 unique patterns\n",
      "CPAI 6/12: 1742 unique patterns\n",
      "CPAI 7/12: 1678 unique patterns\n",
      "CPAI 8/12: 1626 unique patterns\n",
      "CPAI 9/12: 1753 unique patterns\n",
      "CPAI 10/12: 1748 unique patterns\n",
      "CPAI 11/12: 1633 unique patterns\n",
      "CPAI 12/12: 6 unique patterns\n",
      "NPAI 1/2: 1752 unique patterns\n",
      "NPAI 2/2: 1744 unique patterns\n",
      "--------------------------\n",
      "Genome 36/90: NC_017625\n",
      "No PAI sequences\n",
      "CPAI 1/3: 996 unique patterns\n",
      "CPAI 2/3: 1744 unique patterns\n",
      "CPAI 3/3: 1750 unique patterns\n",
      "NPAI 1/3: 1745 unique patterns\n",
      "NPAI 2/3: 1744 unique patterns\n",
      "NPAI 3/3: 1523 unique patterns\n",
      "--------------------------\n",
      "Genome 37/90: NC_013354\n",
      "No PAI sequences\n",
      "CPAI 1/1: 7 unique patterns\n",
      "No NPAI sequences\n",
      "--------------------------\n",
      "Genome 38/90: NC_018658\n",
      "No PAI sequences\n",
      "CPAI 1/13: 1756 unique patterns\n",
      "CPAI 2/13: 1722 unique patterns\n",
      "CPAI 3/13: 140 unique patterns\n",
      "CPAI 4/13: 1751 unique patterns\n",
      "CPAI 5/13: 1761 unique patterns\n",
      "CPAI 6/13: 1756 unique patterns\n",
      "CPAI 7/13: 1528 unique patterns\n",
      "CPAI 8/13: 1618 unique patterns\n",
      "CPAI 9/13: 1688 unique patterns\n",
      "CPAI 10/13: 651 unique patterns\n",
      "CPAI 11/13: 1626 unique patterns\n",
      "CPAI 12/13: 1671 unique patterns\n",
      "CPAI 13/13: 853 unique patterns\n",
      "NPAI 1/1: 1743 unique patterns\n",
      "--------------------------\n",
      "Genome 39/90: NC_013008\n",
      "No PAI sequences\n",
      "CPAI 1/6: 715 unique patterns\n",
      "CPAI 2/6: 1139 unique patterns\n",
      "CPAI 3/6: 1618 unique patterns\n",
      "CPAI 4/6: 1745 unique patterns\n",
      "CPAI 5/6: 1390 unique patterns\n",
      "CPAI 6/6: 1749 unique patterns\n",
      "NPAI 1/1: 1741 unique patterns\n",
      "--------------------------\n",
      "Genome 40/90: NC_013361\n",
      "PAI 1/1: 1742 unique patterns\n",
      "CPAI 1/6: 967 unique patterns\n",
      "CPAI 2/6: 1689 unique patterns\n",
      "CPAI 3/6: 1517 unique patterns\n",
      "CPAI 4/6: 1710 unique patterns\n",
      "CPAI 5/6: 1755 unique patterns\n",
      "CPAI 6/6: 1015 unique patterns\n",
      "NPAI 1/1: 1713 unique patterns\n",
      "--------------------------\n",
      "Genome 41/90: NC_009838\n",
      "No PAI sequences\n",
      "CPAI 1/1: 1797 unique patterns\n",
      "No NPAI sequences\n",
      "--------------------------\n",
      "Genome 42/90: NC_018659\n",
      "No PAI sequences\n",
      "CPAI 1/1: 1815 unique patterns\n",
      "No NPAI sequences\n",
      "--------------------------\n",
      "Genome 43/90: NC_008563\n",
      "PAI 1/5: 1734 unique patterns\n",
      "PAI 2/5: 1771 unique patterns\n",
      "PAI 3/5: 1754 unique patterns\n",
      "PAI 4/5: 1728 unique patterns\n",
      "PAI 5/5: 1738 unique patterns\n",
      "CPAI 1/7: 1670 unique patterns\n",
      "CPAI 2/7: 1772 unique patterns\n",
      "CPAI 3/7: 1755 unique patterns\n",
      "CPAI 4/7: 1743 unique patterns\n",
      "CPAI 5/7: 1757 unique patterns\n",
      "CPAI 6/7: 1749 unique patterns\n",
      "CPAI 7/7: 1749 unique patterns\n",
      "NPAI 1/2: 1750 unique patterns\n",
      "NPAI 2/2: 1748 unique patterns\n",
      "--------------------------\n",
      "Genome 44/90: NC_013655\n",
      "No PAI sequences\n",
      "No CPAI sequences\n",
      "NPAI 1/1: 1806 unique patterns\n",
      "--------------------------\n",
      "Genome 45/90: NC_012971\n",
      "No PAI sequences\n",
      "CPAI 1/7: 1742 unique patterns\n",
      "CPAI 2/7: 1764 unique patterns\n",
      "CPAI 3/7: 1750 unique patterns\n",
      "CPAI 4/7: 1742 unique patterns\n",
      "CPAI 5/7: 1757 unique patterns\n",
      "CPAI 6/7: 1488 unique patterns\n",
      "CPAI 7/7: 1753 unique patterns\n",
      "NPAI 1/1: 1688 unique patterns\n",
      "--------------------------\n",
      "Genome 46/90: NC_017907\n",
      "No PAI sequences\n",
      "No CPAI sequences\n",
      "NPAI 1/1: 1804 unique patterns\n",
      "--------------------------\n",
      "Genome 47/90: NC_013369\n",
      "No PAI sequences\n",
      "No CPAI sequences\n",
      "NPAI 1/1: 771 unique patterns\n",
      "--------------------------\n",
      "Genome 48/90: NC_013366\n",
      "No PAI sequences\n",
      "No CPAI sequences\n",
      "NPAI 1/2: 1811 unique patterns\n",
      "NPAI 2/2: 1646 unique patterns\n",
      "--------------------------\n",
      "Genome 49/90: NC_011749\n",
      "No PAI sequences\n",
      "CPAI 1/1: 1806 unique patterns\n",
      "NPAI 1/1: 1807 unique patterns\n",
      "--------------------------\n",
      "Genome 50/90: NC_017642\n",
      "No PAI sequences\n",
      "CPAI 1/1: 1798 unique patterns\n",
      "No NPAI sequences\n",
      "--------------------------\n",
      "Genome 51/90: NC_008253\n",
      "No PAI sequences\n",
      "CPAI 1/7: 657 unique patterns\n",
      "CPAI 2/7: 4 unique patterns\n",
      "CPAI 3/7: 1743 unique patterns\n",
      "CPAI 4/7: 1344 unique patterns\n",
      "CPAI 5/7: 1670 unique patterns\n",
      "CPAI 6/7: 20 unique patterns\n",
      "CPAI 7/7: 1738 unique patterns\n",
      "NPAI 1/3: 1747 unique patterns\n",
      "NPAI 2/3: 1627 unique patterns\n",
      "NPAI 3/3: 1672 unique patterns\n",
      "--------------------------\n",
      "Genome 52/90: NC_018654\n",
      "No PAI sequences\n",
      "No CPAI sequences\n",
      "NPAI 1/1: 1810 unique patterns\n",
      "--------------------------\n",
      "Genome 53/90: NC_018661\n",
      "No PAI sequences\n",
      "CPAI 1/13: 1743 unique patterns\n",
      "CPAI 2/13: 1722 unique patterns\n",
      "CPAI 3/13: 71 unique patterns\n",
      "CPAI 4/13: 1751 unique patterns\n",
      "CPAI 5/13: 1761 unique patterns\n",
      "CPAI 6/13: 1749 unique patterns\n",
      "CPAI 7/13: 1035 unique patterns\n",
      "CPAI 8/13: 1618 unique patterns\n",
      "CPAI 9/13: 1686 unique patterns\n",
      "CPAI 10/13: 651 unique patterns\n",
      "CPAI 11/13: 1630 unique patterns\n",
      "CPAI 12/13: 1751 unique patterns\n",
      "CPAI 13/13: 95 unique patterns\n",
      "NPAI 1/1: 1742 unique patterns\n",
      "--------------------------\n",
      "Genome 54/90: NC_002128\n",
      "No PAI sequences\n",
      "No CPAI sequences\n",
      "NPAI 1/1: 1804 unique patterns\n",
      "--------------------------\n",
      "Genome 55/90: NC_013010\n",
      "No PAI sequences\n",
      "No CPAI sequences\n",
      "NPAI 1/1: 1801 unique patterns\n",
      "--------------------------\n",
      "Genome 56/90: NC_020163\n",
      "No PAI sequences\n",
      "CPAI 1/2: 1649 unique patterns\n",
      "CPAI 2/2: 1726 unique patterns\n",
      "NPAI 1/1: 1735 unique patterns\n",
      "--------------------------\n",
      "Genome 57/90: NC_010498\n",
      "No PAI sequences\n",
      "CPAI 1/8: 1232 unique patterns\n",
      "CPAI 2/8: 1636 unique patterns\n",
      "CPAI 3/8: 1622 unique patterns\n",
      "CPAI 4/8: 1757 unique patterns\n",
      "CPAI 5/8: 1750 unique patterns\n",
      "CPAI 6/8: 1717 unique patterns\n",
      "CPAI 7/8: 1272 unique patterns\n",
      "CPAI 8/8: 1747 unique patterns\n",
      "NPAI 1/2: 1747 unique patterns\n",
      "NPAI 2/2: 1738 unique patterns\n",
      "--------------------------\n",
      "Genome 58/90: NC_017906\n",
      "No PAI sequences\n",
      "CPAI 1/6: 698 unique patterns\n",
      "CPAI 2/6: 1314 unique patterns\n",
      "CPAI 3/6: 1727 unique patterns\n",
      "CPAI 4/6: 1743 unique patterns\n",
      "CPAI 5/6: 1481 unique patterns\n",
      "CPAI 6/6: 1422 unique patterns\n",
      "NPAI 1/2: 1734 unique patterns\n",
      "NPAI 2/2: 1741 unique patterns\n",
      "--------------------------\n",
      "Genome 59/90: NC_011742\n",
      "No PAI sequences\n",
      "CPAI 1/7: 1262 unique patterns\n",
      "CPAI 2/7: 1750 unique patterns\n",
      "CPAI 3/7: 1754 unique patterns\n",
      "CPAI 4/7: 1702 unique patterns\n",
      "CPAI 5/7: 1757 unique patterns\n",
      "CPAI 6/7: 1752 unique patterns\n",
      "CPAI 7/7: 1699 unique patterns\n",
      "NPAI 1/2: 1749 unique patterns\n",
      "NPAI 2/2: 1746 unique patterns\n",
      "--------------------------\n",
      "Genome 60/90: NC_017632\n",
      "No PAI sequences\n",
      "CPAI 1/10: 1738 unique patterns\n",
      "CPAI 2/10: 1598 unique patterns\n",
      "CPAI 3/10: 1747 unique patterns\n",
      "CPAI 4/10: 1662 unique patterns\n",
      "CPAI 5/10: 1757 unique patterns\n",
      "CPAI 6/10: 1748 unique patterns\n",
      "CPAI 7/10: 1750 unique patterns\n",
      "CPAI 8/10: 1747 unique patterns\n",
      "CPAI 9/10: 1761 unique patterns\n",
      "CPAI 10/10: 1737 unique patterns\n",
      "NPAI 1/2: 1739 unique patterns\n",
      "NPAI 2/2: 1749 unique patterns\n",
      "--------------------------\n",
      "Genome 61/90: NC_017646\n",
      "No PAI sequences\n",
      "CPAI 1/8: 1755 unique patterns\n",
      "CPAI 2/8: 1518 unique patterns\n",
      "CPAI 3/8: 1278 unique patterns\n",
      "CPAI 4/8: 1736 unique patterns\n",
      "CPAI 5/8: 26 unique patterns\n",
      "CPAI 6/8: 412 unique patterns\n",
      "CPAI 7/8: 1691 unique patterns\n",
      "CPAI 8/8: 1544 unique patterns\n",
      "NPAI 1/2: 1305 unique patterns\n",
      "NPAI 2/2: 1737 unique patterns\n",
      "--------------------------\n",
      "Genome 62/90: NC_017639\n",
      "No PAI sequences\n",
      "No CPAI sequences\n",
      "No NPAI sequences\n",
      "--------------------------\n",
      "Genome 63/90: NC_009837\n",
      "No PAI sequences\n",
      "CPAI 1/2: 1791 unique patterns\n",
      "CPAI 2/2: 1811 unique patterns\n",
      "NPAI 1/1: 1793 unique patterns\n",
      "--------------------------\n",
      "Genome 64/90: NC_009801\n",
      "No PAI sequences\n",
      "CPAI 1/6: 662 unique patterns\n",
      "CPAI 2/6: 1753 unique patterns\n",
      "CPAI 3/6: 1059 unique patterns\n",
      "CPAI 4/6: 1705 unique patterns\n",
      "CPAI 5/6: 1264 unique patterns\n",
      "CPAI 6/6: 0 unique patterns\n",
      "NPAI 1/1: 1738 unique patterns\n",
      "--------------------------\n",
      "Genome 65/90: NC_017627\n",
      "No PAI sequences\n",
      "No CPAI sequences\n",
      "NPAI 1/1: 1716 unique patterns\n"
     ]
    },
    {
     "name": "stderr",
     "output_type": "stream",
     "text": [
      "--------------------------\n",
      "Genome 66/90: NC_012947\n",
      "No PAI sequences\n",
      "CPAI 1/5: 1756 unique patterns\n",
      "CPAI 2/5: 1767 unique patterns\n",
      "CPAI 3/5: 1742 unique patterns\n",
      "CPAI 4/5: 1743 unique patterns\n",
      "CPAI 5/5: 1753 unique patterns\n",
      "NPAI 1/2: 0 unique patterns\n",
      "NPAI 2/2: 1684 unique patterns\n",
      "--------------------------\n",
      "Genome 67/90: NC_011747\n",
      "No PAI sequences\n",
      "CPAI 1/3: 1803 unique patterns\n",
      "CPAI 2/3: 1759 unique patterns\n",
      "CPAI 3/3: 1803 unique patterns\n",
      "NPAI 1/1: 1813 unique patterns\n",
      "--------------------------\n",
      "Genome 68/90: NC_013654\n",
      "No PAI sequences\n",
      "CPAI 1/4: 1746 unique patterns\n",
      "CPAI 2/4: 1413 unique patterns\n",
      "CPAI 3/4: 1737 unique patterns\n",
      "CPAI 4/4: 1394 unique patterns\n",
      "NPAI 1/2: 1745 unique patterns\n",
      "NPAI 2/2: 1743 unique patterns\n",
      "--------------------------\n",
      "Genome 69/90: NC_011745\n",
      "No PAI sequences\n",
      "CPAI 1/11: 659 unique patterns\n",
      "CPAI 2/11: 1561 unique patterns\n",
      "CPAI 3/11: 1739 unique patterns\n",
      "CPAI 4/11: 1528 unique patterns\n",
      "CPAI 5/11: 1410 unique patterns\n",
      "CPAI 6/11: 1751 unique patterns\n",
      "CPAI 7/11: 1364 unique patterns\n",
      "CPAI 8/11: 1686 unique patterns\n",
      "CPAI 9/11: 1143 unique patterns\n",
      "CPAI 10/11: 1100 unique patterns\n",
      "CPAI 11/11: 1644 unique patterns\n",
      "NPAI 1/2: 1379 unique patterns\n",
      "NPAI 2/2: 1747 unique patterns\n",
      "--------------------------\n",
      "Genome 70/90: NC_011739\n",
      "No PAI sequences\n",
      "No CPAI sequences\n",
      "No NPAI sequences\n",
      "--------------------------\n",
      "Genome 71/90: NC_011353\n",
      "No PAI sequences\n",
      "CPAI 1/6: 672 unique patterns\n",
      "CPAI 2/6: 1138 unique patterns\n",
      "CPAI 3/6: 1620 unique patterns\n",
      "CPAI 4/6: 1741 unique patterns\n",
      "CPAI 5/6: 1115 unique patterns\n",
      "CPAI 6/6: 1747 unique patterns\n",
      "NPAI 1/1: 1738 unique patterns\n",
      "--------------------------\n",
      "Genome 72/90: NC_017657\n",
      "No PAI sequences\n",
      "CPAI 1/1: 1821 unique patterns\n",
      "No NPAI sequences\n",
      "--------------------------\n",
      "Genome 73/90: NC_002655\n",
      "PAI 1/5: 0 unique patterns\n",
      "PAI 2/5: 0 unique patterns\n",
      "PAI 3/5: 1731 unique patterns\n",
      "PAI 4/5: 1507 unique patterns\n",
      "PAI 5/5: 1748 unique patterns\n",
      "CPAI 1/7: 707 unique patterns\n",
      "CPAI 2/7: 0 unique patterns\n",
      "CPAI 3/7: 0 unique patterns\n",
      "CPAI 4/7: 1752 unique patterns\n",
      "CPAI 5/7: 1742 unique patterns\n",
      "CPAI 6/7: 1507 unique patterns\n",
      "CPAI 7/7: 1747 unique patterns\n",
      "NPAI 1/2: 1731 unique patterns\n",
      "NPAI 2/2: 1743 unique patterns\n",
      "--------------------------\n",
      "Genome 74/90: NC_009788\n",
      "No PAI sequences\n",
      "No CPAI sequences\n",
      "No NPAI sequences\n",
      "--------------------------\n",
      "Genome 75/90: NC_017638\n",
      "No PAI sequences\n",
      "CPAI 1/3: 1695 unique patterns\n",
      "CPAI 2/3: 1694 unique patterns\n",
      "CPAI 3/3: 1743 unique patterns\n",
      "NPAI 1/3: 1596 unique patterns\n",
      "NPAI 2/3: 1746 unique patterns\n",
      "NPAI 3/3: 1746 unique patterns\n",
      "--------------------------\n",
      "Genome 76/90: NC_011750\n",
      "No PAI sequences\n",
      "CPAI 1/9: 1261 unique patterns\n",
      "CPAI 2/9: 1753 unique patterns\n",
      "CPAI 3/9: 1200 unique patterns\n",
      "CPAI 4/9: 1717 unique patterns\n",
      "CPAI 5/9: 1680 unique patterns\n",
      "CPAI 6/9: 1666 unique patterns\n",
      "CPAI 7/9: 1750 unique patterns\n",
      "CPAI 8/9: 886 unique patterns\n",
      "CPAI 9/9: 0 unique patterns\n",
      "NPAI 1/2: 1638 unique patterns\n",
      "NPAI 2/2: 1741 unique patterns\n",
      "--------------------------\n",
      "Genome 77/90: NC_011741\n",
      "No PAI sequences\n",
      "CPAI 1/2: 954 unique patterns\n",
      "CPAI 2/2: 1751 unique patterns\n",
      "NPAI 1/2: 1742 unique patterns\n",
      "NPAI 2/2: 1742 unique patterns\n",
      "--------------------------\n",
      "Genome 78/90: NC_011415\n",
      "No PAI sequences\n",
      "CPAI 1/2: 958 unique patterns\n",
      "CPAI 2/2: 1745 unique patterns\n",
      "NPAI 1/2: 1743 unique patterns\n",
      "NPAI 2/2: 1735 unique patterns\n",
      "--------------------------\n",
      "Genome 79/90: NC_017633\n",
      "No PAI sequences\n",
      "CPAI 1/7: 656 unique patterns\n",
      "CPAI 2/7: 1699 unique patterns\n",
      "CPAI 3/7: 1752 unique patterns\n",
      "CPAI 4/7: 1409 unique patterns\n",
      "CPAI 5/7: 1608 unique patterns\n",
      "CPAI 6/7: 1701 unique patterns\n",
      "CPAI 7/7: 1659 unique patterns\n",
      "NPAI 1/2: 1690 unique patterns\n",
      "NPAI 2/2: 1746 unique patterns\n",
      "--------------------------\n",
      "Genome 80/90: NC_017665\n",
      "No PAI sequences\n",
      "No CPAI sequences\n",
      "NPAI 1/1: 1802 unique patterns\n",
      "--------------------------\n",
      "Genome 81/90: NC_010473\n",
      "No PAI sequences\n",
      "CPAI 1/4: 1518 unique patterns\n",
      "CPAI 2/4: 1753 unique patterns\n",
      "CPAI 3/4: 1720 unique patterns\n",
      "CPAI 4/4: 1742 unique patterns\n",
      "NPAI 1/2: 1602 unique patterns\n",
      "NPAI 2/2: 1761 unique patterns\n",
      "--------------------------\n",
      "Genome 82/90: NC_017652\n",
      "No PAI sequences\n",
      "CPAI 1/12: 665 unique patterns\n",
      "CPAI 2/12: 1746 unique patterns\n",
      "CPAI 3/12: 1714 unique patterns\n",
      "CPAI 4/12: 1747 unique patterns\n",
      "CPAI 5/12: 1747 unique patterns\n",
      "CPAI 6/12: 1738 unique patterns\n",
      "CPAI 7/12: 1742 unique patterns\n",
      "CPAI 8/12: 1670 unique patterns\n",
      "CPAI 9/12: 1756 unique patterns\n",
      "CPAI 10/12: 1734 unique patterns\n",
      "CPAI 11/12: 1758 unique patterns\n",
      "CPAI 12/12: 1597 unique patterns\n",
      "NPAI 1/2: 1749 unique patterns\n",
      "NPAI 2/2: 1746 unique patterns\n",
      "--------------------------\n",
      "Genome 83/90: NC_017637\n",
      "No PAI sequences\n",
      "No CPAI sequences\n",
      "NPAI 1/1: 1802 unique patterns\n",
      "--------------------------\n",
      "Genome 84/90: NC_017626\n",
      "No PAI sequences\n",
      "CPAI 1/11: 1485 unique patterns\n",
      "CPAI 2/11: 1754 unique patterns\n",
      "CPAI 3/11: 1744 unique patterns\n",
      "CPAI 4/11: 1745 unique patterns\n",
      "CPAI 5/11: 1734 unique patterns\n",
      "CPAI 6/11: 45 unique patterns\n",
      "CPAI 7/11: 1747 unique patterns\n",
      "CPAI 8/11: 1742 unique patterns\n",
      "CPAI 9/11: 1763 unique patterns\n",
      "CPAI 10/11: 1745 unique patterns\n",
      "CPAI 11/11: 1483 unique patterns\n",
      "NPAI 1/1: 1755 unique patterns\n",
      "--------------------------\n",
      "Genome 85/90: NC_022370\n",
      "No PAI sequences\n",
      "CPAI 1/8: 662 unique patterns\n",
      "CPAI 2/8: 1744 unique patterns\n",
      "CPAI 3/8: 1750 unique patterns\n",
      "CPAI 4/8: 1738 unique patterns\n",
      "CPAI 5/8: 1740 unique patterns\n",
      "CPAI 6/8: 1624 unique patterns\n",
      "CPAI 7/8: 1745 unique patterns\n",
      "CPAI 8/8: 1750 unique patterns\n",
      "NPAI 1/3: 1749 unique patterns\n",
      "NPAI 2/3: 1749 unique patterns\n",
      "NPAI 3/3: 1746 unique patterns\n",
      "--------------------------\n",
      "Genome 86/90: NC_022364\n",
      "No PAI sequences\n",
      "CPAI 1/2: 1029 unique patterns\n",
      "CPAI 2/2: 1661 unique patterns\n",
      "NPAI 1/4: 1741 unique patterns\n",
      "NPAI 2/4: 1756 unique patterns\n",
      "NPAI 3/4: 1742 unique patterns\n",
      "NPAI 4/4: 1742 unique patterns\n",
      "--------------------------\n",
      "Genome 87/90: NC_018650\n",
      "No PAI sequences\n",
      "CPAI 1/12: 1753 unique patterns\n",
      "CPAI 2/12: 1722 unique patterns\n",
      "CPAI 3/12: 1751 unique patterns\n",
      "CPAI 4/12: 1761 unique patterns\n",
      "CPAI 5/12: 1751 unique patterns\n",
      "CPAI 6/12: 1082 unique patterns\n",
      "CPAI 7/12: 1649 unique patterns\n",
      "CPAI 8/12: 1756 unique patterns\n",
      "CPAI 9/12: 651 unique patterns\n",
      "CPAI 10/12: 1676 unique patterns\n",
      "CPAI 11/12: 1624 unique patterns\n",
      "CPAI 12/12: 907 unique patterns\n",
      "NPAI 1/1: 1743 unique patterns\n",
      "--------------------------\n",
      "Genome 88/90: NC_017634\n",
      "No PAI sequences\n",
      "CPAI 1/5: 657 unique patterns\n",
      "CPAI 2/5: 1749 unique patterns\n",
      "CPAI 3/5: 1753 unique patterns\n",
      "CPAI 4/5: 1742 unique patterns\n",
      "CPAI 5/5: 1746 unique patterns\n",
      "NPAI 1/2: 1749 unique patterns\n",
      "NPAI 2/2: 1749 unique patterns\n",
      "--------------------------\n",
      "Genome 89/90: NC_018666\n",
      "No PAI sequences\n",
      "No CPAI sequences\n",
      "NPAI 1/1: 1808 unique patterns\n",
      "--------------------------\n",
      "Genome 90/90: NC_017631\n",
      "No PAI sequences\n",
      "CPAI 1/13: 667 unique patterns\n",
      "CPAI 2/13: 1697 unique patterns\n",
      "CPAI 3/13: 1742 unique patterns\n",
      "CPAI 4/13: 1753 unique patterns\n",
      "CPAI 5/13: 1649 unique patterns\n",
      "CPAI 6/13: 786 unique patterns\n",
      "CPAI 7/13: 1746 unique patterns\n",
      "CPAI 8/13: 1653 unique patterns\n",
      "CPAI 9/13: 1630 unique patterns\n",
      "CPAI 10/13: 1735 unique patterns\n",
      "CPAI 11/13: 1756 unique patterns\n",
      "CPAI 12/13: 1746 unique patterns\n",
      "CPAI 13/13: 1660 unique patterns\n",
      "NPAI 1/2: 1749 unique patterns\n",
      "NPAI 2/2: 1746 unique patterns\n",
      "--------------------------\n"
     ]
    }
   ],
   "source": [
    "unique_pai_patterns  = {}\n",
    "unique_cpai_patterns = {}\n",
    "unique_npai_patterns = {}\n",
    "\n",
    "k_max = 100\n",
    "logging.info(f'Max pattern length: {k_max}')\n",
    "logging.info('--------------------------')\n",
    "\n",
    "for i, (name, data) in enumerate(e_coli_data.items()):\n",
    "    logging.info(f'Genome {i+1}/{len(e_coli_data)}: {name}')\n",
    "    \n",
    "    if len(data['pai_sequences']) != 0:\n",
    "        unique_pai_patterns[name] = {}\n",
    "        genome_sequence = data['genome_sequence']\n",
    "        for j, (pai_sequence, indices) in enumerate(data['pai_sequences']):\n",
    "            unique_patterns = get_unique_patterns(genome_sequence, pai_sequence, indices[0], indices[1], k_max)\n",
    "\n",
    "            unique_pai_patterns[name]['pai_sequence'] = pai_sequence\n",
    "            unique_pai_patterns[name]['indices'] = indices\n",
    "            unique_pai_patterns[name]['patterns'] = unique_patterns\n",
    "\n",
    "            logging.info(f\"PAI {j+1}/{len(data['pai_sequences'])}: {len(unique_patterns)} unique patterns\")\n",
    "            \n",
    "            os.makedirs(f'e_coli_paidb/{name}/patterns/pai/', exist_ok=True)\n",
    "            \n",
    "            with open(f'e_coli_paidb/{name}/patterns/pai/pai_{j}_patterns.txt', 'w') as file:\n",
    "                for unique_pattern, frequency in unique_patterns:\n",
    "                    file.write(f'{unique_pattern}: {frequency}\\n')\n",
    "                        \n",
    "    else:\n",
    "        logging.info('No PAI sequences')\n",
    "    \n",
    "    if len(data['cpai_sequences']) != 0:    \n",
    "        unique_cpai_patterns[name] = {}\n",
    "\n",
    "        genome_sequence = data['genome_sequence']\n",
    "        for j, (cpai_sequence, indices) in enumerate(data['cpai_sequences']):\n",
    "            unique_patterns = get_unique_patterns(genome_sequence, cpai_sequence, indices[0], indices[1], k_max)\n",
    "\n",
    "            unique_cpai_patterns[name]['cpai_sequence'] = cpai_sequence\n",
    "            unique_cpai_patterns[name]['indices'] = indices\n",
    "            unique_cpai_patterns[name]['patterns'] = unique_patterns\n",
    "            \n",
    "            logging.info(f\"CPAI {j+1}/{len(data['cpai_sequences'])}: {len(unique_patterns)} unique patterns\")\n",
    "            \n",
    "            os.makedirs(f'e_coli_paidb/{name}/patterns/cpai/', exist_ok=True)\n",
    "            \n",
    "            with open(f'e_coli_paidb/{name}/patterns/cpai/cpai_{j}_patterns.txt', 'w') as file:\n",
    "                for unique_pattern, frequency in unique_patterns:\n",
    "                    file.write(f'{unique_pattern}: {frequency}\\n')\n",
    "            \n",
    "    else:\n",
    "        logging.info('No CPAI sequences')\n",
    "        \n",
    "    if len(data['npai_sequences']) != 0:\n",
    "        unique_npai_patterns[name] = {}\n",
    "        genome_sequence = data['genome_sequence']\n",
    "        for j, (npai_sequence, indices) in enumerate(data['npai_sequences']):\n",
    "            unique_patterns = get_unique_patterns(genome_sequence, npai_sequence, indices[0], indices[1], k_max)\n",
    "\n",
    "            unique_npai_patterns[name]['npai_sequence'] = npai_sequence\n",
    "            unique_npai_patterns[name]['indices'] = indices\n",
    "            unique_npai_patterns[name]['patterns'] = unique_patterns\n",
    "\n",
    "            logging.info(f\"NPAI {j+1}/{len(data['npai_sequences'])}: {len(unique_patterns)} unique patterns\")\n",
    "            \n",
    "            os.makedirs(f'e_coli_paidb/{name}/patterns/npai/', exist_ok=True)\n",
    "            \n",
    "            with open(f'e_coli_paidb/{name}/patterns/npai/npai_{j}_patterns.txt', 'w') as file:\n",
    "                for unique_pattern, frequency in unique_patterns:\n",
    "                    file.write(f'{unique_pattern}: {frequency}\\n')\n",
    "    \n",
    "    else:\n",
    "        logging.info('No NPAI sequences')\n",
    "    logging.info('--------------------------')"
   ]
  },
  {
   "cell_type": "code",
   "execution_count": 23,
   "id": "73e9ffcd",
   "metadata": {},
   "outputs": [],
   "source": [
    "import json\n",
    "\n",
    "with open('pai_patterns.json', 'w') as file:\n",
    "    json.dump(unique_pai_patterns, file)\n",
    "    \n",
    "with open('cpai_patterns.json', 'w') as file:\n",
    "    json.dump(unique_cpai_patterns, file)\n",
    "    \n",
    "with open('npai_patterns.json', 'w') as file:\n",
    "    json.dump(unique_npai_patterns, file)"
   ]
  },
  {
   "cell_type": "markdown",
   "id": "b4fae594",
   "metadata": {},
   "source": [
    "#### Unique patterns that appear in multiple islands"
   ]
  },
  {
   "cell_type": "code",
   "execution_count": 4,
   "id": "3a9e52db",
   "metadata": {},
   "outputs": [],
   "source": [
    "e_coli_data = read_data()"
   ]
  },
  {
   "cell_type": "code",
   "execution_count": 5,
   "id": "eccf4653",
   "metadata": {},
   "outputs": [],
   "source": [
    "import logging\n",
    "\n",
    "logging.basicConfig(filename='logs/tfidf_all_islands.log', level=logging.INFO,\n",
    "                    format='%(message)s')\n",
    "\n",
    "console = logging.StreamHandler()\n",
    "console.setLevel(logging.INFO)\n",
    "console.setFormatter(logging.Formatter('%(message)s'))\n",
    "\n",
    "logging.getLogger('').addHandler(console)"
   ]
  },
  {
   "cell_type": "code",
   "execution_count": 1,
   "id": "55110c1b",
   "metadata": {},
   "outputs": [],
   "source": [
    "from Bio import Align\n",
    "from Bio.Seq import Seq"
   ]
  },
  {
   "cell_type": "code",
   "execution_count": 2,
   "id": "52be04f5",
   "metadata": {},
   "outputs": [],
   "source": [
    "def count_matches(sequence, pattern):\n",
    "    aligner = Align.PairwiseAligner()\n",
    "    aligner.mode = 'local'\n",
    "    aligner.match_score = 2\n",
    "    aligner.mismatch_score = -2\n",
    "    aligner.open_gap_score = -2\n",
    "    aligner.extend_gap_score = -1\n",
    "    \n",
    "    alignments = aligner.align(sequence, pattern)\n",
    "    threshold = 0.85 * (2 * len(pattern))\n",
    "    \n",
    "    return sum(1 for alignment in alignments if alignment.score >= threshold)"
   ]
  },
  {
   "cell_type": "code",
   "execution_count": 8,
   "id": "acfd45af",
   "metadata": {},
   "outputs": [],
   "source": [
    "def find_islands_kmers(full_sequence,\n",
    "                       pai_islands,\n",
    "                       cpai_islands,\n",
    "                       npai_islands,\n",
    "                       significant_kmers,\n",
    "                       all_islands_kmers):\n",
    "    \n",
    "    all_islands = pai_islands + cpai_islands + npai_islands\n",
    "    all_islands.sort(key=lambda x: x[0])\n",
    "        \n",
    "    for kmer, details in significant_kmers.items():\n",
    "        \n",
    "        if kmer in all_islands_kmers:\n",
    "            continue\n",
    "        \n",
    "        start = 0\n",
    "        end = 0\n",
    "        isUnique = True\n",
    "        \n",
    "        # Check if kmer doesn't exist outside of the islands\n",
    "        for island in all_islands:\n",
    "            end = island[0]\n",
    "            \n",
    "            if end > start:\n",
    "                if count_matches(full_sequence[start:end], kmer) > 0:\n",
    "                    isUnique = False\n",
    "                    break\n",
    "                    \n",
    "            start = island[1]\n",
    "                    \n",
    "        if not isUnique or count_matches(full_sequence[start:], kmer) > 0:\n",
    "            continue\n",
    "          \n",
    "        \n",
    "        # Check which islands contain kmer\n",
    "        islands_containing_kmer = []\n",
    "        \n",
    "        for num, pai_island in enumerate(pai_islands, start=1):\n",
    "            start = pai_island[0]\n",
    "            end = pai_island[1]\n",
    "            \n",
    "            count = count_matches(full_sequence[start:end], kmer)\n",
    "            \n",
    "            if count > 0:\n",
    "                islands_containing_kmer.append(f'PAI {num}: {count}')\n",
    "            \n",
    "        for num, cpai_island in enumerate(cpai_islands, start=1):\n",
    "            start = cpai_island[0]\n",
    "            end = cpai_island[1]\n",
    "            \n",
    "            count = count_matches(full_sequence[start:end], kmer)\n",
    "            \n",
    "            if count > 0:\n",
    "                islands_containing_kmer.append(f'CPAI {num}: {count}')\n",
    "                \n",
    "        for num, npai_island in enumerate(npai_islands, start=1):\n",
    "            start = npai_island[0]\n",
    "            end = npai_island[1]\n",
    "            \n",
    "            count = count_matches(full_sequence[start:end], kmer)\n",
    "            \n",
    "            if count > 0:\n",
    "                islands_containing_kmer.append(f'NPAI {num}: {count}')\n",
    "        \n",
    "        all_islands_kmers[kmer] = islands_containing_kmer"
   ]
  },
  {
   "cell_type": "code",
   "execution_count": 9,
   "id": "a35126cc",
   "metadata": {},
   "outputs": [],
   "source": [
    "def get_islands_kmers(full_sequence,\n",
    "                      island_sequence,\n",
    "                      pai_islands,\n",
    "                      cpai_islands,\n",
    "                      npai_islands,\n",
    "                      all_islands_kmers,\n",
    "                      k_max):\n",
    "    \n",
    "    \n",
    "    for k in range(4, k_max):\n",
    "        tfidf_matrix, vectorizer = tfidf(island_sequence, k)\n",
    "        kmers = get_kmers_map(tfidf_matrix, vectorizer, island_sequence)\n",
    "        find_islands_kmers(full_sequence, pai_islands, cpai_islands, npai_islands, kmers, all_islands_kmers)"
   ]
  },
  {
   "cell_type": "code",
   "execution_count": 10,
   "id": "13329ba5",
   "metadata": {},
   "outputs": [
    {
     "name": "stderr",
     "output_type": "stream",
     "text": [
      "Max pattern length: 100\n",
      "--------------------------\n",
      "Genome 1/90: NC_013365\n",
      "No PAI sequences\n",
      "CPAI 1/1: 1801 patterns found\n",
      "No NPAI sequences\n",
      "--------------------------\n",
      "Genome 2/90: NC_020163\n",
      "No PAI sequences\n",
      "CPAI 1/2: 1649 patterns found\n",
      "CPAI 2/2: 1726 patterns found\n",
      "NPAI 1/1: 1736 patterns found\n",
      "--------------------------\n",
      "Genome 3/90: NC_017635\n",
      "No PAI sequences\n",
      "CPAI 1/4: 863 patterns found\n",
      "CPAI 2/4: 1749 patterns found\n",
      "CPAI 3/4: 1610 patterns found\n",
      "CPAI 4/4: 1742 patterns found\n",
      "NPAI 1/2: 1742 patterns found\n",
      "NPAI 2/2: 1739 patterns found\n",
      "--------------------------\n",
      "Genome 4/90: NC_012971\n",
      "No PAI sequences\n",
      "CPAI 1/7: 1742 patterns found\n",
      "CPAI 2/7: 1766 patterns found\n",
      "CPAI 3/7: 1750 patterns found\n",
      "CPAI 4/7: 1742 patterns found\n",
      "CPAI 5/7: 1757 patterns found\n",
      "CPAI 6/7: 1488 patterns found\n",
      "CPAI 7/7: 1753 patterns found\n",
      "NPAI 1/1: 1688 patterns found\n",
      "--------------------------\n",
      "Genome 5/90: NC_017625\n",
      "No PAI sequences\n",
      "CPAI 1/3: 996 patterns found\n",
      "CPAI 2/3: 1744 patterns found\n",
      "CPAI 3/3: 1751 patterns found\n",
      "NPAI 1/3: 1745 patterns found\n",
      "NPAI 2/3: 1744 patterns found\n",
      "NPAI 3/3: 1523 patterns found\n",
      "--------------------------\n",
      "Genome 6/90: NC_017652\n",
      "No PAI sequences\n",
      "CPAI 1/12: 665 patterns found\n",
      "CPAI 2/12: 1746 patterns found\n",
      "CPAI 3/12: 1716 patterns found\n",
      "CPAI 4/12: 1751 patterns found\n",
      "CPAI 5/12: 1754 patterns found\n",
      "CPAI 6/12: 1758 patterns found\n",
      "CPAI 7/12: 1744 patterns found\n",
      "CPAI 8/12: 1715 patterns found\n",
      "CPAI 9/12: 1756 patterns found\n",
      "CPAI 10/12: 1741 patterns found\n",
      "CPAI 11/12: 1758 patterns found\n",
      "CPAI 12/12: 1739 patterns found\n",
      "NPAI 1/2: 1750 patterns found\n",
      "NPAI 2/2: 1747 patterns found\n",
      "--------------------------\n",
      "Genome 7/90: NC_012892\n",
      "No PAI sequences\n",
      "CPAI 1/6: 1741 patterns found\n",
      "CPAI 2/6: 1765 patterns found\n",
      "CPAI 3/6: 1750 patterns found\n",
      "CPAI 4/6: 1742 patterns found\n",
      "CPAI 5/6: 1757 patterns found\n",
      "CPAI 6/6: 1488 patterns found\n",
      "NPAI 1/1: 1688 patterns found\n",
      "--------------------------\n",
      "Genome 8/90: NC_017906\n",
      "No PAI sequences\n",
      "CPAI 1/6: 698 patterns found\n",
      "CPAI 2/6: 1318 patterns found\n",
      "CPAI 3/6: 1741 patterns found\n",
      "CPAI 4/6: 1744 patterns found\n",
      "CPAI 5/6: 1574 patterns found\n",
      "CPAI 6/6: 1422 patterns found\n",
      "NPAI 1/2: 1760 patterns found\n",
      "NPAI 2/2: 1741 patterns found\n",
      "--------------------------\n",
      "Genome 9/90: NC_011745\n",
      "No PAI sequences\n",
      "CPAI 1/11: 659 patterns found\n",
      "CPAI 2/11: 1562 patterns found\n",
      "CPAI 3/11: 1741 patterns found\n",
      "CPAI 4/11: 1741 patterns found\n",
      "CPAI 5/11: 1743 patterns found\n",
      "CPAI 6/11: 1751 patterns found\n",
      "CPAI 7/11: 1675 patterns found\n",
      "CPAI 8/11: 1692 patterns found\n",
      "CPAI 9/11: 1757 patterns found\n",
      "CPAI 10/11: 1104 patterns found\n",
      "CPAI 11/11: 1729 patterns found\n",
      "NPAI 1/2: 1382 patterns found\n",
      "NPAI 2/2: 1747 patterns found\n",
      "--------------------------\n",
      "Genome 10/90: NC_013353\n",
      "PAI 1/1: 972 patterns found\n",
      "CPAI 1/8: 1745 patterns found\n",
      "CPAI 2/8: 1745 patterns found\n",
      "CPAI 3/8: 1747 patterns found\n",
      "CPAI 4/8: 1755 patterns found\n",
      "CPAI 5/8: 2 patterns found\n",
      "CPAI 6/8: 1753 patterns found\n",
      "CPAI 7/8: 1745 patterns found\n",
      "CPAI 8/8: 1755 patterns found\n",
      "NPAI 1/1: 1740 patterns found\n",
      "--------------------------\n",
      "Genome 11/90: NC_018654\n",
      "No PAI sequences\n",
      "No CPAI sequences\n",
      "NPAI 1/1: 1810 patterns found\n",
      "--------------------------\n",
      "Genome 12/90: NC_010498\n",
      "No PAI sequences\n",
      "CPAI 1/8: 1234 patterns found\n",
      "CPAI 2/8: 1662 patterns found\n",
      "CPAI 3/8: 1666 patterns found\n",
      "CPAI 4/8: 1757 patterns found\n",
      "CPAI 5/8: 1750 patterns found\n",
      "CPAI 6/8: 1737 patterns found\n",
      "CPAI 7/8: 1746 patterns found\n",
      "CPAI 8/8: 1749 patterns found\n",
      "NPAI 1/2: 1747 patterns found\n",
      "NPAI 2/2: 1738 patterns found\n",
      "--------------------------\n",
      "Genome 13/90: NC_002695\n",
      "PAI 1/2: 1743 patterns found\n",
      "PAI 2/2: 1747 patterns found\n",
      "CPAI 1/6: 682 patterns found\n",
      "CPAI 2/6: 1355 patterns found\n",
      "CPAI 3/6: 1750 patterns found\n",
      "CPAI 4/6: 0 patterns found\n",
      "CPAI 5/6: 1535 patterns found\n",
      "CPAI 6/6: 1293 patterns found\n",
      "NPAI 1/2: 1732 patterns found\n",
      "NPAI 2/2: 1740 patterns found\n",
      "--------------------------\n",
      "Genome 14/90: NC_017645\n",
      "No PAI sequences\n",
      "CPAI 1/2: 1812 patterns found\n",
      "CPAI 2/2: 1814 patterns found\n",
      "No NPAI sequences\n",
      "--------------------------\n",
      "Genome 15/90: NC_008253\n",
      "No PAI sequences\n",
      "CPAI 1/7: 658 patterns found\n",
      "CPAI 2/7: 1733 patterns found\n",
      "CPAI 3/7: 1744 patterns found\n",
      "CPAI 4/7: 1390 patterns found\n",
      "CPAI 5/7: 1696 patterns found\n",
      "CPAI 6/7: 314 patterns found\n",
      "CPAI 7/7: 1741 patterns found\n",
      "NPAI 1/3: 1749 patterns found\n",
      "NPAI 2/3: 1744 patterns found\n",
      "NPAI 3/3: 1744 patterns found\n",
      "--------------------------\n",
      "Genome 16/90: NC_017631\n",
      "No PAI sequences\n",
      "CPAI 1/13: 668 patterns found\n",
      "CPAI 2/13: 1699 patterns found\n",
      "CPAI 3/13: 1748 patterns found\n",
      "CPAI 4/13: 1756 patterns found\n",
      "CPAI 5/13: 1652 patterns found\n",
      "CPAI 6/13: 1672 patterns found\n",
      "CPAI 7/13: 1747 patterns found\n",
      "CPAI 8/13: 1739 patterns found\n",
      "CPAI 9/13: 1731 patterns found\n",
      "CPAI 10/13: 1748 patterns found\n",
      "CPAI 11/13: 1759 patterns found\n",
      "CPAI 12/13: 1755 patterns found\n",
      "CPAI 13/13: 1753 patterns found\n",
      "NPAI 1/2: 1750 patterns found\n",
      "NPAI 2/2: 1747 patterns found\n",
      "--------------------------\n",
      "Genome 17/90: NC_010488\n",
      "No PAI sequences\n",
      "CPAI 1/1: 719 patterns found\n",
      "No NPAI sequences\n",
      "--------------------------\n",
      "Genome 18/90: NC_017639\n",
      "No PAI sequences\n",
      "No CPAI sequences\n",
      "No NPAI sequences\n",
      "--------------------------\n",
      "Genome 19/90: NC_018650\n",
      "No PAI sequences\n",
      "CPAI 1/12: 1756 patterns found\n",
      "CPAI 2/12: 1740 patterns found\n",
      "CPAI 3/12: 1753 patterns found\n",
      "CPAI 4/12: 1764 patterns found\n",
      "CPAI 5/12: 1752 patterns found\n",
      "CPAI 6/12: 1365 patterns found\n",
      "CPAI 7/12: 1686 patterns found\n",
      "CPAI 8/12: 1757 patterns found\n",
      "CPAI 9/12: 652 patterns found\n",
      "CPAI 10/12: 1704 patterns found\n",
      "CPAI 11/12: 1751 patterns found\n",
      "CPAI 12/12: 907 patterns found\n",
      "NPAI 1/1: 1743 patterns found\n",
      "--------------------------\n",
      "Genome 20/90: NC_011993\n",
      "No PAI sequences\n",
      "CPAI 1/6: 253 patterns found\n",
      "CPAI 2/6: 1750 patterns found\n",
      "CPAI 3/6: 1754 patterns found\n",
      "CPAI 4/6: 1753 patterns found\n",
      "CPAI 5/6: 1743 patterns found\n",
      "CPAI 6/6: 1746 patterns found\n",
      "NPAI 1/1: 1750 patterns found\n",
      "--------------------------\n",
      "Genome 21/90: NC_022364\n",
      "No PAI sequences\n",
      "CPAI 1/2: 1029 patterns found\n",
      "CPAI 2/2: 1661 patterns found\n",
      "NPAI 1/4: 1741 patterns found\n",
      "NPAI 2/4: 1756 patterns found\n",
      "NPAI 3/4: 1742 patterns found\n",
      "NPAI 4/4: 1743 patterns found\n",
      "--------------------------\n",
      "Genome 22/90: NC_013008\n",
      "No PAI sequences\n",
      "CPAI 1/6: 716 patterns found\n",
      "CPAI 2/6: 1139 patterns found\n",
      "CPAI 3/6: 1683 patterns found\n",
      "CPAI 4/6: 1745 patterns found\n",
      "CPAI 5/6: 1497 patterns found\n",
      "CPAI 6/6: 1749 patterns found\n",
      "NPAI 1/1: 1741 patterns found\n",
      "--------------------------\n",
      "Genome 23/90: NC_017664\n",
      "No PAI sequences\n",
      "CPAI 1/4: 863 patterns found\n",
      "CPAI 2/4: 1753 patterns found\n",
      "CPAI 3/4: 1610 patterns found\n",
      "CPAI 4/4: 1742 patterns found\n",
      "NPAI 1/2: 1740 patterns found\n",
      "NPAI 2/2: 1739 patterns found\n",
      "--------------------------\n",
      "Genome 24/90: NC_011751\n",
      "PAI 1/1: 1749 patterns found\n",
      "CPAI 1/7: 657 patterns found\n",
      "CPAI 2/7: 1754 patterns found\n",
      "CPAI 3/7: 1739 patterns found\n",
      "CPAI 4/7: 1746 patterns found\n",
      "CPAI 5/7: 1541 patterns found\n",
      "CPAI 6/7: 1748 patterns found\n",
      "CPAI 7/7: 1747 patterns found\n",
      "NPAI 1/2: 1750 patterns found\n",
      "NPAI 2/2: 1739 patterns found\n",
      "--------------------------\n",
      "Genome 25/90: NC_017641\n",
      "No PAI sequences\n",
      "CPAI 1/6: 666 patterns found\n",
      "CPAI 2/6: 1747 patterns found\n",
      "CPAI 3/6: 1761 patterns found\n",
      "CPAI 4/6: 1746 patterns found\n",
      "CPAI 5/6: 1738 patterns found\n",
      "CPAI 6/6: 1687 patterns found\n",
      "NPAI 1/1: 1721 patterns found\n",
      "--------------------------\n",
      "Genome 26/90: NC_017659\n",
      "No PAI sequences\n",
      "CPAI 1/2: 1776 patterns found\n",
      "CPAI 2/2: 1780 patterns found\n",
      "NPAI 1/1: 1704 patterns found\n",
      "--------------------------\n",
      "Genome 27/90: NC_008563\n",
      "PAI 1/5: 1734 patterns found\n",
      "PAI 2/5: 1771 patterns found\n",
      "PAI 3/5: 1755 patterns found\n",
      "PAI 4/5: 1741 patterns found\n",
      "PAI 5/5: 1739 patterns found\n",
      "CPAI 1/7: 1569 patterns found\n",
      "CPAI 2/7: 1328 patterns found\n",
      "CPAI 3/7: 953 patterns found\n",
      "CPAI 4/7: 1546 patterns found\n",
      "CPAI 5/7: 1757 patterns found\n",
      "CPAI 6/7: 1750 patterns found\n",
      "CPAI 7/7: 1750 patterns found\n",
      "NPAI 1/2: 1751 patterns found\n",
      "NPAI 2/2: 1749 patterns found\n",
      "--------------------------\n",
      "Genome 28/90: NC_007946\n",
      "No PAI sequences\n",
      "CPAI 1/10: 666 patterns found\n",
      "CPAI 2/10: 1745 patterns found\n",
      "CPAI 3/10: 1752 patterns found\n",
      "CPAI 4/10: 1755 patterns found\n",
      "CPAI 5/10: 1749 patterns found\n",
      "CPAI 6/10: 1744 patterns found\n",
      "CPAI 7/10: 1747 patterns found\n",
      "CPAI 8/10: 1750 patterns found\n",
      "CPAI 9/10: 1754 patterns found\n"
     ]
    },
    {
     "name": "stderr",
     "output_type": "stream",
     "text": [
      "CPAI 10/10: 1751 patterns found\n",
      "NPAI 1/2: 1750 patterns found\n",
      "NPAI 2/2: 1748 patterns found\n",
      "--------------------------\n",
      "Genome 29/90: NC_011750\n",
      "No PAI sequences\n",
      "CPAI 1/9: 1361 patterns found\n",
      "CPAI 2/9: 1754 patterns found\n",
      "CPAI 3/9: 1450 patterns found\n",
      "CPAI 4/9: 1717 patterns found\n",
      "CPAI 5/9: 1680 patterns found\n",
      "CPAI 6/9: 1686 patterns found\n",
      "CPAI 7/9: 1750 patterns found\n",
      "CPAI 8/9: 906 patterns found\n",
      "CPAI 9/9: 0 patterns found\n",
      "NPAI 1/2: 1638 patterns found\n",
      "NPAI 2/2: 1741 patterns found\n",
      "--------------------------\n",
      "Genome 30/90: NC_012967\n",
      "No PAI sequences\n",
      "CPAI 1/7: 1741 patterns found\n",
      "CPAI 2/7: 1765 patterns found\n",
      "CPAI 3/7: 1683 patterns found\n",
      "CPAI 4/7: 1742 patterns found\n",
      "CPAI 5/7: 1756 patterns found\n",
      "CPAI 6/7: 1487 patterns found\n",
      "CPAI 7/7: 1753 patterns found\n",
      "NPAI 1/1: 1687 patterns found\n",
      "--------------------------\n",
      "Genome 31/90: NC_012947\n",
      "No PAI sequences\n",
      "CPAI 1/5: 1756 patterns found\n",
      "CPAI 2/5: 1767 patterns found\n",
      "CPAI 3/5: 1742 patterns found\n",
      "CPAI 4/5: 1744 patterns found\n",
      "CPAI 5/5: 1753 patterns found\n",
      "NPAI 1/2: 0 patterns found\n",
      "NPAI 2/2: 1684 patterns found\n",
      "--------------------------\n",
      "Genome 32/90: NC_007779\n",
      "No PAI sequences\n",
      "CPAI 1/4: 1521 patterns found\n",
      "CPAI 2/4: 1752 patterns found\n",
      "CPAI 3/4: 1720 patterns found\n",
      "CPAI 4/4: 1586 patterns found\n",
      "NPAI 1/3: 1600 patterns found\n",
      "NPAI 2/3: 1744 patterns found\n",
      "NPAI 3/3: 1750 patterns found\n",
      "--------------------------\n",
      "Genome 33/90: NC_009788\n",
      "No PAI sequences\n",
      "No CPAI sequences\n",
      "No NPAI sequences\n",
      "--------------------------\n",
      "Genome 34/90: NC_017632\n",
      "No PAI sequences\n",
      "CPAI 1/10: 1738 patterns found\n",
      "CPAI 2/10: 1749 patterns found\n",
      "CPAI 3/10: 1753 patterns found\n",
      "CPAI 4/10: 1750 patterns found\n",
      "CPAI 5/10: 1757 patterns found\n",
      "CPAI 6/10: 1752 patterns found\n",
      "CPAI 7/10: 1751 patterns found\n",
      "CPAI 8/10: 1749 patterns found\n",
      "CPAI 9/10: 1761 patterns found\n",
      "CPAI 10/10: 1739 patterns found\n",
      "NPAI 1/2: 1742 patterns found\n",
      "NPAI 2/2: 1750 patterns found\n",
      "--------------------------\n",
      "Genome 35/90: NC_009786\n",
      "No PAI sequences\n",
      "No CPAI sequences\n",
      "No NPAI sequences\n",
      "--------------------------\n",
      "Genome 36/90: NC_017657\n",
      "No PAI sequences\n",
      "CPAI 1/1: 1821 patterns found\n",
      "No NPAI sequences\n",
      "--------------------------\n",
      "Genome 37/90: NC_010468\n",
      "No PAI sequences\n",
      "CPAI 1/3: 1742 patterns found\n",
      "CPAI 2/3: 1735 patterns found\n",
      "CPAI 3/3: 631 patterns found\n",
      "NPAI 1/2: 1743 patterns found\n",
      "NPAI 2/2: 1746 patterns found\n",
      "--------------------------\n",
      "Genome 38/90: NC_013366\n",
      "No PAI sequences\n",
      "No CPAI sequences\n",
      "NPAI 1/2: 1812 patterns found\n",
      "NPAI 2/2: 1647 patterns found\n",
      "--------------------------\n",
      "Genome 39/90: NC_013369\n",
      "No PAI sequences\n",
      "No CPAI sequences\n",
      "NPAI 1/1: 771 patterns found\n",
      "--------------------------\n",
      "Genome 40/90: NC_018662\n",
      "No PAI sequences\n",
      "No CPAI sequences\n",
      "NPAI 1/1: 1808 patterns found\n",
      "--------------------------\n",
      "Genome 41/90: NC_017634\n",
      "No PAI sequences\n",
      "CPAI 1/5: 657 patterns found\n",
      "CPAI 2/5: 1750 patterns found\n",
      "CPAI 3/5: 1753 patterns found\n",
      "CPAI 4/5: 1743 patterns found\n",
      "CPAI 5/5: 1746 patterns found\n",
      "NPAI 1/2: 1751 patterns found\n",
      "NPAI 2/2: 1749 patterns found\n",
      "--------------------------\n",
      "Genome 42/90: NC_004431\n",
      "PAI 1/2: 1759 patterns found\n",
      "PAI 2/2: 5 patterns found\n",
      "CPAI 1/12: 664 patterns found\n",
      "CPAI 2/12: 1717 patterns found\n",
      "CPAI 3/12: 1747 patterns found\n",
      "CPAI 4/12: 1755 patterns found\n",
      "CPAI 5/12: 15 patterns found\n",
      "CPAI 6/12: 1742 patterns found\n",
      "CPAI 7/12: 1713 patterns found\n",
      "CPAI 8/12: 1746 patterns found\n",
      "CPAI 9/12: 1205 patterns found\n",
      "CPAI 10/12: 1752 patterns found\n",
      "CPAI 11/12: 1740 patterns found\n",
      "CPAI 12/12: 6 patterns found\n",
      "NPAI 1/2: 1752 patterns found\n",
      "NPAI 2/2: 1745 patterns found\n",
      "--------------------------\n",
      "Genome 43/90: NC_017665\n",
      "No PAI sequences\n",
      "No CPAI sequences\n",
      "NPAI 1/1: 1802 patterns found\n",
      "--------------------------\n",
      "Genome 44/90: NC_002655\n",
      "PAI 1/5: 1149 patterns found\n",
      "PAI 2/5: 740 patterns found\n",
      "PAI 3/5: 1732 patterns found\n",
      "PAI 4/5: 1519 patterns found\n",
      "PAI 5/5: 1748 patterns found\n",
      "CPAI 1/7: 707 patterns found\n",
      "CPAI 2/7: 0 patterns found\n",
      "CPAI 3/7: 0 patterns found\n",
      "CPAI 4/7: 1753 patterns found\n",
      "CPAI 5/7: 1743 patterns found\n",
      "CPAI 6/7: 0 patterns found\n",
      "CPAI 7/7: 1347 patterns found\n",
      "NPAI 1/2: 1737 patterns found\n",
      "NPAI 2/2: 1743 patterns found\n",
      "--------------------------\n",
      "Genome 45/90: NC_017630\n",
      "No PAI sequences\n",
      "No CPAI sequences\n",
      "NPAI 1/1: 1809 patterns found\n",
      "--------------------------\n",
      "Genome 46/90: NC_009801\n",
      "No PAI sequences\n",
      "CPAI 1/6: 662 patterns found\n",
      "CPAI 2/6: 1753 patterns found\n",
      "CPAI 3/6: 1385 patterns found\n",
      "CPAI 4/6: 1712 patterns found\n",
      "CPAI 5/6: 1667 patterns found\n",
      "CPAI 6/6: 0 patterns found\n",
      "NPAI 1/1: 1738 patterns found\n",
      "--------------------------\n",
      "Genome 47/90: NC_009790\n",
      "No PAI sequences\n",
      "CPAI 1/2: 1813 patterns found\n",
      "CPAI 2/2: 1147 patterns found\n",
      "No NPAI sequences\n",
      "--------------------------\n",
      "Genome 48/90: NC_013010\n",
      "No PAI sequences\n",
      "No CPAI sequences\n",
      "NPAI 1/1: 1801 patterns found\n",
      "--------------------------\n",
      "Genome 49/90: NC_007414\n",
      "No PAI sequences\n",
      "No CPAI sequences\n",
      "NPAI 1/1: 1804 patterns found\n",
      "--------------------------\n",
      "Genome 50/90: NC_018659\n",
      "No PAI sequences\n",
      "CPAI 1/1: 1815 patterns found\n",
      "No NPAI sequences\n",
      "--------------------------\n",
      "Genome 51/90: NC_013354\n",
      "No PAI sequences\n",
      "CPAI 1/1: 7 patterns found\n",
      "No NPAI sequences\n",
      "--------------------------\n",
      "Genome 52/90: NC_011742\n",
      "No PAI sequences\n",
      "CPAI 1/7: 1262 patterns found\n",
      "CPAI 2/7: 1752 patterns found\n",
      "CPAI 3/7: 1754 patterns found\n",
      "CPAI 4/7: 1707 patterns found\n",
      "CPAI 5/7: 1757 patterns found\n",
      "CPAI 6/7: 1753 patterns found\n",
      "CPAI 7/7: 1746 patterns found\n",
      "NPAI 1/2: 1750 patterns found\n",
      "NPAI 2/2: 1748 patterns found\n",
      "--------------------------\n",
      "Genome 53/90: NC_018661\n",
      "No PAI sequences\n",
      "CPAI 1/13: 1748 patterns found\n",
      "CPAI 2/13: 1740 patterns found\n",
      "CPAI 3/13: 1476 patterns found\n",
      "CPAI 4/13: 1753 patterns found\n",
      "CPAI 5/13: 1766 patterns found\n",
      "CPAI 6/13: 1750 patterns found\n",
      "CPAI 7/13: 1369 patterns found\n",
      "CPAI 8/13: 1687 patterns found\n",
      "CPAI 9/13: 1687 patterns found\n",
      "CPAI 10/13: 652 patterns found\n",
      "CPAI 11/13: 1734 patterns found\n",
      "CPAI 12/13: 1753 patterns found\n",
      "CPAI 13/13: 95 patterns found\n",
      "NPAI 1/1: 1742 patterns found\n",
      "--------------------------\n",
      "Genome 54/90: NC_011749\n",
      "No PAI sequences\n",
      "CPAI 1/1: 1808 patterns found\n",
      "NPAI 1/1: 1807 patterns found\n",
      "--------------------------\n",
      "Genome 55/90: NC_009800\n",
      "No PAI sequences\n",
      "CPAI 1/4: 656 patterns found\n",
      "CPAI 2/4: 1768 patterns found\n",
      "CPAI 3/4: 1407 patterns found\n",
      "CPAI 4/4: 1736 patterns found\n",
      "NPAI 1/1: 1688 patterns found\n",
      "--------------------------\n",
      "Genome 56/90: NC_013655\n",
      "No PAI sequences\n",
      "No CPAI sequences\n",
      "NPAI 1/1: 1806 patterns found\n",
      "--------------------------\n",
      "Genome 57/90: NC_007941\n",
      "No PAI sequences\n",
      "No CPAI sequences\n",
      "NPAI 1/1: 1806 patterns found\n",
      "--------------------------\n",
      "Genome 58/90: NC_017907\n",
      "No PAI sequences\n",
      "No CPAI sequences\n",
      "NPAI 1/1: 1804 patterns found\n",
      "--------------------------\n",
      "Genome 59/90: NC_010473\n",
      "No PAI sequences\n",
      "CPAI 1/4: 1518 patterns found\n",
      "CPAI 2/4: 1753 patterns found\n",
      "CPAI 3/4: 1720 patterns found\n",
      "CPAI 4/4: 1743 patterns found\n",
      "NPAI 1/2: 1602 patterns found\n",
      "NPAI 2/2: 1761 patterns found\n",
      "--------------------------\n",
      "Genome 60/90: NC_011739\n",
      "No PAI sequences\n",
      "No CPAI sequences\n",
      "No NPAI sequences\n",
      "--------------------------\n",
      "Genome 61/90: NC_017638\n",
      "No PAI sequences\n",
      "CPAI 1/3: 1696 patterns found\n",
      "CPAI 2/3: 1694 patterns found\n",
      "CPAI 3/3: 1744 patterns found\n",
      "NPAI 1/3: 1596 patterns found\n",
      "NPAI 2/3: 1746 patterns found\n",
      "NPAI 3/3: 1746 patterns found\n",
      "--------------------------\n",
      "Genome 62/90: NC_018666\n",
      "No PAI sequences\n",
      "No CPAI sequences\n",
      "NPAI 1/1: 1808 patterns found\n",
      "--------------------------\n",
      "Genome 63/90: NC_013364\n",
      "PAI 1/1: 1759 patterns found\n",
      "CPAI 1/9: 956 patterns found\n",
      "CPAI 2/9: 0 patterns found\n",
      "CPAI 3/9: 151 patterns found\n",
      "CPAI 4/9: 1626 patterns found\n",
      "CPAI 5/9: 573 patterns found\n",
      "CPAI 6/9: 1754 patterns found\n",
      "CPAI 7/9: 1112 patterns found\n",
      "CPAI 8/9: 1665 patterns found\n",
      "CPAI 9/9: 1647 patterns found\n",
      "No NPAI sequences\n",
      "--------------------------\n",
      "Genome 64/90: NC_017656\n",
      "No PAI sequences\n",
      "CPAI 1/5: 666 patterns found\n",
      "CPAI 2/5: 1748 patterns found\n",
      "CPAI 3/5: 1750 patterns found\n",
      "CPAI 4/5: 1636 patterns found\n",
      "CPAI 5/5: 1749 patterns found\n",
      "NPAI 1/2: 1751 patterns found\n",
      "NPAI 2/2: 1741 patterns found\n",
      "--------------------------\n",
      "Genome 65/90: NC_011601\n",
      "No PAI sequences\n",
      "CPAI 1/5: 1739 patterns found\n",
      "CPAI 2/5: 1598 patterns found\n",
      "CPAI 3/5: 1759 patterns found\n",
      "CPAI 4/5: 1469 patterns found\n",
      "CPAI 5/5: 1761 patterns found\n",
      "NPAI 1/2: 1749 patterns found\n"
     ]
    },
    {
     "name": "stderr",
     "output_type": "stream",
     "text": [
      "NPAI 2/2: 1747 patterns found\n",
      "--------------------------\n",
      "Genome 66/90: NC_013941\n",
      "No PAI sequences\n",
      "CPAI 1/5: 704 patterns found\n",
      "CPAI 2/5: 1757 patterns found\n",
      "CPAI 3/5: 1749 patterns found\n",
      "CPAI 4/5: 1714 patterns found\n",
      "CPAI 5/5: 1750 patterns found\n",
      "NPAI 1/2: 1751 patterns found\n",
      "NPAI 2/2: 1741 patterns found\n",
      "--------------------------\n",
      "Genome 67/90: NC_017633\n",
      "No PAI sequences\n",
      "CPAI 1/7: 656 patterns found\n",
      "CPAI 2/7: 1699 patterns found\n",
      "CPAI 3/7: 1753 patterns found\n",
      "CPAI 4/7: 1517 patterns found\n",
      "CPAI 5/7: 1608 patterns found\n",
      "CPAI 6/7: 1751 patterns found\n",
      "CPAI 7/7: 1659 patterns found\n",
      "NPAI 1/2: 1691 patterns found\n",
      "NPAI 2/2: 1747 patterns found\n",
      "--------------------------\n",
      "Genome 68/90: NC_013361\n",
      "PAI 1/1: 1744 patterns found\n",
      "CPAI 1/6: 1070 patterns found\n",
      "CPAI 2/6: 1749 patterns found\n",
      "CPAI 3/6: 1748 patterns found\n",
      "CPAI 4/6: 1714 patterns found\n",
      "CPAI 5/6: 1543 patterns found\n",
      "CPAI 6/6: 1334 patterns found\n",
      "NPAI 1/1: 1713 patterns found\n",
      "--------------------------\n",
      "Genome 69/90: NC_017637\n",
      "No PAI sequences\n",
      "No CPAI sequences\n",
      "NPAI 1/1: 1802 patterns found\n",
      "--------------------------\n",
      "Genome 70/90: NC_013654\n",
      "No PAI sequences\n",
      "CPAI 1/4: 1746 patterns found\n",
      "CPAI 2/4: 1422 patterns found\n",
      "CPAI 3/4: 1737 patterns found\n",
      "CPAI 4/4: 1468 patterns found\n",
      "NPAI 1/2: 1745 patterns found\n",
      "NPAI 2/2: 1743 patterns found\n",
      "--------------------------\n",
      "Genome 71/90: NC_011415\n",
      "No PAI sequences\n",
      "CPAI 1/2: 958 patterns found\n",
      "CPAI 2/2: 1745 patterns found\n",
      "NPAI 1/2: 1743 patterns found\n",
      "NPAI 2/2: 1735 patterns found\n",
      "--------------------------\n",
      "Genome 72/90: NC_017642\n",
      "No PAI sequences\n",
      "CPAI 1/1: 1798 patterns found\n",
      "No NPAI sequences\n",
      "--------------------------\n",
      "Genome 73/90: NC_017651\n",
      "No PAI sequences\n",
      "CPAI 1/12: 665 patterns found\n",
      "CPAI 2/12: 1746 patterns found\n",
      "CPAI 3/12: 1716 patterns found\n",
      "CPAI 4/12: 1751 patterns found\n",
      "CPAI 5/12: 1754 patterns found\n",
      "CPAI 6/12: 1758 patterns found\n",
      "CPAI 7/12: 1744 patterns found\n",
      "CPAI 8/12: 1707 patterns found\n",
      "CPAI 9/12: 1750 patterns found\n",
      "CPAI 10/12: 1741 patterns found\n",
      "CPAI 11/12: 1758 patterns found\n",
      "CPAI 12/12: 1739 patterns found\n",
      "NPAI 1/2: 1750 patterns found\n",
      "NPAI 2/2: 1747 patterns found\n",
      "--------------------------\n",
      "Genome 74/90: NC_017646\n",
      "No PAI sequences\n",
      "CPAI 1/8: 1756 patterns found\n",
      "CPAI 2/8: 1748 patterns found\n",
      "CPAI 3/8: 1468 patterns found\n",
      "CPAI 4/8: 1737 patterns found\n",
      "CPAI 5/8: 1741 patterns found\n",
      "CPAI 6/8: 412 patterns found\n",
      "CPAI 7/8: 1693 patterns found\n",
      "CPAI 8/8: 1666 patterns found\n",
      "NPAI 1/2: 1307 patterns found\n",
      "NPAI 2/2: 1738 patterns found\n",
      "--------------------------\n",
      "Genome 75/90: NC_009837\n",
      "No PAI sequences\n",
      "CPAI 1/2: 1792 patterns found\n",
      "CPAI 2/2: 1812 patterns found\n",
      "NPAI 1/1: 1796 patterns found\n",
      "--------------------------\n",
      "Genome 76/90: NC_018658\n",
      "No PAI sequences\n",
      "CPAI 1/13: 1757 patterns found\n",
      "CPAI 2/13: 1738 patterns found\n",
      "CPAI 3/13: 1744 patterns found\n",
      "CPAI 4/13: 1753 patterns found\n",
      "CPAI 5/13: 1765 patterns found\n",
      "CPAI 6/13: 1757 patterns found\n",
      "CPAI 7/13: 1743 patterns found\n",
      "CPAI 8/13: 1620 patterns found\n",
      "CPAI 9/13: 1688 patterns found\n",
      "CPAI 10/13: 652 patterns found\n",
      "CPAI 11/13: 1742 patterns found\n",
      "CPAI 12/13: 1751 patterns found\n",
      "CPAI 13/13: 1534 patterns found\n",
      "NPAI 1/1: 1743 patterns found\n",
      "--------------------------\n",
      "Genome 77/90: NC_022370\n",
      "No PAI sequences\n",
      "CPAI 1/8: 662 patterns found\n",
      "CPAI 2/8: 1745 patterns found\n",
      "CPAI 3/8: 1750 patterns found\n",
      "CPAI 4/8: 1752 patterns found\n",
      "CPAI 5/8: 1743 patterns found\n",
      "CPAI 6/8: 1751 patterns found\n",
      "CPAI 7/8: 1745 patterns found\n",
      "CPAI 8/8: 1751 patterns found\n",
      "NPAI 1/3: 1750 patterns found\n",
      "NPAI 2/3: 1749 patterns found\n",
      "NPAI 3/3: 1747 patterns found\n",
      "--------------------------\n",
      "Genome 78/90: NC_011353\n",
      "No PAI sequences\n",
      "CPAI 1/6: 674 patterns found\n",
      "CPAI 2/6: 1138 patterns found\n",
      "CPAI 3/6: 1690 patterns found\n",
      "CPAI 4/6: 1741 patterns found\n",
      "CPAI 5/6: 1206 patterns found\n",
      "CPAI 6/6: 1747 patterns found\n",
      "NPAI 1/1: 1738 patterns found\n",
      "--------------------------\n",
      "Genome 79/90: NC_011747\n",
      "No PAI sequences\n",
      "CPAI 1/3: 1812 patterns found\n",
      "CPAI 2/3: 1763 patterns found\n",
      "CPAI 3/3: 1805 patterns found\n",
      "NPAI 1/1: 1814 patterns found\n",
      "--------------------------\n",
      "Genome 80/90: NC_012759\n",
      "No PAI sequences\n",
      "CPAI 1/5: 1500 patterns found\n",
      "CPAI 2/5: 1752 patterns found\n",
      "CPAI 3/5: 1602 patterns found\n",
      "CPAI 4/5: 1749 patterns found\n",
      "CPAI 5/5: 1720 patterns found\n",
      "NPAI 1/2: 1747 patterns found\n",
      "NPAI 2/2: 1747 patterns found\n",
      "--------------------------\n",
      "Genome 81/90: NC_017626\n",
      "No PAI sequences\n",
      "CPAI 1/11: 1485 patterns found\n",
      "CPAI 2/11: 1754 patterns found\n",
      "CPAI 3/11: 1746 patterns found\n",
      "CPAI 4/11: 1752 patterns found\n",
      "CPAI 5/11: 1745 patterns found\n",
      "CPAI 6/11: 45 patterns found\n",
      "CPAI 7/11: 1747 patterns found\n",
      "CPAI 8/11: 1743 patterns found\n",
      "CPAI 9/11: 1765 patterns found\n",
      "CPAI 10/11: 1745 patterns found\n",
      "CPAI 11/11: 1744 patterns found\n",
      "NPAI 1/1: 1756 patterns found\n",
      "--------------------------\n",
      "Genome 82/90: NC_009838\n",
      "No PAI sequences\n",
      "CPAI 1/1: 1797 patterns found\n",
      "No NPAI sequences\n",
      "--------------------------\n",
      "Genome 83/90: NC_011748\n",
      "No PAI sequences\n",
      "CPAI 1/10: 641 patterns found\n",
      "CPAI 2/10: 1760 patterns found\n",
      "CPAI 3/10: 1751 patterns found\n",
      "CPAI 4/10: 1751 patterns found\n",
      "CPAI 5/10: 1715 patterns found\n",
      "CPAI 6/10: 1108 patterns found\n",
      "CPAI 7/10: 36 patterns found\n",
      "CPAI 8/10: 1751 patterns found\n",
      "CPAI 9/10: 1746 patterns found\n",
      "CPAI 10/10: 1386 patterns found\n",
      "NPAI 1/1: 1740 patterns found\n",
      "--------------------------\n",
      "Genome 84/90: NC_017627\n",
      "No PAI sequences\n",
      "No CPAI sequences\n",
      "NPAI 1/1: 1716 patterns found\n",
      "--------------------------\n",
      "Genome 85/90: NC_011741\n",
      "No PAI sequences\n",
      "CPAI 1/2: 954 patterns found\n",
      "CPAI 2/2: 1751 patterns found\n",
      "NPAI 1/2: 1742 patterns found\n",
      "NPAI 2/2: 1742 patterns found\n",
      "--------------------------\n",
      "Genome 86/90: NC_000913\n",
      "No PAI sequences\n",
      "CPAI 1/4: 1527 patterns found\n",
      "CPAI 2/4: 1324 patterns found\n",
      "CPAI 3/4: 1720 patterns found\n",
      "CPAI 4/4: 1752 patterns found\n",
      "NPAI 1/3: 1603 patterns found\n",
      "NPAI 2/3: 1747 patterns found\n",
      "NPAI 3/3: 1748 patterns found\n",
      "--------------------------\n",
      "Genome 87/90: NC_017660\n",
      "No PAI sequences\n",
      "CPAI 1/4: 1068 patterns found\n",
      "CPAI 2/4: 1752 patterns found\n",
      "CPAI 3/4: 1635 patterns found\n",
      "CPAI 4/4: 1744 patterns found\n",
      "NPAI 1/2: 1738 patterns found\n",
      "NPAI 2/2: 1743 patterns found\n",
      "--------------------------\n",
      "Genome 88/90: NC_017628\n",
      "No PAI sequences\n",
      "CPAI 1/8: 656 patterns found\n",
      "CPAI 2/8: 1746 patterns found\n",
      "CPAI 3/8: 1752 patterns found\n",
      "CPAI 4/8: 1752 patterns found\n",
      "CPAI 5/8: 1745 patterns found\n",
      "CPAI 6/8: 1742 patterns found\n",
      "CPAI 7/8: 1743 patterns found\n",
      "CPAI 8/8: 1747 patterns found\n",
      "NPAI 1/3: 1750 patterns found\n",
      "NPAI 2/3: 1749 patterns found\n",
      "NPAI 3/3: 1750 patterns found\n",
      "--------------------------\n",
      "Genome 89/90: NC_011419\n",
      "No PAI sequences\n",
      "No CPAI sequences\n",
      "NPAI 1/1: 1798 patterns found\n",
      "--------------------------\n",
      "Genome 90/90: NC_002128\n",
      "No PAI sequences\n",
      "No CPAI sequences\n",
      "NPAI 1/1: 1804 patterns found\n",
      "--------------------------\n"
     ]
    }
   ],
   "source": [
    "k_max = 100\n",
    "logging.info(f'Max pattern length: {k_max}')\n",
    "logging.info('--------------------------')\n",
    "\n",
    "unique_patterns = {}\n",
    "\n",
    "for i, (name, data) in enumerate(e_coli_data.items()):\n",
    "    logging.info(f'Genome {i+1}/{len(e_coli_data)}: {name}')\n",
    "    \n",
    "    genome_sequence = data['genome_sequence']\n",
    "    all_islands_kmers = {}\n",
    "\n",
    "    pai_indices = [x[1] for x in data['pai_sequences']]\n",
    "    cpai_indices = [x[1] for x in data['cpai_sequences']]\n",
    "    npai_indices = [x[1] for x in data['npai_sequences']]\n",
    "    \n",
    "    if len(data['pai_sequences']) != 0:\n",
    "        \n",
    "        for j, (pai_sequence, indices) in enumerate(data['pai_sequences']):\n",
    "            \n",
    "            len_before = len(all_islands_kmers)\n",
    "            \n",
    "            get_islands_kmers(genome_sequence,\n",
    "                              pai_sequence,\n",
    "                              pai_indices,\n",
    "                              cpai_indices,\n",
    "                              npai_indices,\n",
    "                              all_islands_kmers,\n",
    "                              k_max)\n",
    "            \n",
    "            new_patterns_found = len(all_islands_kmers) - len_before\n",
    "            logging.info(f\"PAI {j+1}/{len(data['pai_sequences'])}: {new_patterns_found} patterns found\")\n",
    "                        \n",
    "    else:\n",
    "        logging.info('No PAI sequences')\n",
    "    \n",
    "    \n",
    "    if len(data['cpai_sequences']) != 0:\n",
    "        \n",
    "        for j, (cpai_sequence, indices) in enumerate(data['cpai_sequences']):\n",
    "            \n",
    "            len_before = len(all_islands_kmers)\n",
    "            \n",
    "            get_islands_kmers(genome_sequence,\n",
    "                              cpai_sequence,\n",
    "                              pai_indices,\n",
    "                              cpai_indices,\n",
    "                              npai_indices,\n",
    "                              all_islands_kmers,\n",
    "                              k_max)\n",
    "            \n",
    "            new_patterns_found = len(all_islands_kmers) - len_before\n",
    "            logging.info(f\"CPAI {j+1}/{len(data['cpai_sequences'])}: {new_patterns_found} patterns found\")\n",
    "            \n",
    "    else:\n",
    "        logging.info('No CPAI sequences')\n",
    "        \n",
    "        \n",
    "    if len(data['npai_sequences']) != 0:\n",
    "\n",
    "        for j, (npai_sequence, indices) in enumerate(data['npai_sequences']):\n",
    "            \n",
    "            len_before = len(all_islands_kmers)\n",
    "            \n",
    "            get_islands_kmers(genome_sequence,\n",
    "                              npai_sequence,\n",
    "                              pai_indices,\n",
    "                              cpai_indices,\n",
    "                              npai_indices,\n",
    "                              all_islands_kmers,\n",
    "                              k_max)\n",
    "            \n",
    "            new_patterns_found = len(all_islands_kmers) - len_before\n",
    "            logging.info(f\"NPAI {j+1}/{len(data['npai_sequences'])}: {new_patterns_found} patterns found\")\n",
    "    else:\n",
    "        logging.info('No NPAI sequences')\n",
    "    logging.info('--------------------------')\n",
    "    \n",
    "    unique_patterns[name] = all_islands_kmers\n",
    "    os.makedirs(f'e_coli_paidb/{name}/patterns/all_islands/', exist_ok=True)\n",
    "    \n",
    "    with open(f'e_coli_paidb/{name}/patterns/all_islands/tfidf.txt', 'w') as file:\n",
    "        for kmer in all_islands_kmers:\n",
    "            file.write(kmer)\n",
    "            file.write('\\n')\n",
    "            \n",
    "            for island in all_islands_kmers[kmer]:\n",
    "                file.write(island)\n",
    "                file.write('\\n')\n",
    "            \n",
    "            file.write('----------------\\n')"
   ]
  },
  {
   "cell_type": "code",
   "execution_count": 13,
   "id": "27bd86b0",
   "metadata": {},
   "outputs": [],
   "source": [
    "with open('all_islands.json', 'w') as file:\n",
    "    json.dump(unique_patterns, file)"
   ]
  },
  {
   "cell_type": "markdown",
   "id": "4876b5dd",
   "metadata": {},
   "source": [
    "#### Patterns that partially belong in the islands"
   ]
  },
  {
   "cell_type": "code",
   "execution_count": 5,
   "id": "010648bd",
   "metadata": {},
   "outputs": [],
   "source": [
    "e_coli_data = read_data()"
   ]
  },
  {
   "cell_type": "code",
   "execution_count": 6,
   "id": "4769c838",
   "metadata": {},
   "outputs": [],
   "source": [
    "import logging\n",
    "\n",
    "logging.basicConfig(filename='logs/tfidf_partial.log', level=logging.INFO,\n",
    "                    format='%(message)s')\n",
    "\n",
    "console = logging.StreamHandler()\n",
    "console.setLevel(logging.INFO)\n",
    "console.setFormatter(logging.Formatter('%(message)s'))\n",
    "\n",
    "logging.getLogger('').addHandler(console)"
   ]
  },
  {
   "cell_type": "code",
   "execution_count": 14,
   "id": "ffd4a764",
   "metadata": {},
   "outputs": [],
   "source": [
    "def find_unique_kmers_partial(full_sequence, island_start_index, island_end_index, significant_kmers, unique_kmers):\n",
    "    for kmer, details in significant_kmers.items():\n",
    "        \n",
    "        is_unique = True\n",
    "        is_partial = False\n",
    "        index = 0\n",
    "        \n",
    "        while index != -1:\n",
    "            index = full_sequence.seq.find(kmer, index)\n",
    "            if index != -1:\n",
    "                start = index\n",
    "                end = index + len(kmer)\n",
    "                \n",
    "                if start < island_start_index:\n",
    "                    if end < island_start_index:\n",
    "                        is_unique = False\n",
    "                        break\n",
    "                    else:\n",
    "                        is_partial = True\n",
    "                        \n",
    "                if end > island_end_index:\n",
    "                    if start > island_end_index:\n",
    "                        is_unique = False\n",
    "                        break\n",
    "                    else:\n",
    "                        is_partial = True\n",
    "                \n",
    "                index += len(kmer)\n",
    "                \n",
    "        if not is_unique or not is_partial:\n",
    "            continue\n",
    "        \n",
    "        left_occurrences = full_sequence[:island_start_index].count(kmer)\n",
    "        right_occurrences = full_sequence[island_end_index:].count(kmer)\n",
    "        occurrences = left_occurrences + right_occurrences\n",
    "        \n",
    "        if occurrences == 0:\n",
    "            unique_kmers.append((kmer, details['count']))\n",
    "        else:\n",
    "            print('Something went wrong')\n",
    "            \n",
    "def get_unique_patterns_partial(full_sequence, \n",
    "                                island_start_index,\n",
    "                                island_end_index,\n",
    "                                k_max):\n",
    "    \n",
    "    unique_kmers = []\n",
    "    \n",
    "    for k in range(4, k_max):\n",
    "        \n",
    "        start = island_start_index-k+1\n",
    "        end = island_end_index+k-1\n",
    "        \n",
    "        if start < 0:\n",
    "            start = 0\n",
    "            \n",
    "        if end > len(full_sequence.seq) - 1:\n",
    "            end = len(full_sequence.seq) - 1\n",
    "        \n",
    "        island_sequence = full_sequence.seq[start:end]\n",
    "        \n",
    "        tfidf_matrix, vectorizer = tfidf(island_sequence, k)\n",
    "        kmers = get_kmers_map(tfidf_matrix, vectorizer, island_sequence)\n",
    "        find_unique_kmers_partial(full_sequence, island_start_index, island_end_index, kmers, unique_kmers)\n",
    "        \n",
    "    return unique_kmers"
   ]
  },
  {
   "cell_type": "code",
   "execution_count": 15,
   "id": "916470f1",
   "metadata": {},
   "outputs": [
    {
     "name": "stderr",
     "output_type": "stream",
     "text": [
      "Max pattern length: 50\n",
      "--------------------------\n",
      "Genome 48/90: NC_013366\n",
      "No PAI sequences\n",
      "No CPAI sequences\n",
      "NPAI 1/2: 0 unique patterns\n",
      "NPAI 2/2: 1 unique patterns\n",
      "--------------------------\n",
      "Genome 49/90: NC_011749\n",
      "No PAI sequences\n",
      "CPAI 1/1: 15 unique patterns\n",
      "NPAI 1/1: 0 unique patterns\n",
      "--------------------------\n",
      "Genome 50/90: NC_017642\n",
      "No PAI sequences\n",
      "CPAI 1/1: 0 unique patterns\n",
      "No NPAI sequences\n",
      "--------------------------\n",
      "Genome 51/90: NC_008253\n",
      "No PAI sequences\n",
      "CPAI 1/7: 0 unique patterns\n",
      "CPAI 2/7: 0 unique patterns\n",
      "CPAI 3/7: 0 unique patterns\n",
      "CPAI 4/7: 9 unique patterns\n",
      "CPAI 5/7: 0 unique patterns\n",
      "CPAI 6/7: 0 unique patterns\n",
      "CPAI 7/7: 0 unique patterns\n",
      "NPAI 1/3: 0 unique patterns\n",
      "NPAI 2/3: 0 unique patterns\n",
      "NPAI 3/3: 0 unique patterns\n",
      "--------------------------\n",
      "Genome 52/90: NC_018654\n",
      "No PAI sequences\n",
      "No CPAI sequences\n",
      "NPAI 1/1: 0 unique patterns\n",
      "--------------------------\n",
      "Genome 53/90: NC_018661\n",
      "No PAI sequences\n",
      "CPAI 1/13: 0 unique patterns\n",
      "CPAI 2/13: 0 unique patterns\n",
      "CPAI 3/13: 0 unique patterns\n",
      "CPAI 4/13: 0 unique patterns\n",
      "CPAI 5/13: 0 unique patterns\n",
      "CPAI 6/13: 0 unique patterns\n",
      "CPAI 7/13: 0 unique patterns\n",
      "CPAI 8/13: 36 unique patterns\n",
      "CPAI 9/13: 0 unique patterns\n",
      "CPAI 10/13: 0 unique patterns\n",
      "CPAI 11/13: 0 unique patterns\n",
      "CPAI 12/13: 0 unique patterns\n",
      "CPAI 13/13: 0 unique patterns\n",
      "NPAI 1/1: 0 unique patterns\n",
      "--------------------------\n",
      "Genome 54/90: NC_002128\n",
      "No PAI sequences\n",
      "No CPAI sequences\n",
      "NPAI 1/1: 20 unique patterns\n",
      "--------------------------\n",
      "Genome 55/90: NC_013010\n",
      "No PAI sequences\n",
      "No CPAI sequences\n",
      "NPAI 1/1: 0 unique patterns\n",
      "--------------------------\n",
      "Genome 56/90: NC_020163\n",
      "No PAI sequences\n",
      "CPAI 1/2: 0 unique patterns\n",
      "CPAI 2/2: 0 unique patterns\n",
      "NPAI 1/1: 0 unique patterns\n",
      "--------------------------\n",
      "Genome 57/90: NC_010498\n",
      "No PAI sequences\n",
      "CPAI 1/8: 0 unique patterns\n",
      "CPAI 2/8: 4 unique patterns\n",
      "CPAI 3/8: 0 unique patterns\n",
      "CPAI 4/8: 0 unique patterns\n",
      "CPAI 5/8: 0 unique patterns\n",
      "CPAI 6/8: 0 unique patterns\n",
      "CPAI 7/8: 0 unique patterns\n",
      "CPAI 8/8: 0 unique patterns\n",
      "NPAI 1/2: 0 unique patterns\n",
      "NPAI 2/2: 0 unique patterns\n",
      "--------------------------\n",
      "Genome 58/90: NC_017906\n",
      "No PAI sequences\n",
      "CPAI 1/6: 0 unique patterns\n",
      "CPAI 2/6: 0 unique patterns\n",
      "CPAI 3/6: 0 unique patterns\n",
      "CPAI 4/6: 0 unique patterns\n",
      "CPAI 5/6: 0 unique patterns\n",
      "CPAI 6/6: 0 unique patterns\n",
      "NPAI 1/2: 0 unique patterns\n",
      "NPAI 2/2: 0 unique patterns\n",
      "--------------------------\n",
      "Genome 59/90: NC_011742\n",
      "No PAI sequences\n",
      "CPAI 1/7: 0 unique patterns\n",
      "CPAI 2/7: 13 unique patterns\n",
      "CPAI 3/7: 0 unique patterns\n",
      "CPAI 4/7: 0 unique patterns\n",
      "CPAI 5/7: 0 unique patterns\n",
      "CPAI 6/7: 0 unique patterns\n",
      "CPAI 7/7: 0 unique patterns\n",
      "NPAI 1/2: 0 unique patterns\n",
      "NPAI 2/2: 0 unique patterns\n",
      "--------------------------\n",
      "Genome 60/90: NC_017632\n",
      "No PAI sequences\n",
      "CPAI 1/10: 0 unique patterns\n",
      "CPAI 2/10: 0 unique patterns\n",
      "CPAI 3/10: 0 unique patterns\n",
      "CPAI 4/10: 0 unique patterns\n",
      "CPAI 5/10: 0 unique patterns\n",
      "CPAI 6/10: 0 unique patterns\n",
      "CPAI 7/10: 0 unique patterns\n",
      "CPAI 8/10: 0 unique patterns\n",
      "CPAI 9/10: 0 unique patterns\n",
      "CPAI 10/10: 0 unique patterns\n",
      "NPAI 1/2: 0 unique patterns\n",
      "NPAI 2/2: 0 unique patterns\n",
      "--------------------------\n",
      "Genome 61/90: NC_017646\n",
      "No PAI sequences\n",
      "CPAI 1/8: 0 unique patterns\n",
      "CPAI 2/8: 0 unique patterns\n",
      "CPAI 3/8: 0 unique patterns\n",
      "CPAI 4/8: 4 unique patterns\n",
      "CPAI 5/8: 0 unique patterns\n",
      "CPAI 6/8: 0 unique patterns\n",
      "CPAI 7/8: 0 unique patterns\n",
      "CPAI 8/8: 0 unique patterns\n",
      "NPAI 1/2: 0 unique patterns\n",
      "NPAI 2/2: 0 unique patterns\n",
      "--------------------------\n",
      "Genome 62/90: NC_017639\n",
      "No PAI sequences\n",
      "No CPAI sequences\n",
      "No NPAI sequences\n",
      "--------------------------\n",
      "Genome 63/90: NC_009837\n",
      "No PAI sequences\n",
      "CPAI 1/2: 1 unique patterns\n",
      "CPAI 2/2: 3 unique patterns\n",
      "NPAI 1/1: 13 unique patterns\n",
      "--------------------------\n",
      "Genome 64/90: NC_009801\n",
      "No PAI sequences\n",
      "CPAI 1/6: 0 unique patterns\n",
      "CPAI 2/6: 0 unique patterns\n",
      "CPAI 3/6: 0 unique patterns\n",
      "CPAI 4/6: 0 unique patterns\n",
      "CPAI 5/6: 0 unique patterns\n",
      "CPAI 6/6: 0 unique patterns\n",
      "NPAI 1/1: 0 unique patterns\n",
      "--------------------------\n",
      "Genome 65/90: NC_017627\n",
      "No PAI sequences\n",
      "No CPAI sequences\n",
      "NPAI 1/1: 0 unique patterns\n",
      "--------------------------\n",
      "Genome 66/90: NC_012947\n",
      "No PAI sequences\n",
      "CPAI 1/5: 0 unique patterns\n",
      "CPAI 2/5: 0 unique patterns\n",
      "CPAI 3/5: 0 unique patterns\n",
      "CPAI 4/5: 36 unique patterns\n",
      "CPAI 5/5: 0 unique patterns\n",
      "NPAI 1/2: 0 unique patterns\n",
      "NPAI 2/2: 0 unique patterns\n",
      "--------------------------\n",
      "Genome 67/90: NC_011747\n",
      "No PAI sequences\n",
      "CPAI 1/3: 12 unique patterns\n",
      "CPAI 2/3: 0 unique patterns\n",
      "CPAI 3/3: 2 unique patterns\n",
      "NPAI 1/1: 0 unique patterns\n",
      "--------------------------\n",
      "Genome 68/90: NC_013654\n",
      "No PAI sequences\n",
      "CPAI 1/4: 0 unique patterns\n",
      "CPAI 2/4: 0 unique patterns\n",
      "CPAI 3/4: 0 unique patterns\n",
      "CPAI 4/4: 1 unique patterns\n",
      "NPAI 1/2: 0 unique patterns\n",
      "NPAI 2/2: 0 unique patterns\n",
      "--------------------------\n",
      "Genome 69/90: NC_011745\n",
      "No PAI sequences\n",
      "CPAI 1/11: 0 unique patterns\n",
      "CPAI 2/11: 14 unique patterns\n",
      "CPAI 3/11: 0 unique patterns\n",
      "CPAI 4/11: 0 unique patterns\n",
      "CPAI 5/11: 0 unique patterns\n",
      "CPAI 6/11: 0 unique patterns\n",
      "CPAI 7/11: 0 unique patterns\n",
      "CPAI 8/11: 0 unique patterns\n",
      "CPAI 9/11: 0 unique patterns\n",
      "CPAI 10/11: 0 unique patterns\n",
      "CPAI 11/11: 0 unique patterns\n",
      "NPAI 1/2: 46 unique patterns\n",
      "NPAI 2/2: 0 unique patterns\n",
      "--------------------------\n",
      "Genome 70/90: NC_011739\n",
      "No PAI sequences\n",
      "No CPAI sequences\n",
      "No NPAI sequences\n",
      "--------------------------\n",
      "Genome 71/90: NC_011353\n",
      "No PAI sequences\n",
      "CPAI 1/6: 0 unique patterns\n",
      "CPAI 2/6: 0 unique patterns\n",
      "CPAI 3/6: 63 unique patterns\n",
      "CPAI 4/6: 0 unique patterns\n",
      "CPAI 5/6: 0 unique patterns\n",
      "CPAI 6/6: 0 unique patterns\n",
      "NPAI 1/1: 0 unique patterns\n",
      "--------------------------\n",
      "Genome 72/90: NC_017657\n",
      "No PAI sequences\n",
      "CPAI 1/1: 0 unique patterns\n",
      "No NPAI sequences\n",
      "--------------------------\n",
      "Genome 73/90: NC_002655\n",
      "PAI 1/5: 0 unique patterns\n",
      "PAI 2/5: 0 unique patterns\n",
      "PAI 3/5: 0 unique patterns\n",
      "PAI 4/5: 0 unique patterns\n",
      "PAI 5/5: 0 unique patterns\n",
      "CPAI 1/7: 0 unique patterns\n",
      "CPAI 2/7: 0 unique patterns\n",
      "CPAI 3/7: 0 unique patterns\n",
      "CPAI 4/7: 0 unique patterns\n",
      "CPAI 5/7: 0 unique patterns\n",
      "CPAI 6/7: 0 unique patterns\n",
      "CPAI 7/7: 0 unique patterns\n",
      "NPAI 1/2: 0 unique patterns\n",
      "NPAI 2/2: 0 unique patterns\n",
      "--------------------------\n",
      "Genome 74/90: NC_009788\n",
      "No PAI sequences\n",
      "No CPAI sequences\n",
      "No NPAI sequences\n",
      "--------------------------\n",
      "Genome 75/90: NC_017638\n",
      "No PAI sequences\n",
      "CPAI 1/3: 54 unique patterns\n",
      "CPAI 2/3: 0 unique patterns\n",
      "CPAI 3/3: 0 unique patterns\n",
      "NPAI 1/3: 0 unique patterns\n",
      "NPAI 2/3: 0 unique patterns\n",
      "NPAI 3/3: 0 unique patterns\n",
      "--------------------------\n",
      "Genome 76/90: NC_011750\n",
      "No PAI sequences\n",
      "CPAI 1/9: 0 unique patterns\n",
      "CPAI 2/9: 0 unique patterns\n",
      "CPAI 3/9: 0 unique patterns\n",
      "CPAI 4/9: 0 unique patterns\n",
      "CPAI 5/9: 0 unique patterns\n",
      "CPAI 6/9: 0 unique patterns\n",
      "CPAI 7/9: 35 unique patterns\n",
      "CPAI 8/9: 0 unique patterns\n",
      "CPAI 9/9: 0 unique patterns\n",
      "NPAI 1/2: 0 unique patterns\n",
      "NPAI 2/2: 0 unique patterns\n",
      "--------------------------\n",
      "Genome 77/90: NC_011741\n",
      "No PAI sequences\n",
      "CPAI 1/2: 0 unique patterns\n",
      "CPAI 2/2: 0 unique patterns\n",
      "NPAI 1/2: 0 unique patterns\n",
      "NPAI 2/2: 0 unique patterns\n",
      "--------------------------\n",
      "Genome 78/90: NC_011415\n",
      "No PAI sequences\n",
      "CPAI 1/2: 0 unique patterns\n",
      "CPAI 2/2: 14 unique patterns\n",
      "NPAI 1/2: 0 unique patterns\n",
      "NPAI 2/2: 0 unique patterns\n",
      "--------------------------\n",
      "Genome 79/90: NC_017633\n",
      "No PAI sequences\n",
      "CPAI 1/7: 0 unique patterns\n",
      "CPAI 2/7: 0 unique patterns\n",
      "CPAI 3/7: 0 unique patterns\n",
      "CPAI 4/7: 0 unique patterns\n",
      "CPAI 5/7: 0 unique patterns\n",
      "CPAI 6/7: 0 unique patterns\n",
      "CPAI 7/7: 0 unique patterns\n",
      "NPAI 1/2: 0 unique patterns\n",
      "NPAI 2/2: 0 unique patterns\n",
      "--------------------------\n",
      "Genome 80/90: NC_017665\n",
      "No PAI sequences\n",
      "No CPAI sequences\n",
      "NPAI 1/1: 0 unique patterns\n",
      "--------------------------\n",
      "Genome 81/90: NC_010473\n",
      "No PAI sequences\n",
      "CPAI 1/4: 0 unique patterns\n",
      "CPAI 2/4: 0 unique patterns\n",
      "CPAI 3/4: 0 unique patterns\n",
      "CPAI 4/4: 0 unique patterns\n",
      "NPAI 1/2: 0 unique patterns\n",
      "NPAI 2/2: 0 unique patterns\n",
      "--------------------------\n",
      "Genome 82/90: NC_017652\n",
      "No PAI sequences\n",
      "CPAI 1/12: 0 unique patterns\n",
      "CPAI 2/12: 0 unique patterns\n",
      "CPAI 3/12: 0 unique patterns\n",
      "CPAI 4/12: 13 unique patterns\n",
      "CPAI 5/12: 25 unique patterns\n",
      "CPAI 6/12: 0 unique patterns\n",
      "CPAI 7/12: 0 unique patterns\n",
      "CPAI 8/12: 0 unique patterns\n",
      "CPAI 9/12: 37 unique patterns\n"
     ]
    },
    {
     "name": "stderr",
     "output_type": "stream",
     "text": [
      "CPAI 10/12: 0 unique patterns\n",
      "CPAI 11/12: 0 unique patterns\n",
      "CPAI 12/12: 0 unique patterns\n",
      "NPAI 1/2: 0 unique patterns\n",
      "NPAI 2/2: 0 unique patterns\n",
      "--------------------------\n",
      "Genome 83/90: NC_017637\n",
      "No PAI sequences\n",
      "No CPAI sequences\n",
      "NPAI 1/1: 0 unique patterns\n",
      "--------------------------\n",
      "Genome 84/90: NC_017626\n",
      "No PAI sequences\n",
      "CPAI 1/11: 0 unique patterns\n",
      "CPAI 2/11: 0 unique patterns\n",
      "CPAI 3/11: 0 unique patterns\n",
      "CPAI 4/11: 0 unique patterns\n",
      "CPAI 5/11: 0 unique patterns\n",
      "CPAI 6/11: 0 unique patterns\n",
      "CPAI 7/11: 0 unique patterns\n",
      "CPAI 8/11: 19 unique patterns\n",
      "CPAI 9/11: 0 unique patterns\n",
      "CPAI 10/11: 0 unique patterns\n",
      "CPAI 11/11: 0 unique patterns\n",
      "NPAI 1/1: 0 unique patterns\n",
      "--------------------------\n",
      "Genome 85/90: NC_022370\n",
      "No PAI sequences\n",
      "CPAI 1/8: 0 unique patterns\n",
      "CPAI 2/8: 13 unique patterns\n",
      "CPAI 3/8: 0 unique patterns\n",
      "CPAI 4/8: 0 unique patterns\n",
      "CPAI 5/8: 0 unique patterns\n",
      "CPAI 6/8: 0 unique patterns\n",
      "CPAI 7/8: 0 unique patterns\n",
      "CPAI 8/8: 0 unique patterns\n",
      "NPAI 1/3: 0 unique patterns\n",
      "NPAI 2/3: 0 unique patterns\n",
      "NPAI 3/3: 0 unique patterns\n",
      "--------------------------\n",
      "Genome 86/90: NC_022364\n",
      "No PAI sequences\n",
      "CPAI 1/2: 0 unique patterns\n",
      "CPAI 2/2: 0 unique patterns\n",
      "NPAI 1/4: 0 unique patterns\n",
      "NPAI 2/4: 1 unique patterns\n",
      "NPAI 3/4: 0 unique patterns\n",
      "NPAI 4/4: 0 unique patterns\n",
      "--------------------------\n",
      "Genome 87/90: NC_018650\n",
      "No PAI sequences\n",
      "CPAI 1/12: 0 unique patterns\n",
      "CPAI 2/12: 0 unique patterns\n",
      "CPAI 3/12: 0 unique patterns\n",
      "CPAI 4/12: 0 unique patterns\n",
      "CPAI 5/12: 0 unique patterns\n",
      "CPAI 6/12: 0 unique patterns\n",
      "CPAI 7/12: 36 unique patterns\n",
      "CPAI 8/12: 0 unique patterns\n",
      "CPAI 9/12: 0 unique patterns\n",
      "CPAI 10/12: 0 unique patterns\n",
      "CPAI 11/12: 0 unique patterns\n",
      "CPAI 12/12: 0 unique patterns\n",
      "NPAI 1/1: 0 unique patterns\n",
      "--------------------------\n",
      "Genome 88/90: NC_017634\n",
      "No PAI sequences\n",
      "CPAI 1/5: 0 unique patterns\n",
      "CPAI 2/5: 13 unique patterns\n",
      "CPAI 3/5: 15 unique patterns\n",
      "CPAI 4/5: 0 unique patterns\n",
      "CPAI 5/5: 0 unique patterns\n",
      "NPAI 1/2: 0 unique patterns\n",
      "NPAI 2/2: 0 unique patterns\n",
      "--------------------------\n",
      "Genome 89/90: NC_018666\n",
      "No PAI sequences\n",
      "No CPAI sequences\n",
      "NPAI 1/1: 27 unique patterns\n",
      "--------------------------\n",
      "Genome 90/90: NC_017631\n",
      "No PAI sequences\n",
      "CPAI 1/13: 0 unique patterns\n",
      "CPAI 2/13: 0 unique patterns\n",
      "CPAI 3/13: 13 unique patterns\n",
      "CPAI 4/13: 15 unique patterns\n",
      "CPAI 5/13: 0 unique patterns\n",
      "CPAI 6/13: 26 unique patterns\n",
      "CPAI 7/13: 0 unique patterns\n",
      "CPAI 8/13: 1 unique patterns\n",
      "CPAI 9/13: 0 unique patterns\n",
      "CPAI 10/13: 0 unique patterns\n",
      "CPAI 11/13: 0 unique patterns\n",
      "CPAI 12/13: 0 unique patterns\n",
      "CPAI 13/13: 0 unique patterns\n",
      "NPAI 1/2: 0 unique patterns\n",
      "NPAI 2/2: 0 unique patterns\n",
      "--------------------------\n"
     ]
    }
   ],
   "source": [
    "unique_pai_patterns  = {}\n",
    "unique_cpai_patterns = {}\n",
    "unique_npai_patterns = {}\n",
    "\n",
    "k_max = 50\n",
    "logging.info(f'Max pattern length: {k_max}')\n",
    "logging.info('--------------------------')\n",
    "\n",
    "for i, (name, data) in enumerate(e_coli_data.items()):\n",
    "    if i < 47:\n",
    "        continue\n",
    "        \n",
    "    logging.info(f'Genome {i+1}/{len(e_coli_data)}: {name}')\n",
    "    \n",
    "    if len(data['pai_sequences']) != 0:\n",
    "        unique_pai_patterns[name] = {}\n",
    "        genome_sequence = data['genome_sequence']\n",
    "        for j, (pai_sequence, indices) in enumerate(data['pai_sequences']):\n",
    "            unique_patterns = get_unique_patterns_partial(genome_sequence, indices[0], indices[1], k_max)\n",
    "\n",
    "            unique_pai_patterns[name][f'pai_sequence_{j+1}'] = pai_sequence\n",
    "            unique_pai_patterns[name][f'indices_pai_{j+1}'] = indices\n",
    "            unique_pai_patterns[name][f'patterns_pai_{j+1}'] = unique_patterns\n",
    "\n",
    "            logging.info(f\"PAI {j+1}/{len(data['pai_sequences'])}: {len(unique_patterns)} unique patterns\")\n",
    "            \n",
    "            os.makedirs(f'e_coli_paidb/{name}/patterns/tfidf/partial/pai/', exist_ok=True)\n",
    "            \n",
    "            with open(f'e_coli_paidb/{name}/patterns/tfidf/partial/pai/pai_{j+1}_patterns.txt', 'w') as file:\n",
    "                for unique_pattern, frequency in unique_patterns:\n",
    "                    file.write(f'{unique_pattern}: {frequency}\\n')\n",
    "                        \n",
    "    else:\n",
    "        logging.info('No PAI sequences')\n",
    "    \n",
    "    if len(data['cpai_sequences']) != 0:    \n",
    "        unique_cpai_patterns[name] = {}\n",
    "\n",
    "        genome_sequence = data['genome_sequence']\n",
    "        for j, (cpai_sequence, indices) in enumerate(data['cpai_sequences']):\n",
    "            unique_patterns = get_unique_patterns_partial(genome_sequence, indices[0], indices[1], k_max)\n",
    "\n",
    "            unique_cpai_patterns[name][f'cpai_sequence_{j+1}'] = cpai_sequence\n",
    "            unique_cpai_patterns[name][f'indices_cpai_{j+1}'] = indices\n",
    "            unique_cpai_patterns[name][f'patterns_cpai_{j+1}'] = unique_patterns\n",
    "            \n",
    "            logging.info(f\"CPAI {j+1}/{len(data['cpai_sequences'])}: {len(unique_patterns)} unique patterns\")\n",
    "            \n",
    "            os.makedirs(f'e_coli_paidb/{name}/patterns/tfidf/partial/cpai/', exist_ok=True)\n",
    "            \n",
    "            with open(f'e_coli_paidb/{name}/patterns/tfidf/partial/cpai/cpai_{j+1}_patterns.txt', 'w') as file:\n",
    "                for unique_pattern, frequency in unique_patterns:\n",
    "                    file.write(f'{unique_pattern}: {frequency}\\n')\n",
    "            \n",
    "    else:\n",
    "        logging.info('No CPAI sequences')\n",
    "        \n",
    "    if len(data['npai_sequences']) != 0:\n",
    "        unique_npai_patterns[name] = {}\n",
    "        genome_sequence = data['genome_sequence']\n",
    "        for j, (npai_sequence, indices) in enumerate(data['npai_sequences']):\n",
    "            unique_patterns = get_unique_patterns_partial(genome_sequence, indices[0], indices[1], k_max)\n",
    "\n",
    "            unique_npai_patterns[name][f'npai_sequence_{j+1}'] = npai_sequence\n",
    "            unique_npai_patterns[name][f'indices_npai_{j+1}'] = indices\n",
    "            unique_npai_patterns[name][f'patterns_npai_{j+1}'] = unique_patterns\n",
    "\n",
    "            logging.info(f\"NPAI {j+1}/{len(data['npai_sequences'])}: {len(unique_patterns)} unique patterns\")\n",
    "            \n",
    "            os.makedirs(f'e_coli_paidb/{name}/patterns/tfidf/partial/npai/', exist_ok=True)\n",
    "            \n",
    "            with open(f'e_coli_paidb/{name}/patterns/tfidf/partial/npai/npai_{j+1}_patterns.txt', 'w') as file:\n",
    "                for unique_pattern, frequency in unique_patterns:\n",
    "                    file.write(f'{unique_pattern}: {frequency}\\n')\n",
    "    \n",
    "    else:\n",
    "        logging.info('No NPAI sequences')\n",
    "    logging.info('--------------------------')"
   ]
  },
  {
   "cell_type": "markdown",
   "id": "5961bf06",
   "metadata": {},
   "source": [
    "### NOSEP"
   ]
  },
  {
   "cell_type": "code",
   "execution_count": 3,
   "id": "01f41c59",
   "metadata": {},
   "outputs": [],
   "source": [
    "from spmf import Spmf\n",
    "import os\n",
    "from Bio import SeqIO"
   ]
  },
  {
   "cell_type": "code",
   "execution_count": 4,
   "id": "ee3141ec",
   "metadata": {},
   "outputs": [],
   "source": [
    "def to_spmf_format(genome_sequence):\n",
    "    seq = str(genome_sequence)\n",
    "    \n",
    "    seq = seq.replace('A', '1')\n",
    "    seq = seq.replace('C', '2')\n",
    "    seq = seq.replace('G', '3')\n",
    "    seq = seq.replace('T', '4')\n",
    "\n",
    "    seq = ''.join(c + ' -1 ' for c in seq).rstrip(' -1 ') + ' -2'\n",
    "    \n",
    "    return seq"
   ]
  },
  {
   "cell_type": "code",
   "execution_count": 5,
   "id": "bd6451b5",
   "metadata": {},
   "outputs": [],
   "source": [
    "def from_spmf_format(filename):\n",
    "    patterns = []\n",
    "    \n",
    "    with open(filename, 'r') as file:\n",
    "        for line in file:\n",
    "            lst = line.split('#')\n",
    "            \n",
    "            pattern = lst[0]\n",
    "            support = lst[1]\n",
    "            \n",
    "            pattern = pattern.replace('-1', '')\n",
    "            pattern = pattern.replace('1', 'A')\n",
    "            pattern = pattern.replace('2', 'C')\n",
    "            pattern = pattern.replace('3', 'G')\n",
    "            pattern = pattern.replace('4', 'T')\n",
    "            pattern = pattern.replace(' ', '')\n",
    "            \n",
    "            support = int(support.replace('SUP: ', ''))\n",
    "            patterns.append((pattern, support))\n",
    "            \n",
    "    return patterns"
   ]
  },
  {
   "cell_type": "code",
   "execution_count": 6,
   "id": "c2ac7ce3",
   "metadata": {},
   "outputs": [],
   "source": [
    "import logging\n",
    "\n",
    "logging.basicConfig(filename='logs/nosep.log', level=logging.INFO,\n",
    "                    format='%(message)s')\n",
    "\n",
    "console = logging.StreamHandler()\n",
    "console.setLevel(logging.INFO)\n",
    "console.setFormatter(logging.Formatter('%(message)s'))\n",
    "\n",
    "logging.getLogger('').addHandler(console)"
   ]
  },
  {
   "cell_type": "code",
   "execution_count": 7,
   "id": "4c7ee1f3",
   "metadata": {},
   "outputs": [],
   "source": [
    "e_coli_data = read_data()"
   ]
  },
  {
   "cell_type": "code",
   "execution_count": 8,
   "id": "bf8c7f17",
   "metadata": {},
   "outputs": [],
   "source": [
    "def run_nosep(full_sequence, island_sequence, start_index, end_index, k_max):\n",
    "    \n",
    "    unique_patterns = []\n",
    "    \n",
    "    input_filename = 'input.txt'\n",
    "    output_filename = 'output.txt'\n",
    "    \n",
    "    with open(input_filename, 'w') as input_file:\n",
    "        input_file.write(to_spmf_format(island_sequence))\n",
    "    \n",
    "    spmf = Spmf(\"NOSEP\", input_filename=input_filename, output_filename=output_filename, arguments=[4, k_max, 0, 0, 2])\n",
    "    spmf.run()\n",
    "    \n",
    "    patterns = from_spmf_format(output_filename)\n",
    "    \n",
    "    os.remove(input_filename)\n",
    "    os.remove(output_filename)\n",
    "    \n",
    "    for pattern, support in patterns:\n",
    "        left_occurrences = full_sequence[:start_index].count(pattern)\n",
    "        right_occurrences = full_sequence[end_index:].count(pattern)\n",
    "        occurrences = left_occurrences + right_occurrences\n",
    "        if occurrences == 0:\n",
    "            unique_patterns.append((pattern, support))\n",
    "            \n",
    "    return unique_patterns"
   ]
  },
  {
   "cell_type": "code",
   "execution_count": 9,
   "id": "ed985c99",
   "metadata": {},
   "outputs": [
    {
     "name": "stderr",
     "output_type": "stream",
     "text": [
      "Max pattern length: 100\n",
      "--------------------------\n",
      "Genome 1/90: NC_010468\n",
      "No PAI sequences\n"
     ]
    },
    {
     "name": "stdout",
     "output_type": "stream",
     "text": [
      ">/home/veljko/.local/lib/python3.10/site-packages/spmf/spmf.jar\n",
      "=============  NOSEP v2.46 - STATS =============\n",
      " Number of patterns found: 6452\n",
      " Total time ~ 13095 ms\n",
      " Maximum memory usage : 116.59021759033203 mb\n",
      " Calculation count 13811\n",
      "===================================================\n",
      "\n"
     ]
    },
    {
     "name": "stderr",
     "output_type": "stream",
     "text": [
      "CPAI 1/3: 4 unique patterns\n"
     ]
    },
    {
     "name": "stdout",
     "output_type": "stream",
     "text": [
      ">/home/veljko/.local/lib/python3.10/site-packages/spmf/spmf.jar\n",
      "=============  NOSEP v2.46 - STATS =============\n",
      " Number of patterns found: 14619\n",
      " Total time ~ 69224 ms\n",
      " Maximum memory usage : 124.23494720458984 mb\n",
      " Calculation count 31685\n",
      "===================================================\n",
      "\n"
     ]
    },
    {
     "name": "stderr",
     "output_type": "stream",
     "text": [
      "CPAI 2/3: 70 unique patterns\n"
     ]
    },
    {
     "name": "stdout",
     "output_type": "stream",
     "text": [
      ">/home/veljko/.local/lib/python3.10/site-packages/spmf/spmf.jar\n",
      "=============  NOSEP v2.46 - STATS =============\n",
      " Number of patterns found: 15750\n",
      " Total time ~ 60372 ms\n",
      " Maximum memory usage : 53.267791748046875 mb\n",
      " Calculation count 31715\n",
      "===================================================\n",
      "\n"
     ]
    },
    {
     "name": "stderr",
     "output_type": "stream",
     "text": [
      "CPAI 3/3: 96 unique patterns\n"
     ]
    },
    {
     "name": "stdout",
     "output_type": "stream",
     "text": [
      ">/home/veljko/.local/lib/python3.10/site-packages/spmf/spmf.jar\n",
      "=============  NOSEP v2.46 - STATS =============\n",
      " Number of patterns found: 8534\n",
      " Total time ~ 21974 ms\n",
      " Maximum memory usage : 122.64276123046875 mb\n",
      " Calculation count 18567\n",
      "===================================================\n",
      "\n"
     ]
    },
    {
     "name": "stderr",
     "output_type": "stream",
     "text": [
      "NPAI 1/2: 15 unique patterns\n"
     ]
    },
    {
     "name": "stdout",
     "output_type": "stream",
     "text": [
      ">/home/veljko/.local/lib/python3.10/site-packages/spmf/spmf.jar\n",
      "=============  NOSEP v2.46 - STATS =============\n",
      " Number of patterns found: 11613\n",
      " Total time ~ 42422 ms\n",
      " Maximum memory usage : 115.34415435791016 mb\n",
      " Calculation count 25389\n",
      "===================================================\n",
      "\n"
     ]
    },
    {
     "name": "stderr",
     "output_type": "stream",
     "text": [
      "NPAI 2/2: 17 unique patterns\n",
      "--------------------------\n",
      "Genome 2/90: NC_011748\n",
      "No PAI sequences\n"
     ]
    },
    {
     "name": "stdout",
     "output_type": "stream",
     "text": [
      ">/home/veljko/.local/lib/python3.10/site-packages/spmf/spmf.jar\n",
      "=============  NOSEP v2.46 - STATS =============\n",
      " Number of patterns found: 29268\n",
      " Total time ~ 259263 ms\n",
      " Maximum memory usage : 88.0910415649414 mb\n",
      " Calculation count 60595\n",
      "===================================================\n",
      "\n"
     ]
    },
    {
     "name": "stderr",
     "output_type": "stream",
     "text": [
      "CPAI 1/10: 126 unique patterns\n",
      "CPAI 2/10: island too large\n"
     ]
    },
    {
     "name": "stdout",
     "output_type": "stream",
     "text": [
      ">/home/veljko/.local/lib/python3.10/site-packages/spmf/spmf.jar\n",
      "=============  NOSEP v2.46 - STATS =============\n",
      " Number of patterns found: 11665\n",
      " Total time ~ 41375 ms\n",
      " Maximum memory usage : 36.57960510253906 mb\n",
      " Calculation count 25137\n",
      "===================================================\n",
      "\n"
     ]
    },
    {
     "name": "stderr",
     "output_type": "stream",
     "text": [
      "CPAI 3/10: 61 unique patterns\n"
     ]
    },
    {
     "name": "stdout",
     "output_type": "stream",
     "text": [
      ">/home/veljko/.local/lib/python3.10/site-packages/spmf/spmf.jar\n",
      "=============  NOSEP v2.46 - STATS =============\n",
      " Number of patterns found: 6309\n",
      " Total time ~ 11941 ms\n",
      " Maximum memory usage : 103.59007263183594 mb\n",
      " Calculation count 13748\n",
      "===================================================\n",
      "\n"
     ]
    },
    {
     "name": "stderr",
     "output_type": "stream",
     "text": [
      "CPAI 4/10: 10 unique patterns\n",
      "CPAI 5/10: island too large\n",
      "CPAI 6/10: island too large\n"
     ]
    },
    {
     "name": "stdout",
     "output_type": "stream",
     "text": [
      ">/home/veljko/.local/lib/python3.10/site-packages/spmf/spmf.jar\n",
      "=============  NOSEP v2.46 - STATS =============\n",
      " Number of patterns found: 110931\n",
      " Total time ~ 435267 ms\n",
      " Maximum memory usage : 107.42295837402344 mb\n",
      " Calculation count 122027\n",
      "===================================================\n",
      "\n"
     ]
    },
    {
     "name": "stderr",
     "output_type": "stream",
     "text": [
      "CPAI 7/10: 275 unique patterns\n"
     ]
    },
    {
     "name": "stdout",
     "output_type": "stream",
     "text": [
      ">/home/veljko/.local/lib/python3.10/site-packages/spmf/spmf.jar\n",
      "=============  NOSEP v2.46 - STATS =============\n",
      " Number of patterns found: 10492\n",
      " Total time ~ 37090 ms\n",
      " Maximum memory usage : 50.365447998046875 mb\n",
      " Calculation count 22782\n",
      "===================================================\n",
      "\n"
     ]
    },
    {
     "name": "stderr",
     "output_type": "stream",
     "text": [
      "CPAI 8/10: 32 unique patterns\n"
     ]
    },
    {
     "name": "stdout",
     "output_type": "stream",
     "text": [
      ">/home/veljko/.local/lib/python3.10/site-packages/spmf/spmf.jar\n",
      "=============  NOSEP v2.46 - STATS =============\n",
      " Number of patterns found: 13443\n",
      " Total time ~ 57030 ms\n",
      " Maximum memory usage : 14.927352905273438 mb\n",
      " Calculation count 29852\n",
      "===================================================\n",
      "\n"
     ]
    },
    {
     "name": "stderr",
     "output_type": "stream",
     "text": [
      "CPAI 9/10: 19 unique patterns\n"
     ]
    },
    {
     "name": "stdout",
     "output_type": "stream",
     "text": [
      ">/home/veljko/.local/lib/python3.10/site-packages/spmf/spmf.jar\n",
      "=============  NOSEP v2.46 - STATS =============\n",
      " Number of patterns found: 19180\n",
      " Total time ~ 113575 ms\n",
      " Maximum memory usage : 18.8607177734375 mb\n",
      " Calculation count 41960\n",
      "===================================================\n",
      "\n"
     ]
    },
    {
     "name": "stderr",
     "output_type": "stream",
     "text": [
      "CPAI 10/10: 10 unique patterns\n"
     ]
    },
    {
     "name": "stdout",
     "output_type": "stream",
     "text": [
      ">/home/veljko/.local/lib/python3.10/site-packages/spmf/spmf.jar\n",
      "=============  NOSEP v2.46 - STATS =============\n",
      " Number of patterns found: 11658\n",
      " Total time ~ 41186 ms\n",
      " Maximum memory usage : 114.8849868774414 mb\n",
      " Calculation count 25372\n",
      "===================================================\n",
      "\n"
     ]
    },
    {
     "name": "stderr",
     "output_type": "stream",
     "text": [
      "NPAI 1/1: 10 unique patterns\n",
      "--------------------------\n",
      "Genome 3/90: NC_011751\n",
      "PAI 1/1: island too large\n"
     ]
    },
    {
     "name": "stdout",
     "output_type": "stream",
     "text": [
      ">/home/veljko/.local/lib/python3.10/site-packages/spmf/spmf.jar\n",
      "=============  NOSEP v2.46 - STATS =============\n",
      " Number of patterns found: 27032\n",
      " Total time ~ 219358 ms\n",
      " Maximum memory usage : 94.88579559326172 mb\n",
      " Calculation count 55554\n",
      "===================================================\n",
      "\n"
     ]
    },
    {
     "name": "stderr",
     "output_type": "stream",
     "text": [
      "CPAI 1/7: 70 unique patterns\n"
     ]
    },
    {
     "name": "stdout",
     "output_type": "stream",
     "text": [
      ">/home/veljko/.local/lib/python3.10/site-packages/spmf/spmf.jar\n",
      "=============  NOSEP v2.46 - STATS =============\n",
      " Number of patterns found: 5935\n",
      " Total time ~ 11651 ms\n",
      " Maximum memory usage : 138.01073455810547 mb\n",
      " Calculation count 12997\n",
      "===================================================\n",
      "\n"
     ]
    },
    {
     "name": "stderr",
     "output_type": "stream",
     "text": [
      "CPAI 2/7: 13 unique patterns\n",
      "CPAI 3/7: island too large\n"
     ]
    },
    {
     "name": "stdout",
     "output_type": "stream",
     "text": [
      ">/home/veljko/.local/lib/python3.10/site-packages/spmf/spmf.jar\n",
      "=============  NOSEP v2.46 - STATS =============\n",
      " Number of patterns found: 20492\n",
      " Total time ~ 134466 ms\n",
      " Maximum memory usage : 142.13397216796875 mb\n",
      " Calculation count 44664\n",
      "===================================================\n",
      "\n"
     ]
    },
    {
     "name": "stderr",
     "output_type": "stream",
     "text": [
      "CPAI 4/7: 105 unique patterns\n",
      "CPAI 5/7: island too large\n"
     ]
    },
    {
     "name": "stdout",
     "output_type": "stream",
     "text": [
      ">/home/veljko/.local/lib/python3.10/site-packages/spmf/spmf.jar\n",
      "=============  NOSEP v2.46 - STATS =============\n",
      " Number of patterns found: 157334\n",
      " Total time ~ 992671 ms\n",
      " Maximum memory usage : 221.55350494384766 mb\n",
      " Calculation count 177321\n",
      "===================================================\n",
      "\n"
     ]
    },
    {
     "name": "stderr",
     "output_type": "stream",
     "text": [
      "CPAI 6/7: 135655 unique patterns\n"
     ]
    },
    {
     "name": "stdout",
     "output_type": "stream",
     "text": [
      ">/home/veljko/.local/lib/python3.10/site-packages/spmf/spmf.jar\n",
      "=============  NOSEP v2.46 - STATS =============\n",
      " Number of patterns found: 22623\n",
      " Total time ~ 150617 ms\n",
      " Maximum memory usage : 24.05846405029297 mb\n",
      " Calculation count 49021\n",
      "===================================================\n",
      "\n"
     ]
    },
    {
     "name": "stderr",
     "output_type": "stream",
     "text": [
      "CPAI 7/7: 35 unique patterns\n"
     ]
    },
    {
     "name": "stdout",
     "output_type": "stream",
     "text": [
      ">/home/veljko/.local/lib/python3.10/site-packages/spmf/spmf.jar\n",
      "=============  NOSEP v2.46 - STATS =============\n",
      " Number of patterns found: 8766\n",
      " Total time ~ 23699 ms\n",
      " Maximum memory usage : 104.78070831298828 mb\n",
      " Calculation count 19068\n",
      "===================================================\n",
      "\n"
     ]
    },
    {
     "name": "stderr",
     "output_type": "stream",
     "text": [
      "NPAI 1/2: 40 unique patterns\n"
     ]
    },
    {
     "name": "stdout",
     "output_type": "stream",
     "text": [
      ">/home/veljko/.local/lib/python3.10/site-packages/spmf/spmf.jar\n",
      "=============  NOSEP v2.46 - STATS =============\n",
      " Number of patterns found: 11728\n",
      " Total time ~ 41960 ms\n",
      " Maximum memory usage : 55.28839111328125 mb\n",
      " Calculation count 25582\n",
      "===================================================\n",
      "\n"
     ]
    },
    {
     "name": "stderr",
     "output_type": "stream",
     "text": [
      "NPAI 2/2: 19 unique patterns\n",
      "--------------------------\n",
      "Genome 4/90: NC_012759\n",
      "No PAI sequences\n"
     ]
    },
    {
     "name": "stdout",
     "output_type": "stream",
     "text": [
      ">/home/veljko/.local/lib/python3.10/site-packages/spmf/spmf.jar\n",
      "=============  NOSEP v2.46 - STATS =============\n",
      " Number of patterns found: 7256\n",
      " Total time ~ 16496 ms\n",
      " Maximum memory usage : 18.681777954101562 mb\n",
      " Calculation count 16092\n",
      "===================================================\n",
      "\n"
     ]
    },
    {
     "name": "stderr",
     "output_type": "stream",
     "text": [
      "CPAI 1/5: 6 unique patterns\n"
     ]
    },
    {
     "name": "stdout",
     "output_type": "stream",
     "text": [
      ">/home/veljko/.local/lib/python3.10/site-packages/spmf/spmf.jar\n",
      "=============  NOSEP v2.46 - STATS =============\n",
      " Number of patterns found: 29728\n",
      " Total time ~ 267599 ms\n",
      " Maximum memory usage : 105.12635040283203 mb\n",
      " Calculation count 60260\n",
      "===================================================\n",
      "\n"
     ]
    },
    {
     "name": "stderr",
     "output_type": "stream",
     "text": [
      "CPAI 2/5: 3994 unique patterns\n"
     ]
    },
    {
     "name": "stdout",
     "output_type": "stream",
     "text": [
      ">/home/veljko/.local/lib/python3.10/site-packages/spmf/spmf.jar\n",
      "=============  NOSEP v2.46 - STATS =============\n",
      " Number of patterns found: 12719\n",
      " Total time ~ 48770 ms\n",
      " Maximum memory usage : 25.25494384765625 mb\n",
      " Calculation count 27689\n",
      "===================================================\n",
      "\n"
     ]
    },
    {
     "name": "stderr",
     "output_type": "stream",
     "text": [
      "CPAI 3/5: 37 unique patterns\n"
     ]
    },
    {
     "name": "stdout",
     "output_type": "stream",
     "text": [
      ">/home/veljko/.local/lib/python3.10/site-packages/spmf/spmf.jar\n",
      "=============  NOSEP v2.46 - STATS =============\n",
      " Number of patterns found: 7476\n",
      " Total time ~ 16906 ms\n",
      " Maximum memory usage : 11.980140686035156 mb\n",
      " Calculation count 16603\n",
      "===================================================\n",
      "\n"
     ]
    },
    {
     "name": "stderr",
     "output_type": "stream",
     "text": [
      "CPAI 4/5: 20 unique patterns\n"
     ]
    },
    {
     "name": "stdout",
     "output_type": "stream",
     "text": [
      ">/home/veljko/.local/lib/python3.10/site-packages/spmf/spmf.jar\n",
      "=============  NOSEP v2.46 - STATS =============\n",
      " Number of patterns found: 8622\n",
      " Total time ~ 22782 ms\n",
      " Maximum memory usage : 41.1646728515625 mb\n",
      " Calculation count 18796\n",
      "===================================================\n",
      "\n"
     ]
    },
    {
     "name": "stderr",
     "output_type": "stream",
     "text": [
      "CPAI 5/5: 21 unique patterns\n"
     ]
    },
    {
     "name": "stdout",
     "output_type": "stream",
     "text": [
      ">/home/veljko/.local/lib/python3.10/site-packages/spmf/spmf.jar\n",
      "=============  NOSEP v2.46 - STATS =============\n",
      " Number of patterns found: 8526\n",
      " Total time ~ 21055 ms\n",
      " Maximum memory usage : 76.21345520019531 mb\n",
      " Calculation count 18586\n",
      "===================================================\n",
      "\n"
     ]
    },
    {
     "name": "stderr",
     "output_type": "stream",
     "text": [
      "NPAI 1/2: 19 unique patterns\n"
     ]
    },
    {
     "name": "stdout",
     "output_type": "stream",
     "text": [
      ">/home/veljko/.local/lib/python3.10/site-packages/spmf/spmf.jar\n",
      "=============  NOSEP v2.46 - STATS =============\n",
      " Number of patterns found: 14230\n",
      " Total time ~ 55250 ms\n",
      " Maximum memory usage : 73.83856964111328 mb\n",
      " Calculation count 30438\n",
      "===================================================\n",
      "\n"
     ]
    },
    {
     "name": "stderr",
     "output_type": "stream",
     "text": [
      "NPAI 2/2: 61 unique patterns\n",
      "--------------------------\n",
      "Genome 5/90: NC_017635\n",
      "No PAI sequences\n"
     ]
    },
    {
     "name": "stdout",
     "output_type": "stream",
     "text": [
      ">/home/veljko/.local/lib/python3.10/site-packages/spmf/spmf.jar\n",
      "=============  NOSEP v2.46 - STATS =============\n",
      " Number of patterns found: 28530\n",
      " Total time ~ 241059 ms\n",
      " Maximum memory usage : 34.923370361328125 mb\n",
      " Calculation count 58429\n",
      "===================================================\n",
      "\n"
     ]
    },
    {
     "name": "stderr",
     "output_type": "stream",
     "text": [
      "CPAI 1/4: 391 unique patterns\n"
     ]
    },
    {
     "name": "stdout",
     "output_type": "stream",
     "text": [
      ">/home/veljko/.local/lib/python3.10/site-packages/spmf/spmf.jar\n",
      "=============  NOSEP v2.46 - STATS =============\n",
      " Number of patterns found: 14001\n",
      " Total time ~ 59523 ms\n",
      " Maximum memory usage : 86.04130554199219 mb\n",
      " Calculation count 30072\n",
      "===================================================\n",
      "\n"
     ]
    },
    {
     "name": "stderr",
     "output_type": "stream",
     "text": [
      "CPAI 2/4: 79 unique patterns\n"
     ]
    },
    {
     "name": "stdout",
     "output_type": "stream",
     "text": [
      ">/home/veljko/.local/lib/python3.10/site-packages/spmf/spmf.jar\n",
      "=============  NOSEP v2.46 - STATS =============\n",
      " Number of patterns found: 8515\n",
      " Total time ~ 20571 ms\n",
      " Maximum memory usage : 71.04200744628906 mb\n",
      " Calculation count 18956\n",
      "===================================================\n",
      "\n"
     ]
    },
    {
     "name": "stderr",
     "output_type": "stream",
     "text": [
      "CPAI 3/4: 7 unique patterns\n"
     ]
    },
    {
     "name": "stdout",
     "output_type": "stream",
     "text": [
      ">/home/veljko/.local/lib/python3.10/site-packages/spmf/spmf.jar\n",
      "=============  NOSEP v2.46 - STATS =============\n",
      " Number of patterns found: 8498\n",
      " Total time ~ 21139 ms\n",
      " Maximum memory usage : 53.267662048339844 mb\n",
      " Calculation count 18762\n",
      "===================================================\n",
      "\n"
     ]
    },
    {
     "name": "stderr",
     "output_type": "stream",
     "text": [
      "CPAI 4/4: 10 unique patterns\n"
     ]
    },
    {
     "name": "stdout",
     "output_type": "stream",
     "text": [
      ">/home/veljko/.local/lib/python3.10/site-packages/spmf/spmf.jar\n",
      "=============  NOSEP v2.46 - STATS =============\n",
      " Number of patterns found: 11671\n",
      " Total time ~ 42374 ms\n",
      " Maximum memory usage : 14.17620849609375 mb\n",
      " Calculation count 25380\n",
      "===================================================\n",
      "\n"
     ]
    },
    {
     "name": "stderr",
     "output_type": "stream",
     "text": [
      "NPAI 1/2: 15 unique patterns\n"
     ]
    },
    {
     "name": "stdout",
     "output_type": "stream",
     "text": [
      ">/home/veljko/.local/lib/python3.10/site-packages/spmf/spmf.jar\n",
      "=============  NOSEP v2.46 - STATS =============\n",
      " Number of patterns found: 27354\n",
      " Total time ~ 243837 ms\n",
      " Maximum memory usage : 75.9233627319336 mb\n",
      " Calculation count 58539\n",
      "===================================================\n",
      "\n"
     ]
    },
    {
     "name": "stderr",
     "output_type": "stream",
     "text": [
      "NPAI 2/2: 124 unique patterns\n",
      "--------------------------\n",
      "Genome 6/90: NC_013365\n",
      "No PAI sequences\n"
     ]
    },
    {
     "name": "stdout",
     "output_type": "stream",
     "text": [
      ">/home/veljko/.local/lib/python3.10/site-packages/spmf/spmf.jar\n",
      "=============  NOSEP v2.46 - STATS =============\n",
      " Number of patterns found: 155829\n",
      " Total time ~ 1475953 ms\n",
      " Maximum memory usage : 276.0849075317383 mb\n",
      " Calculation count 181464\n",
      "===================================================\n",
      "\n"
     ]
    },
    {
     "name": "stderr",
     "output_type": "stream",
     "text": [
      "CPAI 1/1: 83875 unique patterns\n",
      "No NPAI sequences\n",
      "--------------------------\n",
      "Genome 7/90: NC_017641\n",
      "No PAI sequences\n"
     ]
    },
    {
     "name": "stdout",
     "output_type": "stream",
     "text": [
      ">/home/veljko/.local/lib/python3.10/site-packages/spmf/spmf.jar\n",
      "=============  NOSEP v2.46 - STATS =============\n",
      " Number of patterns found: 28197\n",
      " Total time ~ 240396 ms\n",
      " Maximum memory usage : 148.14263916015625 mb\n",
      " Calculation count 57946\n",
      "===================================================\n",
      "\n"
     ]
    },
    {
     "name": "stderr",
     "output_type": "stream",
     "text": [
      "CPAI 1/6: 177 unique patterns\n",
      "CPAI 2/6: island too large\n",
      "CPAI 3/6: island too large\n"
     ]
    },
    {
     "name": "stdout",
     "output_type": "stream",
     "text": [
      ">/home/veljko/.local/lib/python3.10/site-packages/spmf/spmf.jar\n",
      "=============  NOSEP v2.46 - STATS =============\n",
      " Number of patterns found: 13816\n",
      " Total time ~ 60119 ms\n",
      " Maximum memory usage : 46.10498809814453 mb\n",
      " Calculation count 29765\n",
      "===================================================\n",
      "\n"
     ]
    },
    {
     "name": "stderr",
     "output_type": "stream",
     "text": [
      "CPAI 4/6: 57 unique patterns\n",
      "CPAI 5/6: island too large\n",
      "java.lang.NumberFormatException: For input string: \"R\"\n",
      "\tat java.base/java.lang.NumberFormatException.forInputString(NumberFormatException.java:67)\n",
      "\tat java.base/java.lang.Integer.parseInt(Integer.java:662)\n",
      "\tat java.base/java.lang.Integer.parseInt(Integer.java:778)\n",
      "\tat ca.pfv.spmf.algorithms.sequentialpatterns.nosep.AlgoNOSEP.readInputFile(AlgoNOSEP.java:809)\n",
      "\tat ca.pfv.spmf.algorithms.sequentialpatterns.nosep.AlgoNOSEP.runAlgorithm(AlgoNOSEP.java:878)\n",
      "\tat ca.pfv.spmf.algorithmmanager.descriptions.DescriptionAlgoNOSEP.runAlgorithm(DescriptionAlgoNOSEP.java:52)\n",
      "\tat ca.pfv.spmf.gui.CommandProcessor.runAlgorithm(CommandProcessor.java:265)\n",
      "\tat ca.pfv.spmf.gui.Main.processCommandLineArguments(Main.java:151)\n",
      "\tat ca.pfv.spmf.gui.Main.main(Main.java:64)\n",
      "CPAI 6/6: 0 unique patterns\n"
     ]
    },
    {
     "name": "stdout",
     "output_type": "stream",
     "text": [
      ">/home/veljko/.local/lib/python3.10/site-packages/spmf/spmf.jar\n",
      "=============  NOSEP v2.46 - STATS =============\n",
      " Number of patterns found: 0\n",
      " Total time ~ 38 ms\n",
      " Maximum memory usage : 12.2301025390625 mb\n",
      " Calculation count 0\n",
      "===================================================\n",
      "\n",
      ">/home/veljko/.local/lib/python3.10/site-packages/spmf/spmf.jar\n",
      "=============  NOSEP v2.46 - STATS =============\n",
      " Number of patterns found: 11832\n",
      " Total time ~ 42145 ms\n",
      " Maximum memory usage : 72.56194305419922 mb\n",
      " Calculation count 25707\n",
      "===================================================\n",
      "\n"
     ]
    },
    {
     "name": "stderr",
     "output_type": "stream",
     "text": [
      "NPAI 1/1: 35 unique patterns\n",
      "--------------------------\n",
      "Genome 8/90: NC_018662\n",
      "No PAI sequences\n",
      "No CPAI sequences\n"
     ]
    },
    {
     "name": "stdout",
     "output_type": "stream",
     "text": [
      ">/home/veljko/.local/lib/python3.10/site-packages/spmf/spmf.jar\n",
      "=============  NOSEP v2.46 - STATS =============\n",
      " Number of patterns found: 9188\n",
      " Total time ~ 27030 ms\n",
      " Maximum memory usage : 72.89112854003906 mb\n",
      " Calculation count 20313\n",
      "===================================================\n",
      "\n"
     ]
    },
    {
     "name": "stderr",
     "output_type": "stream",
     "text": [
      "NPAI 1/1: 837 unique patterns\n",
      "--------------------------\n",
      "Genome 9/90: NC_010488\n",
      "No PAI sequences\n"
     ]
    },
    {
     "name": "stdout",
     "output_type": "stream",
     "text": [
      ">/home/veljko/.local/lib/python3.10/site-packages/spmf/spmf.jar\n",
      "=============  NOSEP v2.46 - STATS =============\n",
      " Number of patterns found: 153531\n",
      " Total time ~ 607064 ms\n",
      " Maximum memory usage : 221.55377960205078 mb\n",
      " Calculation count 162560\n",
      "===================================================\n",
      "\n"
     ]
    },
    {
     "name": "stderr",
     "output_type": "stream",
     "text": [
      "CPAI 1/1: 56374 unique patterns\n",
      "No NPAI sequences\n",
      "--------------------------\n",
      "Genome 10/90: NC_017630\n",
      "No PAI sequences\n",
      "No CPAI sequences\n"
     ]
    },
    {
     "name": "stdout",
     "output_type": "stream",
     "text": [
      ">/home/veljko/.local/lib/python3.10/site-packages/spmf/spmf.jar\n",
      "=============  NOSEP v2.46 - STATS =============\n",
      " Number of patterns found: 9567\n",
      " Total time ~ 27962 ms\n",
      " Maximum memory usage : 123.43000030517578 mb\n",
      " Calculation count 21127\n",
      "===================================================\n",
      "\n"
     ]
    },
    {
     "name": "stderr",
     "output_type": "stream",
     "text": [
      "NPAI 1/1: 692 unique patterns\n",
      "--------------------------\n",
      "Genome 11/90: NC_007946\n",
      "No PAI sequences\n"
     ]
    },
    {
     "name": "stdout",
     "output_type": "stream",
     "text": [
      ">/home/veljko/.local/lib/python3.10/site-packages/spmf/spmf.jar\n",
      "=============  NOSEP v2.46 - STATS =============\n",
      " Number of patterns found: 30752\n",
      " Total time ~ 296521 ms\n",
      " Maximum memory usage : 65.46519470214844 mb\n",
      " Calculation count 64289\n",
      "===================================================\n",
      "\n"
     ]
    },
    {
     "name": "stderr",
     "output_type": "stream",
     "text": [
      "CPAI 1/10: 106 unique patterns\n"
     ]
    },
    {
     "name": "stdout",
     "output_type": "stream",
     "text": [
      ">/home/veljko/.local/lib/python3.10/site-packages/spmf/spmf.jar\n",
      "=============  NOSEP v2.46 - STATS =============\n",
      " Number of patterns found: 6221\n",
      " Total time ~ 12312 ms\n",
      " Maximum memory usage : 42.88489532470703 mb\n",
      " Calculation count 14008\n",
      "===================================================\n",
      "\n"
     ]
    },
    {
     "name": "stderr",
     "output_type": "stream",
     "text": [
      "CPAI 2/10: 13 unique patterns\n"
     ]
    },
    {
     "name": "stdout",
     "output_type": "stream",
     "text": [
      ">/home/veljko/.local/lib/python3.10/site-packages/spmf/spmf.jar\n",
      "=============  NOSEP v2.46 - STATS =============\n",
      " Number of patterns found: 6414\n",
      " Total time ~ 12049 ms\n",
      " Maximum memory usage : 90.60868072509766 mb\n",
      " Calculation count 13748\n",
      "===================================================\n",
      "\n"
     ]
    },
    {
     "name": "stderr",
     "output_type": "stream",
     "text": [
      "CPAI 3/10: 188 unique patterns\n",
      "CPAI 4/10: island too large\n",
      "CPAI 5/10: island too large\n"
     ]
    },
    {
     "name": "stdout",
     "output_type": "stream",
     "text": [
      ">/home/veljko/.local/lib/python3.10/site-packages/spmf/spmf.jar\n",
      "=============  NOSEP v2.46 - STATS =============\n",
      " Number of patterns found: 24697\n",
      " Total time ~ 205183 ms\n",
      " Maximum memory usage : 83.71806335449219 mb\n",
      " Calculation count 54733\n",
      "===================================================\n",
      "\n"
     ]
    },
    {
     "name": "stderr",
     "output_type": "stream",
     "text": [
      "CPAI 6/10: 58 unique patterns\n",
      "CPAI 7/10: island too large\n"
     ]
    },
    {
     "name": "stdout",
     "output_type": "stream",
     "text": [
      ">/home/veljko/.local/lib/python3.10/site-packages/spmf/spmf.jar\n",
      "=============  NOSEP v2.46 - STATS =============\n",
      " Number of patterns found: 15135\n",
      " Total time ~ 70601 ms\n",
      " Maximum memory usage : 138.16980743408203 mb\n",
      " Calculation count 32879\n",
      "===================================================\n",
      "\n"
     ]
    },
    {
     "name": "stderr",
     "output_type": "stream",
     "text": [
      "CPAI 8/10: 69 unique patterns\n",
      "CPAI 9/10: island too large\n"
     ]
    },
    {
     "name": "stdout",
     "output_type": "stream",
     "text": [
      ">/home/veljko/.local/lib/python3.10/site-packages/spmf/spmf.jar\n",
      "=============  NOSEP v2.46 - STATS =============\n",
      " Number of patterns found: 13328\n",
      " Total time ~ 50451 ms\n",
      " Maximum memory usage : 64.25778198242188 mb\n",
      " Calculation count 29034\n",
      "===================================================\n",
      "\n"
     ]
    },
    {
     "name": "stderr",
     "output_type": "stream",
     "text": [
      "CPAI 10/10: 28 unique patterns\n"
     ]
    },
    {
     "name": "stdout",
     "output_type": "stream",
     "text": [
      ">/home/veljko/.local/lib/python3.10/site-packages/spmf/spmf.jar\n",
      "=============  NOSEP v2.46 - STATS =============\n",
      " Number of patterns found: 7093\n",
      " Total time ~ 16111 ms\n",
      " Maximum memory usage : 102.2047348022461 mb\n",
      " Calculation count 15650\n",
      "===================================================\n",
      "\n"
     ]
    },
    {
     "name": "stderr",
     "output_type": "stream",
     "text": [
      "NPAI 1/2: 3 unique patterns\n"
     ]
    },
    {
     "name": "stdout",
     "output_type": "stream",
     "text": [
      ">/home/veljko/.local/lib/python3.10/site-packages/spmf/spmf.jar\n",
      "=============  NOSEP v2.46 - STATS =============\n",
      " Number of patterns found: 10399\n",
      " Total time ~ 32446 ms\n",
      " Maximum memory usage : 34.83076477050781 mb\n",
      " Calculation count 22548\n",
      "===================================================\n",
      "\n"
     ]
    },
    {
     "name": "stderr",
     "output_type": "stream",
     "text": [
      "NPAI 2/2: 35 unique patterns\n",
      "--------------------------\n",
      "Genome 12/90: NC_009786\n",
      "No PAI sequences\n",
      "No CPAI sequences\n",
      "No NPAI sequences\n",
      "--------------------------\n",
      "Genome 13/90: NC_017660\n",
      "No PAI sequences\n"
     ]
    },
    {
     "name": "stdout",
     "output_type": "stream",
     "text": [
      ">/home/veljko/.local/lib/python3.10/site-packages/spmf/spmf.jar\n",
      "=============  NOSEP v2.46 - STATS =============\n",
      " Number of patterns found: 27953\n",
      " Total time ~ 238702 ms\n",
      " Maximum memory usage : 109.85338592529297 mb\n",
      " Calculation count 57853\n",
      "===================================================\n",
      "\n"
     ]
    },
    {
     "name": "stderr",
     "output_type": "stream",
     "text": [
      "CPAI 1/4: 394 unique patterns\n"
     ]
    },
    {
     "name": "stdout",
     "output_type": "stream",
     "text": [
      ">/home/veljko/.local/lib/python3.10/site-packages/spmf/spmf.jar\n",
      "=============  NOSEP v2.46 - STATS =============\n",
      " Number of patterns found: 8515\n",
      " Total time ~ 22722 ms\n",
      " Maximum memory usage : 48.41095733642578 mb\n",
      " Calculation count 18956\n",
      "===================================================\n",
      "\n"
     ]
    },
    {
     "name": "stderr",
     "output_type": "stream",
     "text": [
      "CPAI 2/4: 5 unique patterns\n"
     ]
    },
    {
     "name": "stdout",
     "output_type": "stream",
     "text": [
      ">/home/veljko/.local/lib/python3.10/site-packages/spmf/spmf.jar\n",
      "=============  NOSEP v2.46 - STATS =============\n",
      " Number of patterns found: 12640\n",
      " Total time ~ 49720 ms\n",
      " Maximum memory usage : 24.67833709716797 mb\n",
      " Calculation count 27349\n",
      "===================================================\n",
      "\n"
     ]
    },
    {
     "name": "stderr",
     "output_type": "stream",
     "text": [
      "CPAI 3/4: 51 unique patterns\n"
     ]
    },
    {
     "name": "stdout",
     "output_type": "stream",
     "text": [
      ">/home/veljko/.local/lib/python3.10/site-packages/spmf/spmf.jar\n",
      "=============  NOSEP v2.46 - STATS =============\n",
      " Number of patterns found: 8498\n",
      " Total time ~ 20661 ms\n",
      " Maximum memory usage : 118.3317642211914 mb\n",
      " Calculation count 18762\n",
      "===================================================\n",
      "\n"
     ]
    },
    {
     "name": "stderr",
     "output_type": "stream",
     "text": [
      "CPAI 4/4: 7 unique patterns\n"
     ]
    },
    {
     "name": "stdout",
     "output_type": "stream",
     "text": [
      ">/home/veljko/.local/lib/python3.10/site-packages/spmf/spmf.jar\n",
      "=============  NOSEP v2.46 - STATS =============\n",
      " Number of patterns found: 27357\n",
      " Total time ~ 238810 ms\n",
      " Maximum memory usage : 108.39967346191406 mb\n",
      " Calculation count 58537\n",
      "===================================================\n",
      "\n"
     ]
    },
    {
     "name": "stderr",
     "output_type": "stream",
     "text": [
      "NPAI 1/2: 115 unique patterns\n"
     ]
    },
    {
     "name": "stdout",
     "output_type": "stream",
     "text": [
      ">/home/veljko/.local/lib/python3.10/site-packages/spmf/spmf.jar\n",
      "=============  NOSEP v2.46 - STATS =============\n",
      " Number of patterns found: 11671\n",
      " Total time ~ 38990 ms\n",
      " Maximum memory usage : 74.28121948242188 mb\n",
      " Calculation count 25380\n",
      "===================================================\n",
      "\n"
     ]
    },
    {
     "name": "stderr",
     "output_type": "stream",
     "text": [
      "NPAI 2/2: 15 unique patterns\n",
      "--------------------------\n",
      "Genome 14/90: NC_017651\n",
      "No PAI sequences\n"
     ]
    },
    {
     "name": "stdout",
     "output_type": "stream",
     "text": [
      ">/home/veljko/.local/lib/python3.10/site-packages/spmf/spmf.jar\n",
      "=============  NOSEP v2.46 - STATS =============\n",
      " Number of patterns found: 12013\n",
      " Total time ~ 36533 ms\n",
      " Maximum memory usage : 30.073104858398438 mb\n",
      " Calculation count 23576\n",
      "===================================================\n",
      "\n"
     ]
    },
    {
     "name": "stderr",
     "output_type": "stream",
     "text": [
      "CPAI 1/12: 80 unique patterns\n"
     ]
    },
    {
     "name": "stdout",
     "output_type": "stream",
     "text": [
      ">/home/veljko/.local/lib/python3.10/site-packages/spmf/spmf.jar\n",
      "=============  NOSEP v2.46 - STATS =============\n",
      " Number of patterns found: 23910\n",
      " Total time ~ 181100 ms\n",
      " Maximum memory usage : 146.107666015625 mb\n",
      " Calculation count 52367\n",
      "===================================================\n",
      "\n"
     ]
    },
    {
     "name": "stderr",
     "output_type": "stream",
     "text": [
      "CPAI 2/12: 165 unique patterns\n"
     ]
    },
    {
     "name": "stdout",
     "output_type": "stream",
     "text": [
      ">/home/veljko/.local/lib/python3.10/site-packages/spmf/spmf.jar\n",
      "=============  NOSEP v2.46 - STATS =============\n",
      " Number of patterns found: 8020\n",
      " Total time ~ 20300 ms\n",
      " Maximum memory usage : 27.36957550048828 mb\n",
      " Calculation count 17963\n",
      "===================================================\n",
      "\n"
     ]
    },
    {
     "name": "stderr",
     "output_type": "stream",
     "text": [
      "CPAI 3/12: 6 unique patterns\n"
     ]
    },
    {
     "name": "stdout",
     "output_type": "stream",
     "text": [
      ">/home/veljko/.local/lib/python3.10/site-packages/spmf/spmf.jar\n",
      "=============  NOSEP v2.46 - STATS =============\n",
      " Number of patterns found: 6211\n",
      " Total time ~ 12868 ms\n",
      " Maximum memory usage : 102.86034393310547 mb\n",
      " Calculation count 14016\n",
      "===================================================\n",
      "\n"
     ]
    },
    {
     "name": "stderr",
     "output_type": "stream",
     "text": [
      "CPAI 4/12: 16 unique patterns\n"
     ]
    },
    {
     "name": "stdout",
     "output_type": "stream",
     "text": [
      ">/home/veljko/.local/lib/python3.10/site-packages/spmf/spmf.jar\n",
      "=============  NOSEP v2.46 - STATS =============\n",
      " Number of patterns found: 11852\n",
      " Total time ~ 41635 ms\n",
      " Maximum memory usage : 113.7706527709961 mb\n",
      " Calculation count 25776\n",
      "===================================================\n",
      "\n"
     ]
    },
    {
     "name": "stderr",
     "output_type": "stream",
     "text": [
      "CPAI 5/12: 200 unique patterns\n",
      "CPAI 6/12: island too large\n",
      "CPAI 7/12: island too large\n"
     ]
    },
    {
     "name": "stdout",
     "output_type": "stream",
     "text": [
      ">/home/veljko/.local/lib/python3.10/site-packages/spmf/spmf.jar\n",
      "=============  NOSEP v2.46 - STATS =============\n",
      " Number of patterns found: 25808\n",
      " Total time ~ 220296 ms\n",
      " Maximum memory usage : 115.57825469970703 mb\n",
      " Calculation count 57059\n",
      "===================================================\n",
      "\n"
     ]
    },
    {
     "name": "stderr",
     "output_type": "stream",
     "text": [
      "CPAI 8/12: 40 unique patterns\n"
     ]
    },
    {
     "name": "stdout",
     "output_type": "stream",
     "text": [
      ">/home/veljko/.local/lib/python3.10/site-packages/spmf/spmf.jar\n",
      "=============  NOSEP v2.46 - STATS =============\n",
      " Number of patterns found: 14301\n",
      " Total time ~ 62976 ms\n",
      " Maximum memory usage : 73.47718048095703 mb\n",
      " Calculation count 31863\n",
      "===================================================\n",
      "\n"
     ]
    },
    {
     "name": "stderr",
     "output_type": "stream",
     "text": [
      "CPAI 9/12: 36 unique patterns\n",
      "CPAI 10/12: island too large\n"
     ]
    },
    {
     "name": "stdout",
     "output_type": "stream",
     "text": [
      ">/home/veljko/.local/lib/python3.10/site-packages/spmf/spmf.jar\n",
      "=============  NOSEP v2.46 - STATS =============\n",
      " Number of patterns found: 15838\n",
      " Total time ~ 78875 ms\n",
      " Maximum memory usage : 117.5300064086914 mb\n",
      " Calculation count 34944\n",
      "===================================================\n",
      "\n"
     ]
    },
    {
     "name": "stderr",
     "output_type": "stream",
     "text": [
      "CPAI 11/12: 82 unique patterns\n"
     ]
    },
    {
     "name": "stdout",
     "output_type": "stream",
     "text": [
      ">/home/veljko/.local/lib/python3.10/site-packages/spmf/spmf.jar\n",
      "=============  NOSEP v2.46 - STATS =============\n",
      " Number of patterns found: 15504\n",
      " Total time ~ 69070 ms\n",
      " Maximum memory usage : 58.93602752685547 mb\n",
      " Calculation count 33171\n",
      "===================================================\n",
      "\n"
     ]
    },
    {
     "name": "stderr",
     "output_type": "stream",
     "text": [
      "CPAI 12/12: 22 unique patterns\n"
     ]
    },
    {
     "name": "stdout",
     "output_type": "stream",
     "text": [
      ">/home/veljko/.local/lib/python3.10/site-packages/spmf/spmf.jar\n",
      "=============  NOSEP v2.46 - STATS =============\n",
      " Number of patterns found: 7121\n",
      " Total time ~ 15890 ms\n",
      " Maximum memory usage : 14.053726196289062 mb\n",
      " Calculation count 15654\n",
      "===================================================\n",
      "\n"
     ]
    },
    {
     "name": "stderr",
     "output_type": "stream",
     "text": [
      "NPAI 1/2: 3 unique patterns\n"
     ]
    },
    {
     "name": "stdout",
     "output_type": "stream",
     "text": [
      ">/home/veljko/.local/lib/python3.10/site-packages/spmf/spmf.jar\n",
      "=============  NOSEP v2.46 - STATS =============\n",
      " Number of patterns found: 10543\n",
      " Total time ~ 33799 ms\n",
      " Maximum memory usage : 13.708152770996094 mb\n",
      " Calculation count 22816\n",
      "===================================================\n",
      "\n"
     ]
    },
    {
     "name": "stderr",
     "output_type": "stream",
     "text": [
      "NPAI 2/2: 24 unique patterns\n",
      "--------------------------\n",
      "Genome 15/90: NC_002695\n"
     ]
    },
    {
     "name": "stdout",
     "output_type": "stream",
     "text": [
      ">/home/veljko/.local/lib/python3.10/site-packages/spmf/spmf.jar\n",
      "=============  NOSEP v2.46 - STATS =============\n",
      " Number of patterns found: 20640\n",
      " Total time ~ 133286 ms\n",
      " Maximum memory usage : 128.12146759033203 mb\n",
      " Calculation count 44800\n",
      "===================================================\n",
      "\n"
     ]
    },
    {
     "name": "stderr",
     "output_type": "stream",
     "text": [
      "PAI 1/2: 101 unique patterns\n",
      "PAI 2/2: island too large\n"
     ]
    },
    {
     "name": "stdout",
     "output_type": "stream",
     "text": [
      ">/home/veljko/.local/lib/python3.10/site-packages/spmf/spmf.jar\n",
      "=============  NOSEP v2.46 - STATS =============\n",
      " Number of patterns found: 28742\n",
      " Total time ~ 243826 ms\n",
      " Maximum memory usage : 121.67205810546875 mb\n",
      " Calculation count 58872\n",
      "===================================================\n",
      "\n"
     ]
    },
    {
     "name": "stderr",
     "output_type": "stream",
     "text": [
      "CPAI 1/6: 247 unique patterns\n",
      "CPAI 2/6: island too large\n"
     ]
    },
    {
     "name": "stdout",
     "output_type": "stream",
     "text": [
      ">/home/veljko/.local/lib/python3.10/site-packages/spmf/spmf.jar\n",
      "=============  NOSEP v2.46 - STATS =============\n",
      " Number of patterns found: 39540\n",
      " Total time ~ 415564 ms\n",
      " Maximum memory usage : 118.10610961914062 mb\n",
      " Calculation count 74423\n",
      "===================================================\n",
      "\n"
     ]
    },
    {
     "name": "stderr",
     "output_type": "stream",
     "text": [
      "CPAI 3/6: 8995 unique patterns\n"
     ]
    },
    {
     "name": "stdout",
     "output_type": "stream",
     "text": [
      ">/home/veljko/.local/lib/python3.10/site-packages/spmf/spmf.jar\n",
      "=============  NOSEP v2.46 - STATS =============\n",
      " Number of patterns found: 20640\n",
      " Total time ~ 134067 ms\n",
      " Maximum memory usage : 138.58136749267578 mb\n",
      " Calculation count 44800\n",
      "===================================================\n",
      "\n"
     ]
    },
    {
     "name": "stderr",
     "output_type": "stream",
     "text": [
      "CPAI 4/6: 101 unique patterns\n"
     ]
    },
    {
     "name": "stdout",
     "output_type": "stream",
     "text": [
      ">/home/veljko/.local/lib/python3.10/site-packages/spmf/spmf.jar\n",
      "=============  NOSEP v2.46 - STATS =============\n",
      " Number of patterns found: 17879\n",
      " Total time ~ 93153 ms\n",
      " Maximum memory usage : 16.81761932373047 mb\n",
      " Calculation count 38741\n",
      "===================================================\n",
      "\n"
     ]
    },
    {
     "name": "stderr",
     "output_type": "stream",
     "text": [
      "CPAI 5/6: 35 unique patterns\n",
      "CPAI 6/6: island too large\n"
     ]
    },
    {
     "name": "stdout",
     "output_type": "stream",
     "text": [
      ">/home/veljko/.local/lib/python3.10/site-packages/spmf/spmf.jar\n",
      "=============  NOSEP v2.46 - STATS =============\n",
      " Number of patterns found: 8272\n",
      " Total time ~ 20625 ms\n",
      " Maximum memory usage : 87.58606719970703 mb\n",
      " Calculation count 18253\n",
      "===================================================\n",
      "\n"
     ]
    },
    {
     "name": "stderr",
     "output_type": "stream",
     "text": [
      "NPAI 1/2: 9 unique patterns\n"
     ]
    },
    {
     "name": "stdout",
     "output_type": "stream",
     "text": [
      ">/home/veljko/.local/lib/python3.10/site-packages/spmf/spmf.jar\n",
      "=============  NOSEP v2.46 - STATS =============\n",
      " Number of patterns found: 11699\n",
      " Total time ~ 41379 ms\n",
      " Maximum memory usage : 120.81937408447266 mb\n",
      " Calculation count 25406\n",
      "===================================================\n",
      "\n"
     ]
    },
    {
     "name": "stderr",
     "output_type": "stream",
     "text": [
      "NPAI 2/2: 34 unique patterns\n",
      "--------------------------\n",
      "Genome 16/90: NC_013353\n",
      "PAI 1/1: island too large\n"
     ]
    },
    {
     "name": "stdout",
     "output_type": "stream",
     "text": [
      ">/home/veljko/.local/lib/python3.10/site-packages/spmf/spmf.jar\n",
      "=============  NOSEP v2.46 - STATS =============\n",
      " Number of patterns found: 28318\n",
      " Total time ~ 239694 ms\n",
      " Maximum memory usage : 177.4297103881836 mb\n",
      " Calculation count 58328\n",
      "===================================================\n",
      "\n"
     ]
    },
    {
     "name": "stderr",
     "output_type": "stream",
     "text": [
      "CPAI 1/8: 2294 unique patterns\n"
     ]
    },
    {
     "name": "stdout",
     "output_type": "stream",
     "text": [
      ">/home/veljko/.local/lib/python3.10/site-packages/spmf/spmf.jar\n",
      "=============  NOSEP v2.46 - STATS =============\n",
      " Number of patterns found: 5905\n",
      " Total time ~ 10837 ms\n",
      " Maximum memory usage : 40.736968994140625 mb\n",
      " Calculation count 13068\n",
      "===================================================\n",
      "\n"
     ]
    },
    {
     "name": "stderr",
     "output_type": "stream",
     "text": [
      "CPAI 2/8: 3 unique patterns\n"
     ]
    },
    {
     "name": "stdout",
     "output_type": "stream",
     "text": [
      ">/home/veljko/.local/lib/python3.10/site-packages/spmf/spmf.jar\n",
      "=============  NOSEP v2.46 - STATS =============\n",
      " Number of patterns found: 18710\n",
      " Total time ~ 104694 ms\n",
      " Maximum memory usage : 81.13995361328125 mb\n",
      " Calculation count 40797\n",
      "===================================================\n",
      "\n"
     ]
    },
    {
     "name": "stderr",
     "output_type": "stream",
     "text": [
      "CPAI 3/8: 29 unique patterns\n"
     ]
    },
    {
     "name": "stdout",
     "output_type": "stream",
     "text": [
      ">/home/veljko/.local/lib/python3.10/site-packages/spmf/spmf.jar\n",
      "=============  NOSEP v2.46 - STATS =============\n",
      " Number of patterns found: 11725\n",
      " Total time ~ 42341 ms\n",
      " Maximum memory usage : 51.45408630371094 mb\n",
      " Calculation count 25213\n",
      "===================================================\n",
      "\n"
     ]
    },
    {
     "name": "stderr",
     "output_type": "stream",
     "text": [
      "CPAI 4/8: 45 unique patterns\n",
      "CPAI 5/8: island too large\n",
      "CPAI 6/8: island too large\n",
      "CPAI 7/8: island too large\n"
     ]
    },
    {
     "name": "stdout",
     "output_type": "stream",
     "text": [
      ">/home/veljko/.local/lib/python3.10/site-packages/spmf/spmf.jar\n",
      "=============  NOSEP v2.46 - STATS =============\n",
      " Number of patterns found: 17372\n",
      " Total time ~ 89027 ms\n",
      " Maximum memory usage : 107.28205871582031 mb\n",
      " Calculation count 38073\n",
      "===================================================\n",
      "\n"
     ]
    },
    {
     "name": "stderr",
     "output_type": "stream",
     "text": [
      "CPAI 8/8: 103 unique patterns\n"
     ]
    },
    {
     "name": "stdout",
     "output_type": "stream",
     "text": [
      ">/home/veljko/.local/lib/python3.10/site-packages/spmf/spmf.jar\n",
      "=============  NOSEP v2.46 - STATS =============\n",
      " Number of patterns found: 11647\n",
      " Total time ~ 41862 ms\n",
      " Maximum memory usage : 111.31883239746094 mb\n",
      " Calculation count 25380\n",
      "===================================================\n",
      "\n"
     ]
    },
    {
     "name": "stderr",
     "output_type": "stream",
     "text": [
      "NPAI 1/1: 18 unique patterns\n",
      "--------------------------\n",
      "Genome 17/90: NC_007414\n",
      "No PAI sequences\n",
      "No CPAI sequences\n"
     ]
    },
    {
     "name": "stdout",
     "output_type": "stream",
     "text": [
      ">/home/veljko/.local/lib/python3.10/site-packages/spmf/spmf.jar\n",
      "=============  NOSEP v2.46 - STATS =============\n",
      " Number of patterns found: 6682\n",
      " Total time ~ 13214 ms\n",
      " Maximum memory usage : 101.0504379272461 mb\n",
      " Calculation count 14407\n",
      "===================================================\n",
      "\n"
     ]
    },
    {
     "name": "stderr",
     "output_type": "stream",
     "text": [
      "NPAI 1/1: 453 unique patterns\n",
      "--------------------------\n",
      "Genome 18/90: NC_017656\n",
      "No PAI sequences\n"
     ]
    },
    {
     "name": "stdout",
     "output_type": "stream",
     "text": [
      ">/home/veljko/.local/lib/python3.10/site-packages/spmf/spmf.jar\n",
      "=============  NOSEP v2.46 - STATS =============\n",
      " Number of patterns found: 28469\n",
      " Total time ~ 244355 ms\n",
      " Maximum memory usage : 158.3103485107422 mb\n",
      " Calculation count 58589\n",
      "===================================================\n",
      "\n"
     ]
    },
    {
     "name": "stderr",
     "output_type": "stream",
     "text": [
      "CPAI 1/5: 114 unique patterns\n"
     ]
    },
    {
     "name": "stdout",
     "output_type": "stream",
     "text": [
      ">/home/veljko/.local/lib/python3.10/site-packages/spmf/spmf.jar\n",
      "=============  NOSEP v2.46 - STATS =============\n",
      " Number of patterns found: 13098\n",
      " Total time ~ 50658 ms\n",
      " Maximum memory usage : 26.32695770263672 mb\n",
      " Calculation count 28299\n",
      "===================================================\n",
      "\n"
     ]
    },
    {
     "name": "stderr",
     "output_type": "stream",
     "text": [
      "CPAI 2/5: 24 unique patterns\n"
     ]
    },
    {
     "name": "stdout",
     "output_type": "stream",
     "text": [
      ">/home/veljko/.local/lib/python3.10/site-packages/spmf/spmf.jar\n",
      "=============  NOSEP v2.46 - STATS =============\n",
      " Number of patterns found: 9935\n",
      " Total time ~ 30858 ms\n",
      " Maximum memory usage : 43.68095397949219 mb\n",
      " Calculation count 21778\n",
      "===================================================\n",
      "\n"
     ]
    },
    {
     "name": "stderr",
     "output_type": "stream",
     "text": [
      "CPAI 3/5: 31 unique patterns\n",
      "CPAI 4/5: island too large\n",
      "CPAI 5/5: island too large\n"
     ]
    },
    {
     "name": "stdout",
     "output_type": "stream",
     "text": [
      ">/home/veljko/.local/lib/python3.10/site-packages/spmf/spmf.jar\n",
      "=============  NOSEP v2.46 - STATS =============\n",
      " Number of patterns found: 8715\n",
      " Total time ~ 22985 ms\n",
      " Maximum memory usage : 21.26287078857422 mb\n",
      " Calculation count 19221\n",
      "===================================================\n",
      "\n"
     ]
    },
    {
     "name": "stderr",
     "output_type": "stream",
     "text": [
      "NPAI 1/2: 16 unique patterns\n"
     ]
    },
    {
     "name": "stdout",
     "output_type": "stream",
     "text": [
      ">/home/veljko/.local/lib/python3.10/site-packages/spmf/spmf.jar\n",
      "=============  NOSEP v2.46 - STATS =============\n",
      " Number of patterns found: 11722\n",
      " Total time ~ 40373 ms\n",
      " Maximum memory usage : 92.10726165771484 mb\n",
      " Calculation count 25361\n",
      "===================================================\n",
      "\n"
     ]
    },
    {
     "name": "stderr",
     "output_type": "stream",
     "text": [
      "NPAI 2/2: 34 unique patterns\n",
      "--------------------------\n",
      "Genome 19/90: NC_017664\n",
      "No PAI sequences\n"
     ]
    },
    {
     "name": "stdout",
     "output_type": "stream",
     "text": [
      ">/home/veljko/.local/lib/python3.10/site-packages/spmf/spmf.jar\n",
      "=============  NOSEP v2.46 - STATS =============\n",
      " Number of patterns found: 28530\n",
      " Total time ~ 242371 ms\n",
      " Maximum memory usage : 37.39418029785156 mb\n",
      " Calculation count 58429\n",
      "===================================================\n",
      "\n"
     ]
    },
    {
     "name": "stderr",
     "output_type": "stream",
     "text": [
      "CPAI 1/4: 393 unique patterns\n"
     ]
    },
    {
     "name": "stdout",
     "output_type": "stream",
     "text": [
      ">/home/veljko/.local/lib/python3.10/site-packages/spmf/spmf.jar\n",
      "=============  NOSEP v2.46 - STATS =============\n",
      " Number of patterns found: 11693\n",
      " Total time ~ 42193 ms\n",
      " Maximum memory usage : 54.372406005859375 mb\n",
      " Calculation count 25133\n",
      "===================================================\n",
      "\n"
     ]
    },
    {
     "name": "stderr",
     "output_type": "stream",
     "text": [
      "CPAI 2/4: 54 unique patterns\n"
     ]
    },
    {
     "name": "stdout",
     "output_type": "stream",
     "text": [
      ">/home/veljko/.local/lib/python3.10/site-packages/spmf/spmf.jar\n",
      "=============  NOSEP v2.46 - STATS =============\n",
      " Number of patterns found: 8515\n",
      " Total time ~ 21449 ms\n",
      " Maximum memory usage : 46.08592987060547 mb\n",
      " Calculation count 18956\n",
      "===================================================\n",
      "\n"
     ]
    },
    {
     "name": "stderr",
     "output_type": "stream",
     "text": [
      "CPAI 3/4: 7 unique patterns\n"
     ]
    },
    {
     "name": "stdout",
     "output_type": "stream",
     "text": [
      ">/home/veljko/.local/lib/python3.10/site-packages/spmf/spmf.jar\n",
      "=============  NOSEP v2.46 - STATS =============\n",
      " Number of patterns found: 8498\n",
      " Total time ~ 22309 ms\n",
      " Maximum memory usage : 118.34407043457031 mb\n",
      " Calculation count 18762\n",
      "===================================================\n",
      "\n"
     ]
    },
    {
     "name": "stderr",
     "output_type": "stream",
     "text": [
      "CPAI 4/4: 10 unique patterns\n"
     ]
    },
    {
     "name": "stdout",
     "output_type": "stream",
     "text": [
      ">/home/veljko/.local/lib/python3.10/site-packages/spmf/spmf.jar\n",
      "=============  NOSEP v2.46 - STATS =============\n",
      " Number of patterns found: 11672\n",
      " Total time ~ 38592 ms\n",
      " Maximum memory usage : 91.85914611816406 mb\n",
      " Calculation count 25381\n",
      "===================================================\n",
      "\n"
     ]
    },
    {
     "name": "stderr",
     "output_type": "stream",
     "text": [
      "NPAI 1/2: 15 unique patterns\n"
     ]
    },
    {
     "name": "stdout",
     "output_type": "stream",
     "text": [
      ">/home/veljko/.local/lib/python3.10/site-packages/spmf/spmf.jar\n",
      "=============  NOSEP v2.46 - STATS =============\n",
      " Number of patterns found: 27354\n",
      " Total time ~ 231124 ms\n",
      " Maximum memory usage : 194.26079559326172 mb\n",
      " Calculation count 58539\n",
      "===================================================\n",
      "\n"
     ]
    },
    {
     "name": "stderr",
     "output_type": "stream",
     "text": [
      "NPAI 2/2: 124 unique patterns\n",
      "--------------------------\n",
      "Genome 20/90: NC_017659\n",
      "No PAI sequences\n"
     ]
    },
    {
     "name": "stdout",
     "output_type": "stream",
     "text": [
      ">/home/veljko/.local/lib/python3.10/site-packages/spmf/spmf.jar\n",
      "=============  NOSEP v2.46 - STATS =============\n",
      " Number of patterns found: 18520\n",
      " Total time ~ 105061 ms\n",
      " Maximum memory usage : 161.24344635009766 mb\n",
      " Calculation count 40814\n",
      "===================================================\n",
      "\n"
     ]
    },
    {
     "name": "stderr",
     "output_type": "stream",
     "text": [
      "CPAI 1/2: 2058 unique patterns\n"
     ]
    },
    {
     "name": "stdout",
     "output_type": "stream",
     "text": [
      ">/home/veljko/.local/lib/python3.10/site-packages/spmf/spmf.jar\n",
      "=============  NOSEP v2.46 - STATS =============\n",
      " Number of patterns found: 6211\n",
      " Total time ~ 11510 ms\n",
      " Maximum memory usage : 94.81761932373047 mb\n",
      " Calculation count 13390\n",
      "===================================================\n",
      "\n"
     ]
    },
    {
     "name": "stderr",
     "output_type": "stream",
     "text": [
      "CPAI 2/2: 414 unique patterns\n"
     ]
    },
    {
     "name": "stdout",
     "output_type": "stream",
     "text": [
      ">/home/veljko/.local/lib/python3.10/site-packages/spmf/spmf.jar\n",
      "=============  NOSEP v2.46 - STATS =============\n",
      " Number of patterns found: 7765\n",
      " Total time ~ 17276 ms\n",
      " Maximum memory usage : 66.09603881835938 mb\n",
      " Calculation count 16997\n",
      "===================================================\n",
      "\n"
     ]
    },
    {
     "name": "stderr",
     "output_type": "stream",
     "text": [
      "NPAI 1/1: 294 unique patterns\n",
      "--------------------------\n",
      "Genome 21/90: NC_000913\n",
      "No PAI sequences\n"
     ]
    },
    {
     "name": "stdout",
     "output_type": "stream",
     "text": [
      ">/home/veljko/.local/lib/python3.10/site-packages/spmf/spmf.jar\n",
      "=============  NOSEP v2.46 - STATS =============\n",
      " Number of patterns found: 9383\n",
      " Total time ~ 27581 ms\n",
      " Maximum memory usage : 98.26155853271484 mb\n",
      " Calculation count 20642\n",
      "===================================================\n",
      "\n"
     ]
    },
    {
     "name": "stderr",
     "output_type": "stream",
     "text": [
      "CPAI 1/4: 9 unique patterns\n"
     ]
    },
    {
     "name": "stdout",
     "output_type": "stream",
     "text": [
      ">/home/veljko/.local/lib/python3.10/site-packages/spmf/spmf.jar\n",
      "=============  NOSEP v2.46 - STATS =============\n",
      " Number of patterns found: 6834\n",
      " Total time ~ 13710 ms\n",
      " Maximum memory usage : 40.88721466064453 mb\n",
      " Calculation count 14729\n",
      "===================================================\n",
      "\n"
     ]
    },
    {
     "name": "stderr",
     "output_type": "stream",
     "text": [
      "CPAI 2/4: 25 unique patterns\n"
     ]
    },
    {
     "name": "stdout",
     "output_type": "stream",
     "text": [
      ">/home/veljko/.local/lib/python3.10/site-packages/spmf/spmf.jar\n",
      "=============  NOSEP v2.46 - STATS =============\n",
      " Number of patterns found: 8622\n",
      " Total time ~ 22402 ms\n",
      " Maximum memory usage : 9.666061401367188 mb\n",
      " Calculation count 18796\n",
      "===================================================\n",
      "\n"
     ]
    },
    {
     "name": "stderr",
     "output_type": "stream",
     "text": [
      "CPAI 3/4: 20 unique patterns\n"
     ]
    },
    {
     "name": "stdout",
     "output_type": "stream",
     "text": [
      ">/home/veljko/.local/lib/python3.10/site-packages/spmf/spmf.jar\n",
      "=============  NOSEP v2.46 - STATS =============\n",
      " Number of patterns found: 6395\n",
      " Total time ~ 12310 ms\n",
      " Maximum memory usage : 71.35262298583984 mb\n",
      " Calculation count 13688\n",
      "===================================================\n",
      "\n"
     ]
    },
    {
     "name": "stderr",
     "output_type": "stream",
     "text": [
      "CPAI 4/4: 8 unique patterns\n"
     ]
    },
    {
     "name": "stdout",
     "output_type": "stream",
     "text": [
      ">/home/veljko/.local/lib/python3.10/site-packages/spmf/spmf.jar\n",
      "=============  NOSEP v2.46 - STATS =============\n",
      " Number of patterns found: 12719\n",
      " Total time ~ 46704 ms\n",
      " Maximum memory usage : 138.99080657958984 mb\n",
      " Calculation count 27689\n",
      "===================================================\n",
      "\n"
     ]
    },
    {
     "name": "stderr",
     "output_type": "stream",
     "text": [
      "NPAI 1/3: 37 unique patterns\n"
     ]
    },
    {
     "name": "stdout",
     "output_type": "stream",
     "text": [
      ">/home/veljko/.local/lib/python3.10/site-packages/spmf/spmf.jar\n",
      "=============  NOSEP v2.46 - STATS =============\n",
      " Number of patterns found: 8526\n",
      " Total time ~ 21713 ms\n",
      " Maximum memory usage : 76.24340057373047 mb\n",
      " Calculation count 18586\n",
      "===================================================\n",
      "\n"
     ]
    },
    {
     "name": "stderr",
     "output_type": "stream",
     "text": [
      "NPAI 2/3: 18 unique patterns\n"
     ]
    },
    {
     "name": "stdout",
     "output_type": "stream",
     "text": [
      ">/home/veljko/.local/lib/python3.10/site-packages/spmf/spmf.jar\n",
      "=============  NOSEP v2.46 - STATS =============\n",
      " Number of patterns found: 15073\n",
      " Total time ~ 65281 ms\n",
      " Maximum memory usage : 133.19869232177734 mb\n",
      " Calculation count 32290\n",
      "===================================================\n",
      "\n"
     ]
    },
    {
     "name": "stderr",
     "output_type": "stream",
     "text": [
      "NPAI 3/3: 67 unique patterns\n",
      "--------------------------\n",
      "Genome 22/90: NC_007941\n",
      "No PAI sequences\n",
      "No CPAI sequences\n"
     ]
    },
    {
     "name": "stdout",
     "output_type": "stream",
     "text": [
      ">/home/veljko/.local/lib/python3.10/site-packages/spmf/spmf.jar\n",
      "=============  NOSEP v2.46 - STATS =============\n",
      " Number of patterns found: 9567\n",
      " Total time ~ 27695 ms\n",
      " Maximum memory usage : 130.65064239501953 mb\n",
      " Calculation count 21127\n",
      "===================================================\n",
      "\n"
     ]
    },
    {
     "name": "stderr",
     "output_type": "stream",
     "text": [
      "NPAI 1/1: 683 unique patterns\n",
      "--------------------------\n",
      "Genome 23/90: NC_012892\n",
      "No PAI sequences\n"
     ]
    },
    {
     "name": "stdout",
     "output_type": "stream",
     "text": [
      ">/home/veljko/.local/lib/python3.10/site-packages/spmf/spmf.jar\n",
      "=============  NOSEP v2.46 - STATS =============\n",
      " Number of patterns found: 5899\n",
      " Total time ~ 10950 ms\n",
      " Maximum memory usage : 79.71406555175781 mb\n",
      " Calculation count 13070\n",
      "===================================================\n",
      "\n"
     ]
    },
    {
     "name": "stderr",
     "output_type": "stream",
     "text": [
      "CPAI 1/6: 5 unique patterns\n"
     ]
    },
    {
     "name": "stdout",
     "output_type": "stream",
     "text": [
      ">/home/veljko/.local/lib/python3.10/site-packages/spmf/spmf.jar\n",
      "=============  NOSEP v2.46 - STATS =============\n",
      " Number of patterns found: 24823\n",
      " Total time ~ 177541 ms\n",
      " Maximum memory usage : 178.1341323852539 mb\n",
      " Calculation count 48728\n",
      "===================================================\n",
      "\n"
     ]
    },
    {
     "name": "stderr",
     "output_type": "stream",
     "text": [
      "CPAI 2/6: 4568 unique patterns\n"
     ]
    },
    {
     "name": "stdout",
     "output_type": "stream",
     "text": [
      ">/home/veljko/.local/lib/python3.10/site-packages/spmf/spmf.jar\n",
      "=============  NOSEP v2.46 - STATS =============\n",
      " Number of patterns found: 9338\n",
      " Total time ~ 28467 ms\n",
      " Maximum memory usage : 133.19562530517578 mb\n",
      " Calculation count 20473\n",
      "===================================================\n",
      "\n"
     ]
    },
    {
     "name": "stderr",
     "output_type": "stream",
     "text": [
      "CPAI 3/6: 43 unique patterns\n"
     ]
    },
    {
     "name": "stdout",
     "output_type": "stream",
     "text": [
      ">/home/veljko/.local/lib/python3.10/site-packages/spmf/spmf.jar\n",
      "=============  NOSEP v2.46 - STATS =============\n",
      " Number of patterns found: 28946\n",
      " Total time ~ 271915 ms\n",
      " Maximum memory usage : 93.75343322753906 mb\n",
      " Calculation count 61848\n",
      "===================================================\n",
      "\n"
     ]
    },
    {
     "name": "stderr",
     "output_type": "stream",
     "text": [
      "CPAI 4/6: 185 unique patterns\n"
     ]
    },
    {
     "name": "stdout",
     "output_type": "stream",
     "text": [
      ">/home/veljko/.local/lib/python3.10/site-packages/spmf/spmf.jar\n",
      "=============  NOSEP v2.46 - STATS =============\n",
      " Number of patterns found: 8062\n",
      " Total time ~ 19632 ms\n",
      " Maximum memory usage : 100.65512084960938 mb\n",
      " Calculation count 18069\n",
      "===================================================\n",
      "\n"
     ]
    },
    {
     "name": "stderr",
     "output_type": "stream",
     "text": [
      "CPAI 5/6: 15 unique patterns\n"
     ]
    },
    {
     "name": "stdout",
     "output_type": "stream",
     "text": [
      ">/home/veljko/.local/lib/python3.10/site-packages/spmf/spmf.jar\n",
      "=============  NOSEP v2.46 - STATS =============\n",
      " Number of patterns found: 8457\n",
      " Total time ~ 20196 ms\n",
      " Maximum memory usage : 11.168815612792969 mb\n",
      " Calculation count 18266\n",
      "===================================================\n",
      "\n"
     ]
    },
    {
     "name": "stderr",
     "output_type": "stream",
     "text": [
      "CPAI 6/6: 10 unique patterns\n"
     ]
    },
    {
     "name": "stdout",
     "output_type": "stream",
     "text": [
      ">/home/veljko/.local/lib/python3.10/site-packages/spmf/spmf.jar\n",
      "=============  NOSEP v2.46 - STATS =============\n",
      " Number of patterns found: 11830\n",
      " Total time ~ 43844 ms\n",
      " Maximum memory usage : 29.169647216796875 mb\n",
      " Calculation count 25745\n",
      "===================================================\n",
      "\n"
     ]
    },
    {
     "name": "stderr",
     "output_type": "stream",
     "text": [
      "NPAI 1/1: 17 unique patterns\n",
      "--------------------------\n",
      "Genome 24/90: NC_011601\n",
      "No PAI sequences\n"
     ]
    },
    {
     "name": "stdout",
     "output_type": "stream",
     "text": [
      ">/home/veljko/.local/lib/python3.10/site-packages/spmf/spmf.jar\n",
      "=============  NOSEP v2.46 - STATS =============\n",
      " Number of patterns found: 7961\n",
      " Total time ~ 20021 ms\n",
      " Maximum memory usage : 80.21542358398438 mb\n",
      " Calculation count 17640\n",
      "===================================================\n",
      "\n"
     ]
    },
    {
     "name": "stderr",
     "output_type": "stream",
     "text": [
      "CPAI 1/5: 31 unique patterns\n"
     ]
    },
    {
     "name": "stdout",
     "output_type": "stream",
     "text": [
      ">/home/veljko/.local/lib/python3.10/site-packages/spmf/spmf.jar\n",
      "=============  NOSEP v2.46 - STATS =============\n",
      " Number of patterns found: 13681\n",
      " Total time ~ 56429 ms\n",
      " Maximum memory usage : 53.74437713623047 mb\n",
      " Calculation count 29559\n",
      "===================================================\n",
      "\n"
     ]
    },
    {
     "name": "stderr",
     "output_type": "stream",
     "text": [
      "CPAI 2/5: 33 unique patterns\n"
     ]
    },
    {
     "name": "stdout",
     "output_type": "stream",
     "text": [
      ">/home/veljko/.local/lib/python3.10/site-packages/spmf/spmf.jar\n",
      "=============  NOSEP v2.46 - STATS =============\n",
      " Number of patterns found: 10467\n",
      " Total time ~ 31611 ms\n",
      " Maximum memory usage : 16.586349487304688 mb\n",
      " Calculation count 23035\n",
      "===================================================\n",
      "\n"
     ]
    },
    {
     "name": "stderr",
     "output_type": "stream",
     "text": [
      "CPAI 3/5: 47 unique patterns\n",
      "CPAI 4/5: island too large\n"
     ]
    },
    {
     "name": "stdout",
     "output_type": "stream",
     "text": [
      ">/home/veljko/.local/lib/python3.10/site-packages/spmf/spmf.jar\n",
      "=============  NOSEP v2.46 - STATS =============\n",
      " Number of patterns found: 34547\n",
      " Total time ~ 339986 ms\n",
      " Maximum memory usage : 189.0866241455078 mb\n",
      " Calculation count 66884\n",
      "===================================================\n",
      "\n"
     ]
    },
    {
     "name": "stderr",
     "output_type": "stream",
     "text": [
      "CPAI 5/5: 6594 unique patterns\n"
     ]
    },
    {
     "name": "stdout",
     "output_type": "stream",
     "text": [
      ">/home/veljko/.local/lib/python3.10/site-packages/spmf/spmf.jar\n",
      "=============  NOSEP v2.46 - STATS =============\n",
      " Number of patterns found: 7090\n",
      " Total time ~ 14530 ms\n",
      " Maximum memory usage : 13.592353820800781 mb\n",
      " Calculation count 15583\n",
      "===================================================\n",
      "\n"
     ]
    },
    {
     "name": "stderr",
     "output_type": "stream",
     "text": [
      "NPAI 1/2: 5 unique patterns\n"
     ]
    },
    {
     "name": "stdout",
     "output_type": "stream",
     "text": [
      ">/home/veljko/.local/lib/python3.10/site-packages/spmf/spmf.jar\n",
      "=============  NOSEP v2.46 - STATS =============\n",
      " Number of patterns found: 10574\n",
      " Total time ~ 31878 ms\n",
      " Maximum memory usage : 12.80499267578125 mb\n",
      " Calculation count 22817\n",
      "===================================================\n",
      "\n"
     ]
    },
    {
     "name": "stderr",
     "output_type": "stream",
     "text": [
      "NPAI 2/2: 28 unique patterns\n",
      "--------------------------\n",
      "Genome 25/90: NC_011993\n",
      "No PAI sequences\n",
      "CPAI 1/6: island too large\n"
     ]
    },
    {
     "name": "stdout",
     "output_type": "stream",
     "text": [
      ">/home/veljko/.local/lib/python3.10/site-packages/spmf/spmf.jar\n",
      "=============  NOSEP v2.46 - STATS =============\n",
      " Number of patterns found: 6217\n",
      " Total time ~ 12275 ms\n",
      " Maximum memory usage : 122.13868713378906 mb\n",
      " Calculation count 13995\n",
      "===================================================\n",
      "\n"
     ]
    },
    {
     "name": "stderr",
     "output_type": "stream",
     "text": [
      "CPAI 2/6: 17 unique patterns\n",
      "CPAI 3/6: island too large\n"
     ]
    },
    {
     "name": "stdout",
     "output_type": "stream",
     "text": [
      ">/home/veljko/.local/lib/python3.10/site-packages/spmf/spmf.jar\n",
      "=============  NOSEP v2.46 - STATS =============\n",
      " Number of patterns found: 10535\n",
      " Total time ~ 32877 ms\n",
      " Maximum memory usage : 102.70870971679688 mb\n",
      " Calculation count 22786\n",
      "===================================================\n",
      "\n"
     ]
    },
    {
     "name": "stderr",
     "output_type": "stream",
     "text": [
      "CPAI 4/6: 34 unique patterns\n",
      "CPAI 5/6: island too large\n"
     ]
    },
    {
     "name": "stdout",
     "output_type": "stream",
     "text": [
      ">/home/veljko/.local/lib/python3.10/site-packages/spmf/spmf.jar\n",
      "=============  NOSEP v2.46 - STATS =============\n",
      " Number of patterns found: 13311\n",
      " Total time ~ 51530 ms\n",
      " Maximum memory usage : 84.62779998779297 mb\n",
      " Calculation count 29071\n",
      "===================================================\n",
      "\n"
     ]
    },
    {
     "name": "stderr",
     "output_type": "stream",
     "text": [
      "CPAI 6/6: 36 unique patterns\n"
     ]
    },
    {
     "name": "stdout",
     "output_type": "stream",
     "text": [
      ">/home/veljko/.local/lib/python3.10/site-packages/spmf/spmf.jar\n",
      "=============  NOSEP v2.46 - STATS =============\n",
      " Number of patterns found: 7081\n",
      " Total time ~ 15055 ms\n",
      " Maximum memory usage : 66.64111328125 mb\n",
      " Calculation count 15623\n",
      "===================================================\n",
      "\n"
     ]
    },
    {
     "name": "stderr",
     "output_type": "stream",
     "text": [
      "NPAI 1/1: 3 unique patterns\n",
      "--------------------------\n",
      "Genome 26/90: NC_011419\n",
      "No PAI sequences\n",
      "No CPAI sequences\n"
     ]
    },
    {
     "name": "stdout",
     "output_type": "stream",
     "text": [
      ">/home/veljko/.local/lib/python3.10/site-packages/spmf/spmf.jar\n",
      "=============  NOSEP v2.46 - STATS =============\n",
      " Number of patterns found: 7161\n",
      " Total time ~ 15023 ms\n",
      " Maximum memory usage : 51.55583190917969 mb\n",
      " Calculation count 15782\n",
      "===================================================\n",
      "\n"
     ]
    },
    {
     "name": "stderr",
     "output_type": "stream",
     "text": [
      "NPAI 1/1: 406 unique patterns\n",
      "--------------------------\n",
      "Genome 27/90: NC_013364\n",
      "PAI 1/1: island too large\n"
     ]
    },
    {
     "name": "stdout",
     "output_type": "stream",
     "text": [
      ">/home/veljko/.local/lib/python3.10/site-packages/spmf/spmf.jar\n",
      "=============  NOSEP v2.46 - STATS =============\n",
      " Number of patterns found: 28557\n",
      " Total time ~ 241803 ms\n",
      " Maximum memory usage : 90.20185089111328 mb\n",
      " Calculation count 58509\n",
      "===================================================\n",
      "\n"
     ]
    },
    {
     "name": "stderr",
     "output_type": "stream",
     "text": [
      "CPAI 1/9: 545 unique patterns\n"
     ]
    },
    {
     "name": "stdout",
     "output_type": "stream",
     "text": [
      ">/home/veljko/.local/lib/python3.10/site-packages/spmf/spmf.jar\n",
      "=============  NOSEP v2.46 - STATS =============\n",
      " Number of patterns found: 117527\n",
      " Total time ~ 365801 ms\n",
      " Maximum memory usage : 112.6444091796875 mb\n",
      " Calculation count 125056\n",
      "===================================================\n",
      "\n"
     ]
    },
    {
     "name": "stderr",
     "output_type": "stream",
     "text": [
      "CPAI 2/9: 13 unique patterns\n",
      "CPAI 3/9: island too large\n"
     ]
    },
    {
     "name": "stdout",
     "output_type": "stream",
     "text": [
      ">/home/veljko/.local/lib/python3.10/site-packages/spmf/spmf.jar\n",
      "=============  NOSEP v2.46 - STATS =============\n",
      " Number of patterns found: 10639\n",
      " Total time ~ 33297 ms\n",
      " Maximum memory usage : 94.445068359375 mb\n",
      " Calculation count 23631\n",
      "===================================================\n",
      "\n"
     ]
    },
    {
     "name": "stderr",
     "output_type": "stream",
     "text": [
      "CPAI 4/9: 23 unique patterns\n"
     ]
    },
    {
     "name": "stdout",
     "output_type": "stream",
     "text": [
      ">/home/veljko/.local/lib/python3.10/site-packages/spmf/spmf.jar\n",
      "=============  NOSEP v2.46 - STATS =============\n",
      " Number of patterns found: 139640\n",
      " Total time ~ 1719957 ms\n",
      " Maximum memory usage : 165.58404541015625 mb\n",
      " Calculation count 166795\n",
      "===================================================\n",
      "\n"
     ]
    },
    {
     "name": "stderr",
     "output_type": "stream",
     "text": [
      "CPAI 5/9: 4366 unique patterns\n"
     ]
    },
    {
     "name": "stdout",
     "output_type": "stream",
     "text": [
      ">/home/veljko/.local/lib/python3.10/site-packages/spmf/spmf.jar\n",
      "=============  NOSEP v2.46 - STATS =============\n",
      " Number of patterns found: 11649\n",
      " Total time ~ 42769 ms\n",
      " Maximum memory usage : 46.00676727294922 mb\n",
      " Calculation count 25114\n",
      "===================================================\n",
      "\n"
     ]
    },
    {
     "name": "stderr",
     "output_type": "stream",
     "text": [
      "CPAI 6/9: 41 unique patterns\n",
      "CPAI 7/9: island too large\n"
     ]
    },
    {
     "name": "stdout",
     "output_type": "stream",
     "text": [
      ">/home/veljko/.local/lib/python3.10/site-packages/spmf/spmf.jar\n",
      "=============  NOSEP v2.46 - STATS =============\n",
      " Number of patterns found: 11620\n",
      " Total time ~ 39372 ms\n",
      " Maximum memory usage : 47.354652404785156 mb\n",
      " Calculation count 25095\n",
      "===================================================\n",
      "\n"
     ]
    },
    {
     "name": "stderr",
     "output_type": "stream",
     "text": [
      "CPAI 8/9: 33 unique patterns\n"
     ]
    },
    {
     "name": "stdout",
     "output_type": "stream",
     "text": [
      ">/home/veljko/.local/lib/python3.10/site-packages/spmf/spmf.jar\n",
      "=============  NOSEP v2.46 - STATS =============\n",
      " Number of patterns found: 7271\n",
      " Total time ~ 16696 ms\n",
      " Maximum memory usage : 54.14979553222656 mb\n",
      " Calculation count 16130\n",
      "===================================================\n",
      "\n"
     ]
    },
    {
     "name": "stderr",
     "output_type": "stream",
     "text": [
      "CPAI 9/9: 0 unique patterns\n",
      "No NPAI sequences\n",
      "--------------------------\n",
      "Genome 28/90: NC_007779\n",
      "No PAI sequences\n"
     ]
    },
    {
     "name": "stdout",
     "output_type": "stream",
     "text": [
      ">/home/veljko/.local/lib/python3.10/site-packages/spmf/spmf.jar\n",
      "=============  NOSEP v2.46 - STATS =============\n",
      " Number of patterns found: 7256\n",
      " Total time ~ 15421 ms\n",
      " Maximum memory usage : 78.63363647460938 mb\n",
      " Calculation count 16092\n",
      "===================================================\n",
      "\n"
     ]
    },
    {
     "name": "stderr",
     "output_type": "stream",
     "text": [
      "CPAI 1/4: 9 unique patterns\n"
     ]
    },
    {
     "name": "stdout",
     "output_type": "stream",
     "text": [
      ">/home/veljko/.local/lib/python3.10/site-packages/spmf/spmf.jar\n",
      "=============  NOSEP v2.46 - STATS =============\n",
      " Number of patterns found: 29728\n",
      " Total time ~ 256966 ms\n",
      " Maximum memory usage : 74.70467376708984 mb\n",
      " Calculation count 60260\n",
      "===================================================\n",
      "\n"
     ]
    },
    {
     "name": "stderr",
     "output_type": "stream",
     "text": [
      "CPAI 2/4: 3995 unique patterns\n"
     ]
    },
    {
     "name": "stdout",
     "output_type": "stream",
     "text": [
      ">/home/veljko/.local/lib/python3.10/site-packages/spmf/spmf.jar\n",
      "=============  NOSEP v2.46 - STATS =============\n",
      " Number of patterns found: 8622\n",
      " Total time ~ 23329 ms\n",
      " Maximum memory usage : 121.61064147949219 mb\n",
      " Calculation count 18796\n",
      "===================================================\n",
      "\n"
     ]
    },
    {
     "name": "stderr",
     "output_type": "stream",
     "text": [
      "CPAI 3/4: 24 unique patterns\n"
     ]
    },
    {
     "name": "stdout",
     "output_type": "stream",
     "text": [
      ">/home/veljko/.local/lib/python3.10/site-packages/spmf/spmf.jar\n",
      "=============  NOSEP v2.46 - STATS =============\n",
      " Number of patterns found: 15845\n",
      " Total time ~ 73698 ms\n",
      " Maximum memory usage : 92.55623626708984 mb\n",
      " Calculation count 34978\n",
      "===================================================\n",
      "\n"
     ]
    },
    {
     "name": "stderr",
     "output_type": "stream",
     "text": [
      "CPAI 4/4: 33 unique patterns\n"
     ]
    },
    {
     "name": "stdout",
     "output_type": "stream",
     "text": [
      ">/home/veljko/.local/lib/python3.10/site-packages/spmf/spmf.jar\n",
      "=============  NOSEP v2.46 - STATS =============\n",
      " Number of patterns found: 12719\n",
      " Total time ~ 48116 ms\n",
      " Maximum memory usage : 24.627227783203125 mb\n",
      " Calculation count 27689\n",
      "===================================================\n",
      "\n"
     ]
    },
    {
     "name": "stderr",
     "output_type": "stream",
     "text": [
      "NPAI 1/3: 36 unique patterns\n"
     ]
    },
    {
     "name": "stdout",
     "output_type": "stream",
     "text": [
      ">/home/veljko/.local/lib/python3.10/site-packages/spmf/spmf.jar\n",
      "=============  NOSEP v2.46 - STATS =============\n",
      " Number of patterns found: 8526\n",
      " Total time ~ 21792 ms\n",
      " Maximum memory usage : 72.13862609863281 mb\n",
      " Calculation count 18586\n",
      "===================================================\n",
      "\n"
     ]
    },
    {
     "name": "stderr",
     "output_type": "stream",
     "text": [
      "NPAI 2/3: 17 unique patterns\n"
     ]
    },
    {
     "name": "stdout",
     "output_type": "stream",
     "text": [
      ">/home/veljko/.local/lib/python3.10/site-packages/spmf/spmf.jar\n",
      "=============  NOSEP v2.46 - STATS =============\n",
      " Number of patterns found: 15137\n",
      " Total time ~ 63884 ms\n",
      " Maximum memory usage : 107.63053894042969 mb\n",
      " Calculation count 32408\n",
      "===================================================\n",
      "\n"
     ]
    },
    {
     "name": "stderr",
     "output_type": "stream",
     "text": [
      "NPAI 3/3: 64 unique patterns\n",
      "--------------------------\n",
      "Genome 29/90: NC_017645\n",
      "No PAI sequences\n"
     ]
    },
    {
     "name": "stdout",
     "output_type": "stream",
     "text": [
      ">/home/veljko/.local/lib/python3.10/site-packages/spmf/spmf.jar\n",
      "=============  NOSEP v2.46 - STATS =============\n",
      " Number of patterns found: 33440\n",
      " Total time ~ 132488 ms\n",
      " Maximum memory usage : 142.1493148803711 mb\n",
      " Calculation count 45051\n",
      "===================================================\n",
      "\n"
     ]
    },
    {
     "name": "stderr",
     "output_type": "stream",
     "text": [
      "CPAI 1/2: 23690 unique patterns\n"
     ]
    },
    {
     "name": "stdout",
     "output_type": "stream",
     "text": [
      ">/home/veljko/.local/lib/python3.10/site-packages/spmf/spmf.jar\n",
      "=============  NOSEP v2.46 - STATS =============\n",
      " Number of patterns found: 78122\n",
      " Total time ~ 583848 ms\n",
      " Maximum memory usage : 169.06327056884766 mb\n",
      " Calculation count 99299\n",
      "===================================================\n",
      "\n"
     ]
    },
    {
     "name": "stderr",
     "output_type": "stream",
     "text": [
      "CPAI 2/2: 61482 unique patterns\n",
      "No NPAI sequences\n",
      "--------------------------\n",
      "Genome 30/90: NC_013941\n",
      "No PAI sequences\n"
     ]
    },
    {
     "name": "stdout",
     "output_type": "stream",
     "text": [
      ">/home/veljko/.local/lib/python3.10/site-packages/spmf/spmf.jar\n",
      "=============  NOSEP v2.46 - STATS =============\n",
      " Number of patterns found: 28598\n",
      " Total time ~ 238246 ms\n",
      " Maximum memory usage : 51.458900451660156 mb\n",
      " Calculation count 58702\n",
      "===================================================\n",
      "\n"
     ]
    },
    {
     "name": "stderr",
     "output_type": "stream",
     "text": [
      "CPAI 1/5: 183 unique patterns\n",
      "CPAI 2/5: island too large\n"
     ]
    },
    {
     "name": "stdout",
     "output_type": "stream",
     "text": [
      ">/home/veljko/.local/lib/python3.10/site-packages/spmf/spmf.jar\n",
      "=============  NOSEP v2.46 - STATS =============\n",
      " Number of patterns found: 9965\n",
      " Total time ~ 32018 ms\n",
      " Maximum memory usage : 67.14881134033203 mb\n",
      " Calculation count 21849\n",
      "===================================================\n",
      "\n"
     ]
    },
    {
     "name": "stderr",
     "output_type": "stream",
     "text": [
      "CPAI 3/5: 30 unique patterns\n",
      "CPAI 4/5: island too large\n",
      "CPAI 5/5: island too large\n"
     ]
    },
    {
     "name": "stdout",
     "output_type": "stream",
     "text": [
      ">/home/veljko/.local/lib/python3.10/site-packages/spmf/spmf.jar\n",
      "=============  NOSEP v2.46 - STATS =============\n",
      " Number of patterns found: 8715\n",
      " Total time ~ 22195 ms\n",
      " Maximum memory usage : 145.33343505859375 mb\n",
      " Calculation count 19221\n",
      "===================================================\n",
      "\n"
     ]
    },
    {
     "name": "stderr",
     "output_type": "stream",
     "text": [
      "NPAI 1/2: 15 unique patterns\n"
     ]
    },
    {
     "name": "stdout",
     "output_type": "stream",
     "text": [
      ">/home/veljko/.local/lib/python3.10/site-packages/spmf/spmf.jar\n",
      "=============  NOSEP v2.46 - STATS =============\n",
      " Number of patterns found: 11710\n",
      " Total time ~ 39838 ms\n",
      " Maximum memory usage : 36.667388916015625 mb\n",
      " Calculation count 25357\n",
      "===================================================\n",
      "\n"
     ]
    },
    {
     "name": "stderr",
     "output_type": "stream",
     "text": [
      "NPAI 2/2: 34 unique patterns\n",
      "--------------------------\n",
      "Genome 31/90: NC_009790\n",
      "No PAI sequences\n"
     ]
    },
    {
     "name": "stdout",
     "output_type": "stream",
     "text": [
      ">/home/veljko/.local/lib/python3.10/site-packages/spmf/spmf.jar\n",
      "=============  NOSEP v2.46 - STATS =============\n",
      " Number of patterns found: 8529\n",
      " Total time ~ 21218 ms\n",
      " Maximum memory usage : 75.97610473632812 mb\n",
      " Calculation count 18883\n",
      "===================================================\n",
      "\n"
     ]
    },
    {
     "name": "stderr",
     "output_type": "stream",
     "text": [
      "CPAI 1/2: 686 unique patterns\n"
     ]
    },
    {
     "name": "stdout",
     "output_type": "stream",
     "text": [
      ">/home/veljko/.local/lib/python3.10/site-packages/spmf/spmf.jar\n",
      "=============  NOSEP v2.46 - STATS =============\n",
      " Number of patterns found: 11055\n",
      " Total time ~ 38853 ms\n",
      " Maximum memory usage : 64.45407104492188 mb\n",
      " Calculation count 24418\n",
      "===================================================\n",
      "\n"
     ]
    },
    {
     "name": "stderr",
     "output_type": "stream",
     "text": [
      "CPAI 2/2: 358 unique patterns\n",
      "No NPAI sequences\n",
      "--------------------------\n",
      "Genome 32/90: NC_012967\n",
      "No PAI sequences\n"
     ]
    },
    {
     "name": "stdout",
     "output_type": "stream",
     "text": [
      ">/home/veljko/.local/lib/python3.10/site-packages/spmf/spmf.jar\n",
      "=============  NOSEP v2.46 - STATS =============\n",
      " Number of patterns found: 5924\n",
      " Total time ~ 10278 ms\n",
      " Maximum memory usage : 41.59082794189453 mb\n",
      " Calculation count 13110\n",
      "===================================================\n",
      "\n"
     ]
    },
    {
     "name": "stderr",
     "output_type": "stream",
     "text": [
      "CPAI 1/7: 4 unique patterns\n"
     ]
    },
    {
     "name": "stdout",
     "output_type": "stream",
     "text": [
      ">/home/veljko/.local/lib/python3.10/site-packages/spmf/spmf.jar\n",
      "=============  NOSEP v2.46 - STATS =============\n",
      " Number of patterns found: 25824\n",
      " Total time ~ 254944 ms\n",
      " Maximum memory usage : 104.34346771240234 mb\n",
      " Calculation count 51004\n",
      "===================================================\n",
      "\n"
     ]
    },
    {
     "name": "stderr",
     "output_type": "stream",
     "text": [
      "CPAI 2/7: 4568 unique patterns\n"
     ]
    },
    {
     "name": "stdout",
     "output_type": "stream",
     "text": [
      ">/home/veljko/.local/lib/python3.10/site-packages/spmf/spmf.jar\n",
      "=============  NOSEP v2.46 - STATS =============\n",
      " Number of patterns found: 18310\n",
      " Total time ~ 94036 ms\n",
      " Maximum memory usage : 125.95114135742188 mb\n",
      " Calculation count 39663\n",
      "===================================================\n",
      "\n"
     ]
    },
    {
     "name": "stderr",
     "output_type": "stream",
     "text": [
      "CPAI 3/7: 97 unique patterns\n"
     ]
    },
    {
     "name": "stdout",
     "output_type": "stream",
     "text": [
      ">/home/veljko/.local/lib/python3.10/site-packages/spmf/spmf.jar\n",
      "=============  NOSEP v2.46 - STATS =============\n",
      " Number of patterns found: 28946\n",
      " Total time ~ 262456 ms\n",
      " Maximum memory usage : 44.505821228027344 mb\n",
      " Calculation count 61848\n",
      "===================================================\n",
      "\n"
     ]
    },
    {
     "name": "stderr",
     "output_type": "stream",
     "text": [
      "CPAI 4/7: 180 unique patterns\n"
     ]
    },
    {
     "name": "stdout",
     "output_type": "stream",
     "text": [
      ">/home/veljko/.local/lib/python3.10/site-packages/spmf/spmf.jar\n",
      "=============  NOSEP v2.46 - STATS =============\n",
      " Number of patterns found: 8062\n",
      " Total time ~ 18662 ms\n",
      " Maximum memory usage : 23.266578674316406 mb\n",
      " Calculation count 18069\n",
      "===================================================\n",
      "\n"
     ]
    },
    {
     "name": "stderr",
     "output_type": "stream",
     "text": [
      "CPAI 5/7: 14 unique patterns\n"
     ]
    },
    {
     "name": "stdout",
     "output_type": "stream",
     "text": [
      ">/home/veljko/.local/lib/python3.10/site-packages/spmf/spmf.jar\n",
      "=============  NOSEP v2.46 - STATS =============\n",
      " Number of patterns found: 8457\n",
      " Total time ~ 19893 ms\n",
      " Maximum memory usage : 111.54730224609375 mb\n",
      " Calculation count 18266\n",
      "===================================================\n",
      "\n"
     ]
    },
    {
     "name": "stderr",
     "output_type": "stream",
     "text": [
      "CPAI 6/7: 8 unique patterns\n"
     ]
    },
    {
     "name": "stdout",
     "output_type": "stream",
     "text": [
      ">/home/veljko/.local/lib/python3.10/site-packages/spmf/spmf.jar\n",
      "=============  NOSEP v2.46 - STATS =============\n",
      " Number of patterns found: 13490\n",
      " Total time ~ 51153 ms\n",
      " Maximum memory usage : 32.564453125 mb\n",
      " Calculation count 29654\n",
      "===================================================\n",
      "\n"
     ]
    },
    {
     "name": "stderr",
     "output_type": "stream",
     "text": [
      "CPAI 7/7: 56 unique patterns\n"
     ]
    },
    {
     "name": "stdout",
     "output_type": "stream",
     "text": [
      ">/home/veljko/.local/lib/python3.10/site-packages/spmf/spmf.jar\n",
      "=============  NOSEP v2.46 - STATS =============\n",
      " Number of patterns found: 11830\n",
      " Total time ~ 41798 ms\n",
      " Maximum memory usage : 24.805870056152344 mb\n",
      " Calculation count 25745\n",
      "===================================================\n",
      "\n"
     ]
    },
    {
     "name": "stderr",
     "output_type": "stream",
     "text": [
      "NPAI 1/1: 16 unique patterns\n",
      "--------------------------\n",
      "Genome 33/90: NC_017628\n",
      "No PAI sequences\n"
     ]
    },
    {
     "name": "stdout",
     "output_type": "stream",
     "text": [
      ">/home/veljko/.local/lib/python3.10/site-packages/spmf/spmf.jar\n",
      "=============  NOSEP v2.46 - STATS =============\n",
      " Number of patterns found: 30745\n",
      " Total time ~ 287161 ms\n",
      " Maximum memory usage : 116.13095092773438 mb\n",
      " Calculation count 64286\n",
      "===================================================\n",
      "\n"
     ]
    },
    {
     "name": "stderr",
     "output_type": "stream",
     "text": [
      "CPAI 1/8: 97 unique patterns\n"
     ]
    },
    {
     "name": "stdout",
     "output_type": "stream",
     "text": [
      ">/home/veljko/.local/lib/python3.10/site-packages/spmf/spmf.jar\n",
      "=============  NOSEP v2.46 - STATS =============\n",
      " Number of patterns found: 6225\n",
      " Total time ~ 12351 ms\n",
      " Maximum memory usage : 131.07504272460938 mb\n",
      " Calculation count 14009\n",
      "===================================================\n",
      "\n"
     ]
    },
    {
     "name": "stderr",
     "output_type": "stream",
     "text": [
      "CPAI 2/8: 15 unique patterns\n"
     ]
    },
    {
     "name": "stdout",
     "output_type": "stream",
     "text": [
      ">/home/veljko/.local/lib/python3.10/site-packages/spmf/spmf.jar\n",
      "=============  NOSEP v2.46 - STATS =============\n",
      " Number of patterns found: 6413\n",
      " Total time ~ 11636 ms\n",
      " Maximum memory usage : 92.44574737548828 mb\n",
      " Calculation count 13751\n",
      "===================================================\n",
      "\n"
     ]
    },
    {
     "name": "stderr",
     "output_type": "stream",
     "text": [
      "CPAI 3/8: 188 unique patterns\n",
      "CPAI 4/8: island too large\n",
      "CPAI 5/8: island too large\n"
     ]
    },
    {
     "name": "stdout",
     "output_type": "stream",
     "text": [
      ">/home/veljko/.local/lib/python3.10/site-packages/spmf/spmf.jar\n",
      "=============  NOSEP v2.46 - STATS =============\n",
      " Number of patterns found: 24612\n",
      " Total time ~ 201558 ms\n",
      " Maximum memory usage : 78.76282501220703 mb\n",
      " Calculation count 54536\n",
      "===================================================\n",
      "\n"
     ]
    },
    {
     "name": "stderr",
     "output_type": "stream",
     "text": [
      "CPAI 6/8: 56 unique patterns\n",
      "CPAI 7/8: island too large\n"
     ]
    },
    {
     "name": "stdout",
     "output_type": "stream",
     "text": [
      ">/home/veljko/.local/lib/python3.10/site-packages/spmf/spmf.jar\n",
      "=============  NOSEP v2.46 - STATS =============\n",
      " Number of patterns found: 8382\n",
      " Total time ~ 21209 ms\n",
      " Maximum memory usage : 95.46977233886719 mb\n",
      " Calculation count 18394\n",
      "===================================================\n",
      "\n"
     ]
    },
    {
     "name": "stderr",
     "output_type": "stream",
     "text": [
      "CPAI 8/8: 14 unique patterns\n"
     ]
    },
    {
     "name": "stdout",
     "output_type": "stream",
     "text": [
      ">/home/veljko/.local/lib/python3.10/site-packages/spmf/spmf.jar\n",
      "=============  NOSEP v2.46 - STATS =============\n",
      " Number of patterns found: 7089\n",
      " Total time ~ 15883 ms\n",
      " Maximum memory usage : 114.95657348632812 mb\n",
      " Calculation count 15659\n",
      "===================================================\n",
      "\n"
     ]
    },
    {
     "name": "stderr",
     "output_type": "stream",
     "text": [
      "NPAI 1/3: 3 unique patterns\n"
     ]
    },
    {
     "name": "stdout",
     "output_type": "stream",
     "text": [
      ">/home/veljko/.local/lib/python3.10/site-packages/spmf/spmf.jar\n",
      "=============  NOSEP v2.46 - STATS =============\n",
      " Number of patterns found: 10403\n",
      " Total time ~ 33333 ms\n",
      " Maximum memory usage : 65.91382598876953 mb\n",
      " Calculation count 22551\n",
      "===================================================\n",
      "\n"
     ]
    },
    {
     "name": "stderr",
     "output_type": "stream",
     "text": [
      "NPAI 2/3: 35 unique patterns\n"
     ]
    },
    {
     "name": "stdout",
     "output_type": "stream",
     "text": [
      ">/home/veljko/.local/lib/python3.10/site-packages/spmf/spmf.jar\n",
      "=============  NOSEP v2.46 - STATS =============\n",
      " Number of patterns found: 13329\n",
      " Total time ~ 53894 ms\n",
      " Maximum memory usage : 36.745582580566406 mb\n",
      " Calculation count 29034\n",
      "===================================================\n",
      "\n"
     ]
    },
    {
     "name": "stderr",
     "output_type": "stream",
     "text": [
      "NPAI 3/3: 30 unique patterns\n",
      "--------------------------\n",
      "Genome 34/90: NC_009800\n",
      "No PAI sequences\n"
     ]
    },
    {
     "name": "stdout",
     "output_type": "stream",
     "text": [
      ">/home/veljko/.local/lib/python3.10/site-packages/spmf/spmf.jar\n",
      "=============  NOSEP v2.46 - STATS =============\n",
      " Number of patterns found: 28463\n",
      " Total time ~ 247672 ms\n",
      " Maximum memory usage : 158.51205444335938 mb\n",
      " Calculation count 58462\n",
      "===================================================\n",
      "\n"
     ]
    },
    {
     "name": "stderr",
     "output_type": "stream",
     "text": [
      "CPAI 1/4: 187 unique patterns\n",
      "CPAI 2/4: island too large\n"
     ]
    },
    {
     "name": "stdout",
     "output_type": "stream",
     "text": [
      ">/home/veljko/.local/lib/python3.10/site-packages/spmf/spmf.jar\n",
      "=============  NOSEP v2.46 - STATS =============\n",
      " Number of patterns found: 15595\n",
      " Total time ~ 75708 ms\n",
      " Maximum memory usage : 23.116233825683594 mb\n",
      " Calculation count 33881\n",
      "===================================================\n",
      "\n"
     ]
    },
    {
     "name": "stderr",
     "output_type": "stream",
     "text": [
      "CPAI 3/4: 81 unique patterns\n"
     ]
    },
    {
     "name": "stdout",
     "output_type": "stream",
     "text": [
      ">/home/veljko/.local/lib/python3.10/site-packages/spmf/spmf.jar\n",
      "=============  NOSEP v2.46 - STATS =============\n",
      " Number of patterns found: 28020\n",
      " Total time ~ 381151 ms\n",
      " Maximum memory usage : 166.9710235595703 mb\n",
      " Calculation count 60014\n",
      "===================================================\n",
      "\n"
     ]
    },
    {
     "name": "stderr",
     "output_type": "stream",
     "text": [
      "CPAI 4/4: 163 unique patterns\n"
     ]
    },
    {
     "name": "stdout",
     "output_type": "stream",
     "text": [
      ">/home/veljko/.local/lib/python3.10/site-packages/spmf/spmf.jar\n",
      "=============  NOSEP v2.46 - STATS =============\n",
      " Number of patterns found: 11831\n",
      " Total time ~ 45188 ms\n",
      " Maximum memory usage : 65.06117248535156 mb\n",
      " Calculation count 25747\n",
      "===================================================\n",
      "\n"
     ]
    },
    {
     "name": "stderr",
     "output_type": "stream",
     "text": [
      "NPAI 1/1: 17 unique patterns\n",
      "--------------------------\n",
      "Genome 35/90: NC_004431\n",
      "PAI 1/2: island too large\n",
      "PAI 2/2: island too large\n",
      "CPAI 1/12: island too large\n"
     ]
    },
    {
     "name": "stdout",
     "output_type": "stream",
     "text": [
      ">/home/veljko/.local/lib/python3.10/site-packages/spmf/spmf.jar\n",
      "=============  NOSEP v2.46 - STATS =============\n",
      " Number of patterns found: 8014\n",
      " Total time ~ 21088 ms\n",
      " Maximum memory usage : 54.40574645996094 mb\n",
      " Calculation count 17955\n",
      "===================================================\n",
      "\n"
     ]
    },
    {
     "name": "stderr",
     "output_type": "stream",
     "text": [
      "CPAI 2/12: 6 unique patterns\n"
     ]
    },
    {
     "name": "stdout",
     "output_type": "stream",
     "text": [
      ">/home/veljko/.local/lib/python3.10/site-packages/spmf/spmf.jar\n",
      "=============  NOSEP v2.46 - STATS =============\n",
      " Number of patterns found: 6209\n",
      " Total time ~ 12413 ms\n",
      " Maximum memory usage : 126.41644287109375 mb\n",
      " Calculation count 14014\n",
      "===================================================\n",
      "\n"
     ]
    },
    {
     "name": "stderr",
     "output_type": "stream",
     "text": [
      "CPAI 3/12: 15 unique patterns\n"
     ]
    },
    {
     "name": "stdout",
     "output_type": "stream",
     "text": [
      ">/home/veljko/.local/lib/python3.10/site-packages/spmf/spmf.jar\n",
      "=============  NOSEP v2.46 - STATS =============\n",
      " Number of patterns found: 6437\n",
      " Total time ~ 11605 ms\n",
      " Maximum memory usage : 111.59748840332031 mb\n",
      " Calculation count 13821\n",
      "===================================================\n",
      "\n"
     ]
    },
    {
     "name": "stderr",
     "output_type": "stream",
     "text": [
      "CPAI 4/12: 194 unique patterns\n",
      "CPAI 5/12: island too large\n",
      "CPAI 6/12: island too large\n"
     ]
    },
    {
     "name": "stdout",
     "output_type": "stream",
     "text": [
      ">/home/veljko/.local/lib/python3.10/site-packages/spmf/spmf.jar\n",
      "=============  NOSEP v2.46 - STATS =============\n",
      " Number of patterns found: 8070\n",
      " Total time ~ 21691 ms\n",
      " Maximum memory usage : 7.459625244140625 mb\n",
      " Calculation count 18152\n",
      "===================================================\n",
      "\n"
     ]
    },
    {
     "name": "stderr",
     "output_type": "stream",
     "text": [
      "CPAI 7/12: 6 unique patterns\n"
     ]
    },
    {
     "name": "stdout",
     "output_type": "stream",
     "text": [
      ">/home/veljko/.local/lib/python3.10/site-packages/spmf/spmf.jar\n",
      "=============  NOSEP v2.46 - STATS =============\n",
      " Number of patterns found: 13285\n",
      " Total time ~ 58188 ms\n",
      " Maximum memory usage : 115.73846435546875 mb\n",
      " Calculation count 29246\n",
      "===================================================\n",
      "\n"
     ]
    },
    {
     "name": "stderr",
     "output_type": "stream",
     "text": [
      "CPAI 8/12: 11 unique patterns\n",
      "CPAI 9/12: island too large\n",
      "java.lang.NumberFormatException: For input string: \"W\"\n",
      "\tat java.base/java.lang.NumberFormatException.forInputString(NumberFormatException.java:67)\n",
      "\tat java.base/java.lang.Integer.parseInt(Integer.java:662)\n",
      "\tat java.base/java.lang.Integer.parseInt(Integer.java:778)\n",
      "\tat ca.pfv.spmf.algorithms.sequentialpatterns.nosep.AlgoNOSEP.readInputFile(AlgoNOSEP.java:809)\n",
      "\tat ca.pfv.spmf.algorithms.sequentialpatterns.nosep.AlgoNOSEP.runAlgorithm(AlgoNOSEP.java:878)\n",
      "\tat ca.pfv.spmf.algorithmmanager.descriptions.DescriptionAlgoNOSEP.runAlgorithm(DescriptionAlgoNOSEP.java:52)\n",
      "\tat ca.pfv.spmf.gui.CommandProcessor.runAlgorithm(CommandProcessor.java:265)\n",
      "\tat ca.pfv.spmf.gui.Main.processCommandLineArguments(Main.java:151)\n",
      "\tat ca.pfv.spmf.gui.Main.main(Main.java:64)\n",
      "CPAI 10/12: 0 unique patterns\n"
     ]
    },
    {
     "name": "stdout",
     "output_type": "stream",
     "text": [
      ">/home/veljko/.local/lib/python3.10/site-packages/spmf/spmf.jar\n",
      "=============  NOSEP v2.46 - STATS =============\n",
      " Number of patterns found: 0\n",
      " Total time ~ 23 ms\n",
      " Maximum memory usage : 11.018882751464844 mb\n",
      " Calculation count 0\n",
      "===================================================\n",
      "\n",
      ">/home/veljko/.local/lib/python3.10/site-packages/spmf/spmf.jar\n",
      "=============  NOSEP v2.46 - STATS =============\n",
      " Number of patterns found: 11395\n",
      " Total time ~ 39374 ms\n",
      " Maximum memory usage : 34.028289794921875 mb\n",
      " Calculation count 24821\n",
      "===================================================\n",
      "\n"
     ]
    },
    {
     "name": "stderr",
     "output_type": "stream",
     "text": [
      "CPAI 11/12: 14 unique patterns\n",
      "CPAI 12/12: island too large\n"
     ]
    },
    {
     "name": "stdout",
     "output_type": "stream",
     "text": [
      ">/home/veljko/.local/lib/python3.10/site-packages/spmf/spmf.jar\n",
      "=============  NOSEP v2.46 - STATS =============\n",
      " Number of patterns found: 7042\n",
      " Total time ~ 15703 ms\n",
      " Maximum memory usage : 113.40426635742188 mb\n",
      " Calculation count 15468\n",
      "===================================================\n",
      "\n"
     ]
    },
    {
     "name": "stderr",
     "output_type": "stream",
     "text": [
      "NPAI 1/2: 3 unique patterns\n"
     ]
    },
    {
     "name": "stdout",
     "output_type": "stream",
     "text": [
      ">/home/veljko/.local/lib/python3.10/site-packages/spmf/spmf.jar\n",
      "=============  NOSEP v2.46 - STATS =============\n",
      " Number of patterns found: 10547\n",
      " Total time ~ 33438 ms\n",
      " Maximum memory usage : 126.32655334472656 mb\n",
      " Calculation count 22826\n",
      "===================================================\n",
      "\n"
     ]
    },
    {
     "name": "stderr",
     "output_type": "stream",
     "text": [
      "NPAI 2/2: 22 unique patterns\n",
      "--------------------------\n",
      "Genome 36/90: NC_017625\n",
      "No PAI sequences\n"
     ]
    },
    {
     "name": "stdout",
     "output_type": "stream",
     "text": [
      ">/home/veljko/.local/lib/python3.10/site-packages/spmf/spmf.jar\n",
      "=============  NOSEP v2.46 - STATS =============\n",
      " Number of patterns found: 8622\n",
      " Total time ~ 22390 ms\n",
      " Maximum memory usage : 24.66070556640625 mb\n",
      " Calculation count 18796\n",
      "===================================================\n",
      "\n"
     ]
    },
    {
     "name": "stderr",
     "output_type": "stream",
     "text": [
      "CPAI 1/3: 20 unique patterns\n"
     ]
    },
    {
     "name": "stdout",
     "output_type": "stream",
     "text": [
      ">/home/veljko/.local/lib/python3.10/site-packages/spmf/spmf.jar\n",
      "=============  NOSEP v2.46 - STATS =============\n",
      " Number of patterns found: 29732\n",
      " Total time ~ 256653 ms\n",
      " Maximum memory usage : 89.56580352783203 mb\n",
      " Calculation count 60254\n",
      "===================================================\n",
      "\n"
     ]
    },
    {
     "name": "stderr",
     "output_type": "stream",
     "text": [
      "CPAI 2/3: 3992 unique patterns\n"
     ]
    },
    {
     "name": "stdout",
     "output_type": "stream",
     "text": [
      ">/home/veljko/.local/lib/python3.10/site-packages/spmf/spmf.jar\n",
      "=============  NOSEP v2.46 - STATS =============\n",
      " Number of patterns found: 6457\n",
      " Total time ~ 12114 ms\n",
      " Maximum memory usage : 118.26052856445312 mb\n",
      " Calculation count 13807\n",
      "===================================================\n",
      "\n"
     ]
    },
    {
     "name": "stderr",
     "output_type": "stream",
     "text": [
      "CPAI 3/3: 6 unique patterns\n"
     ]
    },
    {
     "name": "stdout",
     "output_type": "stream",
     "text": [
      ">/home/veljko/.local/lib/python3.10/site-packages/spmf/spmf.jar\n",
      "=============  NOSEP v2.46 - STATS =============\n",
      " Number of patterns found: 15096\n",
      " Total time ~ 67342 ms\n",
      " Maximum memory usage : 157.75184631347656 mb\n",
      " Calculation count 32346\n",
      "===================================================\n",
      "\n"
     ]
    },
    {
     "name": "stderr",
     "output_type": "stream",
     "text": [
      "NPAI 1/3: 68 unique patterns\n"
     ]
    },
    {
     "name": "stdout",
     "output_type": "stream",
     "text": [
      ">/home/veljko/.local/lib/python3.10/site-packages/spmf/spmf.jar\n",
      "=============  NOSEP v2.46 - STATS =============\n",
      " Number of patterns found: 8525\n",
      " Total time ~ 22043 ms\n",
      " Maximum memory usage : 24.922271728515625 mb\n",
      " Calculation count 18579\n",
      "===================================================\n",
      "\n"
     ]
    },
    {
     "name": "stderr",
     "output_type": "stream",
     "text": [
      "NPAI 2/3: 18 unique patterns\n"
     ]
    },
    {
     "name": "stdout",
     "output_type": "stream",
     "text": [
      ">/home/veljko/.local/lib/python3.10/site-packages/spmf/spmf.jar\n",
      "=============  NOSEP v2.46 - STATS =============\n",
      " Number of patterns found: 12718\n",
      " Total time ~ 47784 ms\n",
      " Maximum memory usage : 62.085289001464844 mb\n",
      " Calculation count 27688\n",
      "===================================================\n",
      "\n"
     ]
    },
    {
     "name": "stderr",
     "output_type": "stream",
     "text": [
      "NPAI 3/3: 37 unique patterns\n",
      "--------------------------\n",
      "Genome 37/90: NC_013354\n",
      "No PAI sequences\n"
     ]
    },
    {
     "name": "stdout",
     "output_type": "stream",
     "text": [
      ">/home/veljko/.local/lib/python3.10/site-packages/spmf/spmf.jar\n",
      "=============  NOSEP v2.46 - STATS =============\n",
      " Number of patterns found: 115415\n",
      " Total time ~ 825164 ms\n",
      " Maximum memory usage : 146.5851287841797 mb\n",
      " Calculation count 131305\n",
      "===================================================\n",
      "\n"
     ]
    },
    {
     "name": "stderr",
     "output_type": "stream",
     "text": [
      "CPAI 1/1: 1406 unique patterns\n",
      "No NPAI sequences\n",
      "--------------------------\n",
      "Genome 38/90: NC_018658\n",
      "No PAI sequences\n",
      "CPAI 1/13: island too large\n",
      "CPAI 2/13: island too large\n"
     ]
    },
    {
     "name": "stdout",
     "output_type": "stream",
     "text": [
      ">/home/veljko/.local/lib/python3.10/site-packages/spmf/spmf.jar\n",
      "=============  NOSEP v2.46 - STATS =============\n",
      " Number of patterns found: 8782\n",
      " Total time ~ 23524 ms\n",
      " Maximum memory usage : 77.55497741699219 mb\n",
      " Calculation count 19230\n",
      "===================================================\n",
      "\n"
     ]
    },
    {
     "name": "stderr",
     "output_type": "stream",
     "text": [
      "CPAI 3/13: 0 unique patterns\n"
     ]
    },
    {
     "name": "stdout",
     "output_type": "stream",
     "text": [
      ">/home/veljko/.local/lib/python3.10/site-packages/spmf/spmf.jar\n",
      "=============  NOSEP v2.46 - STATS =============\n",
      " Number of patterns found: 13963\n",
      " Total time ~ 63461 ms\n",
      " Maximum memory usage : 86.26209259033203 mb\n",
      " Calculation count 30063\n",
      "===================================================\n",
      "\n"
     ]
    },
    {
     "name": "stderr",
     "output_type": "stream",
     "text": [
      "CPAI 4/13: 84 unique patterns\n"
     ]
    },
    {
     "name": "stdout",
     "output_type": "stream",
     "text": [
      ">/home/veljko/.local/lib/python3.10/site-packages/spmf/spmf.jar\n",
      "=============  NOSEP v2.46 - STATS =============\n",
      " Number of patterns found: 10072\n",
      " Total time ~ 31958 ms\n",
      " Maximum memory usage : 22.728233337402344 mb\n",
      " Calculation count 22464\n",
      "===================================================\n",
      "\n"
     ]
    },
    {
     "name": "stderr",
     "output_type": "stream",
     "text": [
      "CPAI 5/13: 27 unique patterns\n",
      "CPAI 6/13: island too large\n"
     ]
    },
    {
     "name": "stdout",
     "output_type": "stream",
     "text": [
      ">/home/veljko/.local/lib/python3.10/site-packages/spmf/spmf.jar\n",
      "=============  NOSEP v2.46 - STATS =============\n",
      " Number of patterns found: 21674\n",
      " Total time ~ 141843 ms\n",
      " Maximum memory usage : 35.99540710449219 mb\n",
      " Calculation count 47157\n",
      "===================================================\n",
      "\n"
     ]
    },
    {
     "name": "stderr",
     "output_type": "stream",
     "text": [
      "CPAI 7/13: 67 unique patterns\n"
     ]
    },
    {
     "name": "stdout",
     "output_type": "stream",
     "text": [
      ">/home/veljko/.local/lib/python3.10/site-packages/spmf/spmf.jar\n",
      "=============  NOSEP v2.46 - STATS =============\n",
      " Number of patterns found: 6434\n",
      " Total time ~ 13778 ms\n",
      " Maximum memory usage : 8.345565795898438 mb\n",
      " Calculation count 14265\n",
      "===================================================\n",
      "\n"
     ]
    },
    {
     "name": "stderr",
     "output_type": "stream",
     "text": [
      "CPAI 8/13: 8 unique patterns\n"
     ]
    },
    {
     "name": "stdout",
     "output_type": "stream",
     "text": [
      ">/home/veljko/.local/lib/python3.10/site-packages/spmf/spmf.jar\n",
      "=============  NOSEP v2.46 - STATS =============\n",
      " Number of patterns found: 19150\n",
      " Total time ~ 106732 ms\n",
      " Maximum memory usage : 109.85042572021484 mb\n",
      " Calculation count 40930\n",
      "===================================================\n",
      "\n"
     ]
    },
    {
     "name": "stderr",
     "output_type": "stream",
     "text": [
      "CPAI 9/13: 648 unique patterns\n"
     ]
    },
    {
     "name": "stdout",
     "output_type": "stream",
     "text": [
      ">/home/veljko/.local/lib/python3.10/site-packages/spmf/spmf.jar\n",
      "=============  NOSEP v2.46 - STATS =============\n",
      " Number of patterns found: 28263\n",
      " Total time ~ 235121 ms\n",
      " Maximum memory usage : 171.02268981933594 mb\n",
      " Calculation count 58222\n",
      "===================================================\n",
      "\n"
     ]
    },
    {
     "name": "stderr",
     "output_type": "stream",
     "text": [
      "CPAI 10/13: 122 unique patterns\n"
     ]
    },
    {
     "name": "stdout",
     "output_type": "stream",
     "text": [
      ">/home/veljko/.local/lib/python3.10/site-packages/spmf/spmf.jar\n",
      "=============  NOSEP v2.46 - STATS =============\n",
      " Number of patterns found: 19160\n",
      " Total time ~ 111763 ms\n",
      " Maximum memory usage : 73.63957214355469 mb\n",
      " Calculation count 41961\n",
      "===================================================\n",
      "\n"
     ]
    },
    {
     "name": "stderr",
     "output_type": "stream",
     "text": [
      "CPAI 11/13: 56 unique patterns\n"
     ]
    },
    {
     "name": "stdout",
     "output_type": "stream",
     "text": [
      ">/home/veljko/.local/lib/python3.10/site-packages/spmf/spmf.jar\n",
      "=============  NOSEP v2.46 - STATS =============\n",
      " Number of patterns found: 13073\n",
      " Total time ~ 53289 ms\n",
      " Maximum memory usage : 46.6177978515625 mb\n",
      " Calculation count 29105\n",
      "===================================================\n",
      "\n"
     ]
    },
    {
     "name": "stderr",
     "output_type": "stream",
     "text": [
      "CPAI 12/13: 21 unique patterns\n",
      "CPAI 13/13: island too large\n"
     ]
    },
    {
     "name": "stdout",
     "output_type": "stream",
     "text": [
      ">/home/veljko/.local/lib/python3.10/site-packages/spmf/spmf.jar\n",
      "=============  NOSEP v2.46 - STATS =============\n",
      " Number of patterns found: 11657\n",
      " Total time ~ 42413 ms\n",
      " Maximum memory usage : 66.77275848388672 mb\n",
      " Calculation count 25371\n",
      "===================================================\n",
      "\n"
     ]
    },
    {
     "name": "stderr",
     "output_type": "stream",
     "text": [
      "NPAI 1/1: 12 unique patterns\n",
      "--------------------------\n",
      "Genome 39/90: NC_013008\n",
      "No PAI sequences\n"
     ]
    },
    {
     "name": "stdout",
     "output_type": "stream",
     "text": [
      ">/home/veljko/.local/lib/python3.10/site-packages/spmf/spmf.jar\n",
      "=============  NOSEP v2.46 - STATS =============\n",
      " Number of patterns found: 28699\n",
      " Total time ~ 244108 ms\n",
      " Maximum memory usage : 48.42967224121094 mb\n",
      " Calculation count 58813\n",
      "===================================================\n",
      "\n"
     ]
    },
    {
     "name": "stderr",
     "output_type": "stream",
     "text": [
      "CPAI 1/6: 279 unique patterns\n",
      "CPAI 2/6: island too large\n"
     ]
    },
    {
     "name": "stdout",
     "output_type": "stream",
     "text": [
      ">/home/veljko/.local/lib/python3.10/site-packages/spmf/spmf.jar\n",
      "=============  NOSEP v2.46 - STATS =============\n",
      " Number of patterns found: 37246\n",
      " Total time ~ 372014 ms\n",
      " Maximum memory usage : 92.70018005371094 mb\n",
      " Calculation count 71439\n",
      "===================================================\n",
      "\n"
     ]
    },
    {
     "name": "stderr",
     "output_type": "stream",
     "text": [
      "CPAI 3/6: 7523 unique patterns\n"
     ]
    },
    {
     "name": "stdout",
     "output_type": "stream",
     "text": [
      ">/home/veljko/.local/lib/python3.10/site-packages/spmf/spmf.jar\n",
      "=============  NOSEP v2.46 - STATS =============\n",
      " Number of patterns found: 20625\n",
      " Total time ~ 134821 ms\n",
      " Maximum memory usage : 156.44483947753906 mb\n",
      " Calculation count 44740\n",
      "===================================================\n",
      "\n"
     ]
    },
    {
     "name": "stderr",
     "output_type": "stream",
     "text": [
      "CPAI 4/6: 110 unique patterns\n"
     ]
    },
    {
     "name": "stdout",
     "output_type": "stream",
     "text": [
      ">/home/veljko/.local/lib/python3.10/site-packages/spmf/spmf.jar\n",
      "=============  NOSEP v2.46 - STATS =============\n",
      " Number of patterns found: 17893\n",
      " Total time ~ 94502 ms\n",
      " Maximum memory usage : 78.3766860961914 mb\n",
      " Calculation count 38742\n",
      "===================================================\n",
      "\n"
     ]
    },
    {
     "name": "stderr",
     "output_type": "stream",
     "text": [
      "CPAI 5/6: 35 unique patterns\n",
      "CPAI 6/6: island too large\n"
     ]
    },
    {
     "name": "stdout",
     "output_type": "stream",
     "text": [
      ">/home/veljko/.local/lib/python3.10/site-packages/spmf/spmf.jar\n",
      "=============  NOSEP v2.46 - STATS =============\n",
      " Number of patterns found: 11701\n",
      " Total time ~ 40984 ms\n",
      " Maximum memory usage : 30.587669372558594 mb\n",
      " Calculation count 25341\n",
      "===================================================\n",
      "\n"
     ]
    },
    {
     "name": "stderr",
     "output_type": "stream",
     "text": [
      "NPAI 1/1: 30 unique patterns\n",
      "--------------------------\n",
      "Genome 40/90: NC_013361\n",
      "PAI 1/1: island too large\n",
      "CPAI 1/6: island too large\n",
      "CPAI 2/6: island too large\n"
     ]
    },
    {
     "name": "stdout",
     "output_type": "stream",
     "text": [
      ">/home/veljko/.local/lib/python3.10/site-packages/spmf/spmf.jar\n",
      "=============  NOSEP v2.46 - STATS =============\n",
      " Number of patterns found: 10829\n",
      " Total time ~ 36713 ms\n",
      " Maximum memory usage : 97.55307006835938 mb\n",
      " Calculation count 23788\n",
      "===================================================\n",
      "\n"
     ]
    },
    {
     "name": "stderr",
     "output_type": "stream",
     "text": [
      "CPAI 3/6: 16 unique patterns\n"
     ]
    },
    {
     "name": "stdout",
     "output_type": "stream",
     "text": [
      ">/home/veljko/.local/lib/python3.10/site-packages/spmf/spmf.jar\n",
      "=============  NOSEP v2.46 - STATS =============\n",
      " Number of patterns found: 17244\n",
      " Total time ~ 89538 ms\n",
      " Maximum memory usage : 24.037857055664062 mb\n",
      " Calculation count 37526\n",
      "===================================================\n",
      "\n"
     ]
    },
    {
     "name": "stderr",
     "output_type": "stream",
     "text": [
      "CPAI 4/6: 58 unique patterns\n",
      "CPAI 5/6: island too large\n",
      "CPAI 6/6: island too large\n"
     ]
    },
    {
     "name": "stdout",
     "output_type": "stream",
     "text": [
      ">/home/veljko/.local/lib/python3.10/site-packages/spmf/spmf.jar\n",
      "=============  NOSEP v2.46 - STATS =============\n",
      " Number of patterns found: 19899\n",
      " Total time ~ 117823 ms\n",
      " Maximum memory usage : 117.57764434814453 mb\n",
      " Calculation count 43591\n",
      "===================================================\n",
      "\n"
     ]
    },
    {
     "name": "stderr",
     "output_type": "stream",
     "text": [
      "NPAI 1/1: 44 unique patterns\n",
      "--------------------------\n",
      "Genome 41/90: NC_009838\n",
      "No PAI sequences\n"
     ]
    },
    {
     "name": "stdout",
     "output_type": "stream",
     "text": [
      ">/home/veljko/.local/lib/python3.10/site-packages/spmf/spmf.jar\n",
      "=============  NOSEP v2.46 - STATS =============\n",
      " Number of patterns found: 22189\n",
      " Total time ~ 111635 ms\n",
      " Maximum memory usage : 113.8172607421875 mb\n",
      " Calculation count 41143\n",
      "===================================================\n",
      "\n"
     ]
    },
    {
     "name": "stderr",
     "output_type": "stream",
     "text": [
      "CPAI 1/1: 7282 unique patterns\n",
      "No NPAI sequences\n",
      "--------------------------\n",
      "Genome 42/90: NC_018659\n",
      "No PAI sequences\n"
     ]
    },
    {
     "name": "stdout",
     "output_type": "stream",
     "text": [
      ">/home/veljko/.local/lib/python3.10/site-packages/spmf/spmf.jar\n",
      "=============  NOSEP v2.46 - STATS =============\n",
      " Number of patterns found: 9907\n",
      " Total time ~ 27223 ms\n",
      " Maximum memory usage : 115.08271026611328 mb\n",
      " Calculation count 21094\n",
      "===================================================\n",
      "\n"
     ]
    },
    {
     "name": "stderr",
     "output_type": "stream",
     "text": [
      "CPAI 1/1: 1361 unique patterns\n",
      "No NPAI sequences\n",
      "--------------------------\n",
      "Genome 43/90: NC_008563\n"
     ]
    },
    {
     "name": "stdout",
     "output_type": "stream",
     "text": [
      ">/home/veljko/.local/lib/python3.10/site-packages/spmf/spmf.jar\n",
      "=============  NOSEP v2.46 - STATS =============\n",
      " Number of patterns found: 22296\n",
      " Total time ~ 147335 ms\n",
      " Maximum memory usage : 146.25823211669922 mb\n",
      " Calculation count 48281\n",
      "===================================================\n",
      "\n"
     ]
    },
    {
     "name": "stderr",
     "output_type": "stream",
     "text": [
      "PAI 1/5: 61 unique patterns\n"
     ]
    },
    {
     "name": "stdout",
     "output_type": "stream",
     "text": [
      ">/home/veljko/.local/lib/python3.10/site-packages/spmf/spmf.jar\n",
      "=============  NOSEP v2.46 - STATS =============\n",
      " Number of patterns found: 15246\n",
      " Total time ~ 63706 ms\n",
      " Maximum memory usage : 99.49860382080078 mb\n",
      " Calculation count 32146\n",
      "===================================================\n",
      "\n"
     ]
    },
    {
     "name": "stderr",
     "output_type": "stream",
     "text": [
      "PAI 2/5: 649 unique patterns\n",
      "PAI 3/5: island too large\n",
      "PAI 4/5: island too large\n"
     ]
    },
    {
     "name": "stdout",
     "output_type": "stream",
     "text": [
      ">/home/veljko/.local/lib/python3.10/site-packages/spmf/spmf.jar\n",
      "=============  NOSEP v2.46 - STATS =============\n",
      " Number of patterns found: 11323\n",
      " Total time ~ 36472 ms\n",
      " Maximum memory usage : 58.89714050292969 mb\n",
      " Calculation count 24686\n",
      "===================================================\n",
      "\n"
     ]
    },
    {
     "name": "stderr",
     "output_type": "stream",
     "text": [
      "PAI 5/5: 6 unique patterns\n"
     ]
    },
    {
     "name": "stdout",
     "output_type": "stream",
     "text": [
      ">/home/veljko/.local/lib/python3.10/site-packages/spmf/spmf.jar\n",
      "=============  NOSEP v2.46 - STATS =============\n",
      " Number of patterns found: 25568\n",
      " Total time ~ 205472 ms\n",
      " Maximum memory usage : 179.32259368896484 mb\n",
      " Calculation count 55636\n",
      "===================================================\n",
      "\n"
     ]
    },
    {
     "name": "stderr",
     "output_type": "stream",
     "text": [
      "CPAI 1/7: 86 unique patterns\n"
     ]
    },
    {
     "name": "stdout",
     "output_type": "stream",
     "text": [
      ">/home/veljko/.local/lib/python3.10/site-packages/spmf/spmf.jar\n",
      "=============  NOSEP v2.46 - STATS =============\n",
      " Number of patterns found: 16321\n",
      " Total time ~ 75646 ms\n",
      " Maximum memory usage : 125.8536376953125 mb\n",
      " Calculation count 34552\n",
      "===================================================\n",
      "\n"
     ]
    },
    {
     "name": "stderr",
     "output_type": "stream",
     "text": [
      "CPAI 2/7: 657 unique patterns\n",
      "CPAI 3/7: island too large\n",
      "CPAI 4/7: island too large\n"
     ]
    },
    {
     "name": "stdout",
     "output_type": "stream",
     "text": [
      ">/home/veljko/.local/lib/python3.10/site-packages/spmf/spmf.jar\n",
      "=============  NOSEP v2.46 - STATS =============\n",
      " Number of patterns found: 16606\n",
      " Total time ~ 81716 ms\n",
      " Maximum memory usage : 117.07183074951172 mb\n",
      " Calculation count 36281\n",
      "===================================================\n",
      "\n"
     ]
    },
    {
     "name": "stderr",
     "output_type": "stream",
     "text": [
      "CPAI 5/7: 76 unique patterns\n"
     ]
    },
    {
     "name": "stdout",
     "output_type": "stream",
     "text": [
      ">/home/veljko/.local/lib/python3.10/site-packages/spmf/spmf.jar\n",
      "=============  NOSEP v2.46 - STATS =============\n",
      " Number of patterns found: 11620\n",
      " Total time ~ 41187 ms\n",
      " Maximum memory usage : 83.00338745117188 mb\n",
      " Calculation count 25676\n",
      "===================================================\n",
      "\n"
     ]
    },
    {
     "name": "stderr",
     "output_type": "stream",
     "text": [
      "CPAI 6/7: 240 unique patterns\n"
     ]
    },
    {
     "name": "stdout",
     "output_type": "stream",
     "text": [
      ">/home/veljko/.local/lib/python3.10/site-packages/spmf/spmf.jar\n",
      "=============  NOSEP v2.46 - STATS =============\n",
      " Number of patterns found: 13322\n",
      " Total time ~ 51271 ms\n",
      " Maximum memory usage : 64.86965942382812 mb\n",
      " Calculation count 29017\n",
      "===================================================\n",
      "\n"
     ]
    },
    {
     "name": "stderr",
     "output_type": "stream",
     "text": [
      "CPAI 7/7: 28 unique patterns\n"
     ]
    },
    {
     "name": "stdout",
     "output_type": "stream",
     "text": [
      ">/home/veljko/.local/lib/python3.10/site-packages/spmf/spmf.jar\n",
      "=============  NOSEP v2.46 - STATS =============\n",
      " Number of patterns found: 7089\n",
      " Total time ~ 13816 ms\n",
      " Maximum memory usage : 57.536285400390625 mb\n",
      " Calculation count 15661\n",
      "===================================================\n",
      "\n"
     ]
    },
    {
     "name": "stderr",
     "output_type": "stream",
     "text": [
      "NPAI 1/2: 3 unique patterns\n"
     ]
    },
    {
     "name": "stdout",
     "output_type": "stream",
     "text": [
      ">/home/veljko/.local/lib/python3.10/site-packages/spmf/spmf.jar\n",
      "=============  NOSEP v2.46 - STATS =============\n",
      " Number of patterns found: 10404\n",
      " Total time ~ 33942 ms\n",
      " Maximum memory usage : 14.564476013183594 mb\n",
      " Calculation count 22554\n",
      "===================================================\n",
      "\n"
     ]
    },
    {
     "name": "stderr",
     "output_type": "stream",
     "text": [
      "NPAI 2/2: 33 unique patterns\n",
      "--------------------------\n",
      "Genome 44/90: NC_013655\n",
      "No PAI sequences\n",
      "No CPAI sequences\n"
     ]
    },
    {
     "name": "stdout",
     "output_type": "stream",
     "text": [
      ">/home/veljko/.local/lib/python3.10/site-packages/spmf/spmf.jar\n",
      "=============  NOSEP v2.46 - STATS =============\n",
      " Number of patterns found: 43669\n",
      " Total time ~ 190760 ms\n",
      " Maximum memory usage : 169.01439666748047 mb\n",
      " Calculation count 55605\n",
      "===================================================\n",
      "\n"
     ]
    },
    {
     "name": "stderr",
     "output_type": "stream",
     "text": [
      "NPAI 1/1: 33970 unique patterns\n",
      "--------------------------\n",
      "Genome 45/90: NC_012971\n",
      "No PAI sequences\n"
     ]
    },
    {
     "name": "stdout",
     "output_type": "stream",
     "text": [
      ">/home/veljko/.local/lib/python3.10/site-packages/spmf/spmf.jar\n",
      "=============  NOSEP v2.46 - STATS =============\n",
      " Number of patterns found: 5924\n",
      " Total time ~ 11456 ms\n",
      " Maximum memory usage : 75.7199935913086 mb\n",
      " Calculation count 13110\n",
      "===================================================\n",
      "\n"
     ]
    },
    {
     "name": "stderr",
     "output_type": "stream",
     "text": [
      "CPAI 1/7: 5 unique patterns\n"
     ]
    },
    {
     "name": "stdout",
     "output_type": "stream",
     "text": [
      ">/home/veljko/.local/lib/python3.10/site-packages/spmf/spmf.jar\n",
      "=============  NOSEP v2.46 - STATS =============\n",
      " Number of patterns found: 24857\n",
      " Total time ~ 165064 ms\n",
      " Maximum memory usage : 148.6097640991211 mb\n",
      " Calculation count 48828\n",
      "===================================================\n",
      "\n"
     ]
    },
    {
     "name": "stderr",
     "output_type": "stream",
     "text": [
      "CPAI 2/7: 4568 unique patterns\n"
     ]
    },
    {
     "name": "stdout",
     "output_type": "stream",
     "text": [
      ">/home/veljko/.local/lib/python3.10/site-packages/spmf/spmf.jar\n",
      "=============  NOSEP v2.46 - STATS =============\n",
      " Number of patterns found: 9338\n",
      " Total time ~ 27027 ms\n",
      " Maximum memory usage : 36.01063537597656 mb\n",
      " Calculation count 20473\n",
      "===================================================\n",
      "\n"
     ]
    },
    {
     "name": "stderr",
     "output_type": "stream",
     "text": [
      "CPAI 3/7: 43 unique patterns\n"
     ]
    },
    {
     "name": "stdout",
     "output_type": "stream",
     "text": [
      ">/home/veljko/.local/lib/python3.10/site-packages/spmf/spmf.jar\n",
      "=============  NOSEP v2.46 - STATS =============\n",
      " Number of patterns found: 28946\n",
      " Total time ~ 274306 ms\n",
      " Maximum memory usage : 153.9196548461914 mb\n",
      " Calculation count 61848\n",
      "===================================================\n",
      "\n"
     ]
    },
    {
     "name": "stderr",
     "output_type": "stream",
     "text": [
      "CPAI 4/7: 185 unique patterns\n"
     ]
    },
    {
     "name": "stdout",
     "output_type": "stream",
     "text": [
      ">/home/veljko/.local/lib/python3.10/site-packages/spmf/spmf.jar\n",
      "=============  NOSEP v2.46 - STATS =============\n",
      " Number of patterns found: 8062\n",
      " Total time ~ 19521 ms\n",
      " Maximum memory usage : 82.49846649169922 mb\n",
      " Calculation count 18069\n",
      "===================================================\n",
      "\n"
     ]
    },
    {
     "name": "stderr",
     "output_type": "stream",
     "text": [
      "CPAI 5/7: 15 unique patterns\n"
     ]
    },
    {
     "name": "stdout",
     "output_type": "stream",
     "text": [
      ">/home/veljko/.local/lib/python3.10/site-packages/spmf/spmf.jar\n",
      "=============  NOSEP v2.46 - STATS =============\n",
      " Number of patterns found: 8457\n",
      " Total time ~ 21425 ms\n",
      " Maximum memory usage : 50.10685729980469 mb\n",
      " Calculation count 18266\n",
      "===================================================\n",
      "\n"
     ]
    },
    {
     "name": "stderr",
     "output_type": "stream",
     "text": [
      "CPAI 6/7: 10 unique patterns\n"
     ]
    },
    {
     "name": "stdout",
     "output_type": "stream",
     "text": [
      ">/home/veljko/.local/lib/python3.10/site-packages/spmf/spmf.jar\n",
      "=============  NOSEP v2.46 - STATS =============\n",
      " Number of patterns found: 13490\n",
      " Total time ~ 53799 ms\n",
      " Maximum memory usage : 40.027671813964844 mb\n",
      " Calculation count 29654\n",
      "===================================================\n",
      "\n"
     ]
    },
    {
     "name": "stderr",
     "output_type": "stream",
     "text": [
      "CPAI 7/7: 57 unique patterns\n"
     ]
    },
    {
     "name": "stdout",
     "output_type": "stream",
     "text": [
      ">/home/veljko/.local/lib/python3.10/site-packages/spmf/spmf.jar\n",
      "=============  NOSEP v2.46 - STATS =============\n",
      " Number of patterns found: 11830\n",
      " Total time ~ 40277 ms\n",
      " Maximum memory usage : 27.003509521484375 mb\n",
      " Calculation count 25745\n",
      "===================================================\n",
      "\n"
     ]
    },
    {
     "name": "stderr",
     "output_type": "stream",
     "text": [
      "NPAI 1/1: 17 unique patterns\n",
      "--------------------------\n",
      "Genome 46/90: NC_017907\n",
      "No PAI sequences\n",
      "No CPAI sequences\n"
     ]
    },
    {
     "name": "stdout",
     "output_type": "stream",
     "text": [
      ">/home/veljko/.local/lib/python3.10/site-packages/spmf/spmf.jar\n",
      "=============  NOSEP v2.46 - STATS =============\n",
      " Number of patterns found: 6682\n",
      " Total time ~ 13635 ms\n",
      " Maximum memory usage : 154.93780517578125 mb\n",
      " Calculation count 14407\n",
      "===================================================\n",
      "\n"
     ]
    },
    {
     "name": "stderr",
     "output_type": "stream",
     "text": [
      "NPAI 1/1: 450 unique patterns\n",
      "--------------------------\n",
      "Genome 47/90: NC_013369\n",
      "No PAI sequences\n",
      "No CPAI sequences\n"
     ]
    },
    {
     "name": "stdout",
     "output_type": "stream",
     "text": [
      ">/home/veljko/.local/lib/python3.10/site-packages/spmf/spmf.jar\n",
      "=============  NOSEP v2.46 - STATS =============\n",
      " Number of patterns found: 11222\n",
      " Total time ~ 21026 ms\n",
      " Maximum memory usage : 103.64030456542969 mb\n",
      " Calculation count 19352\n",
      "===================================================\n",
      "\n"
     ]
    },
    {
     "name": "stderr",
     "output_type": "stream",
     "text": [
      "NPAI 1/1: 375 unique patterns\n",
      "--------------------------\n",
      "Genome 48/90: NC_013366\n",
      "No PAI sequences\n",
      "No CPAI sequences\n"
     ]
    },
    {
     "name": "stdout",
     "output_type": "stream",
     "text": [
      ">/home/veljko/.local/lib/python3.10/site-packages/spmf/spmf.jar\n",
      "=============  NOSEP v2.46 - STATS =============\n",
      " Number of patterns found: 8176\n",
      " Total time ~ 19377 ms\n",
      " Maximum memory usage : 83.16844940185547 mb\n",
      " Calculation count 17705\n",
      "===================================================\n",
      "\n"
     ]
    },
    {
     "name": "stderr",
     "output_type": "stream",
     "text": [
      "NPAI 1/2: 810 unique patterns\n"
     ]
    },
    {
     "name": "stdout",
     "output_type": "stream",
     "text": [
      ">/home/veljko/.local/lib/python3.10/site-packages/spmf/spmf.jar\n",
      "=============  NOSEP v2.46 - STATS =============\n",
      " Number of patterns found: 6269\n",
      " Total time ~ 11741 ms\n",
      " Maximum memory usage : 9.652565002441406 mb\n",
      " Calculation count 13901\n",
      "===================================================\n",
      "\n"
     ]
    },
    {
     "name": "stderr",
     "output_type": "stream",
     "text": [
      "NPAI 2/2: 335 unique patterns\n",
      "--------------------------\n",
      "Genome 49/90: NC_011749\n",
      "No PAI sequences\n"
     ]
    },
    {
     "name": "stdout",
     "output_type": "stream",
     "text": [
      ">/home/veljko/.local/lib/python3.10/site-packages/spmf/spmf.jar\n",
      "=============  NOSEP v2.46 - STATS =============\n",
      " Number of patterns found: 62235\n",
      " Total time ~ 90729 ms\n",
      " Maximum memory usage : 113.79016876220703 mb\n",
      " Calculation count 69444\n",
      "===================================================\n",
      "\n"
     ]
    },
    {
     "name": "stderr",
     "output_type": "stream",
     "text": [
      "CPAI 1/1: 55556 unique patterns\n"
     ]
    },
    {
     "name": "stdout",
     "output_type": "stream",
     "text": [
      ">/home/veljko/.local/lib/python3.10/site-packages/spmf/spmf.jar\n",
      "=============  NOSEP v2.46 - STATS =============\n",
      " Number of patterns found: 7745\n",
      " Total time ~ 18411 ms\n",
      " Maximum memory usage : 96.6200180053711 mb\n",
      " Calculation count 17222\n",
      "===================================================\n",
      "\n"
     ]
    },
    {
     "name": "stderr",
     "output_type": "stream",
     "text": [
      "NPAI 1/1: 383 unique patterns\n",
      "--------------------------\n",
      "Genome 50/90: NC_017642\n",
      "No PAI sequences\n"
     ]
    },
    {
     "name": "stdout",
     "output_type": "stream",
     "text": [
      ">/home/veljko/.local/lib/python3.10/site-packages/spmf/spmf.jar\n",
      "=============  NOSEP v2.46 - STATS =============\n",
      " Number of patterns found: 8409\n",
      " Total time ~ 21531 ms\n",
      " Maximum memory usage : 71.343994140625 mb\n",
      " Calculation count 18334\n",
      "===================================================\n",
      "\n"
     ]
    },
    {
     "name": "stderr",
     "output_type": "stream",
     "text": [
      "CPAI 1/1: 663 unique patterns\n",
      "No NPAI sequences\n",
      "--------------------------\n",
      "Genome 51/90: NC_008253\n",
      "No PAI sequences\n"
     ]
    },
    {
     "name": "stdout",
     "output_type": "stream",
     "text": [
      ">/home/veljko/.local/lib/python3.10/site-packages/spmf/spmf.jar\n",
      "=============  NOSEP v2.46 - STATS =============\n",
      " Number of patterns found: 30717\n",
      " Total time ~ 291096 ms\n",
      " Maximum memory usage : 70.07032012939453 mb\n",
      " Calculation count 64190\n",
      "===================================================\n",
      "\n"
     ]
    },
    {
     "name": "stderr",
     "output_type": "stream",
     "text": [
      "CPAI 1/7: 113 unique patterns\n",
      "CPAI 2/7: island too large\n",
      "CPAI 3/7: island too large\n"
     ]
    },
    {
     "name": "stdout",
     "output_type": "stream",
     "text": [
      ">/home/veljko/.local/lib/python3.10/site-packages/spmf/spmf.jar\n",
      "=============  NOSEP v2.46 - STATS =============\n",
      " Number of patterns found: 10660\n",
      " Total time ~ 34472 ms\n",
      " Maximum memory usage : 102.587646484375 mb\n",
      " Calculation count 23850\n",
      "===================================================\n",
      "\n"
     ]
    },
    {
     "name": "stderr",
     "output_type": "stream",
     "text": [
      "CPAI 4/7: 8 unique patterns\n",
      "CPAI 5/7: island too large\n",
      "CPAI 6/7: island too large\n",
      "CPAI 7/7: island too large\n"
     ]
    },
    {
     "name": "stdout",
     "output_type": "stream",
     "text": [
      ">/home/veljko/.local/lib/python3.10/site-packages/spmf/spmf.jar\n",
      "=============  NOSEP v2.46 - STATS =============\n",
      " Number of patterns found: 7074\n",
      " Total time ~ 15262 ms\n",
      " Maximum memory usage : 15.570724487304688 mb\n",
      " Calculation count 15625\n",
      "===================================================\n",
      "\n"
     ]
    },
    {
     "name": "stderr",
     "output_type": "stream",
     "text": [
      "NPAI 1/3: 3 unique patterns\n"
     ]
    },
    {
     "name": "stdout",
     "output_type": "stream",
     "text": [
      ">/home/veljko/.local/lib/python3.10/site-packages/spmf/spmf.jar\n",
      "=============  NOSEP v2.46 - STATS =============\n",
      " Number of patterns found: 12304\n",
      " Total time ~ 44105 ms\n",
      " Maximum memory usage : 74.99370574951172 mb\n",
      " Calculation count 27118\n",
      "===================================================\n",
      "\n"
     ]
    },
    {
     "name": "stderr",
     "output_type": "stream",
     "text": [
      "NPAI 2/3: 17 unique patterns\n"
     ]
    },
    {
     "name": "stdout",
     "output_type": "stream",
     "text": [
      ">/home/veljko/.local/lib/python3.10/site-packages/spmf/spmf.jar\n",
      "=============  NOSEP v2.46 - STATS =============\n",
      " Number of patterns found: 8333\n",
      " Total time ~ 20593 ms\n",
      " Maximum memory usage : 136.20067596435547 mb\n",
      " Calculation count 18162\n",
      "===================================================\n",
      "\n"
     ]
    },
    {
     "name": "stderr",
     "output_type": "stream",
     "text": [
      "NPAI 3/3: 92 unique patterns\n",
      "--------------------------\n",
      "Genome 52/90: NC_018654\n",
      "No PAI sequences\n",
      "No CPAI sequences\n"
     ]
    },
    {
     "name": "stdout",
     "output_type": "stream",
     "text": [
      ">/home/veljko/.local/lib/python3.10/site-packages/spmf/spmf.jar\n",
      "=============  NOSEP v2.46 - STATS =============\n",
      " Number of patterns found: 7027\n",
      " Total time ~ 14694 ms\n",
      " Maximum memory usage : 76.12528228759766 mb\n",
      " Calculation count 15447\n",
      "===================================================\n",
      "\n"
     ]
    },
    {
     "name": "stderr",
     "output_type": "stream",
     "text": [
      "NPAI 1/1: 532 unique patterns\n",
      "--------------------------\n",
      "Genome 53/90: NC_018661\n",
      "No PAI sequences\n",
      "CPAI 1/13: island too large\n",
      "CPAI 2/13: island too large\n"
     ]
    },
    {
     "name": "stdout",
     "output_type": "stream",
     "text": [
      ">/home/veljko/.local/lib/python3.10/site-packages/spmf/spmf.jar\n",
      "=============  NOSEP v2.46 - STATS =============\n",
      " Number of patterns found: 9370\n",
      " Total time ~ 25028 ms\n",
      " Maximum memory usage : 11.269622802734375 mb\n",
      " Calculation count 20341\n",
      "===================================================\n",
      "\n"
     ]
    },
    {
     "name": "stderr",
     "output_type": "stream",
     "text": [
      "CPAI 3/13: 0 unique patterns\n"
     ]
    },
    {
     "name": "stdout",
     "output_type": "stream",
     "text": [
      ">/home/veljko/.local/lib/python3.10/site-packages/spmf/spmf.jar\n",
      "=============  NOSEP v2.46 - STATS =============\n",
      " Number of patterns found: 13948\n",
      " Total time ~ 58306 ms\n",
      " Maximum memory usage : 15.851425170898438 mb\n",
      " Calculation count 30048\n",
      "===================================================\n",
      "\n"
     ]
    },
    {
     "name": "stderr",
     "output_type": "stream",
     "text": [
      "CPAI 4/13: 67 unique patterns\n"
     ]
    },
    {
     "name": "stdout",
     "output_type": "stream",
     "text": [
      ">/home/veljko/.local/lib/python3.10/site-packages/spmf/spmf.jar\n",
      "=============  NOSEP v2.46 - STATS =============\n",
      " Number of patterns found: 10072\n",
      " Total time ~ 32513 ms\n",
      " Maximum memory usage : 24.68578338623047 mb\n",
      " Calculation count 22464\n",
      "===================================================\n",
      "\n"
     ]
    },
    {
     "name": "stderr",
     "output_type": "stream",
     "text": [
      "CPAI 5/13: 28 unique patterns\n",
      "CPAI 6/13: island too large\n"
     ]
    },
    {
     "name": "stdout",
     "output_type": "stream",
     "text": [
      ">/home/veljko/.local/lib/python3.10/site-packages/spmf/spmf.jar\n",
      "=============  NOSEP v2.46 - STATS =============\n",
      " Number of patterns found: 23940\n",
      " Total time ~ 182939 ms\n",
      " Maximum memory usage : 100.88595581054688 mb\n",
      " Calculation count 51486\n",
      "===================================================\n",
      "\n"
     ]
    },
    {
     "name": "stderr",
     "output_type": "stream",
     "text": [
      "CPAI 7/13: 66 unique patterns\n"
     ]
    },
    {
     "name": "stdout",
     "output_type": "stream",
     "text": [
      ">/home/veljko/.local/lib/python3.10/site-packages/spmf/spmf.jar\n",
      "=============  NOSEP v2.46 - STATS =============\n",
      " Number of patterns found: 6432\n",
      " Total time ~ 13260 ms\n",
      " Maximum memory usage : 53.81450653076172 mb\n",
      " Calculation count 14261\n",
      "===================================================\n",
      "\n"
     ]
    },
    {
     "name": "stderr",
     "output_type": "stream",
     "text": [
      "CPAI 8/13: 9 unique patterns\n"
     ]
    },
    {
     "name": "stdout",
     "output_type": "stream",
     "text": [
      ">/home/veljko/.local/lib/python3.10/site-packages/spmf/spmf.jar\n",
      "=============  NOSEP v2.46 - STATS =============\n",
      " Number of patterns found: 19151\n",
      " Total time ~ 106770 ms\n",
      " Maximum memory usage : 167.28632354736328 mb\n",
      " Calculation count 40931\n",
      "===================================================\n",
      "\n"
     ]
    },
    {
     "name": "stderr",
     "output_type": "stream",
     "text": [
      "CPAI 9/13: 649 unique patterns\n"
     ]
    },
    {
     "name": "stdout",
     "output_type": "stream",
     "text": [
      ">/home/veljko/.local/lib/python3.10/site-packages/spmf/spmf.jar\n",
      "=============  NOSEP v2.46 - STATS =============\n",
      " Number of patterns found: 28263\n",
      " Total time ~ 247374 ms\n",
      " Maximum memory usage : 128.4055938720703 mb\n",
      " Calculation count 58222\n",
      "===================================================\n",
      "\n"
     ]
    },
    {
     "name": "stderr",
     "output_type": "stream",
     "text": [
      "CPAI 10/13: 126 unique patterns\n"
     ]
    },
    {
     "name": "stdout",
     "output_type": "stream",
     "text": [
      ">/home/veljko/.local/lib/python3.10/site-packages/spmf/spmf.jar\n",
      "=============  NOSEP v2.46 - STATS =============\n",
      " Number of patterns found: 19164\n",
      " Total time ~ 115484 ms\n",
      " Maximum memory usage : 161.65829467773438 mb\n",
      " Calculation count 41956\n",
      "===================================================\n",
      "\n"
     ]
    },
    {
     "name": "stderr",
     "output_type": "stream",
     "text": [
      "CPAI 11/13: 55 unique patterns\n"
     ]
    },
    {
     "name": "stdout",
     "output_type": "stream",
     "text": [
      ">/home/veljko/.local/lib/python3.10/site-packages/spmf/spmf.jar\n",
      "=============  NOSEP v2.46 - STATS =============\n",
      " Number of patterns found: 29720\n",
      " Total time ~ 182132 ms\n",
      " Maximum memory usage : 105.90556335449219 mb\n",
      " Calculation count 55207\n",
      "===================================================\n",
      "\n"
     ]
    },
    {
     "name": "stderr",
     "output_type": "stream",
     "text": [
      "CPAI 12/13: 8395 unique patterns\n",
      "CPAI 13/13: island too large\n"
     ]
    },
    {
     "name": "stdout",
     "output_type": "stream",
     "text": [
      ">/home/veljko/.local/lib/python3.10/site-packages/spmf/spmf.jar\n",
      "=============  NOSEP v2.46 - STATS =============\n",
      " Number of patterns found: 11657\n",
      " Total time ~ 42421 ms\n",
      " Maximum memory usage : 61.68004608154297 mb\n",
      " Calculation count 25371\n",
      "===================================================\n",
      "\n"
     ]
    },
    {
     "name": "stderr",
     "output_type": "stream",
     "text": [
      "NPAI 1/1: 12 unique patterns\n",
      "--------------------------\n",
      "Genome 54/90: NC_002128\n",
      "No PAI sequences\n",
      "No CPAI sequences\n"
     ]
    },
    {
     "name": "stdout",
     "output_type": "stream",
     "text": [
      ">/home/veljko/.local/lib/python3.10/site-packages/spmf/spmf.jar\n",
      "=============  NOSEP v2.46 - STATS =============\n",
      " Number of patterns found: 6683\n",
      " Total time ~ 14818 ms\n",
      " Maximum memory usage : 102.45529174804688 mb\n",
      " Calculation count 14408\n",
      "===================================================\n",
      "\n"
     ]
    },
    {
     "name": "stderr",
     "output_type": "stream",
     "text": [
      "NPAI 1/1: 449 unique patterns\n",
      "--------------------------\n",
      "Genome 55/90: NC_013010\n",
      "No PAI sequences\n",
      "No CPAI sequences\n"
     ]
    },
    {
     "name": "stdout",
     "output_type": "stream",
     "text": [
      ">/home/veljko/.local/lib/python3.10/site-packages/spmf/spmf.jar\n",
      "=============  NOSEP v2.46 - STATS =============\n",
      " Number of patterns found: 6642\n",
      " Total time ~ 14300 ms\n",
      " Maximum memory usage : 50.230804443359375 mb\n",
      " Calculation count 14295\n",
      "===================================================\n",
      "\n"
     ]
    },
    {
     "name": "stderr",
     "output_type": "stream",
     "text": [
      "NPAI 1/1: 442 unique patterns\n",
      "--------------------------\n",
      "Genome 56/90: NC_020163\n",
      "No PAI sequences\n"
     ]
    },
    {
     "name": "stdout",
     "output_type": "stream",
     "text": [
      ">/home/veljko/.local/lib/python3.10/site-packages/spmf/spmf.jar\n",
      "=============  NOSEP v2.46 - STATS =============\n",
      " Number of patterns found: 14324\n",
      " Total time ~ 61370 ms\n",
      " Maximum memory usage : 58.37705993652344 mb\n",
      " Calculation count 31259\n",
      "===================================================\n",
      "\n"
     ]
    },
    {
     "name": "stderr",
     "output_type": "stream",
     "text": [
      "CPAI 1/2: 68 unique patterns\n"
     ]
    },
    {
     "name": "stdout",
     "output_type": "stream",
     "text": [
      ">/home/veljko/.local/lib/python3.10/site-packages/spmf/spmf.jar\n",
      "=============  NOSEP v2.46 - STATS =============\n",
      " Number of patterns found: 16188\n",
      " Total time ~ 86506 ms\n",
      " Maximum memory usage : 120.96688842773438 mb\n",
      " Calculation count 35105\n",
      "===================================================\n",
      "\n"
     ]
    },
    {
     "name": "stderr",
     "output_type": "stream",
     "text": [
      "CPAI 2/2: 75 unique patterns\n"
     ]
    },
    {
     "name": "stdout",
     "output_type": "stream",
     "text": [
      ">/home/veljko/.local/lib/python3.10/site-packages/spmf/spmf.jar\n",
      "=============  NOSEP v2.46 - STATS =============\n",
      " Number of patterns found: 19802\n",
      " Total time ~ 108349 ms\n",
      " Maximum memory usage : 172.36903381347656 mb\n",
      " Calculation count 42321\n",
      "===================================================\n",
      "\n"
     ]
    },
    {
     "name": "stderr",
     "output_type": "stream",
     "text": [
      "NPAI 1/1: 81 unique patterns\n",
      "--------------------------\n",
      "Genome 57/90: NC_010498\n",
      "No PAI sequences\n"
     ]
    },
    {
     "name": "stdout",
     "output_type": "stream",
     "text": [
      ">/home/veljko/.local/lib/python3.10/site-packages/spmf/spmf.jar\n",
      "=============  NOSEP v2.46 - STATS =============\n",
      " Number of patterns found: 8441\n",
      " Total time ~ 20269 ms\n",
      " Maximum memory usage : 131.77411651611328 mb\n",
      " Calculation count 18534\n",
      "===================================================\n",
      "\n"
     ]
    },
    {
     "name": "stderr",
     "output_type": "stream",
     "text": [
      "CPAI 1/8: 14 unique patterns\n"
     ]
    },
    {
     "name": "stdout",
     "output_type": "stream",
     "text": [
      ">/home/veljko/.local/lib/python3.10/site-packages/spmf/spmf.jar\n",
      "=============  NOSEP v2.46 - STATS =============\n",
      " Number of patterns found: 19867\n",
      " Total time ~ 115279 ms\n",
      " Maximum memory usage : 169.26190185546875 mb\n",
      " Calculation count 43572\n",
      "===================================================\n",
      "\n"
     ]
    },
    {
     "name": "stderr",
     "output_type": "stream",
     "text": [
      "CPAI 2/8: 52 unique patterns\n"
     ]
    },
    {
     "name": "stdout",
     "output_type": "stream",
     "text": [
      ">/home/veljko/.local/lib/python3.10/site-packages/spmf/spmf.jar\n",
      "=============  NOSEP v2.46 - STATS =============\n",
      " Number of patterns found: 14666\n",
      " Total time ~ 59141 ms\n",
      " Maximum memory usage : 141.82086181640625 mb\n",
      " Calculation count 32080\n",
      "===================================================\n",
      "\n"
     ]
    },
    {
     "name": "stderr",
     "output_type": "stream",
     "text": [
      "CPAI 3/8: 19 unique patterns\n"
     ]
    },
    {
     "name": "stdout",
     "output_type": "stream",
     "text": [
      ">/home/veljko/.local/lib/python3.10/site-packages/spmf/spmf.jar\n",
      "=============  NOSEP v2.46 - STATS =============\n",
      " Number of patterns found: 7193\n",
      " Total time ~ 14417 ms\n",
      " Maximum memory usage : 82.89636993408203 mb\n",
      " Calculation count 15943\n",
      "===================================================\n",
      "\n"
     ]
    },
    {
     "name": "stderr",
     "output_type": "stream",
     "text": [
      "CPAI 4/8: 25 unique patterns\n"
     ]
    },
    {
     "name": "stdout",
     "output_type": "stream",
     "text": [
      ">/home/veljko/.local/lib/python3.10/site-packages/spmf/spmf.jar\n",
      "=============  NOSEP v2.46 - STATS =============\n",
      " Number of patterns found: 11416\n",
      " Total time ~ 37371 ms\n",
      " Maximum memory usage : 107.4710693359375 mb\n",
      " Calculation count 25140\n",
      "===================================================\n",
      "\n"
     ]
    },
    {
     "name": "stderr",
     "output_type": "stream",
     "text": [
      "CPAI 5/8: 20 unique patterns\n",
      "CPAI 6/8: island too large\n"
     ]
    },
    {
     "name": "stdout",
     "output_type": "stream",
     "text": [
      ">/home/veljko/.local/lib/python3.10/site-packages/spmf/spmf.jar\n",
      "=============  NOSEP v2.46 - STATS =============\n",
      " Number of patterns found: 14367\n",
      " Total time ~ 60655 ms\n",
      " Maximum memory usage : 153.50064086914062 mb\n",
      " Calculation count 31878\n",
      "===================================================\n",
      "\n"
     ]
    },
    {
     "name": "stderr",
     "output_type": "stream",
     "text": [
      "CPAI 7/8: 7 unique patterns\n"
     ]
    },
    {
     "name": "stdout",
     "output_type": "stream",
     "text": [
      ">/home/veljko/.local/lib/python3.10/site-packages/spmf/spmf.jar\n",
      "=============  NOSEP v2.46 - STATS =============\n",
      " Number of patterns found: 13322\n",
      " Total time ~ 50267 ms\n",
      " Maximum memory usage : 41.88568115234375 mb\n",
      " Calculation count 29132\n",
      "===================================================\n",
      "\n"
     ]
    },
    {
     "name": "stderr",
     "output_type": "stream",
     "text": [
      "CPAI 8/8: 36 unique patterns\n"
     ]
    },
    {
     "name": "stdout",
     "output_type": "stream",
     "text": [
      ">/home/veljko/.local/lib/python3.10/site-packages/spmf/spmf.jar\n",
      "=============  NOSEP v2.46 - STATS =============\n",
      " Number of patterns found: 8731\n",
      " Total time ~ 21716 ms\n",
      " Maximum memory usage : 35.4525146484375 mb\n",
      " Calculation count 19189\n",
      "===================================================\n",
      "\n"
     ]
    },
    {
     "name": "stderr",
     "output_type": "stream",
     "text": [
      "NPAI 1/2: 8 unique patterns\n"
     ]
    },
    {
     "name": "stdout",
     "output_type": "stream",
     "text": [
      ">/home/veljko/.local/lib/python3.10/site-packages/spmf/spmf.jar\n",
      "=============  NOSEP v2.46 - STATS =============\n",
      " Number of patterns found: 11784\n",
      " Total time ~ 39540 ms\n",
      " Maximum memory usage : 80.8248291015625 mb\n",
      " Calculation count 25557\n",
      "===================================================\n",
      "\n"
     ]
    },
    {
     "name": "stderr",
     "output_type": "stream",
     "text": [
      "NPAI 2/2: 24 unique patterns\n",
      "--------------------------\n",
      "Genome 58/90: NC_017906\n",
      "No PAI sequences\n"
     ]
    },
    {
     "name": "stdout",
     "output_type": "stream",
     "text": [
      ">/home/veljko/.local/lib/python3.10/site-packages/spmf/spmf.jar\n",
      "=============  NOSEP v2.46 - STATS =============\n",
      " Number of patterns found: 28671\n",
      " Total time ~ 240482 ms\n",
      " Maximum memory usage : 59.69195556640625 mb\n",
      " Calculation count 58792\n",
      "===================================================\n",
      "\n"
     ]
    },
    {
     "name": "stderr",
     "output_type": "stream",
     "text": [
      "CPAI 1/6: 247 unique patterns\n",
      "CPAI 2/6: island too large\n"
     ]
    },
    {
     "name": "stdout",
     "output_type": "stream",
     "text": [
      ">/home/veljko/.local/lib/python3.10/site-packages/spmf/spmf.jar\n",
      "=============  NOSEP v2.46 - STATS =============\n",
      " Number of patterns found: 39767\n",
      " Total time ~ 380053 ms\n",
      " Maximum memory usage : 72.4190444946289 mb\n",
      " Calculation count 74664\n",
      "===================================================\n",
      "\n"
     ]
    },
    {
     "name": "stderr",
     "output_type": "stream",
     "text": [
      "CPAI 3/6: 9229 unique patterns\n"
     ]
    },
    {
     "name": "stdout",
     "output_type": "stream",
     "text": [
      ">/home/veljko/.local/lib/python3.10/site-packages/spmf/spmf.jar\n",
      "=============  NOSEP v2.46 - STATS =============\n",
      " Number of patterns found: 20669\n",
      " Total time ~ 140502 ms\n",
      " Maximum memory usage : 136.8336944580078 mb\n",
      " Calculation count 44853\n",
      "===================================================\n",
      "\n"
     ]
    },
    {
     "name": "stderr",
     "output_type": "stream",
     "text": [
      "CPAI 4/6: 111 unique patterns\n"
     ]
    },
    {
     "name": "stdout",
     "output_type": "stream",
     "text": [
      ">/home/veljko/.local/lib/python3.10/site-packages/spmf/spmf.jar\n",
      "=============  NOSEP v2.46 - STATS =============\n",
      " Number of patterns found: 17903\n",
      " Total time ~ 89523 ms\n",
      " Maximum memory usage : 74.47093200683594 mb\n",
      " Calculation count 38740\n",
      "===================================================\n",
      "\n"
     ]
    },
    {
     "name": "stderr",
     "output_type": "stream",
     "text": [
      "CPAI 5/6: 35 unique patterns\n",
      "CPAI 6/6: island too large\n"
     ]
    },
    {
     "name": "stdout",
     "output_type": "stream",
     "text": [
      ">/home/veljko/.local/lib/python3.10/site-packages/spmf/spmf.jar\n",
      "=============  NOSEP v2.46 - STATS =============\n",
      " Number of patterns found: 8290\n",
      " Total time ~ 20400 ms\n",
      " Maximum memory usage : 24.321090698242188 mb\n",
      " Calculation count 18235\n",
      "===================================================\n",
      "\n"
     ]
    },
    {
     "name": "stderr",
     "output_type": "stream",
     "text": [
      "NPAI 1/2: 10 unique patterns\n"
     ]
    },
    {
     "name": "stdout",
     "output_type": "stream",
     "text": [
      ">/home/veljko/.local/lib/python3.10/site-packages/spmf/spmf.jar\n",
      "=============  NOSEP v2.46 - STATS =============\n",
      " Number of patterns found: 11700\n",
      " Total time ~ 37737 ms\n",
      " Maximum memory usage : 154.96070861816406 mb\n",
      " Calculation count 25340\n",
      "===================================================\n",
      "\n"
     ]
    },
    {
     "name": "stderr",
     "output_type": "stream",
     "text": [
      "NPAI 2/2: 34 unique patterns\n",
      "--------------------------\n",
      "Genome 59/90: NC_011742\n",
      "No PAI sequences\n"
     ]
    },
    {
     "name": "stdout",
     "output_type": "stream",
     "text": [
      ">/home/veljko/.local/lib/python3.10/site-packages/spmf/spmf.jar\n",
      "=============  NOSEP v2.46 - STATS =============\n",
      " Number of patterns found: 29374\n",
      " Total time ~ 479220 ms\n",
      " Maximum memory usage : 88.88229370117188 mb\n",
      " Calculation count 62932\n",
      "===================================================\n",
      "\n"
     ]
    },
    {
     "name": "stderr",
     "output_type": "stream",
     "text": [
      "CPAI 1/7: 100 unique patterns\n"
     ]
    },
    {
     "name": "stdout",
     "output_type": "stream",
     "text": [
      ">/home/veljko/.local/lib/python3.10/site-packages/spmf/spmf.jar\n",
      "=============  NOSEP v2.46 - STATS =============\n",
      " Number of patterns found: 6221\n",
      " Total time ~ 11887 ms\n",
      " Maximum memory usage : 13.075286865234375 mb\n",
      " Calculation count 14003\n",
      "===================================================\n",
      "\n"
     ]
    },
    {
     "name": "stderr",
     "output_type": "stream",
     "text": [
      "CPAI 2/7: 18 unique patterns\n",
      "CPAI 3/7: island too large\n",
      "CPAI 4/7: island too large\n"
     ]
    },
    {
     "name": "stdout",
     "output_type": "stream",
     "text": [
      ">/home/veljko/.local/lib/python3.10/site-packages/spmf/spmf.jar\n",
      "=============  NOSEP v2.46 - STATS =============\n",
      " Number of patterns found: 16607\n",
      " Total time ~ 83376 ms\n",
      " Maximum memory usage : 21.09265899658203 mb\n",
      " Calculation count 36264\n",
      "===================================================\n",
      "\n"
     ]
    },
    {
     "name": "stderr",
     "output_type": "stream",
     "text": [
      "CPAI 5/7: 79 unique patterns\n"
     ]
    },
    {
     "name": "stdout",
     "output_type": "stream",
     "text": [
      ">/home/veljko/.local/lib/python3.10/site-packages/spmf/spmf.jar\n",
      "=============  NOSEP v2.46 - STATS =============\n",
      " Number of patterns found: 11616\n",
      " Total time ~ 42107 ms\n",
      " Maximum memory usage : 82.77928161621094 mb\n",
      " Calculation count 25667\n",
      "===================================================\n",
      "\n"
     ]
    },
    {
     "name": "stderr",
     "output_type": "stream",
     "text": [
      "CPAI 6/7: 241 unique patterns\n"
     ]
    },
    {
     "name": "stdout",
     "output_type": "stream",
     "text": [
      ">/home/veljko/.local/lib/python3.10/site-packages/spmf/spmf.jar\n",
      "=============  NOSEP v2.46 - STATS =============\n",
      " Number of patterns found: 23836\n",
      " Total time ~ 175423 ms\n",
      " Maximum memory usage : 132.5629119873047 mb\n",
      " Calculation count 51901\n",
      "===================================================\n",
      "\n"
     ]
    },
    {
     "name": "stderr",
     "output_type": "stream",
     "text": [
      "CPAI 7/7: 65 unique patterns\n"
     ]
    },
    {
     "name": "stdout",
     "output_type": "stream",
     "text": [
      ">/home/veljko/.local/lib/python3.10/site-packages/spmf/spmf.jar\n",
      "=============  NOSEP v2.46 - STATS =============\n",
      " Number of patterns found: 7089\n",
      " Total time ~ 14681 ms\n",
      " Maximum memory usage : 138.62906646728516 mb\n",
      " Calculation count 15659\n",
      "===================================================\n",
      "\n"
     ]
    },
    {
     "name": "stderr",
     "output_type": "stream",
     "text": [
      "NPAI 1/2: 3 unique patterns\n"
     ]
    },
    {
     "name": "stdout",
     "output_type": "stream",
     "text": [
      ">/home/veljko/.local/lib/python3.10/site-packages/spmf/spmf.jar\n",
      "=============  NOSEP v2.46 - STATS =============\n",
      " Number of patterns found: 10398\n",
      " Total time ~ 30785 ms\n",
      " Maximum memory usage : 20.744766235351562 mb\n",
      " Calculation count 22551\n",
      "===================================================\n",
      "\n"
     ]
    },
    {
     "name": "stderr",
     "output_type": "stream",
     "text": [
      "NPAI 2/2: 33 unique patterns\n",
      "--------------------------\n",
      "Genome 60/90: NC_017632\n",
      "No PAI sequences\n",
      "CPAI 1/10: island too large\n"
     ]
    },
    {
     "name": "stdout",
     "output_type": "stream",
     "text": [
      ">/home/veljko/.local/lib/python3.10/site-packages/spmf/spmf.jar\n",
      "=============  NOSEP v2.46 - STATS =============\n",
      " Number of patterns found: 24637\n",
      " Total time ~ 209679 ms\n",
      " Maximum memory usage : 182.1310043334961 mb\n",
      " Calculation count 54628\n",
      "===================================================\n",
      "\n"
     ]
    },
    {
     "name": "stderr",
     "output_type": "stream",
     "text": [
      "CPAI 2/10: 64 unique patterns\n",
      "CPAI 3/10: island too large\n",
      "CPAI 4/10: island too large\n"
     ]
    },
    {
     "name": "stdout",
     "output_type": "stream",
     "text": [
      ">/home/veljko/.local/lib/python3.10/site-packages/spmf/spmf.jar\n",
      "=============  NOSEP v2.46 - STATS =============\n",
      " Number of patterns found: 6415\n",
      " Total time ~ 12626 ms\n",
      " Maximum memory usage : 132.7615509033203 mb\n",
      " Calculation count 13752\n",
      "===================================================\n",
      "\n"
     ]
    },
    {
     "name": "stderr",
     "output_type": "stream",
     "text": [
      "CPAI 5/10: 189 unique patterns\n"
     ]
    },
    {
     "name": "stdout",
     "output_type": "stream",
     "text": [
      ">/home/veljko/.local/lib/python3.10/site-packages/spmf/spmf.jar\n",
      "=============  NOSEP v2.46 - STATS =============\n",
      " Number of patterns found: 6223\n",
      " Total time ~ 12362 ms\n",
      " Maximum memory usage : 9.841598510742188 mb\n",
      " Calculation count 14012\n",
      "===================================================\n",
      "\n"
     ]
    },
    {
     "name": "stderr",
     "output_type": "stream",
     "text": [
      "CPAI 6/10: 15 unique patterns\n"
     ]
    },
    {
     "name": "stdout",
     "output_type": "stream",
     "text": [
      ">/home/veljko/.local/lib/python3.10/site-packages/spmf/spmf.jar\n",
      "=============  NOSEP v2.46 - STATS =============\n",
      " Number of patterns found: 30751\n",
      " Total time ~ 283825 ms\n",
      " Maximum memory usage : 85.9078598022461 mb\n",
      " Calculation count 64309\n",
      "===================================================\n",
      "\n"
     ]
    },
    {
     "name": "stderr",
     "output_type": "stream",
     "text": [
      "CPAI 7/10: 2288 unique patterns\n"
     ]
    },
    {
     "name": "stdout",
     "output_type": "stream",
     "text": [
      ">/home/veljko/.local/lib/python3.10/site-packages/spmf/spmf.jar\n",
      "=============  NOSEP v2.46 - STATS =============\n",
      " Number of patterns found: 15132\n",
      " Total time ~ 67573 ms\n",
      " Maximum memory usage : 154.17253875732422 mb\n",
      " Calculation count 32877\n",
      "===================================================\n",
      "\n"
     ]
    },
    {
     "name": "stderr",
     "output_type": "stream",
     "text": [
      "CPAI 8/10: 63 unique patterns\n",
      "CPAI 9/10: island too large\n"
     ]
    },
    {
     "name": "stdout",
     "output_type": "stream",
     "text": [
      ">/home/veljko/.local/lib/python3.10/site-packages/spmf/spmf.jar\n",
      "=============  NOSEP v2.46 - STATS =============\n",
      " Number of patterns found: 13324\n",
      " Total time ~ 51893 ms\n",
      " Maximum memory usage : 31.54053497314453 mb\n",
      " Calculation count 29018\n",
      "===================================================\n",
      "\n"
     ]
    },
    {
     "name": "stderr",
     "output_type": "stream",
     "text": [
      "CPAI 10/10: 30 unique patterns\n"
     ]
    },
    {
     "name": "stdout",
     "output_type": "stream",
     "text": [
      ">/home/veljko/.local/lib/python3.10/site-packages/spmf/spmf.jar\n",
      "=============  NOSEP v2.46 - STATS =============\n",
      " Number of patterns found: 10399\n",
      " Total time ~ 33621 ms\n",
      " Maximum memory usage : 120.97801208496094 mb\n",
      " Calculation count 22548\n",
      "===================================================\n",
      "\n"
     ]
    },
    {
     "name": "stderr",
     "output_type": "stream",
     "text": [
      "NPAI 1/2: 30 unique patterns\n"
     ]
    },
    {
     "name": "stdout",
     "output_type": "stream",
     "text": [
      ">/home/veljko/.local/lib/python3.10/site-packages/spmf/spmf.jar\n",
      "=============  NOSEP v2.46 - STATS =============\n",
      " Number of patterns found: 7087\n",
      " Total time ~ 15870 ms\n",
      " Maximum memory usage : 71.186767578125 mb\n",
      " Calculation count 15652\n",
      "===================================================\n",
      "\n"
     ]
    },
    {
     "name": "stderr",
     "output_type": "stream",
     "text": [
      "NPAI 2/2: 3 unique patterns\n",
      "--------------------------\n",
      "Genome 61/90: NC_017646\n",
      "No PAI sequences\n",
      "CPAI 1/8: island too large\n"
     ]
    },
    {
     "name": "stdout",
     "output_type": "stream",
     "text": [
      ">/home/veljko/.local/lib/python3.10/site-packages/spmf/spmf.jar\n",
      "=============  NOSEP v2.46 - STATS =============\n",
      " Number of patterns found: 14814\n",
      " Total time ~ 63400 ms\n",
      " Maximum memory usage : 105.8632583618164 mb\n",
      " Calculation count 32106\n",
      "===================================================\n",
      "\n"
     ]
    },
    {
     "name": "stderr",
     "output_type": "stream",
     "text": [
      "CPAI 2/8: 45 unique patterns\n"
     ]
    },
    {
     "name": "stdout",
     "output_type": "stream",
     "text": [
      ">/home/veljko/.local/lib/python3.10/site-packages/spmf/spmf.jar\n",
      "=============  NOSEP v2.46 - STATS =============\n",
      " Number of patterns found: 8845\n",
      " Total time ~ 23616 ms\n",
      " Maximum memory usage : 133.70774841308594 mb\n",
      " Calculation count 19381\n",
      "===================================================\n",
      "\n"
     ]
    },
    {
     "name": "stderr",
     "output_type": "stream",
     "text": [
      "CPAI 3/8: 7 unique patterns\n"
     ]
    },
    {
     "name": "stdout",
     "output_type": "stream",
     "text": [
      ">/home/veljko/.local/lib/python3.10/site-packages/spmf/spmf.jar\n",
      "=============  NOSEP v2.46 - STATS =============\n",
      " Number of patterns found: 21105\n",
      " Total time ~ 146615 ms\n",
      " Maximum memory usage : 110.3019790649414 mb\n",
      " Calculation count 46025\n",
      "===================================================\n",
      "\n"
     ]
    },
    {
     "name": "stderr",
     "output_type": "stream",
     "text": [
      "CPAI 4/8: 109 unique patterns\n",
      "CPAI 5/8: island too large\n",
      "CPAI 6/8: island too large\n"
     ]
    },
    {
     "name": "stdout",
     "output_type": "stream",
     "text": [
      ">/home/veljko/.local/lib/python3.10/site-packages/spmf/spmf.jar\n",
      "=============  NOSEP v2.46 - STATS =============\n",
      " Number of patterns found: 21112\n",
      " Total time ~ 125151 ms\n",
      " Maximum memory usage : 79.97915649414062 mb\n",
      " Calculation count 44385\n",
      "===================================================\n",
      "\n"
     ]
    },
    {
     "name": "stderr",
     "output_type": "stream",
     "text": [
      "CPAI 7/8: 1153 unique patterns\n"
     ]
    },
    {
     "name": "stdout",
     "output_type": "stream",
     "text": [
      ">/home/veljko/.local/lib/python3.10/site-packages/spmf/spmf.jar\n",
      "=============  NOSEP v2.46 - STATS =============\n",
      " Number of patterns found: 13902\n",
      " Total time ~ 59057 ms\n",
      " Maximum memory usage : 137.98041534423828 mb\n",
      " Calculation count 30477\n",
      "===================================================\n",
      "\n"
     ]
    },
    {
     "name": "stderr",
     "output_type": "stream",
     "text": [
      "CPAI 8/8: 24 unique patterns\n"
     ]
    },
    {
     "name": "stdout",
     "output_type": "stream",
     "text": [
      ">/home/veljko/.local/lib/python3.10/site-packages/spmf/spmf.jar\n",
      "=============  NOSEP v2.46 - STATS =============\n",
      " Number of patterns found: 9693\n",
      " Total time ~ 26665 ms\n",
      " Maximum memory usage : 83.62908172607422 mb\n",
      " Calculation count 21389\n",
      "===================================================\n",
      "\n"
     ]
    },
    {
     "name": "stderr",
     "output_type": "stream",
     "text": [
      "NPAI 1/2: 17 unique patterns\n"
     ]
    },
    {
     "name": "stdout",
     "output_type": "stream",
     "text": [
      ">/home/veljko/.local/lib/python3.10/site-packages/spmf/spmf.jar\n",
      "=============  NOSEP v2.46 - STATS =============\n",
      " Number of patterns found: 11762\n",
      " Total time ~ 41070 ms\n",
      " Maximum memory usage : 10.971038818359375 mb\n",
      " Calculation count 25470\n",
      "===================================================\n",
      "\n"
     ]
    },
    {
     "name": "stderr",
     "output_type": "stream",
     "text": [
      "NPAI 2/2: 19 unique patterns\n",
      "--------------------------\n",
      "Genome 62/90: NC_017639\n",
      "No PAI sequences\n",
      "No CPAI sequences\n",
      "No NPAI sequences\n",
      "--------------------------\n",
      "Genome 63/90: NC_009837\n",
      "No PAI sequences\n"
     ]
    },
    {
     "name": "stdout",
     "output_type": "stream",
     "text": [
      ">/home/veljko/.local/lib/python3.10/site-packages/spmf/spmf.jar\n",
      "=============  NOSEP v2.46 - STATS =============\n",
      " Number of patterns found: 8289\n",
      " Total time ~ 21071 ms\n",
      " Maximum memory usage : 30.392601013183594 mb\n",
      " Calculation count 18713\n",
      "===================================================\n",
      "\n"
     ]
    },
    {
     "name": "stderr",
     "output_type": "stream",
     "text": [
      "CPAI 1/2: 315 unique patterns\n"
     ]
    },
    {
     "name": "stdout",
     "output_type": "stream",
     "text": [
      ">/home/veljko/.local/lib/python3.10/site-packages/spmf/spmf.jar\n",
      "=============  NOSEP v2.46 - STATS =============\n",
      " Number of patterns found: 71157\n",
      " Total time ~ 478881 ms\n",
      " Maximum memory usage : 190.4644317626953 mb\n",
      " Calculation count 85498\n",
      "===================================================\n",
      "\n"
     ]
    },
    {
     "name": "stderr",
     "output_type": "stream",
     "text": [
      "CPAI 2/2: 59214 unique patterns\n"
     ]
    },
    {
     "name": "stdout",
     "output_type": "stream",
     "text": [
      ">/home/veljko/.local/lib/python3.10/site-packages/spmf/spmf.jar\n",
      "=============  NOSEP v2.46 - STATS =============\n",
      " Number of patterns found: 6541\n",
      " Total time ~ 13085 ms\n",
      " Maximum memory usage : 61.57939147949219 mb\n",
      " Calculation count 14296\n",
      "===================================================\n",
      "\n"
     ]
    },
    {
     "name": "stderr",
     "output_type": "stream",
     "text": [
      "NPAI 1/1: 181 unique patterns\n",
      "--------------------------\n",
      "Genome 64/90: NC_009801\n",
      "No PAI sequences\n"
     ]
    },
    {
     "name": "stdout",
     "output_type": "stream",
     "text": [
      ">/home/veljko/.local/lib/python3.10/site-packages/spmf/spmf.jar\n",
      "=============  NOSEP v2.46 - STATS =============\n",
      " Number of patterns found: 28221\n",
      " Total time ~ 233787 ms\n",
      " Maximum memory usage : 168.5699920654297 mb\n",
      " Calculation count 58214\n",
      "===================================================\n",
      "\n"
     ]
    },
    {
     "name": "stderr",
     "output_type": "stream",
     "text": [
      "CPAI 1/6: 136 unique patterns\n"
     ]
    },
    {
     "name": "stdout",
     "output_type": "stream",
     "text": [
      ">/home/veljko/.local/lib/python3.10/site-packages/spmf/spmf.jar\n",
      "=============  NOSEP v2.46 - STATS =============\n",
      " Number of patterns found: 11677\n",
      " Total time ~ 39437 ms\n",
      " Maximum memory usage : 110.1305923461914 mb\n",
      " Calculation count 25180\n",
      "===================================================\n",
      "\n"
     ]
    },
    {
     "name": "stderr",
     "output_type": "stream",
     "text": [
      "CPAI 2/6: 47 unique patterns\n"
     ]
    },
    {
     "name": "stdout",
     "output_type": "stream",
     "text": [
      ">/home/veljko/.local/lib/python3.10/site-packages/spmf/spmf.jar\n",
      "=============  NOSEP v2.46 - STATS =============\n",
      " Number of patterns found: 23273\n",
      " Total time ~ 174652 ms\n",
      " Maximum memory usage : 89.32281494140625 mb\n",
      " Calculation count 50878\n",
      "===================================================\n",
      "\n"
     ]
    },
    {
     "name": "stderr",
     "output_type": "stream",
     "text": [
      "CPAI 3/6: 51 unique patterns\n",
      "CPAI 4/6: island too large\n"
     ]
    },
    {
     "name": "stdout",
     "output_type": "stream",
     "text": [
      ">/home/veljko/.local/lib/python3.10/site-packages/spmf/spmf.jar\n",
      "=============  NOSEP v2.46 - STATS =============\n",
      " Number of patterns found: 7636\n",
      " Total time ~ 17641 ms\n",
      " Maximum memory usage : 112.72695922851562 mb\n",
      " Calculation count 17070\n",
      "===================================================\n",
      "\n"
     ]
    },
    {
     "name": "stderr",
     "output_type": "stream",
     "text": [
      "CPAI 5/6: 0 unique patterns\n"
     ]
    },
    {
     "name": "stdout",
     "output_type": "stream",
     "text": [
      ">/home/veljko/.local/lib/python3.10/site-packages/spmf/spmf.jar\n",
      "=============  NOSEP v2.46 - STATS =============\n",
      " Number of patterns found: 151572\n",
      " Total time ~ 2059453 ms\n",
      " Maximum memory usage : 169.2008819580078 mb\n",
      " Calculation count 185721\n",
      "===================================================\n",
      "\n"
     ]
    },
    {
     "name": "stderr",
     "output_type": "stream",
     "text": [
      "CPAI 6/6: 54 unique patterns\n"
     ]
    },
    {
     "name": "stdout",
     "output_type": "stream",
     "text": [
      ">/home/veljko/.local/lib/python3.10/site-packages/spmf/spmf.jar\n",
      "=============  NOSEP v2.46 - STATS =============\n",
      " Number of patterns found: 11695\n",
      " Total time ~ 39185 ms\n",
      " Maximum memory usage : 24.835174560546875 mb\n",
      " Calculation count 25337\n",
      "===================================================\n",
      "\n"
     ]
    },
    {
     "name": "stderr",
     "output_type": "stream",
     "text": [
      "NPAI 1/1: 18 unique patterns\n",
      "--------------------------\n",
      "Genome 65/90: NC_017627\n",
      "No PAI sequences\n",
      "No CPAI sequences\n"
     ]
    },
    {
     "name": "stdout",
     "output_type": "stream",
     "text": [
      ">/home/veljko/.local/lib/python3.10/site-packages/spmf/spmf.jar\n",
      "=============  NOSEP v2.46 - STATS =============\n",
      " Number of patterns found: 10526\n",
      " Total time ~ 33492 ms\n",
      " Maximum memory usage : 130.3819808959961 mb\n",
      " Calculation count 23344\n",
      "===================================================\n",
      "\n"
     ]
    },
    {
     "name": "stderr",
     "output_type": "stream",
     "text": [
      "NPAI 1/1: 670 unique patterns\n",
      "--------------------------\n",
      "Genome 66/90: NC_012947\n",
      "No PAI sequences\n"
     ]
    },
    {
     "name": "stdout",
     "output_type": "stream",
     "text": [
      ">/home/veljko/.local/lib/python3.10/site-packages/spmf/spmf.jar\n",
      "=============  NOSEP v2.46 - STATS =============\n",
      " Number of patterns found: 18322\n",
      " Total time ~ 97662 ms\n",
      " Maximum memory usage : 123.13360595703125 mb\n",
      " Calculation count 40299\n",
      "===================================================\n",
      "\n"
     ]
    },
    {
     "name": "stderr",
     "output_type": "stream",
     "text": [
      "CPAI 1/5: 89 unique patterns\n"
     ]
    },
    {
     "name": "stdout",
     "output_type": "stream",
     "text": [
      ">/home/veljko/.local/lib/python3.10/site-packages/spmf/spmf.jar\n",
      "=============  NOSEP v2.46 - STATS =============\n",
      " Number of patterns found: 24822\n",
      " Total time ~ 149741 ms\n",
      " Maximum memory usage : 131.97159576416016 mb\n",
      " Calculation count 48728\n",
      "===================================================\n",
      "\n"
     ]
    },
    {
     "name": "stderr",
     "output_type": "stream",
     "text": [
      "CPAI 2/5: 4562 unique patterns\n"
     ]
    },
    {
     "name": "stdout",
     "output_type": "stream",
     "text": [
      ">/home/veljko/.local/lib/python3.10/site-packages/spmf/spmf.jar\n",
      "=============  NOSEP v2.46 - STATS =============\n",
      " Number of patterns found: 5899\n",
      " Total time ~ 10775 ms\n",
      " Maximum memory usage : 92.38886260986328 mb\n",
      " Calculation count 13070\n",
      "===================================================\n",
      "\n"
     ]
    },
    {
     "name": "stderr",
     "output_type": "stream",
     "text": [
      "CPAI 3/5: 5 unique patterns\n"
     ]
    },
    {
     "name": "stdout",
     "output_type": "stream",
     "text": [
      ">/home/veljko/.local/lib/python3.10/site-packages/spmf/spmf.jar\n",
      "=============  NOSEP v2.46 - STATS =============\n",
      " Number of patterns found: 13489\n",
      " Total time ~ 51894 ms\n",
      " Maximum memory usage : 11.962890625 mb\n",
      " Calculation count 29653\n",
      "===================================================\n",
      "\n"
     ]
    },
    {
     "name": "stderr",
     "output_type": "stream",
     "text": [
      "CPAI 4/5: 56 unique patterns\n"
     ]
    },
    {
     "name": "stdout",
     "output_type": "stream",
     "text": [
      ">/home/veljko/.local/lib/python3.10/site-packages/spmf/spmf.jar\n",
      "=============  NOSEP v2.46 - STATS =============\n",
      " Number of patterns found: 53303\n",
      " Total time ~ 439336 ms\n",
      " Maximum memory usage : 210.57569885253906 mb\n",
      " Calculation count 75098\n",
      "===================================================\n",
      "\n"
     ]
    },
    {
     "name": "stderr",
     "output_type": "stream",
     "text": [
      "CPAI 5/5: 33394 unique patterns\n"
     ]
    },
    {
     "name": "stdout",
     "output_type": "stream",
     "text": [
      ">/home/veljko/.local/lib/python3.10/site-packages/spmf/spmf.jar\n",
      "=============  NOSEP v2.46 - STATS =============\n",
      " Number of patterns found: 104057\n",
      " Total time ~ 445013 ms\n",
      " Maximum memory usage : 127.58251190185547 mb\n",
      " Calculation count 127117\n",
      "===================================================\n",
      "\n"
     ]
    },
    {
     "name": "stderr",
     "output_type": "stream",
     "text": [
      "NPAI 1/2: 76 unique patterns\n"
     ]
    },
    {
     "name": "stdout",
     "output_type": "stream",
     "text": [
      ">/home/veljko/.local/lib/python3.10/site-packages/spmf/spmf.jar\n",
      "=============  NOSEP v2.46 - STATS =============\n",
      " Number of patterns found: 11828\n",
      " Total time ~ 42363 ms\n",
      " Maximum memory usage : 137.93746185302734 mb\n",
      " Calculation count 25739\n",
      "===================================================\n",
      "\n"
     ]
    },
    {
     "name": "stderr",
     "output_type": "stream",
     "text": [
      "NPAI 2/2: 17 unique patterns\n",
      "--------------------------\n",
      "Genome 67/90: NC_011747\n",
      "No PAI sequences\n"
     ]
    },
    {
     "name": "stdout",
     "output_type": "stream",
     "text": [
      ">/home/veljko/.local/lib/python3.10/site-packages/spmf/spmf.jar\n",
      "=============  NOSEP v2.46 - STATS =============\n",
      " Number of patterns found: 49990\n",
      " Total time ~ 156257 ms\n",
      " Maximum memory usage : 121.6537094116211 mb\n",
      " Calculation count 60006\n",
      "===================================================\n",
      "\n"
     ]
    },
    {
     "name": "stderr",
     "output_type": "stream",
     "text": [
      "CPAI 1/3: 40993 unique patterns\n"
     ]
    },
    {
     "name": "stdout",
     "output_type": "stream",
     "text": [
      ">/home/veljko/.local/lib/python3.10/site-packages/spmf/spmf.jar\n",
      "=============  NOSEP v2.46 - STATS =============\n",
      " Number of patterns found: 6576\n",
      " Total time ~ 13222 ms\n",
      " Maximum memory usage : 117.28109741210938 mb\n",
      " Calculation count 14061\n",
      "===================================================\n",
      "\n"
     ]
    },
    {
     "name": "stderr",
     "output_type": "stream",
     "text": [
      "CPAI 2/3: 288 unique patterns\n"
     ]
    },
    {
     "name": "stdout",
     "output_type": "stream",
     "text": [
      ">/home/veljko/.local/lib/python3.10/site-packages/spmf/spmf.jar\n",
      "=============  NOSEP v2.46 - STATS =============\n",
      " Number of patterns found: 8237\n",
      " Total time ~ 20673 ms\n",
      " Maximum memory usage : 85.60726165771484 mb\n",
      " Calculation count 18592\n",
      "===================================================\n",
      "\n"
     ]
    },
    {
     "name": "stderr",
     "output_type": "stream",
     "text": [
      "CPAI 3/3: 434 unique patterns\n"
     ]
    },
    {
     "name": "stdout",
     "output_type": "stream",
     "text": [
      ">/home/veljko/.local/lib/python3.10/site-packages/spmf/spmf.jar\n",
      "=============  NOSEP v2.46 - STATS =============\n",
      " Number of patterns found: 7804\n",
      " Total time ~ 19281 ms\n",
      " Maximum memory usage : 119.91724395751953 mb\n",
      " Calculation count 17096\n",
      "===================================================\n",
      "\n"
     ]
    },
    {
     "name": "stderr",
     "output_type": "stream",
     "text": [
      "NPAI 1/1: 435 unique patterns\n",
      "--------------------------\n",
      "Genome 68/90: NC_013654\n",
      "No PAI sequences\n",
      "CPAI 1/4: island too large\n"
     ]
    },
    {
     "name": "stdout",
     "output_type": "stream",
     "text": [
      ">/home/veljko/.local/lib/python3.10/site-packages/spmf/spmf.jar\n",
      "=============  NOSEP v2.46 - STATS =============\n",
      " Number of patterns found: 28592\n",
      " Total time ~ 286446 ms\n",
      " Maximum memory usage : 182.3638687133789 mb\n",
      " Calculation count 63295\n",
      "===================================================\n",
      "\n"
     ]
    },
    {
     "name": "stderr",
     "output_type": "stream",
     "text": [
      "CPAI 2/4: 55 unique patterns\n",
      "CPAI 3/4: island too large\n"
     ]
    },
    {
     "name": "stdout",
     "output_type": "stream",
     "text": [
      ">/home/veljko/.local/lib/python3.10/site-packages/spmf/spmf.jar\n",
      "=============  NOSEP v2.46 - STATS =============\n",
      " Number of patterns found: 28850\n",
      " Total time ~ 287820 ms\n",
      " Maximum memory usage : 204.0802230834961 mb\n",
      " Calculation count 63325\n",
      "===================================================\n",
      "\n"
     ]
    },
    {
     "name": "stderr",
     "output_type": "stream",
     "text": [
      "CPAI 4/4: 114 unique patterns\n"
     ]
    },
    {
     "name": "stdout",
     "output_type": "stream",
     "text": [
      ">/home/veljko/.local/lib/python3.10/site-packages/spmf/spmf.jar\n",
      "=============  NOSEP v2.46 - STATS =============\n",
      " Number of patterns found: 7106\n",
      " Total time ~ 15346 ms\n",
      " Maximum memory usage : 40.2674560546875 mb\n",
      " Calculation count 15648\n",
      "===================================================\n",
      "\n"
     ]
    },
    {
     "name": "stderr",
     "output_type": "stream",
     "text": [
      "NPAI 1/2: 3 unique patterns\n"
     ]
    },
    {
     "name": "stdout",
     "output_type": "stream",
     "text": [
      ">/home/veljko/.local/lib/python3.10/site-packages/spmf/spmf.jar\n",
      "=============  NOSEP v2.46 - STATS =============\n",
      " Number of patterns found: 10605\n",
      " Total time ~ 34187 ms\n",
      " Maximum memory usage : 132.90923309326172 mb\n",
      " Calculation count 22752\n",
      "===================================================\n",
      "\n"
     ]
    },
    {
     "name": "stderr",
     "output_type": "stream",
     "text": [
      "NPAI 2/2: 22 unique patterns\n",
      "--------------------------\n",
      "Genome 69/90: NC_011745\n",
      "No PAI sequences\n"
     ]
    },
    {
     "name": "stdout",
     "output_type": "stream",
     "text": [
      ">/home/veljko/.local/lib/python3.10/site-packages/spmf/spmf.jar\n",
      "=============  NOSEP v2.46 - STATS =============\n",
      " Number of patterns found: 27357\n",
      " Total time ~ 220558 ms\n",
      " Maximum memory usage : 90.66079711914062 mb\n",
      " Calculation count 56340\n",
      "===================================================\n",
      "\n"
     ]
    },
    {
     "name": "stderr",
     "output_type": "stream",
     "text": [
      "CPAI 1/11: 94 unique patterns\n"
     ]
    },
    {
     "name": "stdout",
     "output_type": "stream",
     "text": [
      ">/home/veljko/.local/lib/python3.10/site-packages/spmf/spmf.jar\n",
      "=============  NOSEP v2.46 - STATS =============\n",
      " Number of patterns found: 9060\n",
      " Total time ~ 25873 ms\n",
      " Maximum memory usage : 89.97988891601562 mb\n",
      " Calculation count 20266\n",
      "===================================================\n",
      "\n"
     ]
    },
    {
     "name": "stderr",
     "output_type": "stream",
     "text": [
      "CPAI 2/11: 4 unique patterns\n",
      "CPAI 3/11: island too large\n"
     ]
    },
    {
     "name": "stdout",
     "output_type": "stream",
     "text": [
      ">/home/veljko/.local/lib/python3.10/site-packages/spmf/spmf.jar\n",
      "=============  NOSEP v2.46 - STATS =============\n",
      " Number of patterns found: 9390\n",
      " Total time ~ 26498 ms\n",
      " Maximum memory usage : 118.08256530761719 mb\n",
      " Calculation count 20784\n",
      "===================================================\n",
      "\n"
     ]
    },
    {
     "name": "stderr",
     "output_type": "stream",
     "text": [
      "CPAI 4/11: 9 unique patterns\n"
     ]
    },
    {
     "name": "stdout",
     "output_type": "stream",
     "text": [
      ">/home/veljko/.local/lib/python3.10/site-packages/spmf/spmf.jar\n",
      "=============  NOSEP v2.46 - STATS =============\n",
      " Number of patterns found: 9467\n",
      " Total time ~ 26310 ms\n",
      " Maximum memory usage : 98.12651062011719 mb\n",
      " Calculation count 20668\n",
      "===================================================\n",
      "\n"
     ]
    },
    {
     "name": "stderr",
     "output_type": "stream",
     "text": [
      "CPAI 5/11: 9 unique patterns\n",
      "CPAI 6/11: island too large\n"
     ]
    },
    {
     "name": "stdout",
     "output_type": "stream",
     "text": [
      ">/home/veljko/.local/lib/python3.10/site-packages/spmf/spmf.jar\n",
      "=============  NOSEP v2.46 - STATS =============\n",
      " Number of patterns found: 14466\n",
      " Total time ~ 59883 ms\n",
      " Maximum memory usage : 51.73545837402344 mb\n",
      " Calculation count 31538\n",
      "===================================================\n",
      "\n"
     ]
    },
    {
     "name": "stderr",
     "output_type": "stream",
     "text": [
      "CPAI 7/11: 21 unique patterns\n"
     ]
    },
    {
     "name": "stdout",
     "output_type": "stream",
     "text": [
      ">/home/veljko/.local/lib/python3.10/site-packages/spmf/spmf.jar\n",
      "=============  NOSEP v2.46 - STATS =============\n",
      " Number of patterns found: 24708\n",
      " Total time ~ 192367 ms\n",
      " Maximum memory usage : 168.9700469970703 mb\n",
      " Calculation count 52418\n",
      "===================================================\n",
      "\n"
     ]
    },
    {
     "name": "stderr",
     "output_type": "stream",
     "text": [
      "CPAI 8/11: 1367 unique patterns\n"
     ]
    },
    {
     "name": "stdout",
     "output_type": "stream",
     "text": [
      ">/home/veljko/.local/lib/python3.10/site-packages/spmf/spmf.jar\n",
      "=============  NOSEP v2.46 - STATS =============\n",
      " Number of patterns found: 7510\n",
      " Total time ~ 16744 ms\n",
      " Maximum memory usage : 54.62635803222656 mb\n",
      " Calculation count 16458\n",
      "===================================================\n",
      "\n"
     ]
    },
    {
     "name": "stderr",
     "output_type": "stream",
     "text": [
      "CPAI 9/11: 4 unique patterns\n"
     ]
    },
    {
     "name": "stdout",
     "output_type": "stream",
     "text": [
      ">/home/veljko/.local/lib/python3.10/site-packages/spmf/spmf.jar\n",
      "=============  NOSEP v2.46 - STATS =============\n",
      " Number of patterns found: 15125\n",
      " Total time ~ 48004 ms\n",
      " Maximum memory usage : 24.87371826171875 mb\n",
      " Calculation count 28381\n",
      "===================================================\n",
      "\n"
     ]
    },
    {
     "name": "stderr",
     "output_type": "stream",
     "text": [
      "CPAI 10/11: 18 unique patterns\n"
     ]
    },
    {
     "name": "stdout",
     "output_type": "stream",
     "text": [
      ">/home/veljko/.local/lib/python3.10/site-packages/spmf/spmf.jar\n",
      "=============  NOSEP v2.46 - STATS =============\n",
      " Number of patterns found: 28663\n",
      " Total time ~ 258617 ms\n",
      " Maximum memory usage : 90.01204681396484 mb\n",
      " Calculation count 62567\n",
      "===================================================\n",
      "\n"
     ]
    },
    {
     "name": "stderr",
     "output_type": "stream",
     "text": [
      "CPAI 11/11: 139 unique patterns\n"
     ]
    },
    {
     "name": "stdout",
     "output_type": "stream",
     "text": [
      ">/home/veljko/.local/lib/python3.10/site-packages/spmf/spmf.jar\n",
      "=============  NOSEP v2.46 - STATS =============\n",
      " Number of patterns found: 7210\n",
      " Total time ~ 16249 ms\n",
      " Maximum memory usage : 7.2125244140625 mb\n",
      " Calculation count 16055\n",
      "===================================================\n",
      "\n"
     ]
    },
    {
     "name": "stderr",
     "output_type": "stream",
     "text": [
      "NPAI 1/2: 6 unique patterns\n"
     ]
    },
    {
     "name": "stdout",
     "output_type": "stream",
     "text": [
      ">/home/veljko/.local/lib/python3.10/site-packages/spmf/spmf.jar\n",
      "=============  NOSEP v2.46 - STATS =============\n",
      " Number of patterns found: 7124\n",
      " Total time ~ 14927 ms\n",
      " Maximum memory usage : 44.79742431640625 mb\n",
      " Calculation count 15681\n",
      "===================================================\n",
      "\n"
     ]
    },
    {
     "name": "stderr",
     "output_type": "stream",
     "text": [
      "NPAI 2/2: 5 unique patterns\n",
      "--------------------------\n",
      "Genome 70/90: NC_011739\n",
      "No PAI sequences\n",
      "No CPAI sequences\n",
      "No NPAI sequences\n",
      "--------------------------\n",
      "Genome 71/90: NC_011353\n",
      "No PAI sequences\n"
     ]
    },
    {
     "name": "stdout",
     "output_type": "stream",
     "text": [
      ">/home/veljko/.local/lib/python3.10/site-packages/spmf/spmf.jar\n",
      "=============  NOSEP v2.46 - STATS =============\n",
      " Number of patterns found: 28734\n",
      " Total time ~ 243654 ms\n",
      " Maximum memory usage : 53.27714538574219 mb\n",
      " Calculation count 58850\n",
      "===================================================\n",
      "\n"
     ]
    },
    {
     "name": "stderr",
     "output_type": "stream",
     "text": [
      "CPAI 1/6: 246 unique patterns\n",
      "CPAI 2/6: island too large\n"
     ]
    },
    {
     "name": "stdout",
     "output_type": "stream",
     "text": [
      ">/home/veljko/.local/lib/python3.10/site-packages/spmf/spmf.jar\n",
      "=============  NOSEP v2.46 - STATS =============\n",
      " Number of patterns found: 36102\n",
      " Total time ~ 332168 ms\n",
      " Maximum memory usage : 202.3375473022461 mb\n",
      " Calculation count 68923\n",
      "===================================================\n",
      "\n"
     ]
    },
    {
     "name": "stderr",
     "output_type": "stream",
     "text": [
      "CPAI 3/6: 7520 unique patterns\n"
     ]
    },
    {
     "name": "stdout",
     "output_type": "stream",
     "text": [
      ">/home/veljko/.local/lib/python3.10/site-packages/spmf/spmf.jar\n",
      "=============  NOSEP v2.46 - STATS =============\n",
      " Number of patterns found: 20575\n",
      " Total time ~ 129954 ms\n",
      " Maximum memory usage : 67.38053131103516 mb\n",
      " Calculation count 44638\n",
      "===================================================\n",
      "\n"
     ]
    },
    {
     "name": "stderr",
     "output_type": "stream",
     "text": [
      "CPAI 4/6: 109 unique patterns\n"
     ]
    },
    {
     "name": "stdout",
     "output_type": "stream",
     "text": [
      ">/home/veljko/.local/lib/python3.10/site-packages/spmf/spmf.jar\n",
      "=============  NOSEP v2.46 - STATS =============\n",
      " Number of patterns found: 16341\n",
      " Total time ~ 74623 ms\n",
      " Maximum memory usage : 24.279342651367188 mb\n",
      " Calculation count 35395\n",
      "===================================================\n",
      "\n"
     ]
    },
    {
     "name": "stderr",
     "output_type": "stream",
     "text": [
      "CPAI 5/6: 35 unique patterns\n",
      "CPAI 6/6: island too large\n"
     ]
    },
    {
     "name": "stdout",
     "output_type": "stream",
     "text": [
      ">/home/veljko/.local/lib/python3.10/site-packages/spmf/spmf.jar\n",
      "=============  NOSEP v2.46 - STATS =============\n",
      " Number of patterns found: 11700\n",
      " Total time ~ 40130 ms\n",
      " Maximum memory usage : 112.30628204345703 mb\n",
      " Calculation count 25340\n",
      "===================================================\n",
      "\n"
     ]
    },
    {
     "name": "stderr",
     "output_type": "stream",
     "text": [
      "NPAI 1/1: 30 unique patterns\n",
      "--------------------------\n",
      "Genome 72/90: NC_017657\n",
      "No PAI sequences\n"
     ]
    },
    {
     "name": "stdout",
     "output_type": "stream",
     "text": [
      ">/home/veljko/.local/lib/python3.10/site-packages/spmf/spmf.jar\n",
      "=============  NOSEP v2.46 - STATS =============\n",
      " Number of patterns found: 9577\n",
      " Total time ~ 27604 ms\n",
      " Maximum memory usage : 132.37637329101562 mb\n",
      " Calculation count 21041\n",
      "===================================================\n",
      "\n"
     ]
    },
    {
     "name": "stderr",
     "output_type": "stream",
     "text": [
      "CPAI 1/1: 1419 unique patterns\n",
      "No NPAI sequences\n",
      "--------------------------\n",
      "Genome 73/90: NC_002655\n",
      "PAI 1/5: island too large\n",
      "PAI 2/5: island too large\n"
     ]
    },
    {
     "name": "stdout",
     "output_type": "stream",
     "text": [
      ">/home/veljko/.local/lib/python3.10/site-packages/spmf/spmf.jar\n",
      "=============  NOSEP v2.46 - STATS =============\n",
      " Number of patterns found: 6919\n",
      " Total time ~ 14325 ms\n",
      " Maximum memory usage : 25.97894287109375 mb\n",
      " Calculation count 15111\n",
      "===================================================\n",
      "\n"
     ]
    },
    {
     "name": "stderr",
     "output_type": "stream",
     "text": [
      "PAI 3/5: 22 unique patterns\n",
      "java.lang.NumberFormatException: For input string: \"K\"\n",
      "\tat java.base/java.lang.NumberFormatException.forInputString(NumberFormatException.java:67)\n",
      "\tat java.base/java.lang.Integer.parseInt(Integer.java:662)\n",
      "\tat java.base/java.lang.Integer.parseInt(Integer.java:778)\n",
      "\tat ca.pfv.spmf.algorithms.sequentialpatterns.nosep.AlgoNOSEP.readInputFile(AlgoNOSEP.java:809)\n",
      "\tat ca.pfv.spmf.algorithms.sequentialpatterns.nosep.AlgoNOSEP.runAlgorithm(AlgoNOSEP.java:878)\n",
      "\tat ca.pfv.spmf.algorithmmanager.descriptions.DescriptionAlgoNOSEP.runAlgorithm(DescriptionAlgoNOSEP.java:52)\n",
      "\tat ca.pfv.spmf.gui.CommandProcessor.runAlgorithm(CommandProcessor.java:265)\n",
      "\tat ca.pfv.spmf.gui.Main.processCommandLineArguments(Main.java:151)\n",
      "\tat ca.pfv.spmf.gui.Main.main(Main.java:64)\n",
      "PAI 4/5: 0 unique patterns\n",
      "PAI 5/5: island too large\n"
     ]
    },
    {
     "name": "stdout",
     "output_type": "stream",
     "text": [
      ">/home/veljko/.local/lib/python3.10/site-packages/spmf/spmf.jar\n",
      "=============  NOSEP v2.46 - STATS =============\n",
      " Number of patterns found: 0\n",
      " Total time ~ 34 ms\n",
      " Maximum memory usage : 11.132217407226562 mb\n",
      " Calculation count 0\n",
      "===================================================\n",
      "\n"
     ]
    },
    {
     "name": "stderr",
     "output_type": "stream",
     "text": [
      "java.lang.NumberFormatException: For input string: \"Y\"\n",
      "\tat java.base/java.lang.NumberFormatException.forInputString(NumberFormatException.java:67)\n",
      "\tat java.base/java.lang.Integer.parseInt(Integer.java:662)\n",
      "\tat java.base/java.lang.Integer.parseInt(Integer.java:778)\n",
      "\tat ca.pfv.spmf.algorithms.sequentialpatterns.nosep.AlgoNOSEP.readInputFile(AlgoNOSEP.java:809)\n",
      "\tat ca.pfv.spmf.algorithms.sequentialpatterns.nosep.AlgoNOSEP.runAlgorithm(AlgoNOSEP.java:878)\n",
      "\tat ca.pfv.spmf.algorithmmanager.descriptions.DescriptionAlgoNOSEP.runAlgorithm(DescriptionAlgoNOSEP.java:52)\n",
      "\tat ca.pfv.spmf.gui.CommandProcessor.runAlgorithm(CommandProcessor.java:265)\n",
      "\tat ca.pfv.spmf.gui.Main.processCommandLineArguments(Main.java:151)\n",
      "\tat ca.pfv.spmf.gui.Main.main(Main.java:64)\n",
      "CPAI 1/7: 0 unique patterns\n",
      "CPAI 2/7: island too large\n",
      "CPAI 3/7: island too large\n"
     ]
    },
    {
     "name": "stdout",
     "output_type": "stream",
     "text": [
      ">/home/veljko/.local/lib/python3.10/site-packages/spmf/spmf.jar\n",
      "=============  NOSEP v2.46 - STATS =============\n",
      " Number of patterns found: 0\n",
      " Total time ~ 30 ms\n",
      " Maximum memory usage : 12.670005798339844 mb\n",
      " Calculation count 0\n",
      "===================================================\n",
      "\n"
     ]
    },
    {
     "name": "stderr",
     "output_type": "stream",
     "text": [
      "java.lang.NumberFormatException: For input string: \"N\"\n",
      "\tat java.base/java.lang.NumberFormatException.forInputString(NumberFormatException.java:67)\n",
      "\tat java.base/java.lang.Integer.parseInt(Integer.java:662)\n",
      "\tat java.base/java.lang.Integer.parseInt(Integer.java:778)\n",
      "\tat ca.pfv.spmf.algorithms.sequentialpatterns.nosep.AlgoNOSEP.readInputFile(AlgoNOSEP.java:809)\n",
      "\tat ca.pfv.spmf.algorithms.sequentialpatterns.nosep.AlgoNOSEP.runAlgorithm(AlgoNOSEP.java:878)\n",
      "\tat ca.pfv.spmf.algorithmmanager.descriptions.DescriptionAlgoNOSEP.runAlgorithm(DescriptionAlgoNOSEP.java:52)\n",
      "\tat ca.pfv.spmf.gui.CommandProcessor.runAlgorithm(CommandProcessor.java:265)\n",
      "\tat ca.pfv.spmf.gui.Main.processCommandLineArguments(Main.java:151)\n",
      "\tat ca.pfv.spmf.gui.Main.main(Main.java:64)\n",
      "CPAI 4/7: 0 unique patterns\n"
     ]
    },
    {
     "name": "stdout",
     "output_type": "stream",
     "text": [
      ">/home/veljko/.local/lib/python3.10/site-packages/spmf/spmf.jar\n",
      "=============  NOSEP v2.46 - STATS =============\n",
      " Number of patterns found: 0\n",
      " Total time ~ 33 ms\n",
      " Maximum memory usage : 12.670005798339844 mb\n",
      " Calculation count 0\n",
      "===================================================\n",
      "\n"
     ]
    },
    {
     "name": "stderr",
     "output_type": "stream",
     "text": [
      "java.lang.NumberFormatException: For input string: \"M\"\n",
      "\tat java.base/java.lang.NumberFormatException.forInputString(NumberFormatException.java:67)\n",
      "\tat java.base/java.lang.Integer.parseInt(Integer.java:662)\n",
      "\tat java.base/java.lang.Integer.parseInt(Integer.java:778)\n",
      "\tat ca.pfv.spmf.algorithms.sequentialpatterns.nosep.AlgoNOSEP.readInputFile(AlgoNOSEP.java:809)\n",
      "\tat ca.pfv.spmf.algorithms.sequentialpatterns.nosep.AlgoNOSEP.runAlgorithm(AlgoNOSEP.java:878)\n",
      "\tat ca.pfv.spmf.algorithmmanager.descriptions.DescriptionAlgoNOSEP.runAlgorithm(DescriptionAlgoNOSEP.java:52)\n",
      "\tat ca.pfv.spmf.gui.CommandProcessor.runAlgorithm(CommandProcessor.java:265)\n",
      "\tat ca.pfv.spmf.gui.Main.processCommandLineArguments(Main.java:151)\n",
      "\tat ca.pfv.spmf.gui.Main.main(Main.java:64)\n",
      "CPAI 5/7: 0 unique patterns\n"
     ]
    },
    {
     "name": "stdout",
     "output_type": "stream",
     "text": [
      ">/home/veljko/.local/lib/python3.10/site-packages/spmf/spmf.jar\n",
      "=============  NOSEP v2.46 - STATS =============\n",
      " Number of patterns found: 0\n",
      " Total time ~ 43 ms\n",
      " Maximum memory usage : 11.951042175292969 mb\n",
      " Calculation count 0\n",
      "===================================================\n",
      "\n"
     ]
    },
    {
     "name": "stderr",
     "output_type": "stream",
     "text": [
      "java.lang.NumberFormatException: For input string: \"K\"\n",
      "\tat java.base/java.lang.NumberFormatException.forInputString(NumberFormatException.java:67)\n",
      "\tat java.base/java.lang.Integer.parseInt(Integer.java:662)\n",
      "\tat java.base/java.lang.Integer.parseInt(Integer.java:778)\n",
      "\tat ca.pfv.spmf.algorithms.sequentialpatterns.nosep.AlgoNOSEP.readInputFile(AlgoNOSEP.java:809)\n",
      "\tat ca.pfv.spmf.algorithms.sequentialpatterns.nosep.AlgoNOSEP.runAlgorithm(AlgoNOSEP.java:878)\n",
      "\tat ca.pfv.spmf.algorithmmanager.descriptions.DescriptionAlgoNOSEP.runAlgorithm(DescriptionAlgoNOSEP.java:52)\n",
      "\tat ca.pfv.spmf.gui.CommandProcessor.runAlgorithm(CommandProcessor.java:265)\n",
      "\tat ca.pfv.spmf.gui.Main.processCommandLineArguments(Main.java:151)\n",
      "\tat ca.pfv.spmf.gui.Main.main(Main.java:64)\n",
      "CPAI 6/7: 0 unique patterns\n",
      "CPAI 7/7: island too large\n"
     ]
    },
    {
     "name": "stdout",
     "output_type": "stream",
     "text": [
      ">/home/veljko/.local/lib/python3.10/site-packages/spmf/spmf.jar\n",
      "=============  NOSEP v2.46 - STATS =============\n",
      " Number of patterns found: 0\n",
      " Total time ~ 24 ms\n",
      " Maximum memory usage : 11.592216491699219 mb\n",
      " Calculation count 0\n",
      "===================================================\n",
      "\n"
     ]
    },
    {
     "name": "stderr",
     "output_type": "stream",
     "text": [
      "java.lang.NumberFormatException: For input string: \"W\"\n",
      "\tat java.base/java.lang.NumberFormatException.forInputString(NumberFormatException.java:67)\n",
      "\tat java.base/java.lang.Integer.parseInt(Integer.java:662)\n",
      "\tat java.base/java.lang.Integer.parseInt(Integer.java:778)\n",
      "\tat ca.pfv.spmf.algorithms.sequentialpatterns.nosep.AlgoNOSEP.readInputFile(AlgoNOSEP.java:809)\n",
      "\tat ca.pfv.spmf.algorithms.sequentialpatterns.nosep.AlgoNOSEP.runAlgorithm(AlgoNOSEP.java:878)\n",
      "\tat ca.pfv.spmf.algorithmmanager.descriptions.DescriptionAlgoNOSEP.runAlgorithm(DescriptionAlgoNOSEP.java:52)\n",
      "\tat ca.pfv.spmf.gui.CommandProcessor.runAlgorithm(CommandProcessor.java:265)\n",
      "\tat ca.pfv.spmf.gui.Main.processCommandLineArguments(Main.java:151)\n",
      "\tat ca.pfv.spmf.gui.Main.main(Main.java:64)\n",
      "NPAI 1/2: 0 unique patterns\n"
     ]
    },
    {
     "name": "stdout",
     "output_type": "stream",
     "text": [
      ">/home/veljko/.local/lib/python3.10/site-packages/spmf/spmf.jar\n",
      "=============  NOSEP v2.46 - STATS =============\n",
      " Number of patterns found: 0\n",
      " Total time ~ 17 ms\n",
      " Maximum memory usage : 10.029045104980469 mb\n",
      " Calculation count 0\n",
      "===================================================\n",
      "\n"
     ]
    },
    {
     "name": "stderr",
     "output_type": "stream",
     "text": [
      "java.lang.NumberFormatException: For input string: \"Y\"\n",
      "\tat java.base/java.lang.NumberFormatException.forInputString(NumberFormatException.java:67)\n",
      "\tat java.base/java.lang.Integer.parseInt(Integer.java:662)\n",
      "\tat java.base/java.lang.Integer.parseInt(Integer.java:778)\n",
      "\tat ca.pfv.spmf.algorithms.sequentialpatterns.nosep.AlgoNOSEP.readInputFile(AlgoNOSEP.java:809)\n",
      "\tat ca.pfv.spmf.algorithms.sequentialpatterns.nosep.AlgoNOSEP.runAlgorithm(AlgoNOSEP.java:878)\n",
      "\tat ca.pfv.spmf.algorithmmanager.descriptions.DescriptionAlgoNOSEP.runAlgorithm(DescriptionAlgoNOSEP.java:52)\n",
      "\tat ca.pfv.spmf.gui.CommandProcessor.runAlgorithm(CommandProcessor.java:265)\n",
      "\tat ca.pfv.spmf.gui.Main.processCommandLineArguments(Main.java:151)\n",
      "\tat ca.pfv.spmf.gui.Main.main(Main.java:64)\n",
      "NPAI 2/2: 0 unique patterns\n",
      "--------------------------\n",
      "Genome 74/90: NC_009788\n",
      "No PAI sequences\n",
      "No CPAI sequences\n",
      "No NPAI sequences\n",
      "--------------------------\n",
      "Genome 75/90: NC_017638\n",
      "No PAI sequences\n"
     ]
    },
    {
     "name": "stdout",
     "output_type": "stream",
     "text": [
      ">/home/veljko/.local/lib/python3.10/site-packages/spmf/spmf.jar\n",
      "=============  NOSEP v2.46 - STATS =============\n",
      " Number of patterns found: 0\n",
      " Total time ~ 24 ms\n",
      " Maximum memory usage : 11.026557922363281 mb\n",
      " Calculation count 0\n",
      "===================================================\n",
      "\n",
      ">/home/veljko/.local/lib/python3.10/site-packages/spmf/spmf.jar\n",
      "=============  NOSEP v2.46 - STATS =============\n",
      " Number of patterns found: 27900\n",
      " Total time ~ 237919 ms\n",
      " Maximum memory usage : 139.47586822509766 mb\n",
      " Calculation count 57403\n",
      "===================================================\n",
      "\n"
     ]
    },
    {
     "name": "stderr",
     "output_type": "stream",
     "text": [
      "CPAI 1/3: 3002 unique patterns\n"
     ]
    },
    {
     "name": "stdout",
     "output_type": "stream",
     "text": [
      ">/home/veljko/.local/lib/python3.10/site-packages/spmf/spmf.jar\n",
      "=============  NOSEP v2.46 - STATS =============\n",
      " Number of patterns found: 8624\n",
      " Total time ~ 23502 ms\n",
      " Maximum memory usage : 25.742019653320312 mb\n",
      " Calculation count 18793\n",
      "===================================================\n",
      "\n"
     ]
    },
    {
     "name": "stderr",
     "output_type": "stream",
     "text": [
      "CPAI 2/3: 21 unique patterns\n"
     ]
    },
    {
     "name": "stdout",
     "output_type": "stream",
     "text": [
      ">/home/veljko/.local/lib/python3.10/site-packages/spmf/spmf.jar\n",
      "=============  NOSEP v2.46 - STATS =============\n",
      " Number of patterns found: 6449\n",
      " Total time ~ 12209 ms\n",
      " Maximum memory usage : 122.1070785522461 mb\n",
      " Calculation count 13818\n",
      "===================================================\n",
      "\n"
     ]
    },
    {
     "name": "stderr",
     "output_type": "stream",
     "text": [
      "CPAI 3/3: 8 unique patterns\n"
     ]
    },
    {
     "name": "stdout",
     "output_type": "stream",
     "text": [
      ">/home/veljko/.local/lib/python3.10/site-packages/spmf/spmf.jar\n",
      "=============  NOSEP v2.46 - STATS =============\n",
      " Number of patterns found: 12693\n",
      " Total time ~ 47496 ms\n",
      " Maximum memory usage : 60.727027893066406 mb\n",
      " Calculation count 27632\n",
      "===================================================\n",
      "\n"
     ]
    },
    {
     "name": "stderr",
     "output_type": "stream",
     "text": [
      "NPAI 1/3: 37 unique patterns\n"
     ]
    },
    {
     "name": "stdout",
     "output_type": "stream",
     "text": [
      ">/home/veljko/.local/lib/python3.10/site-packages/spmf/spmf.jar\n",
      "=============  NOSEP v2.46 - STATS =============\n",
      " Number of patterns found: 8526\n",
      " Total time ~ 20075 ms\n",
      " Maximum memory usage : 93.65878295898438 mb\n",
      " Calculation count 18586\n",
      "===================================================\n",
      "\n"
     ]
    },
    {
     "name": "stderr",
     "output_type": "stream",
     "text": [
      "NPAI 2/3: 18 unique patterns\n"
     ]
    },
    {
     "name": "stdout",
     "output_type": "stream",
     "text": [
      ">/home/veljko/.local/lib/python3.10/site-packages/spmf/spmf.jar\n",
      "=============  NOSEP v2.46 - STATS =============\n",
      " Number of patterns found: 15096\n",
      " Total time ~ 63523 ms\n",
      " Maximum memory usage : 101.99281311035156 mb\n",
      " Calculation count 32346\n",
      "===================================================\n",
      "\n"
     ]
    },
    {
     "name": "stderr",
     "output_type": "stream",
     "text": [
      "NPAI 3/3: 68 unique patterns\n",
      "--------------------------\n",
      "Genome 76/90: NC_011750\n",
      "No PAI sequences\n"
     ]
    },
    {
     "name": "stdout",
     "output_type": "stream",
     "text": [
      ">/home/veljko/.local/lib/python3.10/site-packages/spmf/spmf.jar\n",
      "=============  NOSEP v2.46 - STATS =============\n",
      " Number of patterns found: 16657\n",
      " Total time ~ 79134 ms\n",
      " Maximum memory usage : 167.7969512939453 mb\n",
      " Calculation count 36114\n",
      "===================================================\n",
      "\n"
     ]
    },
    {
     "name": "stderr",
     "output_type": "stream",
     "text": [
      "CPAI 1/9: 36 unique patterns\n",
      "CPAI 2/9: island too large\n"
     ]
    },
    {
     "name": "stdout",
     "output_type": "stream",
     "text": [
      ">/home/veljko/.local/lib/python3.10/site-packages/spmf/spmf.jar\n",
      "=============  NOSEP v2.46 - STATS =============\n",
      " Number of patterns found: 8888\n",
      " Total time ~ 24372 ms\n",
      " Maximum memory usage : 140.80368041992188 mb\n",
      " Calculation count 19486\n",
      "===================================================\n",
      "\n"
     ]
    },
    {
     "name": "stderr",
     "output_type": "stream",
     "text": [
      "CPAI 3/9: 10 unique patterns\n"
     ]
    },
    {
     "name": "stdout",
     "output_type": "stream",
     "text": [
      ">/home/veljko/.local/lib/python3.10/site-packages/spmf/spmf.jar\n",
      "=============  NOSEP v2.46 - STATS =============\n",
      " Number of patterns found: 7645\n",
      " Total time ~ 19327 ms\n",
      " Maximum memory usage : 48.6328125 mb\n",
      " Calculation count 16723\n",
      "===================================================\n",
      "\n"
     ]
    },
    {
     "name": "stderr",
     "output_type": "stream",
     "text": [
      "CPAI 4/9: 16 unique patterns\n",
      "CPAI 5/9: island too large\n"
     ]
    },
    {
     "name": "stdout",
     "output_type": "stream",
     "text": [
      ">/home/veljko/.local/lib/python3.10/site-packages/spmf/spmf.jar\n",
      "=============  NOSEP v2.46 - STATS =============\n",
      " Number of patterns found: 27550\n",
      " Total time ~ 228412 ms\n",
      " Maximum memory usage : 179.2834014892578 mb\n",
      " Calculation count 57790\n",
      "===================================================\n",
      "\n"
     ]
    },
    {
     "name": "stderr",
     "output_type": "stream",
     "text": [
      "CPAI 6/9: 1594 unique patterns\n"
     ]
    },
    {
     "name": "stdout",
     "output_type": "stream",
     "text": [
      ">/home/veljko/.local/lib/python3.10/site-packages/spmf/spmf.jar\n",
      "=============  NOSEP v2.46 - STATS =============\n",
      " Number of patterns found: 11627\n",
      " Total time ~ 40737 ms\n",
      " Maximum memory usage : 14.293876647949219 mb\n",
      " Calculation count 25769\n",
      "===================================================\n",
      "\n"
     ]
    },
    {
     "name": "stderr",
     "output_type": "stream",
     "text": [
      "CPAI 7/9: 22 unique patterns\n",
      "CPAI 8/9: island too large\n"
     ]
    },
    {
     "name": "stdout",
     "output_type": "stream",
     "text": [
      ">/home/veljko/.local/lib/python3.10/site-packages/spmf/spmf.jar\n",
      "=============  NOSEP v2.46 - STATS =============\n",
      " Number of patterns found: 131909\n",
      " Total time ~ 1448223 ms\n",
      " Maximum memory usage : 180.58496856689453 mb\n",
      " Calculation count 156675\n",
      "===================================================\n",
      "\n"
     ]
    },
    {
     "name": "stderr",
     "output_type": "stream",
     "text": [
      "CPAI 9/9: 32 unique patterns\n"
     ]
    },
    {
     "name": "stdout",
     "output_type": "stream",
     "text": [
      ">/home/veljko/.local/lib/python3.10/site-packages/spmf/spmf.jar\n",
      "=============  NOSEP v2.46 - STATS =============\n",
      " Number of patterns found: 8017\n",
      " Total time ~ 18987 ms\n",
      " Maximum memory usage : 71.45578002929688 mb\n",
      " Calculation count 17615\n",
      "===================================================\n",
      "\n"
     ]
    },
    {
     "name": "stderr",
     "output_type": "stream",
     "text": [
      "NPAI 1/2: 5 unique patterns\n"
     ]
    },
    {
     "name": "stdout",
     "output_type": "stream",
     "text": [
      ">/home/veljko/.local/lib/python3.10/site-packages/spmf/spmf.jar\n",
      "=============  NOSEP v2.46 - STATS =============\n",
      " Number of patterns found: 11763\n",
      " Total time ~ 39177 ms\n",
      " Maximum memory usage : 30.933853149414062 mb\n",
      " Calculation count 25472\n",
      "===================================================\n",
      "\n"
     ]
    },
    {
     "name": "stderr",
     "output_type": "stream",
     "text": [
      "NPAI 2/2: 22 unique patterns\n",
      "--------------------------\n",
      "Genome 77/90: NC_011741\n",
      "No PAI sequences\n"
     ]
    },
    {
     "name": "stdout",
     "output_type": "stream",
     "text": [
      ">/home/veljko/.local/lib/python3.10/site-packages/spmf/spmf.jar\n",
      "=============  NOSEP v2.46 - STATS =============\n",
      " Number of patterns found: 28659\n",
      " Total time ~ 239703 ms\n",
      " Maximum memory usage : 108.79259490966797 mb\n",
      " Calculation count 58591\n",
      "===================================================\n",
      "\n"
     ]
    },
    {
     "name": "stderr",
     "output_type": "stream",
     "text": [
      "CPAI 1/2: 479 unique patterns\n"
     ]
    },
    {
     "name": "stdout",
     "output_type": "stream",
     "text": [
      ">/home/veljko/.local/lib/python3.10/site-packages/spmf/spmf.jar\n",
      "=============  NOSEP v2.46 - STATS =============\n",
      " Number of patterns found: 13983\n",
      " Total time ~ 57707 ms\n",
      " Maximum memory usage : 119.2166519165039 mb\n",
      " Calculation count 30087\n",
      "===================================================\n",
      "\n"
     ]
    },
    {
     "name": "stderr",
     "output_type": "stream",
     "text": [
      "CPAI 2/2: 66 unique patterns\n"
     ]
    },
    {
     "name": "stdout",
     "output_type": "stream",
     "text": [
      ">/home/veljko/.local/lib/python3.10/site-packages/spmf/spmf.jar\n",
      "=============  NOSEP v2.46 - STATS =============\n",
      " Number of patterns found: 11693\n",
      " Total time ~ 39049 ms\n",
      " Maximum memory usage : 38.576881408691406 mb\n",
      " Calculation count 25392\n",
      "===================================================\n",
      "\n"
     ]
    },
    {
     "name": "stderr",
     "output_type": "stream",
     "text": [
      "NPAI 1/2: 16 unique patterns\n"
     ]
    },
    {
     "name": "stdout",
     "output_type": "stream",
     "text": [
      ">/home/veljko/.local/lib/python3.10/site-packages/spmf/spmf.jar\n",
      "=============  NOSEP v2.46 - STATS =============\n",
      " Number of patterns found: 27402\n",
      " Total time ~ 230763 ms\n",
      " Maximum memory usage : 34.582679748535156 mb\n",
      " Calculation count 58533\n",
      "===================================================\n",
      "\n"
     ]
    },
    {
     "name": "stderr",
     "output_type": "stream",
     "text": [
      "NPAI 2/2: 145 unique patterns\n",
      "--------------------------\n",
      "Genome 78/90: NC_011415\n",
      "No PAI sequences\n"
     ]
    },
    {
     "name": "stdout",
     "output_type": "stream",
     "text": [
      ">/home/veljko/.local/lib/python3.10/site-packages/spmf/spmf.jar\n",
      "=============  NOSEP v2.46 - STATS =============\n",
      " Number of patterns found: 28767\n",
      " Total time ~ 237590 ms\n",
      " Maximum memory usage : 100.6537857055664 mb\n",
      " Calculation count 58749\n",
      "===================================================\n",
      "\n"
     ]
    },
    {
     "name": "stderr",
     "output_type": "stream",
     "text": [
      "CPAI 1/2: 664 unique patterns\n"
     ]
    },
    {
     "name": "stdout",
     "output_type": "stream",
     "text": [
      ">/home/veljko/.local/lib/python3.10/site-packages/spmf/spmf.jar\n",
      "=============  NOSEP v2.46 - STATS =============\n",
      " Number of patterns found: 14011\n",
      " Total time ~ 59195 ms\n",
      " Maximum memory usage : 60.792396545410156 mb\n",
      " Calculation count 30105\n",
      "===================================================\n",
      "\n"
     ]
    },
    {
     "name": "stderr",
     "output_type": "stream",
     "text": [
      "CPAI 2/2: 69 unique patterns\n"
     ]
    },
    {
     "name": "stdout",
     "output_type": "stream",
     "text": [
      ">/home/veljko/.local/lib/python3.10/site-packages/spmf/spmf.jar\n",
      "=============  NOSEP v2.46 - STATS =============\n",
      " Number of patterns found: 11674\n",
      " Total time ~ 41017 ms\n",
      " Maximum memory usage : 147.4771270751953 mb\n",
      " Calculation count 25406\n",
      "===================================================\n",
      "\n"
     ]
    },
    {
     "name": "stderr",
     "output_type": "stream",
     "text": [
      "NPAI 1/2: 18 unique patterns\n"
     ]
    },
    {
     "name": "stdout",
     "output_type": "stream",
     "text": [
      ">/home/veljko/.local/lib/python3.10/site-packages/spmf/spmf.jar\n",
      "=============  NOSEP v2.46 - STATS =============\n",
      " Number of patterns found: 27317\n",
      " Total time ~ 233948 ms\n",
      " Maximum memory usage : 38.69136047363281 mb\n",
      " Calculation count 58478\n",
      "===================================================\n",
      "\n"
     ]
    },
    {
     "name": "stderr",
     "output_type": "stream",
     "text": [
      "NPAI 2/2: 120 unique patterns\n",
      "--------------------------\n",
      "Genome 79/90: NC_017633\n",
      "No PAI sequences\n"
     ]
    },
    {
     "name": "stdout",
     "output_type": "stream",
     "text": [
      ">/home/veljko/.local/lib/python3.10/site-packages/spmf/spmf.jar\n",
      "=============  NOSEP v2.46 - STATS =============\n",
      " Number of patterns found: 10816\n",
      " Total time ~ 28851 ms\n",
      " Maximum memory usage : 122.84181213378906 mb\n",
      " Calculation count 21104\n",
      "===================================================\n",
      "\n"
     ]
    },
    {
     "name": "stderr",
     "output_type": "stream",
     "text": [
      "CPAI 1/7: 73 unique patterns\n",
      "CPAI 2/7: island too large\n"
     ]
    },
    {
     "name": "stdout",
     "output_type": "stream",
     "text": [
      ">/home/veljko/.local/lib/python3.10/site-packages/spmf/spmf.jar\n",
      "=============  NOSEP v2.46 - STATS =============\n",
      " Number of patterns found: 13795\n",
      " Total time ~ 59828 ms\n",
      " Maximum memory usage : 83.55596160888672 mb\n",
      " Calculation count 29766\n",
      "===================================================\n",
      "\n"
     ]
    },
    {
     "name": "stderr",
     "output_type": "stream",
     "text": [
      "CPAI 3/7: 51 unique patterns\n",
      "CPAI 4/7: island too large\n"
     ]
    },
    {
     "name": "stdout",
     "output_type": "stream",
     "text": [
      ">/home/veljko/.local/lib/python3.10/site-packages/spmf/spmf.jar\n",
      "=============  NOSEP v2.46 - STATS =============\n",
      " Number of patterns found: 9796\n",
      " Total time ~ 28965 ms\n",
      " Maximum memory usage : 113.02848815917969 mb\n",
      " Calculation count 21757\n",
      "===================================================\n",
      "\n"
     ]
    },
    {
     "name": "stderr",
     "output_type": "stream",
     "text": [
      "CPAI 5/7: 20 unique patterns\n"
     ]
    },
    {
     "name": "stdout",
     "output_type": "stream",
     "text": [
      ">/home/veljko/.local/lib/python3.10/site-packages/spmf/spmf.jar\n",
      "=============  NOSEP v2.46 - STATS =============\n",
      " Number of patterns found: 14895\n",
      " Total time ~ 63048 ms\n",
      " Maximum memory usage : 84.56450653076172 mb\n",
      " Calculation count 32446\n",
      "===================================================\n",
      "\n"
     ]
    },
    {
     "name": "stderr",
     "output_type": "stream",
     "text": [
      "CPAI 6/7: 46 unique patterns\n"
     ]
    },
    {
     "name": "stdout",
     "output_type": "stream",
     "text": [
      ">/home/veljko/.local/lib/python3.10/site-packages/spmf/spmf.jar\n",
      "=============  NOSEP v2.46 - STATS =============\n",
      " Number of patterns found: 29382\n",
      " Total time ~ 279133 ms\n",
      " Maximum memory usage : 188.0750732421875 mb\n",
      " Calculation count 63770\n",
      "===================================================\n",
      "\n"
     ]
    },
    {
     "name": "stderr",
     "output_type": "stream",
     "text": [
      "CPAI 7/7: 135 unique patterns\n"
     ]
    },
    {
     "name": "stdout",
     "output_type": "stream",
     "text": [
      ">/home/veljko/.local/lib/python3.10/site-packages/spmf/spmf.jar\n",
      "=============  NOSEP v2.46 - STATS =============\n",
      " Number of patterns found: 11891\n",
      " Total time ~ 39102 ms\n",
      " Maximum memory usage : 31.73680877685547 mb\n",
      " Calculation count 25791\n",
      "===================================================\n",
      "\n"
     ]
    },
    {
     "name": "stderr",
     "output_type": "stream",
     "text": [
      "NPAI 1/2: 33 unique patterns\n"
     ]
    },
    {
     "name": "stdout",
     "output_type": "stream",
     "text": [
      ">/home/veljko/.local/lib/python3.10/site-packages/spmf/spmf.jar\n",
      "=============  NOSEP v2.46 - STATS =============\n",
      " Number of patterns found: 8515\n",
      " Total time ~ 21329 ms\n",
      " Maximum memory usage : 30.584815979003906 mb\n",
      " Calculation count 18565\n",
      "===================================================\n",
      "\n"
     ]
    },
    {
     "name": "stderr",
     "output_type": "stream",
     "text": [
      "NPAI 2/2: 10 unique patterns\n",
      "--------------------------\n",
      "Genome 80/90: NC_017665\n",
      "No PAI sequences\n",
      "No CPAI sequences\n"
     ]
    },
    {
     "name": "stdout",
     "output_type": "stream",
     "text": [
      ">/home/veljko/.local/lib/python3.10/site-packages/spmf/spmf.jar\n",
      "=============  NOSEP v2.46 - STATS =============\n",
      " Number of patterns found: 7290\n",
      " Total time ~ 16351 ms\n",
      " Maximum memory usage : 47.978187561035156 mb\n",
      " Calculation count 15851\n",
      "===================================================\n",
      "\n"
     ]
    },
    {
     "name": "stderr",
     "output_type": "stream",
     "text": [
      "NPAI 1/1: 453 unique patterns\n",
      "--------------------------\n",
      "Genome 81/90: NC_010473\n",
      "No PAI sequences\n"
     ]
    },
    {
     "name": "stdout",
     "output_type": "stream",
     "text": [
      ">/home/veljko/.local/lib/python3.10/site-packages/spmf/spmf.jar\n",
      "=============  NOSEP v2.46 - STATS =============\n",
      " Number of patterns found: 7256\n",
      " Total time ~ 16069 ms\n",
      " Maximum memory usage : 83.10214233398438 mb\n",
      " Calculation count 16092\n",
      "===================================================\n",
      "\n"
     ]
    },
    {
     "name": "stderr",
     "output_type": "stream",
     "text": [
      "CPAI 1/4: 7 unique patterns\n"
     ]
    },
    {
     "name": "stdout",
     "output_type": "stream",
     "text": [
      ">/home/veljko/.local/lib/python3.10/site-packages/spmf/spmf.jar\n",
      "=============  NOSEP v2.46 - STATS =============\n",
      " Number of patterns found: 29728\n",
      " Total time ~ 263127 ms\n",
      " Maximum memory usage : 149.92733764648438 mb\n",
      " Calculation count 60260\n",
      "===================================================\n",
      "\n"
     ]
    },
    {
     "name": "stderr",
     "output_type": "stream",
     "text": [
      "CPAI 2/4: 3997 unique patterns\n"
     ]
    },
    {
     "name": "stdout",
     "output_type": "stream",
     "text": [
      ">/home/veljko/.local/lib/python3.10/site-packages/spmf/spmf.jar\n",
      "=============  NOSEP v2.46 - STATS =============\n",
      " Number of patterns found: 8622\n",
      " Total time ~ 23637 ms\n",
      " Maximum memory usage : 137.42320251464844 mb\n",
      " Calculation count 18796\n",
      "===================================================\n",
      "\n"
     ]
    },
    {
     "name": "stderr",
     "output_type": "stream",
     "text": [
      "CPAI 3/4: 20 unique patterns\n"
     ]
    },
    {
     "name": "stdout",
     "output_type": "stream",
     "text": [
      ">/home/veljko/.local/lib/python3.10/site-packages/spmf/spmf.jar\n",
      "=============  NOSEP v2.46 - STATS =============\n",
      " Number of patterns found: 6447\n",
      " Total time ~ 12089 ms\n",
      " Maximum memory usage : 83.83209991455078 mb\n",
      " Calculation count 13821\n",
      "===================================================\n",
      "\n"
     ]
    },
    {
     "name": "stderr",
     "output_type": "stream",
     "text": [
      "CPAI 4/4: 8 unique patterns\n"
     ]
    },
    {
     "name": "stdout",
     "output_type": "stream",
     "text": [
      ">/home/veljko/.local/lib/python3.10/site-packages/spmf/spmf.jar\n",
      "=============  NOSEP v2.46 - STATS =============\n",
      " Number of patterns found: 12719\n",
      " Total time ~ 45872 ms\n",
      " Maximum memory usage : 63.25194549560547 mb\n",
      " Calculation count 27689\n",
      "===================================================\n",
      "\n"
     ]
    },
    {
     "name": "stderr",
     "output_type": "stream",
     "text": [
      "NPAI 1/2: 38 unique patterns\n"
     ]
    },
    {
     "name": "stdout",
     "output_type": "stream",
     "text": [
      ">/home/veljko/.local/lib/python3.10/site-packages/spmf/spmf.jar\n",
      "=============  NOSEP v2.46 - STATS =============\n",
      " Number of patterns found: 104946\n",
      " Total time ~ 1038317 ms\n",
      " Maximum memory usage : 131.3160171508789 mb\n",
      " Calculation count 128002\n",
      "===================================================\n",
      "\n"
     ]
    },
    {
     "name": "stderr",
     "output_type": "stream",
     "text": [
      "NPAI 2/2: 81562 unique patterns\n",
      "--------------------------\n",
      "Genome 82/90: NC_017652\n",
      "No PAI sequences\n"
     ]
    },
    {
     "name": "stdout",
     "output_type": "stream",
     "text": [
      ">/home/veljko/.local/lib/python3.10/site-packages/spmf/spmf.jar\n",
      "=============  NOSEP v2.46 - STATS =============\n",
      " Number of patterns found: 12013\n",
      " Total time ~ 35282 ms\n",
      " Maximum memory usage : 45.92499542236328 mb\n",
      " Calculation count 23576\n",
      "===================================================\n",
      "\n"
     ]
    },
    {
     "name": "stderr",
     "output_type": "stream",
     "text": [
      "CPAI 1/12: 80 unique patterns\n"
     ]
    },
    {
     "name": "stdout",
     "output_type": "stream",
     "text": [
      ">/home/veljko/.local/lib/python3.10/site-packages/spmf/spmf.jar\n",
      "=============  NOSEP v2.46 - STATS =============\n",
      " Number of patterns found: 23910\n",
      " Total time ~ 185705 ms\n",
      " Maximum memory usage : 128.1718521118164 mb\n",
      " Calculation count 52367\n",
      "===================================================\n",
      "\n"
     ]
    },
    {
     "name": "stderr",
     "output_type": "stream",
     "text": [
      "CPAI 2/12: 165 unique patterns\n"
     ]
    },
    {
     "name": "stdout",
     "output_type": "stream",
     "text": [
      ">/home/veljko/.local/lib/python3.10/site-packages/spmf/spmf.jar\n",
      "=============  NOSEP v2.46 - STATS =============\n",
      " Number of patterns found: 8020\n",
      " Total time ~ 20214 ms\n",
      " Maximum memory usage : 39.64259338378906 mb\n",
      " Calculation count 17963\n",
      "===================================================\n",
      "\n"
     ]
    },
    {
     "name": "stderr",
     "output_type": "stream",
     "text": [
      "CPAI 3/12: 6 unique patterns\n"
     ]
    },
    {
     "name": "stdout",
     "output_type": "stream",
     "text": [
      ">/home/veljko/.local/lib/python3.10/site-packages/spmf/spmf.jar\n",
      "=============  NOSEP v2.46 - STATS =============\n",
      " Number of patterns found: 6211\n",
      " Total time ~ 12600 ms\n",
      " Maximum memory usage : 71.45338439941406 mb\n",
      " Calculation count 14016\n",
      "===================================================\n",
      "\n"
     ]
    },
    {
     "name": "stderr",
     "output_type": "stream",
     "text": [
      "CPAI 4/12: 16 unique patterns\n"
     ]
    },
    {
     "name": "stdout",
     "output_type": "stream",
     "text": [
      ">/home/veljko/.local/lib/python3.10/site-packages/spmf/spmf.jar\n",
      "=============  NOSEP v2.46 - STATS =============\n",
      " Number of patterns found: 11852\n",
      " Total time ~ 44105 ms\n",
      " Maximum memory usage : 75.740966796875 mb\n",
      " Calculation count 25776\n",
      "===================================================\n",
      "\n"
     ]
    },
    {
     "name": "stderr",
     "output_type": "stream",
     "text": [
      "CPAI 5/12: 200 unique patterns\n",
      "CPAI 6/12: island too large\n",
      "CPAI 7/12: island too large\n"
     ]
    },
    {
     "name": "stdout",
     "output_type": "stream",
     "text": [
      ">/home/veljko/.local/lib/python3.10/site-packages/spmf/spmf.jar\n",
      "=============  NOSEP v2.46 - STATS =============\n",
      " Number of patterns found: 25810\n",
      " Total time ~ 220860 ms\n",
      " Maximum memory usage : 168.33868408203125 mb\n",
      " Calculation count 57060\n",
      "===================================================\n",
      "\n"
     ]
    },
    {
     "name": "stderr",
     "output_type": "stream",
     "text": [
      "CPAI 8/12: 40 unique patterns\n"
     ]
    },
    {
     "name": "stdout",
     "output_type": "stream",
     "text": [
      ">/home/veljko/.local/lib/python3.10/site-packages/spmf/spmf.jar\n",
      "=============  NOSEP v2.46 - STATS =============\n",
      " Number of patterns found: 14300\n",
      " Total time ~ 62471 ms\n",
      " Maximum memory usage : 125.3949203491211 mb\n",
      " Calculation count 31868\n",
      "===================================================\n",
      "\n"
     ]
    },
    {
     "name": "stderr",
     "output_type": "stream",
     "text": [
      "CPAI 9/12: 36 unique patterns\n",
      "CPAI 10/12: island too large\n"
     ]
    },
    {
     "name": "stdout",
     "output_type": "stream",
     "text": [
      ">/home/veljko/.local/lib/python3.10/site-packages/spmf/spmf.jar\n",
      "=============  NOSEP v2.46 - STATS =============\n",
      " Number of patterns found: 15838\n",
      " Total time ~ 75525 ms\n",
      " Maximum memory usage : 14.914230346679688 mb\n",
      " Calculation count 34944\n",
      "===================================================\n",
      "\n"
     ]
    },
    {
     "name": "stderr",
     "output_type": "stream",
     "text": [
      "CPAI 11/12: 82 unique patterns\n"
     ]
    },
    {
     "name": "stdout",
     "output_type": "stream",
     "text": [
      ">/home/veljko/.local/lib/python3.10/site-packages/spmf/spmf.jar\n",
      "=============  NOSEP v2.46 - STATS =============\n",
      " Number of patterns found: 15504\n",
      " Total time ~ 70774 ms\n",
      " Maximum memory usage : 119.81954193115234 mb\n",
      " Calculation count 33171\n",
      "===================================================\n",
      "\n"
     ]
    },
    {
     "name": "stderr",
     "output_type": "stream",
     "text": [
      "CPAI 12/12: 22 unique patterns\n"
     ]
    },
    {
     "name": "stdout",
     "output_type": "stream",
     "text": [
      ">/home/veljko/.local/lib/python3.10/site-packages/spmf/spmf.jar\n",
      "=============  NOSEP v2.46 - STATS =============\n",
      " Number of patterns found: 7121\n",
      " Total time ~ 15588 ms\n",
      " Maximum memory usage : 129.0258026123047 mb\n",
      " Calculation count 15654\n",
      "===================================================\n",
      "\n"
     ]
    },
    {
     "name": "stderr",
     "output_type": "stream",
     "text": [
      "NPAI 1/2: 3 unique patterns\n"
     ]
    },
    {
     "name": "stdout",
     "output_type": "stream",
     "text": [
      ">/home/veljko/.local/lib/python3.10/site-packages/spmf/spmf.jar\n",
      "=============  NOSEP v2.46 - STATS =============\n",
      " Number of patterns found: 10543\n",
      " Total time ~ 33047 ms\n",
      " Maximum memory usage : 141.42315673828125 mb\n",
      " Calculation count 22816\n",
      "===================================================\n",
      "\n"
     ]
    },
    {
     "name": "stderr",
     "output_type": "stream",
     "text": [
      "NPAI 2/2: 24 unique patterns\n",
      "--------------------------\n",
      "Genome 83/90: NC_017637\n",
      "No PAI sequences\n",
      "No CPAI sequences\n"
     ]
    },
    {
     "name": "stdout",
     "output_type": "stream",
     "text": [
      ">/home/veljko/.local/lib/python3.10/site-packages/spmf/spmf.jar\n",
      "=============  NOSEP v2.46 - STATS =============\n",
      " Number of patterns found: 7290\n",
      " Total time ~ 15216 ms\n",
      " Maximum memory usage : 39.087486267089844 mb\n",
      " Calculation count 15851\n",
      "===================================================\n",
      "\n"
     ]
    },
    {
     "name": "stderr",
     "output_type": "stream",
     "text": [
      "NPAI 1/1: 453 unique patterns\n",
      "--------------------------\n",
      "Genome 84/90: NC_017626\n",
      "No PAI sequences\n",
      "CPAI 1/11: island too large\n",
      "CPAI 2/11: island too large\n"
     ]
    },
    {
     "name": "stdout",
     "output_type": "stream",
     "text": [
      ">/home/veljko/.local/lib/python3.10/site-packages/spmf/spmf.jar\n",
      "=============  NOSEP v2.46 - STATS =============\n",
      " Number of patterns found: 20540\n",
      " Total time ~ 134424 ms\n",
      " Maximum memory usage : 38.879913330078125 mb\n",
      " Calculation count 44677\n",
      "===================================================\n",
      "\n"
     ]
    },
    {
     "name": "stderr",
     "output_type": "stream",
     "text": [
      "CPAI 3/11: 124 unique patterns\n"
     ]
    },
    {
     "name": "stdout",
     "output_type": "stream",
     "text": [
      ">/home/veljko/.local/lib/python3.10/site-packages/spmf/spmf.jar\n",
      "=============  NOSEP v2.46 - STATS =============\n",
      " Number of patterns found: 16219\n",
      " Total time ~ 78670 ms\n",
      " Maximum memory usage : 142.26014709472656 mb\n",
      " Calculation count 35248\n",
      "===================================================\n",
      "\n"
     ]
    },
    {
     "name": "stderr",
     "output_type": "stream",
     "text": [
      "CPAI 4/11: 84 unique patterns\n",
      "CPAI 5/11: island too large\n"
     ]
    },
    {
     "name": "stdout",
     "output_type": "stream",
     "text": [
      ">/home/veljko/.local/lib/python3.10/site-packages/spmf/spmf.jar\n",
      "=============  NOSEP v2.46 - STATS =============\n",
      " Number of patterns found: 83194\n",
      " Total time ~ 868115 ms\n",
      " Maximum memory usage : 94.5693359375 mb\n",
      " Calculation count 109596\n",
      "===================================================\n",
      "\n"
     ]
    },
    {
     "name": "stderr",
     "output_type": "stream",
     "text": [
      "CPAI 6/11: 223 unique patterns\n"
     ]
    },
    {
     "name": "stdout",
     "output_type": "stream",
     "text": [
      ">/home/veljko/.local/lib/python3.10/site-packages/spmf/spmf.jar\n",
      "=============  NOSEP v2.46 - STATS =============\n",
      " Number of patterns found: 22416\n",
      " Total time ~ 152527 ms\n",
      " Maximum memory usage : 140.2724380493164 mb\n",
      " Calculation count 48849\n",
      "===================================================\n",
      "\n"
     ]
    },
    {
     "name": "stderr",
     "output_type": "stream",
     "text": [
      "CPAI 7/11: 80 unique patterns\n"
     ]
    },
    {
     "name": "stdout",
     "output_type": "stream",
     "text": [
      ">/home/veljko/.local/lib/python3.10/site-packages/spmf/spmf.jar\n",
      "=============  NOSEP v2.46 - STATS =============\n",
      " Number of patterns found: 6307\n",
      " Total time ~ 10983 ms\n",
      " Maximum memory usage : 93.55592346191406 mb\n",
      " Calculation count 13733\n",
      "===================================================\n",
      "\n"
     ]
    },
    {
     "name": "stderr",
     "output_type": "stream",
     "text": [
      "CPAI 8/11: 5 unique patterns\n"
     ]
    },
    {
     "name": "stdout",
     "output_type": "stream",
     "text": [
      ">/home/veljko/.local/lib/python3.10/site-packages/spmf/spmf.jar\n",
      "=============  NOSEP v2.46 - STATS =============\n",
      " Number of patterns found: 54466\n",
      " Total time ~ 166593 ms\n",
      " Maximum memory usage : 126.97718048095703 mb\n",
      " Calculation count 62410\n",
      "===================================================\n",
      "\n"
     ]
    },
    {
     "name": "stderr",
     "output_type": "stream",
     "text": [
      "CPAI 9/11: 44081 unique patterns\n"
     ]
    },
    {
     "name": "stdout",
     "output_type": "stream",
     "text": [
      ">/home/veljko/.local/lib/python3.10/site-packages/spmf/spmf.jar\n",
      "=============  NOSEP v2.46 - STATS =============\n",
      " Number of patterns found: 20609\n",
      " Total time ~ 133995 ms\n",
      " Maximum memory usage : 90.26716613769531 mb\n",
      " Calculation count 45855\n",
      "===================================================\n",
      "\n"
     ]
    },
    {
     "name": "stderr",
     "output_type": "stream",
     "text": [
      "CPAI 10/11: 86 unique patterns\n"
     ]
    },
    {
     "name": "stdout",
     "output_type": "stream",
     "text": [
      ">/home/veljko/.local/lib/python3.10/site-packages/spmf/spmf.jar\n",
      "=============  NOSEP v2.46 - STATS =============\n",
      " Number of patterns found: 25288\n",
      " Total time ~ 209081 ms\n",
      " Maximum memory usage : 136.22836303710938 mb\n",
      " Calculation count 55070\n",
      "===================================================\n",
      "\n"
     ]
    },
    {
     "name": "stderr",
     "output_type": "stream",
     "text": [
      "CPAI 11/11: 64 unique patterns\n"
     ]
    },
    {
     "name": "stdout",
     "output_type": "stream",
     "text": [
      ">/home/veljko/.local/lib/python3.10/site-packages/spmf/spmf.jar\n",
      "=============  NOSEP v2.46 - STATS =============\n",
      " Number of patterns found: 8781\n",
      " Total time ~ 23197 ms\n",
      " Maximum memory usage : 73.20255279541016 mb\n",
      " Calculation count 19215\n",
      "===================================================\n",
      "\n"
     ]
    },
    {
     "name": "stderr",
     "output_type": "stream",
     "text": [
      "NPAI 1/1: 35 unique patterns\n",
      "--------------------------\n",
      "Genome 85/90: NC_022370\n",
      "No PAI sequences\n"
     ]
    },
    {
     "name": "stdout",
     "output_type": "stream",
     "text": [
      ">/home/veljko/.local/lib/python3.10/site-packages/spmf/spmf.jar\n",
      "=============  NOSEP v2.46 - STATS =============\n",
      " Number of patterns found: 30677\n",
      " Total time ~ 285723 ms\n",
      " Maximum memory usage : 62.191009521484375 mb\n",
      " Calculation count 64147\n",
      "===================================================\n",
      "\n"
     ]
    },
    {
     "name": "stderr",
     "output_type": "stream",
     "text": [
      "CPAI 1/8: 105 unique patterns\n"
     ]
    },
    {
     "name": "stdout",
     "output_type": "stream",
     "text": [
      ">/home/veljko/.local/lib/python3.10/site-packages/spmf/spmf.jar\n",
      "=============  NOSEP v2.46 - STATS =============\n",
      " Number of patterns found: 6221\n",
      " Total time ~ 11950 ms\n",
      " Maximum memory usage : 93.34284210205078 mb\n",
      " Calculation count 14008\n",
      "===================================================\n",
      "\n"
     ]
    },
    {
     "name": "stderr",
     "output_type": "stream",
     "text": [
      "CPAI 2/8: 15 unique patterns\n"
     ]
    },
    {
     "name": "stdout",
     "output_type": "stream",
     "text": [
      ">/home/veljko/.local/lib/python3.10/site-packages/spmf/spmf.jar\n",
      "=============  NOSEP v2.46 - STATS =============\n",
      " Number of patterns found: 6416\n",
      " Total time ~ 11744 ms\n",
      " Maximum memory usage : 10.115829467773438 mb\n",
      " Calculation count 13746\n",
      "===================================================\n",
      "\n"
     ]
    },
    {
     "name": "stderr",
     "output_type": "stream",
     "text": [
      "CPAI 3/8: 187 unique patterns\n",
      "CPAI 4/8: island too large\n",
      "CPAI 5/8: island too large\n"
     ]
    },
    {
     "name": "stdout",
     "output_type": "stream",
     "text": [
      ">/home/veljko/.local/lib/python3.10/site-packages/spmf/spmf.jar\n",
      "=============  NOSEP v2.46 - STATS =============\n",
      " Number of patterns found: 23512\n",
      " Total time ~ 177069 ms\n",
      " Maximum memory usage : 137.10699462890625 mb\n",
      " Calculation count 52114\n",
      "===================================================\n",
      "\n"
     ]
    },
    {
     "name": "stderr",
     "output_type": "stream",
     "text": [
      "CPAI 6/8: 55 unique patterns\n",
      "CPAI 7/8: island too large\n"
     ]
    },
    {
     "name": "stdout",
     "output_type": "stream",
     "text": [
      ">/home/veljko/.local/lib/python3.10/site-packages/spmf/spmf.jar\n",
      "=============  NOSEP v2.46 - STATS =============\n",
      " Number of patterns found: 13328\n",
      " Total time ~ 51229 ms\n",
      " Maximum memory usage : 69.42613220214844 mb\n",
      " Calculation count 29034\n",
      "===================================================\n",
      "\n"
     ]
    },
    {
     "name": "stderr",
     "output_type": "stream",
     "text": [
      "CPAI 8/8: 32 unique patterns\n"
     ]
    },
    {
     "name": "stdout",
     "output_type": "stream",
     "text": [
      ">/home/veljko/.local/lib/python3.10/site-packages/spmf/spmf.jar\n",
      "=============  NOSEP v2.46 - STATS =============\n",
      " Number of patterns found: 7089\n",
      " Total time ~ 15197 ms\n",
      " Maximum memory usage : 8.069839477539062 mb\n",
      " Calculation count 15659\n",
      "===================================================\n",
      "\n"
     ]
    },
    {
     "name": "stderr",
     "output_type": "stream",
     "text": [
      "NPAI 1/3: 3 unique patterns\n"
     ]
    },
    {
     "name": "stdout",
     "output_type": "stream",
     "text": [
      ">/home/veljko/.local/lib/python3.10/site-packages/spmf/spmf.jar\n",
      "=============  NOSEP v2.46 - STATS =============\n",
      " Number of patterns found: 10402\n",
      " Total time ~ 32418 ms\n",
      " Maximum memory usage : 9.052131652832031 mb\n",
      " Calculation count 22551\n",
      "===================================================\n",
      "\n"
     ]
    },
    {
     "name": "stderr",
     "output_type": "stream",
     "text": [
      "NPAI 2/3: 36 unique patterns\n"
     ]
    },
    {
     "name": "stdout",
     "output_type": "stream",
     "text": [
      ">/home/veljko/.local/lib/python3.10/site-packages/spmf/spmf.jar\n",
      "=============  NOSEP v2.46 - STATS =============\n",
      " Number of patterns found: 8457\n",
      " Total time ~ 19302 ms\n",
      " Maximum memory usage : 47.31885528564453 mb\n",
      " Calculation count 18239\n",
      "===================================================\n",
      "\n"
     ]
    },
    {
     "name": "stderr",
     "output_type": "stream",
     "text": [
      "NPAI 3/3: 24 unique patterns\n",
      "--------------------------\n",
      "Genome 86/90: NC_022364\n",
      "No PAI sequences\n"
     ]
    },
    {
     "name": "stdout",
     "output_type": "stream",
     "text": [
      ">/home/veljko/.local/lib/python3.10/site-packages/spmf/spmf.jar\n",
      "=============  NOSEP v2.46 - STATS =============\n",
      " Number of patterns found: 27953\n",
      " Total time ~ 237535 ms\n",
      " Maximum memory usage : 23.174301147460938 mb\n",
      " Calculation count 57853\n",
      "===================================================\n",
      "\n"
     ]
    },
    {
     "name": "stderr",
     "output_type": "stream",
     "text": [
      "CPAI 1/2: 395 unique patterns\n"
     ]
    },
    {
     "name": "stdout",
     "output_type": "stream",
     "text": [
      ">/home/veljko/.local/lib/python3.10/site-packages/spmf/spmf.jar\n",
      "=============  NOSEP v2.46 - STATS =============\n",
      " Number of patterns found: 8935\n",
      " Total time ~ 24867 ms\n",
      " Maximum memory usage : 81.36811065673828 mb\n",
      " Calculation count 20062\n",
      "===================================================\n",
      "\n"
     ]
    },
    {
     "name": "stderr",
     "output_type": "stream",
     "text": [
      "CPAI 2/2: 5 unique patterns\n"
     ]
    },
    {
     "name": "stdout",
     "output_type": "stream",
     "text": [
      ">/home/veljko/.local/lib/python3.10/site-packages/spmf/spmf.jar\n",
      "=============  NOSEP v2.46 - STATS =============\n",
      " Number of patterns found: 11672\n",
      " Total time ~ 41245 ms\n",
      " Maximum memory usage : 129.2515411376953 mb\n",
      " Calculation count 25381\n",
      "===================================================\n",
      "\n"
     ]
    },
    {
     "name": "stderr",
     "output_type": "stream",
     "text": [
      "NPAI 1/4: 18 unique patterns\n"
     ]
    },
    {
     "name": "stdout",
     "output_type": "stream",
     "text": [
      ">/home/veljko/.local/lib/python3.10/site-packages/spmf/spmf.jar\n",
      "=============  NOSEP v2.46 - STATS =============\n",
      " Number of patterns found: 11712\n",
      " Total time ~ 44262 ms\n",
      " Maximum memory usage : 163.80467987060547 mb\n",
      " Calculation count 25175\n",
      "===================================================\n",
      "\n"
     ]
    },
    {
     "name": "stderr",
     "output_type": "stream",
     "text": [
      "NPAI 2/4: 55 unique patterns\n"
     ]
    },
    {
     "name": "stdout",
     "output_type": "stream",
     "text": [
      ">/home/veljko/.local/lib/python3.10/site-packages/spmf/spmf.jar\n",
      "=============  NOSEP v2.46 - STATS =============\n",
      " Number of patterns found: 27354\n",
      " Total time ~ 240041 ms\n",
      " Maximum memory usage : 92.83007049560547 mb\n",
      " Calculation count 58539\n",
      "===================================================\n",
      "\n"
     ]
    },
    {
     "name": "stderr",
     "output_type": "stream",
     "text": [
      "NPAI 3/4: 129 unique patterns\n"
     ]
    },
    {
     "name": "stdout",
     "output_type": "stream",
     "text": [
      ">/home/veljko/.local/lib/python3.10/site-packages/spmf/spmf.jar\n",
      "=============  NOSEP v2.46 - STATS =============\n",
      " Number of patterns found: 8498\n",
      " Total time ~ 22166 ms\n",
      " Maximum memory usage : 118.2563705444336 mb\n",
      " Calculation count 18762\n",
      "===================================================\n",
      "\n"
     ]
    },
    {
     "name": "stderr",
     "output_type": "stream",
     "text": [
      "NPAI 4/4: 10 unique patterns\n",
      "--------------------------\n",
      "Genome 87/90: NC_018650\n",
      "No PAI sequences\n",
      "CPAI 1/12: island too large\n",
      "CPAI 2/12: island too large\n"
     ]
    },
    {
     "name": "stdout",
     "output_type": "stream",
     "text": [
      ">/home/veljko/.local/lib/python3.10/site-packages/spmf/spmf.jar\n",
      "=============  NOSEP v2.46 - STATS =============\n",
      " Number of patterns found: 13977\n",
      " Total time ~ 64693 ms\n",
      " Maximum memory usage : 139.90888214111328 mb\n",
      " Calculation count 30077\n",
      "===================================================\n",
      "\n"
     ]
    },
    {
     "name": "stderr",
     "output_type": "stream",
     "text": [
      "CPAI 3/12: 96 unique patterns\n"
     ]
    },
    {
     "name": "stdout",
     "output_type": "stream",
     "text": [
      ">/home/veljko/.local/lib/python3.10/site-packages/spmf/spmf.jar\n",
      "=============  NOSEP v2.46 - STATS =============\n",
      " Number of patterns found: 10072\n",
      " Total time ~ 32577 ms\n",
      " Maximum memory usage : 40.74470520019531 mb\n",
      " Calculation count 22464\n",
      "===================================================\n",
      "\n"
     ]
    },
    {
     "name": "stderr",
     "output_type": "stream",
     "text": [
      "CPAI 4/12: 28 unique patterns\n",
      "CPAI 5/12: island too large\n"
     ]
    },
    {
     "name": "stdout",
     "output_type": "stream",
     "text": [
      ">/home/veljko/.local/lib/python3.10/site-packages/spmf/spmf.jar\n",
      "=============  NOSEP v2.46 - STATS =============\n",
      " Number of patterns found: 23985\n",
      " Total time ~ 191755 ms\n",
      " Maximum memory usage : 144.5559844970703 mb\n",
      " Calculation count 51550\n",
      "===================================================\n",
      "\n"
     ]
    },
    {
     "name": "stderr",
     "output_type": "stream",
     "text": [
      "CPAI 6/12: 67 unique patterns\n"
     ]
    },
    {
     "name": "stdout",
     "output_type": "stream",
     "text": [
      ">/home/veljko/.local/lib/python3.10/site-packages/spmf/spmf.jar\n",
      "=============  NOSEP v2.46 - STATS =============\n",
      " Number of patterns found: 6435\n",
      " Total time ~ 13420 ms\n",
      " Maximum memory usage : 102.33341979980469 mb\n",
      " Calculation count 14254\n",
      "===================================================\n",
      "\n"
     ]
    },
    {
     "name": "stderr",
     "output_type": "stream",
     "text": [
      "CPAI 7/12: 9 unique patterns\n"
     ]
    },
    {
     "name": "stdout",
     "output_type": "stream",
     "text": [
      ">/home/veljko/.local/lib/python3.10/site-packages/spmf/spmf.jar\n",
      "=============  NOSEP v2.46 - STATS =============\n",
      " Number of patterns found: 15847\n",
      " Total time ~ 86183 ms\n",
      " Maximum memory usage : 233.52425384521484 mb\n",
      " Calculation count 34721\n",
      "===================================================\n",
      "\n"
     ]
    },
    {
     "name": "stderr",
     "output_type": "stream",
     "text": [
      "CPAI 8/12: 45 unique patterns\n"
     ]
    },
    {
     "name": "stdout",
     "output_type": "stream",
     "text": [
      ">/home/veljko/.local/lib/python3.10/site-packages/spmf/spmf.jar\n",
      "=============  NOSEP v2.46 - STATS =============\n",
      " Number of patterns found: 28263\n",
      " Total time ~ 256390 ms\n",
      " Maximum memory usage : 43.552276611328125 mb\n",
      " Calculation count 58222\n",
      "===================================================\n",
      "\n"
     ]
    },
    {
     "name": "stderr",
     "output_type": "stream",
     "text": [
      "CPAI 9/12: 127 unique patterns\n"
     ]
    },
    {
     "name": "stdout",
     "output_type": "stream",
     "text": [
      ">/home/veljko/.local/lib/python3.10/site-packages/spmf/spmf.jar\n",
      "=============  NOSEP v2.46 - STATS =============\n",
      " Number of patterns found: 19133\n",
      " Total time ~ 116352 ms\n",
      " Maximum memory usage : 84.29317474365234 mb\n",
      " Calculation count 41910\n",
      "===================================================\n",
      "\n"
     ]
    },
    {
     "name": "stderr",
     "output_type": "stream",
     "text": [
      "CPAI 10/12: 56 unique patterns\n"
     ]
    },
    {
     "name": "stdout",
     "output_type": "stream",
     "text": [
      ">/home/veljko/.local/lib/python3.10/site-packages/spmf/spmf.jar\n",
      "=============  NOSEP v2.46 - STATS =============\n",
      " Number of patterns found: 17783\n",
      " Total time ~ 93096 ms\n",
      " Maximum memory usage : 155.2643814086914 mb\n",
      " Calculation count 39398\n",
      "===================================================\n",
      "\n"
     ]
    },
    {
     "name": "stderr",
     "output_type": "stream",
     "text": [
      "CPAI 11/12: 48 unique patterns\n",
      "CPAI 12/12: island too large\n"
     ]
    },
    {
     "name": "stdout",
     "output_type": "stream",
     "text": [
      ">/home/veljko/.local/lib/python3.10/site-packages/spmf/spmf.jar\n",
      "=============  NOSEP v2.46 - STATS =============\n",
      " Number of patterns found: 11657\n",
      " Total time ~ 43913 ms\n",
      " Maximum memory usage : 62.77794647216797 mb\n",
      " Calculation count 25371\n",
      "===================================================\n",
      "\n"
     ]
    },
    {
     "name": "stderr",
     "output_type": "stream",
     "text": [
      "NPAI 1/1: 12 unique patterns\n",
      "--------------------------\n",
      "Genome 88/90: NC_017634\n",
      "No PAI sequences\n"
     ]
    },
    {
     "name": "stdout",
     "output_type": "stream",
     "text": [
      ">/home/veljko/.local/lib/python3.10/site-packages/spmf/spmf.jar\n",
      "=============  NOSEP v2.46 - STATS =============\n",
      " Number of patterns found: 30793\n",
      " Total time ~ 293542 ms\n",
      " Maximum memory usage : 146.64242553710938 mb\n",
      " Calculation count 64416\n",
      "===================================================\n",
      "\n"
     ]
    },
    {
     "name": "stderr",
     "output_type": "stream",
     "text": [
      "CPAI 1/5: 119 unique patterns\n"
     ]
    },
    {
     "name": "stdout",
     "output_type": "stream",
     "text": [
      ">/home/veljko/.local/lib/python3.10/site-packages/spmf/spmf.jar\n",
      "=============  NOSEP v2.46 - STATS =============\n",
      " Number of patterns found: 6217\n",
      " Total time ~ 13548 ms\n",
      " Maximum memory usage : 5.890068054199219 mb\n",
      " Calculation count 13995\n",
      "===================================================\n",
      "\n"
     ]
    },
    {
     "name": "stderr",
     "output_type": "stream",
     "text": [
      "CPAI 2/5: 16 unique patterns\n",
      "CPAI 3/5: island too large\n",
      "CPAI 4/5: island too large\n"
     ]
    },
    {
     "name": "stdout",
     "output_type": "stream",
     "text": [
      ">/home/veljko/.local/lib/python3.10/site-packages/spmf/spmf.jar\n",
      "=============  NOSEP v2.46 - STATS =============\n",
      " Number of patterns found: 13311\n",
      " Total time ~ 59703 ms\n",
      " Maximum memory usage : 46.27497863769531 mb\n",
      " Calculation count 29071\n",
      "===================================================\n",
      "\n"
     ]
    },
    {
     "name": "stderr",
     "output_type": "stream",
     "text": [
      "CPAI 5/5: 36 unique patterns\n"
     ]
    },
    {
     "name": "stdout",
     "output_type": "stream",
     "text": [
      ">/home/veljko/.local/lib/python3.10/site-packages/spmf/spmf.jar\n",
      "=============  NOSEP v2.46 - STATS =============\n",
      " Number of patterns found: 7091\n",
      " Total time ~ 15857 ms\n",
      " Maximum memory usage : 111.63406372070312 mb\n",
      " Calculation count 15642\n",
      "===================================================\n",
      "\n"
     ]
    },
    {
     "name": "stderr",
     "output_type": "stream",
     "text": [
      "NPAI 1/2: 4 unique patterns\n"
     ]
    },
    {
     "name": "stdout",
     "output_type": "stream",
     "text": [
      ">/home/veljko/.local/lib/python3.10/site-packages/spmf/spmf.jar\n",
      "=============  NOSEP v2.46 - STATS =============\n",
      " Number of patterns found: 10534\n",
      " Total time ~ 33642 ms\n",
      " Maximum memory usage : 73.55162048339844 mb\n",
      " Calculation count 22786\n",
      "===================================================\n",
      "\n"
     ]
    },
    {
     "name": "stderr",
     "output_type": "stream",
     "text": [
      "NPAI 2/2: 33 unique patterns\n",
      "--------------------------\n",
      "Genome 89/90: NC_018666\n",
      "No PAI sequences\n",
      "No CPAI sequences\n"
     ]
    },
    {
     "name": "stdout",
     "output_type": "stream",
     "text": [
      ">/home/veljko/.local/lib/python3.10/site-packages/spmf/spmf.jar\n",
      "=============  NOSEP v2.46 - STATS =============\n",
      " Number of patterns found: 9152\n",
      " Total time ~ 26355 ms\n",
      " Maximum memory usage : 125.80152130126953 mb\n",
      " Calculation count 20198\n",
      "===================================================\n",
      "\n"
     ]
    },
    {
     "name": "stderr",
     "output_type": "stream",
     "text": [
      "NPAI 1/1: 857 unique patterns\n",
      "--------------------------\n",
      "Genome 90/90: NC_017631\n",
      "No PAI sequences\n",
      "CPAI 1/13: island too large\n"
     ]
    },
    {
     "name": "stdout",
     "output_type": "stream",
     "text": [
      ">/home/veljko/.local/lib/python3.10/site-packages/spmf/spmf.jar\n",
      "=============  NOSEP v2.46 - STATS =============\n",
      " Number of patterns found: 7302\n",
      " Total time ~ 17309 ms\n",
      " Maximum memory usage : 100.77729034423828 mb\n",
      " Calculation count 16320\n",
      "===================================================\n",
      "\n"
     ]
    },
    {
     "name": "stderr",
     "output_type": "stream",
     "text": [
      "CPAI 2/13: 4 unique patterns\n"
     ]
    },
    {
     "name": "stdout",
     "output_type": "stream",
     "text": [
      ">/home/veljko/.local/lib/python3.10/site-packages/spmf/spmf.jar\n",
      "=============  NOSEP v2.46 - STATS =============\n",
      " Number of patterns found: 6029\n",
      " Total time ~ 12135 ms\n",
      " Maximum memory usage : 40.53742980957031 mb\n",
      " Calculation count 13569\n",
      "===================================================\n",
      "\n"
     ]
    },
    {
     "name": "stderr",
     "output_type": "stream",
     "text": [
      "CPAI 3/13: 13 unique patterns\n"
     ]
    },
    {
     "name": "stdout",
     "output_type": "stream",
     "text": [
      ">/home/veljko/.local/lib/python3.10/site-packages/spmf/spmf.jar\n",
      "=============  NOSEP v2.46 - STATS =============\n",
      " Number of patterns found: 6431\n",
      " Total time ~ 13860 ms\n",
      " Maximum memory usage : 75.6838150024414 mb\n",
      " Calculation count 13810\n",
      "===================================================\n",
      "\n"
     ]
    },
    {
     "name": "stderr",
     "output_type": "stream",
     "text": [
      "CPAI 4/13: 190 unique patterns\n"
     ]
    },
    {
     "name": "stdout",
     "output_type": "stream",
     "text": [
      ">/home/veljko/.local/lib/python3.10/site-packages/spmf/spmf.jar\n",
      "=============  NOSEP v2.46 - STATS =============\n",
      " Number of patterns found: 18201\n",
      " Total time ~ 108150 ms\n",
      " Maximum memory usage : 44.56128692626953 mb\n",
      " Calculation count 40253\n",
      "===================================================\n",
      "\n"
     ]
    },
    {
     "name": "stderr",
     "output_type": "stream",
     "text": [
      "CPAI 5/13: 43 unique patterns\n"
     ]
    },
    {
     "name": "stdout",
     "output_type": "stream",
     "text": [
      ">/home/veljko/.local/lib/python3.10/site-packages/spmf/spmf.jar\n",
      "=============  NOSEP v2.46 - STATS =============\n",
      " Number of patterns found: 10491\n",
      " Total time ~ 32771 ms\n",
      " Maximum memory usage : 100.39038848876953 mb\n",
      " Calculation count 22266\n",
      "===================================================\n",
      "\n"
     ]
    },
    {
     "name": "stderr",
     "output_type": "stream",
     "text": [
      "CPAI 6/13: 11 unique patterns\n",
      "CPAI 7/13: island too large\n"
     ]
    },
    {
     "name": "stdout",
     "output_type": "stream",
     "text": [
      ">/home/veljko/.local/lib/python3.10/site-packages/spmf/spmf.jar\n",
      "=============  NOSEP v2.46 - STATS =============\n",
      " Number of patterns found: 25546\n",
      " Total time ~ 243985 ms\n",
      " Maximum memory usage : 142.03274536132812 mb\n",
      " Calculation count 56546\n",
      "===================================================\n",
      "\n"
     ]
    },
    {
     "name": "stderr",
     "output_type": "stream",
     "text": [
      "CPAI 8/13: 44 unique patterns\n"
     ]
    },
    {
     "name": "stdout",
     "output_type": "stream",
     "text": [
      ">/home/veljko/.local/lib/python3.10/site-packages/spmf/spmf.jar\n",
      "=============  NOSEP v2.46 - STATS =============\n",
      " Number of patterns found: 23689\n",
      " Total time ~ 192632 ms\n",
      " Maximum memory usage : 65.96964263916016 mb\n",
      " Calculation count 52134\n",
      "===================================================\n",
      "\n"
     ]
    },
    {
     "name": "stderr",
     "output_type": "stream",
     "text": [
      "CPAI 9/13: 67 unique patterns\n",
      "CPAI 10/13: island too large\n"
     ]
    },
    {
     "name": "stdout",
     "output_type": "stream",
     "text": [
      ">/home/veljko/.local/lib/python3.10/site-packages/spmf/spmf.jar\n",
      "=============  NOSEP v2.46 - STATS =============\n",
      " Number of patterns found: 15845\n",
      " Total time ~ 89646 ms\n",
      " Maximum memory usage : 93.41526794433594 mb\n",
      " Calculation count 34950\n",
      "===================================================\n",
      "\n"
     ]
    },
    {
     "name": "stderr",
     "output_type": "stream",
     "text": [
      "CPAI 11/13: 80 unique patterns\n",
      "CPAI 12/13: island too large\n"
     ]
    },
    {
     "name": "stdout",
     "output_type": "stream",
     "text": [
      ">/home/veljko/.local/lib/python3.10/site-packages/spmf/spmf.jar\n",
      "=============  NOSEP v2.46 - STATS =============\n",
      " Number of patterns found: 10979\n",
      " Total time ~ 37741 ms\n",
      " Maximum memory usage : 80.03839111328125 mb\n",
      " Calculation count 23635\n",
      "===================================================\n",
      "\n"
     ]
    },
    {
     "name": "stderr",
     "output_type": "stream",
     "text": [
      "CPAI 13/13: 181 unique patterns\n"
     ]
    },
    {
     "name": "stdout",
     "output_type": "stream",
     "text": [
      ">/home/veljko/.local/lib/python3.10/site-packages/spmf/spmf.jar\n",
      "=============  NOSEP v2.46 - STATS =============\n",
      " Number of patterns found: 7121\n",
      " Total time ~ 15436 ms\n",
      " Maximum memory usage : 126.12447357177734 mb\n",
      " Calculation count 15654\n",
      "===================================================\n",
      "\n"
     ]
    },
    {
     "name": "stderr",
     "output_type": "stream",
     "text": [
      "NPAI 1/2: 3 unique patterns\n"
     ]
    },
    {
     "name": "stdout",
     "output_type": "stream",
     "text": [
      ">/home/veljko/.local/lib/python3.10/site-packages/spmf/spmf.jar\n",
      "=============  NOSEP v2.46 - STATS =============\n",
      " Number of patterns found: 10541\n",
      " Total time ~ 35738 ms\n",
      " Maximum memory usage : 145.0367431640625 mb\n",
      " Calculation count 22813\n",
      "===================================================\n",
      "\n"
     ]
    },
    {
     "name": "stderr",
     "output_type": "stream",
     "text": [
      "NPAI 2/2: 24 unique patterns\n",
      "--------------------------\n"
     ]
    }
   ],
   "source": [
    "unique_pai_patterns  = {}\n",
    "unique_cpai_patterns = {}\n",
    "unique_npai_patterns = {}\n",
    "\n",
    "k_max = 100\n",
    "logging.info(f'Max pattern length: {k_max}')\n",
    "logging.info('--------------------------')\n",
    "\n",
    "for i, (name, data) in enumerate(e_coli_data.items()):\n",
    "    logging.info(f'Genome {i+1}/{len(e_coli_data)}: {name}')\n",
    "    \n",
    "    if len(data['pai_sequences']) != 0:\n",
    "        unique_pai_patterns[name] = {}\n",
    "        genome_sequence = data['genome_sequence']\n",
    "        for j, (pai_sequence, indices) in enumerate(data['pai_sequences']):\n",
    "            \n",
    "            if indices[1] - indices[0] > 40000:\n",
    "                logging.info(f\"PAI {j+1}/{len(data['pai_sequences'])}: island too large\")\n",
    "                continue\n",
    "                \n",
    "            unique_patterns = run_nosep(genome_sequence, pai_sequence, indices[0], indices[1], k_max)\n",
    "\n",
    "            unique_pai_patterns[name]['pai_sequence'] = pai_sequence\n",
    "            unique_pai_patterns[name]['indices'] = indices\n",
    "            unique_pai_patterns[name]['patterns'] = unique_patterns\n",
    "\n",
    "            logging.info(f\"PAI {j+1}/{len(data['pai_sequences'])}: {len(unique_patterns)} unique patterns\")\n",
    "            \n",
    "            os.makedirs(f'e_coli_paidb/{name}/patterns/nosep/pai/', exist_ok=True)\n",
    "            \n",
    "            with open(f'e_coli_paidb/{name}/patterns/nosep/pai/pai_{j}_patterns.txt', 'w') as file:\n",
    "                for unique_pattern, frequency in unique_patterns:\n",
    "                    file.write(f'{unique_pattern}: {frequency}\\n')\n",
    "                        \n",
    "    else:\n",
    "        logging.info('No PAI sequences')\n",
    "    \n",
    "    if len(data['cpai_sequences']) != 0:    \n",
    "        unique_cpai_patterns[name] = {}\n",
    "\n",
    "        genome_sequence = data['genome_sequence']\n",
    "        for j, (cpai_sequence, indices) in enumerate(data['cpai_sequences']):\n",
    "            \n",
    "            if indices[1] - indices[0] > 40000:\n",
    "                logging.info(f\"CPAI {j+1}/{len(data['cpai_sequences'])}: island too large\")\n",
    "                continue\n",
    "            \n",
    "            unique_patterns = run_nosep(genome_sequence, cpai_sequence, indices[0], indices[1], k_max)\n",
    "\n",
    "            unique_cpai_patterns[name]['cpai_sequence'] = cpai_sequence\n",
    "            unique_cpai_patterns[name]['indices'] = indices\n",
    "            unique_cpai_patterns[name]['patterns'] = unique_patterns\n",
    "            \n",
    "            logging.info(f\"CPAI {j+1}/{len(data['cpai_sequences'])}: {len(unique_patterns)} unique patterns\")\n",
    "            \n",
    "            os.makedirs(f'e_coli_paidb/{name}/patterns/nosep/cpai/', exist_ok=True)\n",
    "            \n",
    "            with open(f'e_coli_paidb/{name}/patterns/nosep/cpai/cpai_{j}_patterns.txt', 'w') as file:\n",
    "                for unique_pattern, frequency in unique_patterns:\n",
    "                    file.write(f'{unique_pattern}: {frequency}\\n')\n",
    "            \n",
    "    else:\n",
    "        logging.info('No CPAI sequences')\n",
    "        \n",
    "    if len(data['npai_sequences']) != 0:\n",
    "        unique_npai_patterns[name] = {}\n",
    "        genome_sequence = data['genome_sequence']\n",
    "        for j, (npai_sequence, indices) in enumerate(data['npai_sequences']):\n",
    "            \n",
    "            if indices[1] - indices[0] > 40000:\n",
    "                logging.info(f\"NPAI {j+1}/{len(data['npai_sequences'])}: island too large\")\n",
    "                continue\n",
    "            \n",
    "            unique_patterns = run_nosep(genome_sequence, npai_sequence, indices[0], indices[1], k_max)\n",
    "\n",
    "            unique_npai_patterns[name]['npai_sequence'] = npai_sequence\n",
    "            unique_npai_patterns[name]['indices'] = indices\n",
    "            unique_npai_patterns[name]['patterns'] = unique_patterns\n",
    "\n",
    "            logging.info(f\"NPAI {j+1}/{len(data['npai_sequences'])}: {len(unique_patterns)} unique patterns\")\n",
    "            \n",
    "            os.makedirs(f'e_coli_paidb/{name}/patterns/nosep/npai/', exist_ok=True)\n",
    "            \n",
    "            with open(f'e_coli_paidb/{name}/patterns/nosep/npai/npai_{j}_patterns.txt', 'w') as file:\n",
    "                for unique_pattern, frequency in unique_patterns:\n",
    "                    file.write(f'{unique_pattern}: {frequency}\\n')\n",
    "    \n",
    "    else:\n",
    "        logging.info('No NPAI sequences')\n",
    "    logging.info('--------------------------')"
   ]
  },
  {
   "cell_type": "code",
   "execution_count": 18,
   "id": "5a88005e",
   "metadata": {},
   "outputs": [],
   "source": [
    "with open('pai_patterns.json', 'w') as file:\n",
    "    json.dump(unique_pai_patterns, file)\n",
    "    \n",
    "with open('cpai_patterns.json', 'w') as file:\n",
    "    json.dump(unique_cpai_patterns, file)\n",
    "    \n",
    "with open('npai_patterns.json', 'w') as file:\n",
    "    json.dump(unique_npai_patterns, file)"
   ]
  },
  {
   "cell_type": "markdown",
   "id": "e8066567",
   "metadata": {},
   "source": [
    "### Recurring patterns"
   ]
  },
  {
   "cell_type": "code",
   "execution_count": 3,
   "id": "843da259",
   "metadata": {},
   "outputs": [],
   "source": [
    "import os\n",
    "import threading"
   ]
  },
  {
   "cell_type": "code",
   "execution_count": 4,
   "id": "0a054bbd",
   "metadata": {},
   "outputs": [],
   "source": [
    "all_patterns = {}\n",
    "\n",
    "base_directory = './e_coli_paidb/'\n",
    "\n",
    "for genome in os.listdir(base_directory):\n",
    "    patterns_folder = os.path.join(base_directory, genome, 'patterns')\n",
    "\n",
    "    if not os.path.isdir(patterns_folder):\n",
    "        continue\n",
    "        \n",
    "    if genome not in all_patterns:\n",
    "        all_patterns[genome] = {}\n",
    "    \n",
    "    nosep_folder = os.path.join(patterns_folder, 'nosep')\n",
    "    \n",
    "    nosep_pai_folder = os.path.join(nosep_folder, 'pai')\n",
    "    nosep_cpai_folder = os.path.join(nosep_folder, 'cpai')\n",
    "    nosep_npai_folder = os.path.join(nosep_folder, 'npai')\n",
    "    \n",
    "    if os.path.isdir(nosep_pai_folder):\n",
    "        \n",
    "        for filename in os.listdir(nosep_pai_folder):\n",
    "            num = int((filename.split('_'))[1])\n",
    "            pai_name = f'pai_{num+1}'\n",
    "            \n",
    "            if pai_name not in all_patterns[genome]:\n",
    "                all_patterns[genome][pai_name] = {}\n",
    "                \n",
    "            with open(os.path.join(nosep_pai_folder, filename), 'r') as file:\n",
    "                \n",
    "                for line in file:\n",
    "                    lst = line.split(':')\n",
    "                    \n",
    "                    pattern = lst[0]\n",
    "                    frequency = int(lst[1])\n",
    "                    \n",
    "                    all_patterns[genome][pai_name][pattern] = frequency\n",
    "                    \n",
    "    if os.path.isdir(nosep_cpai_folder):\n",
    "        \n",
    "        for filename in os.listdir(nosep_cpai_folder):\n",
    "            num = int((filename.split('_'))[1])\n",
    "            cpai_name = f'cpai_{num+1}'\n",
    "            \n",
    "            if cpai_name not in all_patterns[genome]:\n",
    "                all_patterns[genome][cpai_name] = {}\n",
    "                \n",
    "            with open(os.path.join(nosep_cpai_folder, filename), 'r') as file:\n",
    "                \n",
    "                for line in file:\n",
    "                    lst = line.split(':')\n",
    "                    \n",
    "                    pattern = lst[0]\n",
    "                    frequency = int(lst[1])\n",
    "                    \n",
    "                    all_patterns[genome][cpai_name][pattern] = frequency\n",
    "                    \n",
    "    if os.path.isdir(nosep_npai_folder):\n",
    "        \n",
    "        for filename in os.listdir(nosep_npai_folder):\n",
    "            num = int((filename.split('_'))[1])\n",
    "            npai_name = f'npai_{num+1}'\n",
    "            \n",
    "            if npai_name not in all_patterns[genome]:\n",
    "                all_patterns[genome][npai_name] = {}\n",
    "                \n",
    "            with open(os.path.join(nosep_npai_folder, filename), 'r') as file:\n",
    "                \n",
    "                for line in file:\n",
    "                    lst = line.split(':')\n",
    "                    \n",
    "                    pattern = lst[0]\n",
    "                    frequency = int(lst[1])\n",
    "                    \n",
    "                    all_patterns[genome][npai_name][pattern] = frequency"
   ]
  },
  {
   "cell_type": "code",
   "execution_count": 5,
   "id": "59e0edd9",
   "metadata": {},
   "outputs": [],
   "source": [
    "base_directory = './e_coli_paidb/'\n",
    "\n",
    "for genome in os.listdir(base_directory):\n",
    "    patterns_folder = os.path.join(base_directory, genome, 'patterns')\n",
    "\n",
    "    if not os.path.isdir(patterns_folder):\n",
    "        continue\n",
    "    \n",
    "    if genome not in all_patterns:\n",
    "        all_patterns[genome] = {}\n",
    "    \n",
    "    tfidf_folder = os.path.join(patterns_folder, 'tfidf')\n",
    "    \n",
    "    tfidf_pai_folder = os.path.join(tfidf_folder, 'pai')\n",
    "    tfidf_cpai_folder = os.path.join(tfidf_folder, 'cpai')\n",
    "    tfidf_npai_folder = os.path.join(tfidf_folder, 'npai')\n",
    "    \n",
    "    if os.path.isdir(tfidf_pai_folder):\n",
    "        \n",
    "        for filename in os.listdir(tfidf_pai_folder):\n",
    "            num = int((filename.split('_'))[1])\n",
    "            pai_name = f'pai_{num+1}'\n",
    "            \n",
    "            if pai_name not in all_patterns[genome]:\n",
    "                all_patterns[genome][pai_name] = {}\n",
    "                \n",
    "            with open(os.path.join(tfidf_pai_folder, filename), 'r') as file:\n",
    "                \n",
    "                for line in file:\n",
    "                    lst = line.split(':')\n",
    "                    \n",
    "                    pattern = lst[0]\n",
    "                    frequency = int(lst[1])\n",
    "                    \n",
    "                    if pattern not in all_patterns[genome][pai_name]:\n",
    "                        all_patterns[genome][pai_name][pattern] = frequency\n",
    "                    \n",
    "    if os.path.isdir(tfidf_cpai_folder):\n",
    "        \n",
    "        for filename in os.listdir(tfidf_cpai_folder):\n",
    "            num = int((filename.split('_'))[1])\n",
    "            cpai_name = f'cpai_{num+1}'\n",
    "            \n",
    "            if cpai_name not in all_patterns[genome]:\n",
    "                all_patterns[genome][cpai_name] = {}\n",
    "                \n",
    "            with open(os.path.join(tfidf_cpai_folder, filename), 'r') as file:\n",
    "                \n",
    "                for line in file:\n",
    "                    lst = line.split(':')\n",
    "                    \n",
    "                    pattern = lst[0]\n",
    "                    frequency = int(lst[1])\n",
    "                    \n",
    "                    if pattern not in all_patterns[genome][cpai_name]:\n",
    "                        all_patterns[genome][cpai_name][pattern] = frequency\n",
    "                    \n",
    "    if os.path.isdir(tfidf_npai_folder):\n",
    "        \n",
    "        for filename in os.listdir(tfidf_npai_folder):\n",
    "            num = int((filename.split('_'))[1])\n",
    "            npai_name = f'npai_{num+1}'\n",
    "            \n",
    "            if npai_name not in all_patterns[genome]:\n",
    "                all_patterns[genome][npai_name] = {}\n",
    "                \n",
    "            with open(os.path.join(tfidf_npai_folder, filename), 'r') as file:\n",
    "                \n",
    "                for line in file:\n",
    "                    lst = line.split(':')\n",
    "                    \n",
    "                    pattern = lst[0]\n",
    "                    frequency = int(lst[1])\n",
    "                    \n",
    "                    if pattern not in all_patterns[genome][npai_name]:\n",
    "                        all_patterns[genome][npai_name][pattern] = frequency"
   ]
  },
  {
   "cell_type": "code",
   "execution_count": 6,
   "id": "d34c14fb",
   "metadata": {},
   "outputs": [],
   "source": [
    "base_directory = './e_coli_paidb/'\n",
    "\n",
    "for genome in os.listdir(base_directory):\n",
    "    patterns_folder = os.path.join(base_directory, genome, 'patterns')\n",
    "\n",
    "    if not os.path.isdir(patterns_folder):\n",
    "        continue\n",
    "    \n",
    "    if genome not in all_patterns:\n",
    "        all_patterns[genome] = {}\n",
    "    \n",
    "    tfidf_folder = os.path.join(patterns_folder, 'tfidf')\n",
    "    all_islands_folder = os.path.join(tfidf_folder, 'all_islands')\n",
    "    \n",
    "    with open(os.path.join(all_islands_folder, 'tfidf.txt')) as file:\n",
    "        pattern = None\n",
    "        island_name = None\n",
    "        \n",
    "        for line in file:\n",
    "            if line.startswith('-'):\n",
    "                pattern = None\n",
    "                \n",
    "            elif 'PAI' in line:\n",
    "                lst = line.split()\n",
    "                island_name = lst[0].casefold() + '_' + lst[1].removesuffix(':')\n",
    "                frequency = int(lst[2])\n",
    "                \n",
    "                if island_name not in all_patterns[genome]:\n",
    "                    all_patterns[genome][island_name] = {}\n",
    "                    \n",
    "                if pattern not in all_patterns[genome][island_name]:\n",
    "                    all_patterns[genome][island_name][pattern] = frequency\n",
    "                    \n",
    "            elif pattern is None:\n",
    "                pattern = line.strip()\n",
    "            \n",
    "            else:\n",
    "                print('Error')\n",
    "                break"
   ]
  },
  {
   "cell_type": "code",
   "execution_count": 9,
   "id": "1636bc1a",
   "metadata": {},
   "outputs": [],
   "source": [
    "mutex = threading.Lock()"
   ]
  },
  {
   "cell_type": "code",
   "execution_count": 6,
   "id": "1a526362",
   "metadata": {},
   "outputs": [],
   "source": [
    "def find_recurring_patterns(genomes_lst, all_patterns, recurring_patterns, thread_num):\n",
    "    \n",
    "    for i, genome in enumerate(genomes_lst):\n",
    "        for j, island_name in enumerate(all_patterns[genome]):\n",
    "            for k, pattern in enumerate(all_patterns[genome][island_name]):\n",
    "                \n",
    "                with mutex:\n",
    "                    if thread_num == 1:\n",
    "                        print(f'Genome {i+1}/{len(genomes_lst)}  Island {j+1}/{len(all_patterns[genome])} Pattern {k+1}/{len(all_patterns[genome][island_name])}      ', end='\\r')\n",
    "\n",
    "                for other_genome in all_patterns:\n",
    "                    if other_genome == genome:\n",
    "                        continue\n",
    "\n",
    "                    for other_island_name in all_patterns[other_genome]:\n",
    "\n",
    "                        other_patterns = [key for key in all_patterns[other_genome][other_island_name] if len(key) == len(pattern)]\n",
    "\n",
    "                        for other_pattern in other_patterns:\n",
    "\n",
    "                            if other_pattern != pattern:\n",
    "                                continue\n",
    "\n",
    "                            if pattern not in recurring_patterns:\n",
    "                                recurring_patterns[pattern] = {}\n",
    "\n",
    "                            if genome not in recurring_patterns[pattern]:\n",
    "                                recurring_patterns[pattern][genome] = {}\n",
    "\n",
    "                            if island_name not in recurring_patterns[pattern][genome]:\n",
    "                                recurring_patterns[pattern][genome][island_name] = all_patterns[genome][island_name][pattern]\n",
    "\n",
    "                            if other_genome not in recurring_patterns[pattern]:\n",
    "                                recurring_patterns[pattern][other_genome] = {}\n",
    "\n",
    "                            if other_island_name not in recurring_patterns[pattern][other_genome]:\n",
    "                                recurring_patterns[pattern][other_genome][other_island_name] = all_patterns[other_genome][other_island_name][pattern]\n",
    "\n",
    "                            break"
   ]
  },
  {
   "cell_type": "code",
   "execution_count": 30,
   "id": "5b963784",
   "metadata": {},
   "outputs": [],
   "source": [
    "genomes_lst = sorted([genome for genome in all_patterns])\n",
    "\n",
    "genomes_lst_fst = genomes_lst[:44]\n",
    "genomes_lst_snd = genomes_lst[44:]"
   ]
  },
  {
   "cell_type": "code",
   "execution_count": 32,
   "id": "451b346a",
   "metadata": {},
   "outputs": [],
   "source": [
    "genomes_fst_1 = genomes_lst_fst[:22]\n",
    "genomes_fst_2 = genomes_lst_fst[22:]\n",
    "\n",
    "recurring_patterns_fst_1 = {}\n",
    "recurring_patterns_fst_2 = {}\n",
    "\n",
    "thread1_fst = threading.Thread(target=find_recurring_patterns, args=(genomes_fst_1, all_patterns, recurring_patterns_fst_1, 1))\n",
    "thread2_fst = threading.Thread(target=find_recurring_patterns, args=(genomes_fst_2, all_patterns, recurring_patterns_fst_2, 2))\n",
    "\n",
    "thread1_fst.start()\n",
    "thread2_fst.start()\n",
    "\n",
    "thread1_fst.join()\n",
    "thread2_fst.join()"
   ]
  },
  {
   "cell_type": "code",
   "execution_count": 33,
   "id": "6a2eebed",
   "metadata": {},
   "outputs": [],
   "source": [
    "genomes_snd_1 = genomes_lst_snd[:21]\n",
    "genomes_snd_2 = genomes_lst_snd[21:]\n",
    "\n",
    "recurring_patterns_snd_1 = {}\n",
    "recurring_patterns_snd_2 = {}\n",
    "\n",
    "thread1_snd = threading.Thread(target=find_recurring_patterns, args=(genomes_snd_1, all_patterns, recurring_patterns_snd_1, 1))\n",
    "thread2_snd = threading.Thread(target=find_recurring_patterns, args=(genomes_snd_2, all_patterns, recurring_patterns_snd_2, 2))\n",
    "\n",
    "thread1_snd.start()\n",
    "thread2_snd.start()\n",
    "\n",
    "thread1_snd.join()\n",
    "thread2_snd.join()"
   ]
  },
  {
   "cell_type": "code",
   "execution_count": 14,
   "id": "1855e9eb",
   "metadata": {},
   "outputs": [],
   "source": [
    "with open('recurring_patterns_00_44_1.json', 'w') as file:\n",
    "    json.dump(recurring_patterns_fst_1, file)\n",
    "    \n",
    "with open('recurring_patterns_00_44_2.json', 'w') as file:\n",
    "    json.dump(recurring_patterns_fst_2, file)\n",
    "    \n",
    "with open(f'recurring_patterns_44_86_1.json', 'w') as file:\n",
    "    json.dump(recurring_patterns_snd_1, file)\n",
    "    \n",
    "with open(f'recurring_patterns_44_86_2.json', 'w') as file:\n",
    "    json.dump(recurring_patterns_snd_2, file)"
   ]
  },
  {
   "cell_type": "code",
   "execution_count": 23,
   "id": "ff5e03b4",
   "metadata": {},
   "outputs": [],
   "source": [
    "recurring_patterns_00_44 = deepcopy(recurring_patterns_fst_1)\n",
    "for pattern in recurring_patterns_fst_2:\n",
    "    if pattern in recurring_patterns_00_44:\n",
    "        continue\n",
    "    \n",
    "    recurring_patterns_00_44[pattern] = recurring_patterns_fst_2[patterns]\n",
    "    \n",
    "recurring_patterns_44_86 = deepcopy(recurring_patterns_snd_1)\n",
    "for pattern in recurring_patterns_snd_2:\n",
    "    if pattern in recurring_patterns_44_86:\n",
    "        continue\n",
    "    \n",
    "    recurring_patterns_44_86[pattern] = recurring_patterns_snd_2[pattern]"
   ]
  },
  {
   "cell_type": "code",
   "execution_count": 29,
   "id": "a321d2b0",
   "metadata": {},
   "outputs": [],
   "source": [
    "with open('json/recurring_patterns/recurring_patterns_00_44_full.json', 'w') as file:\n",
    "    json.dump(recurring_patterns_00_44, file)\n",
    "    \n",
    "with open('json/recurring_patterns/recurring_patterns_44_86_full.json', 'w') as file:\n",
    "    json.dump(recurring_patterns_44_86, file)"
   ]
  },
  {
   "cell_type": "code",
   "execution_count": 34,
   "id": "063ef48b",
   "metadata": {},
   "outputs": [],
   "source": [
    "with open('json/recurring_patterns/recurring_patterns_00_44_full.json') as file:\n",
    "    recurring_patterns_00_44 = json.load(file)\n",
    "    \n",
    "with open('json/recurring_patterns/recurring_patterns_44_86_full.json') as file:\n",
    "    recurring_patterns_44_86 = json.load(file)"
   ]
  },
  {
   "cell_type": "code",
   "execution_count": 37,
   "id": "79d201d6",
   "metadata": {},
   "outputs": [],
   "source": [
    "all_recurring_patterns = deepcopy(recurring_patterns_00_44)\n",
    "for pattern in recurring_patterns_44_86:\n",
    "    if pattern in all_recurring_patterns:\n",
    "        continue\n",
    "        \n",
    "    all_recurring_patterns[pattern] = recurring_patterns_44_86[pattern]"
   ]
  },
  {
   "cell_type": "code",
   "execution_count": 44,
   "id": "5781d748",
   "metadata": {},
   "outputs": [],
   "source": [
    "with open('json/recurring_patterns/all_recurring_patterns.json', 'w') as file:\n",
    "    json.dump(all_recurring_patterns, file)"
   ]
  },
  {
   "cell_type": "code",
   "execution_count": 8,
   "id": "2b7b4bba",
   "metadata": {},
   "outputs": [
    {
     "name": "stdout",
     "output_type": "stream",
     "text": [
      "1723429\n"
     ]
    }
   ],
   "source": [
    "num_all_patterns = 0\n",
    "\n",
    "for genome in all_patterns:\n",
    "    for island in all_patterns[genome]:\n",
    "        num_all_patterns += len(all_patterns[genome][island])\n",
    "\n",
    "print(num_all_patterns)"
   ]
  },
  {
   "cell_type": "code",
   "execution_count": 4,
   "id": "081030c7",
   "metadata": {},
   "outputs": [
    {
     "data": {
      "text/plain": [
       "258844"
      ]
     },
     "execution_count": 4,
     "metadata": {},
     "output_type": "execute_result"
    }
   ],
   "source": [
    "len(all_recurring_patterns)"
   ]
  },
  {
   "cell_type": "code",
   "execution_count": 10,
   "id": "761dbd43",
   "metadata": {},
   "outputs": [],
   "source": [
    "max_occurrences = 0\n",
    "max_occurrences_pattern = None\n",
    "\n",
    "for pattern in all_recurring_patterns:\n",
    "    occurrences = len(all_recurring_patterns[pattern])\n",
    "    if occurrences > max_occurrences:\n",
    "        max_occurrences = occurrences\n",
    "        max_occurrences_pattern = pattern"
   ]
  },
  {
   "cell_type": "code",
   "execution_count": 12,
   "id": "4819994b",
   "metadata": {},
   "outputs": [
    {
     "data": {
      "text/plain": [
       "'AGCACCCACAGCA'"
      ]
     },
     "execution_count": 12,
     "metadata": {},
     "output_type": "execute_result"
    }
   ],
   "source": [
    "max_occurrences_pattern"
   ]
  },
  {
   "cell_type": "code",
   "execution_count": 13,
   "id": "fa050239",
   "metadata": {},
   "outputs": [
    {
     "data": {
      "text/plain": [
       "{'NC_000913': {'npai_1': 2},\n",
       " 'NC_017635': {'npai_1': 2},\n",
       " 'NC_012971': {'npai_1': 2},\n",
       " 'NC_017652': {'npai_2': 2},\n",
       " 'NC_012892': {'npai_1': 2},\n",
       " 'NC_017906': {'npai_2': 2},\n",
       " 'NC_013353': {'npai_1': 2},\n",
       " 'NC_010498': {'npai_2': 2},\n",
       " 'NC_002695': {'npai_2': 2},\n",
       " 'NC_017631': {'npai_2': 2},\n",
       " 'NC_011993': {'cpai_4': 2},\n",
       " 'NC_022364': {'npai_1': 2},\n",
       " 'NC_013008': {'npai_1': 2},\n",
       " 'NC_017664': {'npai_1': 2},\n",
       " 'NC_011751': {'npai_2': 2},\n",
       " 'NC_017641': {'npai_1': 2},\n",
       " 'NC_008563': {'npai_2': 2},\n",
       " 'NC_007946': {'npai_2': 2},\n",
       " 'NC_011750': {'npai_2': 2},\n",
       " 'NC_012967': {'npai_1': 2},\n",
       " 'NC_007779': {'npai_1': 2},\n",
       " 'NC_017634': {'npai_2': 2},\n",
       " 'NC_004431': {'npai_2': 2},\n",
       " 'NC_002655': {'npai_2': 2},\n",
       " 'NC_009801': {'npai_1': 2},\n",
       " 'NC_011742': {'npai_2': 2},\n",
       " 'NC_009800': {'npai_1': 2},\n",
       " 'NC_010473': {'npai_1': 2},\n",
       " 'NC_017638': {'npai_1': 2},\n",
       " 'NC_017656': {'npai_2': 2},\n",
       " 'NC_011601': {'npai_2': 2},\n",
       " 'NC_013941': {'npai_2': 2},\n",
       " 'NC_017633': {'npai_1': 2},\n",
       " 'NC_013654': {'npai_2': 2},\n",
       " 'NC_011415': {'npai_1': 2},\n",
       " 'NC_017651': {'npai_2': 2},\n",
       " 'NC_017646': {'npai_2': 2},\n",
       " 'NC_022370': {'npai_2': 2},\n",
       " 'NC_011353': {'npai_1': 2},\n",
       " 'NC_012759': {'cpai_3': 2},\n",
       " 'NC_011741': {'npai_1': 2},\n",
       " 'NC_017628': {'npai_2': 2}}"
      ]
     },
     "execution_count": 13,
     "metadata": {},
     "output_type": "execute_result"
    }
   ],
   "source": [
    "all_recurring_patterns[max_occurrences_pattern]"
   ]
  },
  {
   "cell_type": "code",
   "execution_count": 19,
   "id": "7d1cf09c",
   "metadata": {},
   "outputs": [],
   "source": [
    "all_partial_patterns = {}\n",
    "\n",
    "base_directory = './e_coli_paidb/'\n",
    "\n",
    "for genome in os.listdir(base_directory):\n",
    "    patterns_folder = os.path.join(base_directory, genome, 'patterns')\n",
    "\n",
    "    if not os.path.isdir(patterns_folder):\n",
    "        continue\n",
    "    \n",
    "    if genome not in all_partial_patterns:\n",
    "        all_partial_patterns[genome] = {}\n",
    "    \n",
    "    tfidf_folder = os.path.join(patterns_folder, 'tfidf')\n",
    "    partial_folder = os.path.join(tfidf_folder, 'partial')\n",
    "    \n",
    "    tfidf_pai_folder = os.path.join(partial_folder, 'pai')\n",
    "    tfidf_cpai_folder = os.path.join(partial_folder, 'cpai')\n",
    "    tfidf_npai_folder = os.path.join(partial_folder, 'npai')\n",
    "    \n",
    "    if os.path.isdir(tfidf_pai_folder):\n",
    "        \n",
    "        for filename in os.listdir(tfidf_pai_folder):\n",
    "            num = int((filename.split('_'))[1])\n",
    "            pai_name = f'pai_{num}'\n",
    "            \n",
    "            if pai_name not in all_partial_patterns[genome]:\n",
    "                all_partial_patterns[genome][pai_name] = {}\n",
    "                \n",
    "            with open(os.path.join(tfidf_pai_folder, filename), 'r') as file:\n",
    "                \n",
    "                for line in file:\n",
    "                    lst = line.split(':')\n",
    "                    \n",
    "                    pattern = lst[0]\n",
    "                    frequency = int(lst[1])\n",
    "                    \n",
    "                    if pattern not in all_partial_patterns[genome][pai_name]:\n",
    "                        all_partial_patterns[genome][pai_name][pattern] = frequency\n",
    "                    \n",
    "    if os.path.isdir(tfidf_cpai_folder):\n",
    "        \n",
    "        for filename in os.listdir(tfidf_cpai_folder):\n",
    "            num = int((filename.split('_'))[1])\n",
    "            cpai_name = f'cpai_{num}'\n",
    "            \n",
    "            if cpai_name not in all_partial_patterns[genome]:\n",
    "                all_partial_patterns[genome][cpai_name] = {}\n",
    "                \n",
    "            with open(os.path.join(tfidf_cpai_folder, filename), 'r') as file:\n",
    "                \n",
    "                for line in file:\n",
    "                    lst = line.split(':')\n",
    "                    \n",
    "                    pattern = lst[0]\n",
    "                    frequency = int(lst[1])\n",
    "                    \n",
    "                    if pattern not in all_partial_patterns[genome][cpai_name]:\n",
    "                        all_partial_patterns[genome][cpai_name][pattern] = frequency\n",
    "                    \n",
    "    if os.path.isdir(tfidf_npai_folder):\n",
    "        \n",
    "        for filename in os.listdir(tfidf_npai_folder):\n",
    "            num = int((filename.split('_'))[1])\n",
    "            npai_name = f'npai_{num}'\n",
    "            \n",
    "            if npai_name not in all_partial_patterns[genome]:\n",
    "                all_partial_patterns[genome][npai_name] = {}\n",
    "                \n",
    "            with open(os.path.join(tfidf_npai_folder, filename), 'r') as file:\n",
    "                \n",
    "                for line in file:\n",
    "                    lst = line.split(':')\n",
    "                    \n",
    "                    pattern = lst[0]\n",
    "                    frequency = int(lst[1])\n",
    "                    \n",
    "                    if pattern not in all_partial_patterns[genome][npai_name]:\n",
    "                        all_partial_patterns[genome][npai_name][pattern] = frequency"
   ]
  },
  {
   "cell_type": "code",
   "execution_count": 22,
   "id": "083cbc61",
   "metadata": {},
   "outputs": [
    {
     "data": {
      "text/plain": [
       "{'NC_010468': {'cpai_3': {},\n",
       "  'cpai_2': {},\n",
       "  'cpai_1': {},\n",
       "  'npai_2': {},\n",
       "  'npai_1': {}},\n",
       " 'NC_011748': {'cpai_7': {},\n",
       "  'cpai_4': {},\n",
       "  'cpai_3': {'TATTTGACATTAT': 2},\n",
       "  'cpai_5': {},\n",
       "  'cpai_8': {},\n",
       "  'cpai_2': {},\n",
       "  'cpai_9': {'CATTATTAGCTCCTT': 1,\n",
       "   'CATTATTAGCTCCTTC': 1,\n",
       "   'CATTATTAGCTCCTTCT': 1,\n",
       "   'CATTATTAGCTCCTTCTG': 1,\n",
       "   'CATTATTAGCTCCTTCTGA': 1,\n",
       "   'CATTATTAGCTCCTTCTGAT': 1,\n",
       "   'CATTATTAGCTCCTTCTGATG': 1,\n",
       "   'CATTATTAGCTCCTTCTGATGC': 1,\n",
       "   'CATTATTAGCTCCTTCTGATGCC': 1,\n",
       "   'CATTATTAGCTCCTTCTGATGCCA': 1,\n",
       "   'CATTATTAGCTCCTTCTGATGCCAT': 1,\n",
       "   'CATTATTAGCTCCTTCTGATGCCATT': 1,\n",
       "   'CATTATTAGCTCCTTCTGATGCCATTC': 1,\n",
       "   'CATTATTAGCTCCTTCTGATGCCATTCT': 1,\n",
       "   'CATTATTAGCTCCTTCTGATGCCATTCTA': 1,\n",
       "   'CATTATTAGCTCCTTCTGATGCCATTCTAT': 1,\n",
       "   'CATTATTAGCTCCTTCTGATGCCATTCTATT': 1,\n",
       "   'CATTATTAGCTCCTTCTGATGCCATTCTATTT': 1,\n",
       "   'CATTATTAGCTCCTTCTGATGCCATTCTATTTC': 1,\n",
       "   'CATTATTAGCTCCTTCTGATGCCATTCTATTTCA': 1,\n",
       "   'CATTATTAGCTCCTTCTGATGCCATTCTATTTCAG': 1,\n",
       "   'CATTATTAGCTCCTTCTGATGCCATTCTATTTCAGG': 1,\n",
       "   'CATTATTAGCTCCTTCTGATGCCATTCTATTTCAGGAAGG': 1,\n",
       "   'CATTATTAGCTCCTTCTGATGCCATTCTATTTCAGGAAGGA': 1},\n",
       "  'cpai_10': {},\n",
       "  'cpai_6': {},\n",
       "  'cpai_1': {},\n",
       "  'npai_1': {}},\n",
       " 'NC_011751': {'pai_1': {},\n",
       "  'cpai_7': {},\n",
       "  'cpai_4': {},\n",
       "  'cpai_3': {},\n",
       "  'cpai_5': {},\n",
       "  'cpai_2': {'CCATGGTTACCTCTGCTTTTTGAACGCATGTCACG': 1,\n",
       "   'CCATGGTTACCTCTGCTTTTTGAACGCATGTCACGT': 1,\n",
       "   'CCATGGTTACCTCTGCTTTTTGAACGCATGTCACGTA': 1,\n",
       "   'CCATGGTTACCTCTGCTTTTTGAACGCATGTCACGTAA': 1,\n",
       "   'CCATGGTTACCTCTGCTTTTTGAACGCATGTCACGTAAC': 1,\n",
       "   'CCATGGTTACCTCTGCTTTTTGAACGCATGTCACGTAACT': 1,\n",
       "   'CCATGGTTACCTCTGCTTTTTGAACGCATGTCACGTAACTT': 1,\n",
       "   'CCATGGTTACCTCTGCTTTTTGAACGCATGTCACGTAACTTC': 1,\n",
       "   'CCATGGTTACCTCTGCTTTTTGAACGCATGTCACGTAACTTCT': 1,\n",
       "   'CCATGGTTACCTCTGCTTTTTGAACGCATGTCACGTAACTTCTT': 1,\n",
       "   'CCATGGTTACCTCTGCTTTTTGAACGCATGTCACGTAACTTCTTA': 1,\n",
       "   'CCATGGTTACCTCTGCTTTTTGAACGCATGTCACGTAACTTCTTAA': 1,\n",
       "   'CCATGGTTACCTCTGCTTTTTGAACGCATGTCACGTAACTTCTTAAT': 1,\n",
       "   'CCATGGTTACCTCTGCTTTTTGAACGCATGTCACGTAACTTCTTAATG': 1,\n",
       "   'CCATGGTTACCTCTGCTTTTTGAACGCATGTCACGTAACTTCTTAATGT': 1},\n",
       "  'cpai_6': {},\n",
       "  'cpai_1': {},\n",
       "  'npai_2': {},\n",
       "  'npai_1': {}},\n",
       " 'NC_012759': {'cpai_4': {},\n",
       "  'cpai_3': {},\n",
       "  'cpai_5': {},\n",
       "  'cpai_2': {},\n",
       "  'cpai_1': {},\n",
       "  'npai_2': {'CCATTTGATTCGCTCGGCGGTGCCGCTGGAGATGAACCTGAGTTAGCT': 1,\n",
       "   'CCATTTGATTCGCTCGGCGGTGCCGCTGGAGATGAACCTGAGTTAGCTG': 1},\n",
       "  'npai_1': {}},\n",
       " 'NC_017635': {'cpai_4': {},\n",
       "  'cpai_3': {'CATTTTTTTATCC': 1,\n",
       "   'CATTTTTTTATCCT': 1,\n",
       "   'CATTTTTTTATCCTT': 1,\n",
       "   'CATTTTTTTATCCTTT': 1,\n",
       "   'CATTTTTTTATCCTTTT': 1,\n",
       "   'CATTTTTTTATCCTTTTAT': 1,\n",
       "   'CATTTTTTTATCCTTTTATT': 1,\n",
       "   'CATTTTTTTATCCTTTTATTA': 1,\n",
       "   'CATTTTTTTATCCTTTTATTAATG': 1,\n",
       "   'CATTTTTTTATCCTTTTATTAATGA': 1,\n",
       "   'CATTTTTTTATCCTTTTATTAATGATTA': 1,\n",
       "   'CATTTTTTTATCCTTTTATTAATGATTAC': 1,\n",
       "   'CATTTTTTTATCCTTTTATTAATGATTACCTG': 1,\n",
       "   'CATTTTTTTATCCTTTTATTAATGATTACCTGA': 1,\n",
       "   'CATTTTTTTATCCTTTTATTAATGATTACCTGACTA': 1,\n",
       "   'CATTTTTTTATCCTTTTATTAATGATTACCTGACTAT': 1,\n",
       "   'CATTTTTTTATCCTTTTATTAATGATTACCTGACTATAG': 1,\n",
       "   'CATTTTTTTATCCTTTTATTAATGATTACCTGACTATAGC': 1,\n",
       "   'CATTTTTTTATCCTTTTATTAATGATTACCTGACTATAGCG': 1,\n",
       "   'CATTTTTTTATCCTTTTATTAATGATTACCTGACTATAGCGGTA': 1,\n",
       "   'CATTTTTTTATCCTTTTATTAATGATTACCTGACTATAGCGGTAA': 1,\n",
       "   'CATTTTTTTATCCTTTTATTAATGATTACCTGACTATAGCGGTAAG': 1,\n",
       "   'CATTTTTTTATCCTTTTATTAATGATTACCTGACTATAGCGGTAAGGTC': 1},\n",
       "  'cpai_2': {},\n",
       "  'cpai_1': {},\n",
       "  'npai_2': {},\n",
       "  'npai_1': {}},\n",
       " 'NC_013365': {'cpai_1': {}},\n",
       " 'NC_017641': {'cpai_4': {},\n",
       "  'cpai_3': {'TCCTCTGTAGTT': 3,\n",
       "   'GATTCCTCTGTAG': 3,\n",
       "   'TCCTCTGTAGTTC': 3,\n",
       "   'TCCTCTGTAGTTCA': 3,\n",
       "   'ATTCCTCTGTAGTTC': 3,\n",
       "   'TTCCTCTGTAGTTCA': 3,\n",
       "   'GATTCCTCTGTAGTTC': 3,\n",
       "   'TCCTCTGTAGTTCAGTC': 3,\n",
       "   'TTCCTCTGTAGTTCAGTC': 3,\n",
       "   'CGATTCCTCTGTAGTTCA': 3,\n",
       "   'ATTCCTCTGTAGTTCAGT': 3,\n",
       "   'TCCTCTGTAGTTCAGTCG': 3,\n",
       "   'GATTCCTCTGTAGTTCAG': 3,\n",
       "   'TTCCTCTGTAGTTCAGTCG': 3,\n",
       "   'TCCTCTGTAGTTCAGTCGGT': 3,\n",
       "   'TTCCTCTGTAGTTCAGTCGG': 3,\n",
       "   'TCCTCTGTAGTTCAGTCGGTA': 3,\n",
       "   'CGATTCCTCTGTAGTTCAGTCG': 3,\n",
       "   'GATTCCTCTGTAGTTCAGTCGG': 3,\n",
       "   'TTCCTCTGTAGTTCAGTCGGTA': 3,\n",
       "   'CGATTCCTCTGTAGTTCAGTCGG': 3,\n",
       "   'GATTCCTCTGTAGTTCAGTCGGT': 3,\n",
       "   'TTCCTCTGTAGTTCAGTCGGTAG': 3,\n",
       "   'TTCCTCTGTAGTTCAGTCGGTAGA': 3,\n",
       "   'ATTCCTCTGTAGTTCAGTCGGTAGA': 3,\n",
       "   'TTCCTCTGTAGTTCAGTCGGTAGAAC': 3,\n",
       "   'TTCCTCTGTAGTTCAGTCGGTAGAACG': 3,\n",
       "   'TCCTCTGTAGTTCAGTCGGTAGAACGG': 3,\n",
       "   'TCCTCTGTAGTTCAGTCGGTAGAACGGC': 3,\n",
       "   'GATTCCTCTGTAGTTCAGTCGGTAGAAC': 3,\n",
       "   'GATTCCTCTGTAGTTCAGTCGGTAGAACG': 3,\n",
       "   'CGATTCCTCTGTAGTTCAGTCGGTAGAAC': 3,\n",
       "   'TCCTCTGTAGTTCAGTCGGTAGAACGGCG': 3,\n",
       "   'TTCCTCTGTAGTTCAGTCGGTAGAACGGC': 3,\n",
       "   'TTCCTCTGTAGTTCAGTCGGTAGAACGGCG': 3,\n",
       "   'GATTCCTCTGTAGTTCAGTCGGTAGAACGGC': 3,\n",
       "   'ATTCCTCTGTAGTTCAGTCGGTAGAACGGCG': 3,\n",
       "   'TCCTCTGTAGTTCAGTCGGTAGAACGGCGGAC': 3,\n",
       "   'TCCTCTGTAGTTCAGTCGGTAGAACGGCGGACT': 3,\n",
       "   'CGATTCCTCTGTAGTTCAGTCGGTAGAACGGCG': 3,\n",
       "   'GATTCCTCTGTAGTTCAGTCGGTAGAACGGCGG': 3,\n",
       "   'TTCCTCTGTAGTTCAGTCGGTAGAACGGCGGACT': 3,\n",
       "   'TCCTCTGTAGTTCAGTCGGTAGAACGGCGGACTG': 3,\n",
       "   'TCCTCTGTAGTTCAGTCGGTAGAACGGCGGACTGT': 3,\n",
       "   'GATTCCTCTGTAGTTCAGTCGGTAGAACGGCGGAC': 3,\n",
       "   'ATTCCTCTGTAGTTCAGTCGGTAGAACGGCGGACTG': 3,\n",
       "   'GATTCCTCTGTAGTTCAGTCGGTAGAACGGCGGACT': 3,\n",
       "   'CGATTCCTCTGTAGTTCAGTCGGTAGAACGGCGGACT': 3,\n",
       "   'TTCCTCTGTAGTTCAGTCGGTAGAACGGCGGACTGTT': 3,\n",
       "   'GATTCCTCTGTAGTTCAGTCGGTAGAACGGCGGACTG': 3,\n",
       "   'ATTCCTCTGTAGTTCAGTCGGTAGAACGGCGGACTGTT': 3,\n",
       "   'GATTCCTCTGTAGTTCAGTCGGTAGAACGGCGGACTGTT': 3,\n",
       "   'ATTCCTCTGTAGTTCAGTCGGTAGAACGGCGGACTGTTA': 3,\n",
       "   'CGATTCCTCTGTAGTTCAGTCGGTAGAACGGCGGACTGTT': 3,\n",
       "   'TTCCTCTGTAGTTCAGTCGGTAGAACGGCGGACTGTTAAT': 3,\n",
       "   'GATTCCTCTGTAGTTCAGTCGGTAGAACGGCGGACTGTTA': 3,\n",
       "   'ATTCCTCTGTAGTTCAGTCGGTAGAACGGCGGACTGTTAAT': 3,\n",
       "   'TCCTCTGTAGTTCAGTCGGTAGAACGGCGGACTGTTAATCC': 3,\n",
       "   'TTCCTCTGTAGTTCAGTCGGTAGAACGGCGGACTGTTAATC': 3,\n",
       "   'TCCTCTGTAGTTCAGTCGGTAGAACGGCGGACTGTTAATCCG': 3,\n",
       "   'TTCCTCTGTAGTTCAGTCGGTAGAACGGCGGACTGTTAATCC': 3,\n",
       "   'ATTCCTCTGTAGTTCAGTCGGTAGAACGGCGGACTGTTAATC': 3,\n",
       "   'TTCCTCTGTAGTTCAGTCGGTAGAACGGCGGACTGTTAATCCG': 3,\n",
       "   'TCCTCTGTAGTTCAGTCGGTAGAACGGCGGACTGTTAATCCGT': 3,\n",
       "   'TTCCTCTGTAGTTCAGTCGGTAGAACGGCGGACTGTTAATCCGT': 3,\n",
       "   'TTCCTCTGTAGTTCAGTCGGTAGAACGGCGGACTGTTAATCCGTA': 3,\n",
       "   'ATTCCTCTGTAGTTCAGTCGGTAGAACGGCGGACTGTTAATCCGT': 3,\n",
       "   'GATTCCTCTGTAGTTCAGTCGGTAGAACGGCGGACTGTTAATCCGT': 3,\n",
       "   'GATTCCTCTGTAGTTCAGTCGGTAGAACGGCGGACTGTTAATCCGTA': 3,\n",
       "   'TTCCTCTGTAGTTCAGTCGGTAGAACGGCGGACTGTTAATCCGTATGT': 3,\n",
       "   'TTCCTCTGTAGTTCAGTCGGTAGAACGGCGGACTGTTAATCCGTATGTC': 3,\n",
       "   'TCCTCTGTAGTTCAGTCGGTAGAACGGCGGACTGTTAATCCGTATGTCA': 3,\n",
       "   'ATTCCTCTGTAGTTCAGTCGGTAGAACGGCGGACTGTTAATCCGTATGT': 3},\n",
       "  'cpai_5': {},\n",
       "  'cpai_2': {},\n",
       "  'cpai_6': {},\n",
       "  'cpai_1': {},\n",
       "  'npai_1': {}},\n",
       " 'NC_018662': {'npai_1': {'CAGTGGCTTCTG': 1,\n",
       "   'CAGTGGCTTCTGT': 1,\n",
       "   'CAGTGGCTTCTGTT': 1,\n",
       "   'CAGTGGCTTCTGTTT': 1,\n",
       "   'CAGTGGCTTCTGTTTC': 1,\n",
       "   'CAGTGGCTTCTGTTTCT': 1,\n",
       "   'CAGTGGCTTCTGTTTCTA': 1,\n",
       "   'CAGTGGCTTCTGTTTCTAT': 1,\n",
       "   'CAGTGGCTTCTGTTTCTATC': 1}},\n",
       " 'NC_010488': {'cpai_1': {}},\n",
       " 'NC_017630': {'npai_1': {}},\n",
       " 'NC_007946': {'cpai_7': {},\n",
       "  'cpai_4': {},\n",
       "  'cpai_3': {},\n",
       "  'cpai_5': {},\n",
       "  'cpai_8': {},\n",
       "  'cpai_2': {'CCAGATCCTGAGATCCCTTTAGGCTCAAATAGATAAT': 1,\n",
       "   'CCAGATCCTGAGATCCCTTTAGGCTCAAATAGATAATG': 1,\n",
       "   'CCAGATCCTGAGATCCCTTTAGGCTCAAATAGATAATGC': 1,\n",
       "   'CCAGATCCTGAGATCCCTTTAGGCTCAAATAGATAATGCT': 1,\n",
       "   'CCAGATCCTGAGATCCCTTTAGGCTCAAATAGATAATGCTT': 1,\n",
       "   'CCAGATCCTGAGATCCCTTTAGGCTCAAATAGATAATGCTTT': 1,\n",
       "   'CCAGATCCTGAGATCCCTTTAGGCTCAAATAGATAATGCTTTG': 1,\n",
       "   'CCAGATCCTGAGATCCCTTTAGGCTCAAATAGATAATGCTTTGA': 1,\n",
       "   'CCAGATCCTGAGATCCCTTTAGGCTCAAATAGATAATGCTTTGAA': 1,\n",
       "   'CCAGATCCTGAGATCCCTTTAGGCTCAAATAGATAATGCTTTGAAT': 1,\n",
       "   'CCAGATCCTGAGATCCCTTTAGGCTCAAATAGATAATGCTTTGAATG': 1,\n",
       "   'CCAGATCCTGAGATCCCTTTAGGCTCAAATAGATAATGCTTTGAATGA': 1,\n",
       "   'CCAGATCCTGAGATCCCTTTAGGCTCAAATAGATAATGCTTTGAATGAT': 1},\n",
       "  'cpai_9': {},\n",
       "  'cpai_10': {},\n",
       "  'cpai_6': {},\n",
       "  'cpai_1': {},\n",
       "  'npai_2': {},\n",
       "  'npai_1': {}},\n",
       " 'NC_017660': {'cpai_4': {},\n",
       "  'cpai_3': {'TAATGTCAAATA': 2, 'ATAATGTCAAATA': 2},\n",
       "  'cpai_2': {'CATTTTTTTATCCTTT': 1,\n",
       "   'CATTTTTTTATCCTTTT': 1,\n",
       "   'CATTTTTTTATCCTTTTAT': 1,\n",
       "   'CATTTTTTTATCCTTTTATT': 1,\n",
       "   'CATTTTTTTATCCTTTTATTA': 1,\n",
       "   'CATTTTTTTATCCTTTTATTAATG': 1,\n",
       "   'CATTTTTTTATCCTTTTATTAATGA': 1,\n",
       "   'CATTTTTTTATCCTTTTATTAATGATTA': 1,\n",
       "   'CATTTTTTTATCCTTTTATTAATGATTAC': 1,\n",
       "   'CATTTTTTTATCCTTTTATTAATGATTACCTG': 1,\n",
       "   'CATTTTTTTATCCTTTTATTAATGATTACCTGA': 1,\n",
       "   'CATTTTTTTATCCTTTTATTAATGATTACCTGACTA': 1,\n",
       "   'CATTTTTTTATCCTTTTATTAATGATTACCTGACTAT': 1,\n",
       "   'CATTTTTTTATCCTTTTATTAATGATTACCTGACTATAG': 1,\n",
       "   'CATTTTTTTATCCTTTTATTAATGATTACCTGACTATAGC': 1,\n",
       "   'CATTTTTTTATCCTTTTATTAATGATTACCTGACTATAGCG': 1,\n",
       "   'CATTTTTTTATCCTTTTATTAATGATTACCTGACTATAGCGGTA': 1,\n",
       "   'CATTTTTTTATCCTTTTATTAATGATTACCTGACTATAGCGGTAA': 1,\n",
       "   'CATTTTTTTATCCTTTTATTAATGATTACCTGACTATAGCGGTAAG': 1,\n",
       "   'CATTTTTTTATCCTTTTATTAATGATTACCTGACTATAGCGGTAAGGTC': 1},\n",
       "  'cpai_1': {},\n",
       "  'npai_2': {},\n",
       "  'npai_1': {}},\n",
       " 'NC_017651': {'cpai_12': {},\n",
       "  'cpai_7': {},\n",
       "  'cpai_4': {'CCAGATCCTGAGATCCCTTTAGGCTCAAATAGATAAT': 1,\n",
       "   'CCAGATCCTGAGATCCCTTTAGGCTCAAATAGATAATG': 1,\n",
       "   'CCAGATCCTGAGATCCCTTTAGGCTCAAATAGATAATGC': 1,\n",
       "   'CCAGATCCTGAGATCCCTTTAGGCTCAAATAGATAATGCT': 1,\n",
       "   'CCAGATCCTGAGATCCCTTTAGGCTCAAATAGATAATGCTT': 1,\n",
       "   'CCAGATCCTGAGATCCCTTTAGGCTCAAATAGATAATGCTTT': 1,\n",
       "   'CCAGATCCTGAGATCCCTTTAGGCTCAAATAGATAATGCTTTG': 1,\n",
       "   'CCAGATCCTGAGATCCCTTTAGGCTCAAATAGATAATGCTTTGA': 1,\n",
       "   'CCAGATCCTGAGATCCCTTTAGGCTCAAATAGATAATGCTTTGAA': 1,\n",
       "   'CCAGATCCTGAGATCCCTTTAGGCTCAAATAGATAATGCTTTGAAT': 1,\n",
       "   'CCAGATCCTGAGATCCCTTTAGGCTCAAATAGATAATGCTTTGAATG': 1,\n",
       "   'CCAGATCCTGAGATCCCTTTAGGCTCAAATAGATAATGCTTTGAATGA': 1,\n",
       "   'CCAGATCCTGAGATCCCTTTAGGCTCAAATAGATAATGCTTTGAATGAT': 1},\n",
       "  'cpai_3': {},\n",
       "  'cpai_5': {'CCAGAGTGACGGGAATTAGCGTAT': 1,\n",
       "   'TTTTTTTTCGGGTTGCCCGGCCTGAT': 1,\n",
       "   'TTTTTTTTCGGGTTGCCCGGCCTGATA': 1,\n",
       "   'TTTTTTTTCGGGTTGCCCGGCCTGATAC': 1,\n",
       "   'TTTTTTTTCGGGTTGCCCGGCCTGATACA': 1,\n",
       "   'TTTTTTTTCGGGTTGCCCGGCCTGATACAT': 1,\n",
       "   'TTTTTTTTCGGGTTGCCCGGCCTGATACATC': 1,\n",
       "   'TTTTTTTTCGGGTTGCCCGGCCTGATACATCA': 1,\n",
       "   'TTTTTTTTCGGGTTGCCCGGCCTGATACATCAG': 1,\n",
       "   'TTTTTTTTCGGGTTGCCCGGCCTGATACATCAGA': 1,\n",
       "   'TTTTTTTTCGGGTTGCCCGGCCTGATACATCAGAG': 1,\n",
       "   'TTTTTTTTCGGGTTGCCCGGCCTGATACATCAGAGC': 1,\n",
       "   'TTTTTTTTCGGGTTGCCCGGCCTGATACATCAGAGCA': 1,\n",
       "   'TTTTTTTTCGGGTTGCCCGGCCTGATACATCAGAGCAA': 1,\n",
       "   'TTTTTTTTCGGGTTGCCCGGCCTGATACATCAGAGCAAT': 1,\n",
       "   'TTTTTTTTCGGGTTGCCCGGCCTGATACATCAGAGCAATA': 1,\n",
       "   'TTTTTTTTCGGGTTGCCCGGCCTGATACATCAGAGCAATAC': 1,\n",
       "   'TTTTTTTTCGGGTTGCCCGGCCTGATACATCAGAGCAATACG': 1,\n",
       "   'TTTTTTTTCGGGTTGCCCGGCCTGATACATCAGAGCAATACGT': 1,\n",
       "   'TTTTTTTTCGGGTTGCCCGGCCTGATACATCAGAGCAATACGTT': 1,\n",
       "   'TTTTTTTTCGGGTTGCCCGGCCTGATACATCAGAGCAATACGTTG': 1,\n",
       "   'TTTTTTTTCGGGTTGCCCGGCCTGATACATCAGAGCAATACGTTGC': 1,\n",
       "   'TTTTTTTTCGGGTTGCCCGGCCTGATACATCAGAGCAATACGTTGCT': 1,\n",
       "   'TTTTTTTTCGGGTTGCCCGGCCTGATACATCAGAGCAATACGTTGCTT': 1,\n",
       "   'TTTTTTTTCGGGTTGCCCGGCCTGATACATCAGAGCAATACGTTGCTTT': 1},\n",
       "  'cpai_8': {},\n",
       "  'cpai_2': {},\n",
       "  'cpai_11': {},\n",
       "  'cpai_9': {'CATGACGGATATT': 1,\n",
       "   'CATGACGGATATTA': 1,\n",
       "   'CATGACGGATATTAC': 1,\n",
       "   'CATGACGGATATTACT': 1,\n",
       "   'CATGACGGATATTACTG': 1,\n",
       "   'CATGACGGATATTACTGA': 1,\n",
       "   'CATGACGGATATTACTGAC': 1,\n",
       "   'CATGACGGATATTACTGACA': 1,\n",
       "   'CATGACGGATATTACTGACAG': 1,\n",
       "   'CATGACGGATATTACTGACAGA': 1,\n",
       "   'CATGACGGATATTACTGACAGAC': 1,\n",
       "   'CATGACGGATATTACTGACAGACA': 1,\n",
       "   'CATGACGGATATTACTGACAGACAT': 1,\n",
       "   'CATGACGGATATTACTGACAGACATA': 1,\n",
       "   'CATGACGGATATTACTGACAGACATAC': 1,\n",
       "   'CATGACGGATATTACTGACAGACATACA': 1,\n",
       "   'CATGACGGATATTACTGACAGACATACAC': 1,\n",
       "   'CATGACGGATATTACTGACAGACATACACT': 1,\n",
       "   'CATGACGGATATTACTGACAGACATACACTT': 1,\n",
       "   'CATGACGGATATTACTGACAGACATACACTTC': 1,\n",
       "   'CATGACGGATATTACTGACAGACATACACTTCG': 1,\n",
       "   'CATGACGGATATTACTGACAGACATACACTTCGC': 1,\n",
       "   'CATGACGGATATTACTGACAGACATACACTTCGCC': 1,\n",
       "   'CATGACGGATATTACTGACAGACATACACTTCGCCG': 1,\n",
       "   'CATGACGGATATTACTGACAGACATACACTTCGCCGT': 1,\n",
       "   'CATGACGGATATTACTGACAGACATACACTTCGCCGTA': 1,\n",
       "   'CATGACGGATATTACTGACAGACATACACTTCGCCGTAT': 1,\n",
       "   'CATGACGGATATTACTGACAGACATACACTTCGCCGTATG': 1,\n",
       "   'CATGACGGATATTACTGACAGACATACACTTCGCCGTATGT': 1,\n",
       "   'CATGACGGATATTACTGACAGACATACACTTCGCCGTATGTC': 1,\n",
       "   'CATGACGGATATTACTGACAGACATACACTTCGCCGTATGTCC': 1,\n",
       "   'CATGACGGATATTACTGACAGACATACACTTCGCCGTATGTCCT': 1,\n",
       "   'CATGACGGATATTACTGACAGACATACACTTCGCCGTATGTCCTG': 1,\n",
       "   'CATGACGGATATTACTGACAGACATACACTTCGCCGTATGTCCTGG': 1,\n",
       "   'CATGACGGATATTACTGACAGACATACACTTCGCCGTATGTCCTGGT': 1,\n",
       "   'CATGACGGATATTACTGACAGACATACACTTCGCCGTATGTCCTGGTC': 1,\n",
       "   'CATGACGGATATTACTGACAGACATACACTTCGCCGTATGTCCTGGTCG': 1},\n",
       "  'cpai_10': {},\n",
       "  'cpai_6': {},\n",
       "  'cpai_1': {},\n",
       "  'npai_2': {},\n",
       "  'npai_1': {}},\n",
       " 'NC_002695': {'pai_2': {},\n",
       "  'pai_1': {},\n",
       "  'cpai_4': {},\n",
       "  'cpai_3': {},\n",
       "  'cpai_5': {},\n",
       "  'cpai_2': {},\n",
       "  'cpai_6': {},\n",
       "  'cpai_1': {},\n",
       "  'npai_2': {},\n",
       "  'npai_1': {}},\n",
       " 'NC_013353': {'pai_1': {},\n",
       "  'cpai_7': {},\n",
       "  'cpai_4': {'TATTTGACATTA': 2, 'TATTTGACATTAT': 2},\n",
       "  'cpai_3': {'TTTCCATTTTTAT': 2, 'TTCCATTTTTATA': 2, 'TTTCCATTTTTATA': 2},\n",
       "  'cpai_5': {},\n",
       "  'cpai_8': {},\n",
       "  'cpai_2': {},\n",
       "  'cpai_6': {},\n",
       "  'cpai_1': {'GGAGCGGTAGTTCAGTCGGTTAGAATACC': 2,\n",
       "   'GGAGCGGTAGTTCAGTCGGTTAGAATACCTG': 2,\n",
       "   'GGAGCGGTAGTTCAGTCGGTTAGAATACCTGCCTG': 2,\n",
       "   'GGAGCGGTAGTTCAGTCGGTTAGAATACCTGCCTGT': 2,\n",
       "   'GGAGCGGTAGTTCAGTCGGTTAGAATACCTGCCTGTC': 2},\n",
       "  'npai_1': {}},\n",
       " 'NC_007414': {'npai_1': {'CACACTGAATTTGGCCACCTGAACAGAGGT': 1,\n",
       "   'CACACTGAATTTGGCCACCTGAACAGAGGTG': 1,\n",
       "   'CACACTGAATTTGGCCACCTGAACAGAGGTGA': 1,\n",
       "   'CACACTGAATTTGGCCACCTGAACAGAGGTGAT': 1,\n",
       "   'CACACTGAATTTGGCCACCTGAACAGAGGTGATA': 1,\n",
       "   'CACACTGAATTTGGCCACCTGAACAGAGGTGATAT': 1,\n",
       "   'CACACTGAATTTGGCCACCTGAACAGAGGTGATATG': 1,\n",
       "   'CACACTGAATTTGGCCACCTGAACAGAGGTGATATGC': 1,\n",
       "   'CACACTGAATTTGGCCACCTGAACAGAGGTGATATGCT': 1,\n",
       "   'CACACTGAATTTGGCCACCTGAACAGAGGTGATATGCTC': 1,\n",
       "   'CACACTGAATTTGGCCACCTGAACAGAGGTGATATGCTCA': 1,\n",
       "   'CACACTGAATTTGGCCACCTGAACAGAGGTGATATGCTCAC': 1,\n",
       "   'CACACTGAATTTGGCCACCTGAACAGAGGTGATATGCTCACC': 1,\n",
       "   'CACACTGAATTTGGCCACCTGAACAGAGGTGATATGCTCACCT': 1,\n",
       "   'CACACTGAATTTGGCCACCTGAACAGAGGTGATATGCTCACCTC': 1,\n",
       "   'CACACTGAATTTGGCCACCTGAACAGAGGTGATATGCTCACCTCA': 1,\n",
       "   'CACACTGAATTTGGCCACCTGAACAGAGGTGATATGCTCACCTCAG': 1,\n",
       "   'CACACTGAATTTGGCCACCTGAACAGAGGTGATATGCTCACCTCAGA': 1,\n",
       "   'CACACTGAATTTGGCCACCTGAACAGAGGTGATATGCTCACCTCAGAA': 1,\n",
       "   'CACACTGAATTTGGCCACCTGAACAGAGGTGATATGCTCACCTCAGAAC': 1}},\n",
       " 'NC_017656': {'cpai_4': {},\n",
       "  'cpai_3': {},\n",
       "  'cpai_5': {},\n",
       "  'cpai_2': {'CATTTTTATACCC': 1,\n",
       "   'CATTTTTATACCCC': 1,\n",
       "   'CATTTTTATACCCCT': 1,\n",
       "   'CATTTTTATACCCCTG': 1,\n",
       "   'CATTTTTATACCCCTGA': 1,\n",
       "   'CATTTTTATACCCCTGAT': 1,\n",
       "   'CATTTTTATACCCCTGATA': 1,\n",
       "   'CATTTTTATACCCCTGATAA': 1,\n",
       "   'CATTTTTATACCCCTGATAAT': 1,\n",
       "   'CATTTTTATACCCCTGATAATG': 1,\n",
       "   'CATTTTTATACCCCTGATAATGT': 1,\n",
       "   'CATTTTTATACCCCTGATAATGTG': 1,\n",
       "   'CATTTTTATACCCCTGATAATGTGA': 1,\n",
       "   'CATTTTTATACCCCTGATAATGTGAG': 1,\n",
       "   'CATTTTTATACCCCTGATAATGTGAGA': 1,\n",
       "   'CATTTTTATACCCCTGATAATGTGAGAG': 1,\n",
       "   'CATTTTTATACCCCTGATAATGTGAGAGT': 1,\n",
       "   'CATTTTTATACCCCTGATAATGTGAGAGTC': 1,\n",
       "   'CATTTTTATACCCCTGATAATGTGAGAGTCG': 1,\n",
       "   'CATTTTTATACCCCTGATAATGTGAGAGTCGG': 1,\n",
       "   'CATTTTTATACCCCTGATAATGTGAGAGTCGGA': 1,\n",
       "   'CATTTTTATACCCCTGATAATGTGAGAGTCGGAT': 1,\n",
       "   'CATTTTTATACCCCTGATAATGTGAGAGTCGGATT': 1,\n",
       "   'CATTTTTATACCCCTGATAATGTGAGAGTCGGATTC': 1,\n",
       "   'CATTTTTATACCCCTGATAATGTGAGAGTCGGATTCG': 1,\n",
       "   'CATTTTTATACCCCTGATAATGTGAGAGTCGGATTCGT': 1,\n",
       "   'CCAGTACGTCCTGGAATGAAGGCTTGGTAGTTTCCATT': 1,\n",
       "   'CATTTTTATACCCCTGATAATGTGAGAGTCGGATTCGTT': 1,\n",
       "   'CCAGTACGTCCTGGAATGAAGGCTTGGTAGTTTCCATTT': 1,\n",
       "   'CATTTTTATACCCCTGATAATGTGAGAGTCGGATTCGTTT': 1,\n",
       "   'CATTTTTATACCCCTGATAATGTGAGAGTCGGATTCGTTTA': 1,\n",
       "   'CATTTTTATACCCCTGATAATGTGAGAGTCGGATTCGTTTAA': 1,\n",
       "   'CATTTTTATACCCCTGATAATGTGAGAGTCGGATTCGTTTAAG': 1,\n",
       "   'CATTTTTATACCCCTGATAATGTGAGAGTCGGATTCGTTTAAGC': 1,\n",
       "   'CATTTTTATACCCCTGATAATGTGAGAGTCGGATTCGTTTAAGCA': 1,\n",
       "   'CATTTTTATACCCCTGATAATGTGAGAGTCGGATTCGTTTAAGCAA': 1,\n",
       "   'CATTTTTATACCCCTGATAATGTGAGAGTCGGATTCGTTTAAGCAAC': 1,\n",
       "   'CATTTTTATACCCCTGATAATGTGAGAGTCGGATTCGTTTAAGCAACC': 1,\n",
       "   'CATTTTTATACCCCTGATAATGTGAGAGTCGGATTCGTTTAAGCAACCG': 1},\n",
       "  'cpai_1': {},\n",
       "  'npai_2': {},\n",
       "  'npai_1': {}},\n",
       " 'NC_017664': {'cpai_4': {},\n",
       "  'cpai_3': {'CATTTTTTTATCC': 1,\n",
       "   'CATTTTTTTATCCT': 1,\n",
       "   'CATTTTTTTATCCTT': 1,\n",
       "   'CATTTTTTTATCCTTT': 1,\n",
       "   'CATTTTTTTATCCTTTT': 1,\n",
       "   'CATTTTTTTATCCTTTTAT': 1,\n",
       "   'CATTTTTTTATCCTTTTATT': 1,\n",
       "   'CATTTTTTTATCCTTTTATTA': 1,\n",
       "   'CATTTTTTTATCCTTTTATTAATG': 1,\n",
       "   'CATTTTTTTATCCTTTTATTAATGA': 1,\n",
       "   'CATTTTTTTATCCTTTTATTAATGATTA': 1,\n",
       "   'CATTTTTTTATCCTTTTATTAATGATTAC': 1,\n",
       "   'CATTTTTTTATCCTTTTATTAATGATTACCTG': 1,\n",
       "   'CATTTTTTTATCCTTTTATTAATGATTACCTGA': 1,\n",
       "   'CATTTTTTTATCCTTTTATTAATGATTACCTGACTA': 1,\n",
       "   'CATTTTTTTATCCTTTTATTAATGATTACCTGACTAT': 1,\n",
       "   'CATTTTTTTATCCTTTTATTAATGATTACCTGACTATAG': 1,\n",
       "   'CATTTTTTTATCCTTTTATTAATGATTACCTGACTATAGC': 1,\n",
       "   'CATTTTTTTATCCTTTTATTAATGATTACCTGACTATAGCG': 1,\n",
       "   'CATTTTTTTATCCTTTTATTAATGATTACCTGACTATAGCGGTA': 1,\n",
       "   'CATTTTTTTATCCTTTTATTAATGATTACCTGACTATAGCGGTAA': 1,\n",
       "   'CATTTTTTTATCCTTTTATTAATGATTACCTGACTATAGCGGTAAG': 1,\n",
       "   'CATTTTTTTATCCTTTTATTAATGATTACCTGACTATAGCGGTAAGGTC': 1},\n",
       "  'cpai_2': {'TATTTGACATTAT': 2},\n",
       "  'cpai_1': {},\n",
       "  'npai_2': {},\n",
       "  'npai_1': {}},\n",
       " 'NC_017659': {'cpai_2': {}, 'cpai_1': {}, 'npai_1': {}},\n",
       " 'NC_000913': {'cpai_4': {},\n",
       "  'cpai_3': {},\n",
       "  'cpai_2': {},\n",
       "  'cpai_1': {},\n",
       "  'npai_3': {},\n",
       "  'npai_2': {},\n",
       "  'npai_1': {}},\n",
       " 'NC_007941': {'npai_1': {'CCCGGGAATCCTGGAGACTAAACTTCCTGAGAAAGAGGTAAACAGGAT': 1,\n",
       "   'CCCGGGAATCCTGGAGACTAAACTTCCTGAGAAAGAGGTAAACAGGATG': 1}},\n",
       " 'NC_012892': {'cpai_4': {},\n",
       "  'cpai_3': {},\n",
       "  'cpai_5': {},\n",
       "  'cpai_2': {},\n",
       "  'cpai_6': {},\n",
       "  'cpai_1': {'CCATGGTTACCTCTGCTTT': 1,\n",
       "   'CCATGGTTACCTCTGCTTTTTG': 1,\n",
       "   'CCATGGTTACCTCTGCTTTTTGAACGCA': 1,\n",
       "   'CCATGGTTACCTCTGCTTTTTGAACGCAT': 1,\n",
       "   'CCATGGTTACCTCTGCTTTTTGAACGCATG': 1,\n",
       "   'CCATGGTTACCTCTGCTTTTTGAACGCATGTC': 1,\n",
       "   'CCATGGTTACCTCTGCTTTTTGAACGCATGTCA': 1},\n",
       "  'npai_1': {}},\n",
       " 'NC_011601': {'cpai_4': {},\n",
       "  'cpai_3': {'CAGATAACAACAGAGCTTTAATTTA': 1,\n",
       "   'CAGATAACAACAGAGCTTTAATTTAC': 1,\n",
       "   'CAGATAACAACAGAGCTTTAATTTACTTT': 1,\n",
       "   'CAGATAACAACAGAGCTTTAATTTACTTTGCCC': 1,\n",
       "   'CAGATAACAACAGAGCTTTAATTTACTTTGCCCT': 1,\n",
       "   'CAGATAACAACAGAGCTTTAATTTACTTTGCCCTG': 1,\n",
       "   'CAGATAACAACAGAGCTTTAATTTACTTTGCCCTGTA': 1,\n",
       "   'CAGATAACAACAGAGCTTTAATTTACTTTGCCCTGTAT': 1,\n",
       "   'CAGATAACAACAGAGCTTTAATTTACTTTGCCCTGTATA': 1,\n",
       "   'CAGATAACAACAGAGCTTTAATTTACTTTGCCCTGTATAA': 1,\n",
       "   'CAGATAACAACAGAGCTTTAATTTACTTTGCCCTGTATAAA': 1,\n",
       "   'CAGATAACAACAGAGCTTTAATTTACTTTGCCCTGTATAAAT': 1,\n",
       "   'CAGATAACAACAGAGCTTTAATTTACTTTGCCCTGTATAAATT': 1,\n",
       "   'CAGATAACAACAGAGCTTTAATTTACTTTGCCCTGTATAAATTC': 1,\n",
       "   'CAGATAACAACAGAGCTTTAATTTACTTTGCCCTGTATAAATTCT': 1,\n",
       "   'CAGATAACAACAGAGCTTTAATTTACTTTGCCCTGTATAAATTCTC': 1,\n",
       "   'CAGATAACAACAGAGCTTTAATTTACTTTGCCCTGTATAAATTCTCA': 1,\n",
       "   'CAGATAACAACAGAGCTTTAATTTACTTTGCCCTGTATAAATTCTCAG': 1,\n",
       "   'CAGATAACAACAGAGCTTTAATTTACTTTGCCCTGTATAAATTCTCAGG': 1},\n",
       "  'cpai_5': {},\n",
       "  'cpai_2': {},\n",
       "  'cpai_1': {},\n",
       "  'npai_2': {},\n",
       "  'npai_1': {}},\n",
       " 'NC_011993': {'cpai_4': {},\n",
       "  'cpai_3': {'GTCCAGTCAGAGGAGCCAA': 3,\n",
       "   'CGAGTCCAGTCAGAGGAGCCAA': 3,\n",
       "   'TCGAGTCCAGTCAGAGGAGCCAA': 3,\n",
       "   'TGGTTCGAGTCCAGTCAGAGGAGCCAA': 3,\n",
       "   'CTGGTTCGAGTCCAGTCAGAGGAGCCAA': 3,\n",
       "   'CACTGGTTCGAGTCCAGTCAGAGGAGCCAA': 3,\n",
       "   'TCACTGGTTCGAGTCCAGTCAGAGGAGCCAA': 3,\n",
       "   'TGTCACTGGTTCGAGTCCAGTCAGAGGAGCCAA': 3,\n",
       "   'GTATGTCACTGGTTCGAGTCCAGTCAGAGGAGCCAA': 3,\n",
       "   'TCCGTATGTCACTGGTTCGAGTCCAGTCAGAGGAGCCAA': 3,\n",
       "   'ATCCGTATGTCACTGGTTCGAGTCCAGTCAGAGGAGCCAA': 3,\n",
       "   'ACTGTTAATCCGTATGTCACTGGTTCGAGTCCAGTCAGAGGAGCCAA': 3,\n",
       "   'GGACTGTTAATCCGTATGTCACTGGTTCGAGTCCAGTCAGAGGAGCCAA': 3},\n",
       "  'cpai_5': {},\n",
       "  'cpai_2': {'CCAGATCCTGAGATCCCTTTAGGCTCAAATAGATAAT': 1,\n",
       "   'CCAGATCCTGAGATCCCTTTAGGCTCAAATAGATAATG': 1,\n",
       "   'CCAGATCCTGAGATCCCTTTAGGCTCAAATAGATAATGC': 1,\n",
       "   'CCAGATCCTGAGATCCCTTTAGGCTCAAATAGATAATGCT': 1,\n",
       "   'CCAGATCCTGAGATCCCTTTAGGCTCAAATAGATAATGCTT': 1,\n",
       "   'CCAGATCCTGAGATCCCTTTAGGCTCAAATAGATAATGCTTT': 1,\n",
       "   'CCAGATCCTGAGATCCCTTTAGGCTCAAATAGATAATGCTTTG': 1,\n",
       "   'CCAGATCCTGAGATCCCTTTAGGCTCAAATAGATAATGCTTTGA': 1,\n",
       "   'CCAGATCCTGAGATCCCTTTAGGCTCAAATAGATAATGCTTTGAA': 1,\n",
       "   'CCAGATCCTGAGATCCCTTTAGGCTCAAATAGATAATGCTTTGAAT': 1,\n",
       "   'CCAGATCCTGAGATCCCTTTAGGCTCAAATAGATAATGCTTTGAATG': 1,\n",
       "   'CCAGATCCTGAGATCCCTTTAGGCTCAAATAGATAATGCTTTGAATGA': 1,\n",
       "   'CCAGATCCTGAGATCCCTTTAGGCTCAAATAGATAATGCTTTGAATGAT': 1},\n",
       "  'cpai_6': {},\n",
       "  'cpai_1': {},\n",
       "  'npai_1': {}},\n",
       " 'NC_011419': {'npai_1': {'CCATCCCATTAG': 1,\n",
       "   'CCATCCCATTAGC': 1,\n",
       "   'CCATCCCATTAGCG': 1,\n",
       "   'CCATCCCATTAGCGA': 1,\n",
       "   'CCATCCCATTAGCGAC': 1,\n",
       "   'CCATCCCATTAGCGACC': 1,\n",
       "   'CCATCCCATTAGCGACCA': 1,\n",
       "   'CCATCCCATTAGCGACCAT': 1,\n",
       "   'CCATCCCATTAGCGACCATC': 1,\n",
       "   'CCATGACCAGCCATCCCATT': 1,\n",
       "   'CCATCCCATTAGCGACCATCC': 1,\n",
       "   'CCATCCCATTAGCGACCATCCC': 1,\n",
       "   'CCATGACCAGCCATCCCATTAG': 1,\n",
       "   'CCATCCCATTAGCGACCATCCCT': 1,\n",
       "   'CCATGACCAGCCATCCCATTAGC': 1,\n",
       "   'CCATCCCATTAGCGACCATCCCTT': 1,\n",
       "   'CCATCCCATTAGCGACCATCCCTTG': 1,\n",
       "   'CCATCCCATTAGCGACCATCCCTTGT': 1,\n",
       "   'CCATCCCATTAGCGACCATCCCTTGTA': 1,\n",
       "   'CCATCCCATTAGCGACCATCCCTTGTAT': 1,\n",
       "   'CCATCCCATTAGCGACCATCCCTTGTATC': 1,\n",
       "   'CCATCCCATTAGCGACCATCCCTTGTATCA': 1,\n",
       "   'CCATCCCATTAGCGACCATCCCTTGTATCAG': 1,\n",
       "   'CCATCCCATTAGCGACCATCCCTTGTATCAGA': 1,\n",
       "   'CCATCCCATTAGCGACCATCCCTTGTATCAGAA': 1,\n",
       "   'CCATCCCATTAGCGACCATCCCTTGTATCAGAAA': 1,\n",
       "   'CCATGACCAGCCATCCCATTAGCGACCATCCCTT': 1,\n",
       "   'CCATCCCATTAGCGACCATCCCTTGTATCAGAAAC': 1,\n",
       "   'CCATGACCAGCCATCCCATTAGCGACCATCCCTTG': 1,\n",
       "   'CCATCCCATTAGCGACCATCCCTTGTATCAGAAACT': 1,\n",
       "   'CCATGACCAGCCATCCCATTAGCGACCATCCCTTGT': 1,\n",
       "   'CCATCCCATTAGCGACCATCCCTTGTATCAGAAACTG': 1,\n",
       "   'CCATCCCATTAGCGACCATCCCTTGTATCAGAAACTGT': 1,\n",
       "   'CCATCCCATTAGCGACCATCCCTTGTATCAGAAACTGTA': 1,\n",
       "   'CCATCCCATTAGCGACCATCCCTTGTATCAGAAACTGTAA': 1,\n",
       "   'CCATCCCATTAGCGACCATCCCTTGTATCAGAAACTGTAAT': 1,\n",
       "   'CCATCCCATTAGCGACCATCCCTTGTATCAGAAACTGTAATG': 1,\n",
       "   'CCATGACCAGCCATCCCATTAGCGACCATCCCTTGTATCAGA': 1,\n",
       "   'CCATCCCATTAGCGACCATCCCTTGTATCAGAAACTGTAATGA': 1,\n",
       "   'CCATGACCAGCCATCCCATTAGCGACCATCCCTTGTATCAGAA': 1,\n",
       "   'CCATCCCATTAGCGACCATCCCTTGTATCAGAAACTGTAATGAT': 1,\n",
       "   'CCATGACCAGCCATCCCATTAGCGACCATCCCTTGTATCAGAAA': 1,\n",
       "   'CCATCCCATTAGCGACCATCCCTTGTATCAGAAACTGTAATGATG': 1,\n",
       "   'CCATGACCAGCCATCCCATTAGCGACCATCCCTTGTATCAGAAAC': 1,\n",
       "   'CCATGACCAGCCATCCCATTAGCGACCATCCCTTGTATCAGAAACT': 1,\n",
       "   'CCATCCCATTAGCGACCATCCCTTGTATCAGAAACTGTAATGATGC': 1,\n",
       "   'CCATGACCAGCCATCCCATTAGCGACCATCCCTTGTATCAGAAACTG': 1,\n",
       "   'CCATCCCATTAGCGACCATCCCTTGTATCAGAAACTGTAATGATGCA': 1,\n",
       "   'CCATGACCAGCCATCCCATTAGCGACCATCCCTTGTATCAGAAACTGT': 1,\n",
       "   'CCATCCCATTAGCGACCATCCCTTGTATCAGAAACTGTAATGATGCAC': 1,\n",
       "   'CCATCCCATTAGCGACCATCCCTTGTATCAGAAACTGTAATGATGCACT': 1,\n",
       "   'CCATGACCAGCCATCCCATTAGCGACCATCCCTTGTATCAGAAACTGTA': 1}},\n",
       " 'NC_013364': {'pai_1': {},\n",
       "  'cpai_7': {},\n",
       "  'cpai_4': {},\n",
       "  'cpai_3': {},\n",
       "  'cpai_5': {},\n",
       "  'cpai_8': {},\n",
       "  'cpai_2': {},\n",
       "  'cpai_9': {},\n",
       "  'cpai_6': {'TATTTGACATTA': 2, 'TATTTGACATTAT': 2},\n",
       "  'cpai_1': {}},\n",
       " 'NC_007779': {'cpai_4': {},\n",
       "  'cpai_3': {},\n",
       "  'cpai_2': {},\n",
       "  'cpai_1': {},\n",
       "  'npai_3': {},\n",
       "  'npai_2': {},\n",
       "  'npai_1': {}},\n",
       " 'NC_017645': {'cpai_2': {}, 'cpai_1': {}},\n",
       " 'NC_013941': {'cpai_4': {},\n",
       "  'cpai_3': {},\n",
       "  'cpai_5': {},\n",
       "  'cpai_2': {},\n",
       "  'cpai_1': {},\n",
       "  'npai_2': {},\n",
       "  'npai_1': {}},\n",
       " 'NC_009790': {'cpai_2': {'GTTACTGTTAT': 2}, 'cpai_1': {}},\n",
       " 'NC_012967': {'cpai_7': {},\n",
       "  'cpai_4': {},\n",
       "  'cpai_3': {},\n",
       "  'cpai_5': {},\n",
       "  'cpai_2': {},\n",
       "  'cpai_6': {},\n",
       "  'cpai_1': {},\n",
       "  'npai_1': {}},\n",
       " 'NC_017628': {'cpai_7': {},\n",
       "  'cpai_4': {'CCACAGATTGAGTTATTAAGTTGTGGAAGAACAGCTC': 1,\n",
       "   'CCACAGATTGAGTTATTAAGTTGTGGAAGAACAGCTCTG': 1,\n",
       "   'CCACAGATTGAGTTATTAAGTTGTGGAAGAACAGCTCTGT': 1,\n",
       "   'CCACAGATTGAGTTATTAAGTTGTGGAAGAACAGCTCTGTC': 1,\n",
       "   'CCACAGATTGAGTTATTAAGTTGTGGAAGAACAGCTCTGTCC': 1,\n",
       "   'CCACAGATTGAGTTATTAAGTTGTGGAAGAACAGCTCTGTCCCG': 1,\n",
       "   'CCACAGATTGAGTTATTAAGTTGTGGAAGAACAGCTCTGTCCCGCCT': 1,\n",
       "   'CCACAGATTGAGTTATTAAGTTGTGGAAGAACAGCTCTGTCCCGCCTG': 1},\n",
       "  'cpai_3': {},\n",
       "  'cpai_5': {},\n",
       "  'cpai_8': {},\n",
       "  'cpai_2': {'CCAGATCCTGAGATCCCTTTAGGCTCAAATAGATAAT': 1,\n",
       "   'CCAGATCCTGAGATCCCTTTAGGCTCAAATAGATAATG': 1,\n",
       "   'CCAGATCCTGAGATCCCTTTAGGCTCAAATAGATAATGC': 1,\n",
       "   'CCAGATCCTGAGATCCCTTTAGGCTCAAATAGATAATGCT': 1,\n",
       "   'CCAGATCCTGAGATCCCTTTAGGCTCAAATAGATAATGCTT': 1,\n",
       "   'CCAGATCCTGAGATCCCTTTAGGCTCAAATAGATAATGCTTT': 1,\n",
       "   'CCAGATCCTGAGATCCCTTTAGGCTCAAATAGATAATGCTTTG': 1,\n",
       "   'CCAGATCCTGAGATCCCTTTAGGCTCAAATAGATAATGCTTTGA': 1,\n",
       "   'CCAGATCCTGAGATCCCTTTAGGCTCAAATAGATAATGCTTTGAA': 1,\n",
       "   'CCAGATCCTGAGATCCCTTTAGGCTCAAATAGATAATGCTTTGAAT': 1,\n",
       "   'CCAGATCCTGAGATCCCTTTAGGCTCAAATAGATAATGCTTTGAATG': 1,\n",
       "   'CCAGATCCTGAGATCCCTTTAGGCTCAAATAGATAATGCTTTGAATGA': 1,\n",
       "   'CCAGATCCTGAGATCCCTTTAGGCTCAAATAGATAATGCTTTGAATGAT': 1},\n",
       "  'cpai_6': {'TTTTTATACCCC': 2},\n",
       "  'cpai_1': {},\n",
       "  'npai_3': {},\n",
       "  'npai_2': {},\n",
       "  'npai_1': {}},\n",
       " 'NC_009800': {'cpai_4': {},\n",
       "  'cpai_3': {},\n",
       "  'cpai_2': {},\n",
       "  'cpai_1': {},\n",
       "  'npai_1': {}},\n",
       " 'NC_004431': {'pai_2': {},\n",
       "  'pai_1': {},\n",
       "  'cpai_12': {},\n",
       "  'cpai_7': {},\n",
       "  'cpai_4': {'CAGTATCCTGCCAGGGATATGTTCTCAGCTGTAAT': 1,\n",
       "   'CAGTATCCTGCCAGGGATATGTTCTCAGCTGTAATG': 1,\n",
       "   'CAGTATCCTGCCAGGGATATGTTCTCAGCTGTAATGT': 1,\n",
       "   'CAGTATCCTGCCAGGGATATGTTCTCAGCTGTAATGTT': 1,\n",
       "   'CAGTATCCTGCCAGGGATATGTTCTCAGCTGTAATGTTC': 1,\n",
       "   'CAGTATCCTGCCAGGGATATGTTCTCAGCTGTAATGTTCT': 1,\n",
       "   'CAGTATCCTGCCAGGGATATGTTCTCAGCTGTAATGTTCTG': 1,\n",
       "   'CAGTATCCTGCCAGGGATATGTTCTCAGCTGTAATGTTCTGA': 1,\n",
       "   'CAGTATCCTGCCAGGGATATGTTCTCAGCTGTAATGTTCTGAA': 1,\n",
       "   'CAGTATCCTGCCAGGGATATGTTCTCAGCTGTAATGTTCTGAAC': 1,\n",
       "   'CAGTATCCTGCCAGGGATATGTTCTCAGCTGTAATGTTCTGAACA': 1,\n",
       "   'CAGTATCCTGCCAGGGATATGTTCTCAGCTGTAATGTTCTGAACAA': 1,\n",
       "   'CAGTATCCTGCCAGGGATATGTTCTCAGCTGTAATGTTCTGAACAAC': 1,\n",
       "   'CAGTATCCTGCCAGGGATATGTTCTCAGCTGTAATGTTCTGAACAACA': 1,\n",
       "   'CAGTATCCTGCCAGGGATATGTTCTCAGCTGTAATGTTCTGAACAACAA': 1},\n",
       "  'cpai_3': {'CCAGATCCTGAGATCCCTTTAGGCTCAAATAGATAAT': 1,\n",
       "   'CCAGATCCTGAGATCCCTTTAGGCTCAAATAGATAATG': 1,\n",
       "   'CCAGATCCTGAGATCCCTTTAGGCTCAAATAGATAATGC': 1,\n",
       "   'CCAGATCCTGAGATCCCTTTAGGCTCAAATAGATAATGCT': 1,\n",
       "   'CCAGATCCTGAGATCCCTTTAGGCTCAAATAGATAATGCTT': 1,\n",
       "   'CCAGATCCTGAGATCCCTTTAGGCTCAAATAGATAATGCTTT': 1,\n",
       "   'CCAGATCCTGAGATCCCTTTAGGCTCAAATAGATAATGCTTTG': 1,\n",
       "   'CCAGATCCTGAGATCCCTTTAGGCTCAAATAGATAATGCTTTGA': 1,\n",
       "   'CCAGATCCTGAGATCCCTTTAGGCTCAAATAGATAATGCTTTGAA': 1,\n",
       "   'CCAGATCCTGAGATCCCTTTAGGCTCAAATAGATAATGCTTTGAAT': 1,\n",
       "   'CCAGATCCTGAGATCCCTTTAGGCTCAAATAGATAATGCTTTGAATG': 1,\n",
       "   'CCAGATCCTGAGATCCCTTTAGGCTCAAATAGATAATGCTTTGAATGA': 1,\n",
       "   'CCAGATCCTGAGATCCCTTTAGGCTCAAATAGATAATGCTTTGAATGAT': 1},\n",
       "  'cpai_5': {},\n",
       "  'cpai_8': {},\n",
       "  'cpai_2': {},\n",
       "  'cpai_11': {},\n",
       "  'cpai_9': {},\n",
       "  'cpai_10': {},\n",
       "  'cpai_6': {},\n",
       "  'cpai_1': {},\n",
       "  'npai_2': {},\n",
       "  'npai_1': {}},\n",
       " 'NC_017625': {'cpai_3': {'CCGGTATCTGGCAGGCCGATGTGCCTAATGAGGTAGATT': 1,\n",
       "   'CCGGTATCTGGCAGGCCGATGTGCCTAATGAGGTAGATTG': 1,\n",
       "   'CCGGTATCTGGCAGGCCGATGTGCCTAATGAGGTAGATTGC': 1,\n",
       "   'CCGGTATCTGGCAGGCCGATGTGCCTAATGAGGTAGATTGCA': 1,\n",
       "   'CCGGTATCTGGCAGGCCGATGTGCCTAATGAGGTAGATTGCAC': 1,\n",
       "   'CCGGTATCTGGCAGGCCGATGTGCCTAATGAGGTAGATTGCACA': 1,\n",
       "   'CCGGTATCTGGCAGGCCGATGTGCCTAATGAGGTAGATTGCACAG': 1,\n",
       "   'CCGGTATCTGGCAGGCCGATGTGCCTAATGAGGTAGATTGCACAGG': 1,\n",
       "   'CCGGTATCTGGCAGGCCGATGTGCCTAATGAGGTAGATTGCACAGGC': 1,\n",
       "   'CCGGTATCTGGCAGGCCGATGTGCCTAATGAGGTAGATTGCACAGGCC': 1,\n",
       "   'CCGGTATCTGGCAGGCCGATGTGCCTAATGAGGTAGATTGCACAGGCCG': 1},\n",
       "  'cpai_2': {},\n",
       "  'cpai_1': {},\n",
       "  'npai_3': {},\n",
       "  'npai_2': {},\n",
       "  'npai_1': {}},\n",
       " 'NC_013354': {'cpai_1': {}},\n",
       " 'NC_018658': {'cpai_12': {},\n",
       "  'cpai_7': {},\n",
       "  'cpai_4': {},\n",
       "  'cpai_3': {},\n",
       "  'cpai_5': {},\n",
       "  'cpai_13': {},\n",
       "  'cpai_8': {'TTTTTTTAAGCAGT': 1,\n",
       "   'TTTTTTTAAGCAGTC': 1,\n",
       "   'TTTTTTTAAGCAGTCA': 1,\n",
       "   'TTTTTTTAAGCAGTCAT': 1,\n",
       "   'TTTTTTTAAGCAGTCATC': 1,\n",
       "   'TTTTTTTAAGCAGTCATCT': 1,\n",
       "   'TTTTTTTAAGCAGTCATCTG': 1,\n",
       "   'TTTTTTTAAGCAGTCATCTGA': 1,\n",
       "   'TTTTTTTAAGCAGTCATCTGAT': 1,\n",
       "   'TTTTTTTAAGCAGTCATCTGATG': 1,\n",
       "   'TTTTTTTAAGCAGTCATCTGATGA': 1,\n",
       "   'TTTTTTTAAGCAGTCATCTGATGAT': 1,\n",
       "   'TTTTTTTAAGCAGTCATCTGATGATA': 1,\n",
       "   'TTTTTTTAAGCAGTCATCTGATGATAT': 1,\n",
       "   'TTTTTTTAAGCAGTCATCTGATGATATT': 1,\n",
       "   'TTTTTTTAAGCAGTCATCTGATGATATTT': 1,\n",
       "   'TTTTTTTAAGCAGTCATCTGATGATATTTT': 1,\n",
       "   'TTTTTTTAAGCAGTCATCTGATGATATTTTT': 1,\n",
       "   'TTTTTTTAAGCAGTCATCTGATGATATTTTTC': 1,\n",
       "   'TTTTTTTAAGCAGTCATCTGATGATATTTTTCC': 1,\n",
       "   'TTTTTTTAAGCAGTCATCTGATGATATTTTTCCC': 1,\n",
       "   'TTTTTTTAAGCAGTCATCTGATGATATTTTTCCCT': 1,\n",
       "   'TTTTTTTAAGCAGTCATCTGATGATATTTTTCCCTG': 1,\n",
       "   'TTTTTTTAAGCAGTCATCTGATGATATTTTTCCCTGA': 1,\n",
       "   'TTTTTTTAAGCAGTCATCTGATGATATTTTTCCCTGAA': 1,\n",
       "   'TTTTTTTAAGCAGTCATCTGATGATATTTTTCCCTGAAG': 1,\n",
       "   'TTTTTTTAAGCAGTCATCTGATGATATTTTTCCCTGAAGG': 1,\n",
       "   'TTTTTTTAAGCAGTCATCTGATGATATTTTTCCCTGAAGGC': 1,\n",
       "   'TTTTTTTAAGCAGTCATCTGATGATATTTTTCCCTGAAGGCT': 1,\n",
       "   'TTTTTTTAAGCAGTCATCTGATGATATTTTTCCCTGAAGGCTG': 1,\n",
       "   'TTTTTTTAAGCAGTCATCTGATGATATTTTTCCCTGAAGGCTGC': 1,\n",
       "   'TTTTTTTAAGCAGTCATCTGATGATATTTTTCCCTGAAGGCTGCC': 1,\n",
       "   'TTTTTTTAAGCAGTCATCTGATGATATTTTTCCCTGAAGGCTGCCG': 1,\n",
       "   'TTTTTTTAAGCAGTCATCTGATGATATTTTTCCCTGAAGGCTGCCGG': 1,\n",
       "   'TTTTTTTAAGCAGTCATCTGATGATATTTTTCCCTGAAGGCTGCCGGG': 1,\n",
       "   'TTTTTTTAAGCAGTCATCTGATGATATTTTTCCCTGAAGGCTGCCGGGG': 1},\n",
       "  'cpai_2': {},\n",
       "  'cpai_11': {},\n",
       "  'cpai_9': {},\n",
       "  'cpai_10': {},\n",
       "  'cpai_6': {},\n",
       "  'cpai_1': {},\n",
       "  'npai_1': {}},\n",
       " 'NC_013008': {'cpai_4': {},\n",
       "  'cpai_3': {'TTCCTCTGTAGT': 3,\n",
       "   'TCCTCTGTAGTT': 3,\n",
       "   'ATTCCTCTGTAG': 3,\n",
       "   'CGATTCCTCTGTA': 3,\n",
       "   'TTCCTCTGTAGTTC': 3,\n",
       "   'GATTCCTCTGTAGTT': 3,\n",
       "   'ATTCCTCTGTAGTTC': 3,\n",
       "   'CGATTCCTCTGTAGT': 3,\n",
       "   'TCCTCTGTAGTTCAG': 3,\n",
       "   'GATTCCTCTGTAGTTC': 3,\n",
       "   'ATTCCTCTGTAGTTCA': 3,\n",
       "   'CGATTCCTCTGTAGTT': 3,\n",
       "   'CGATTCCTCTGTAGTTC': 3,\n",
       "   'GATTCCTCTGTAGTTCA': 3,\n",
       "   'CGATTCCTCTGTAGTTCA': 3,\n",
       "   'GATTCCTCTGTAGTTCAG': 3,\n",
       "   'ATTCCTCTGTAGTTCAGTC': 3,\n",
       "   'CGATTCCTCTGTAGTTCAG': 3,\n",
       "   'TTCCTCTGTAGTTCAGTCGG': 3,\n",
       "   'CGATTCCTCTGTAGTTCAGTC': 3,\n",
       "   'GATTCCTCTGTAGTTCAGTCG': 3,\n",
       "   'ATTCCTCTGTAGTTCAGTCGGT': 3,\n",
       "   'CGATTCCTCTGTAGTTCAGTCG': 3,\n",
       "   'TTCCTCTGTAGTTCAGTCGGTAG': 3,\n",
       "   'CGATTCCTCTGTAGTTCAGTCGGT': 3,\n",
       "   'TTCCTCTGTAGTTCAGTCGGTAGAA': 3,\n",
       "   'TCCTCTGTAGTTCAGTCGGTAGAAC': 3,\n",
       "   'GATTCCTCTGTAGTTCAGTCGGTAGA': 3,\n",
       "   'CGATTCCTCTGTAGTTCAGTCGGTAG': 3,\n",
       "   'CGATTCCTCTGTAGTTCAGTCGGTAGA': 3,\n",
       "   'GATTCCTCTGTAGTTCAGTCGGTAGAA': 3,\n",
       "   'ATTCCTCTGTAGTTCAGTCGGTAGAACG': 3,\n",
       "   'CGATTCCTCTGTAGTTCAGTCGGTAGAA': 3,\n",
       "   'TTCCTCTGTAGTTCAGTCGGTAGAACGG': 3,\n",
       "   'CGATTCCTCTGTAGTTCAGTCGGTAGAAC': 3,\n",
       "   'TTCCTCTGTAGTTCAGTCGGTAGAACGGC': 3,\n",
       "   'TCCTCTGTAGTTCAGTCGGTAGAACGGCG': 3,\n",
       "   'GATTCCTCTGTAGTTCAGTCGGTAGAACG': 3,\n",
       "   'GATTCCTCTGTAGTTCAGTCGGTAGAACGG': 3,\n",
       "   'GATTCCTCTGTAGTTCAGTCGGTAGAACGGC': 3,\n",
       "   'ATTCCTCTGTAGTTCAGTCGGTAGAACGGCG': 3,\n",
       "   'TCCTCTGTAGTTCAGTCGGTAGAACGGCGGAC': 3,\n",
       "   'ATTCCTCTGTAGTTCAGTCGGTAGAACGGCGG': 3,\n",
       "   'TTCCTCTGTAGTTCAGTCGGTAGAACGGCGGA': 3,\n",
       "   'CGATTCCTCTGTAGTTCAGTCGGTAGAACGGC': 3,\n",
       "   'TCCTCTGTAGTTCAGTCGGTAGAACGGCGGACT': 3,\n",
       "   'ATTCCTCTGTAGTTCAGTCGGTAGAACGGCGGA': 3,\n",
       "   'TTCCTCTGTAGTTCAGTCGGTAGAACGGCGGAC': 3,\n",
       "   'CGATTCCTCTGTAGTTCAGTCGGTAGAACGGCGG': 3,\n",
       "   'GATTCCTCTGTAGTTCAGTCGGTAGAACGGCGGA': 3,\n",
       "   'ATTCCTCTGTAGTTCAGTCGGTAGAACGGCGGACT': 3,\n",
       "   'CGATTCCTCTGTAGTTCAGTCGGTAGAACGGCGGA': 3,\n",
       "   'TTCCTCTGTAGTTCAGTCGGTAGAACGGCGGACTGT': 3,\n",
       "   'ATTCCTCTGTAGTTCAGTCGGTAGAACGGCGGACTG': 3,\n",
       "   'TCCTCTGTAGTTCAGTCGGTAGAACGGCGGACTGTT': 3,\n",
       "   'TCCTCTGTAGTTCAGTCGGTAGAACGGCGGACTGTTA': 3,\n",
       "   'TTCCTCTGTAGTTCAGTCGGTAGAACGGCGGACTGTT': 3,\n",
       "   'ATTCCTCTGTAGTTCAGTCGGTAGAACGGCGGACTGT': 3,\n",
       "   'ATTCCTCTGTAGTTCAGTCGGTAGAACGGCGGACTGTT': 3,\n",
       "   'TTCCTCTGTAGTTCAGTCGGTAGAACGGCGGACTGTTA': 3,\n",
       "   'CGATTCCTCTGTAGTTCAGTCGGTAGAACGGCGGACTGT': 3,\n",
       "   'GATTCCTCTGTAGTTCAGTCGGTAGAACGGCGGACTGTT': 3,\n",
       "   'TCCTCTGTAGTTCAGTCGGTAGAACGGCGGACTGTTAATC': 3,\n",
       "   'ATTCCTCTGTAGTTCAGTCGGTAGAACGGCGGACTGTTAA': 3,\n",
       "   'CGATTCCTCTGTAGTTCAGTCGGTAGAACGGCGGACTGTT': 3,\n",
       "   'GATTCCTCTGTAGTTCAGTCGGTAGAACGGCGGACTGTTAA': 3,\n",
       "   'TTCCTCTGTAGTTCAGTCGGTAGAACGGCGGACTGTTAATC': 3,\n",
       "   'ATTCCTCTGTAGTTCAGTCGGTAGAACGGCGGACTGTTAATC': 3,\n",
       "   'TCCTCTGTAGTTCAGTCGGTAGAACGGCGGACTGTTAATCCG': 3,\n",
       "   'TTCCTCTGTAGTTCAGTCGGTAGAACGGCGGACTGTTAATCC': 3,\n",
       "   'ATTCCTCTGTAGTTCAGTCGGTAGAACGGCGGACTGTTAATCC': 3,\n",
       "   'TCCTCTGTAGTTCAGTCGGTAGAACGGCGGACTGTTAATCCGT': 3,\n",
       "   'TTCCTCTGTAGTTCAGTCGGTAGAACGGCGGACTGTTAATCCG': 3,\n",
       "   'TTCCTCTGTAGTTCAGTCGGTAGAACGGCGGACTGTTAATCCGT': 3,\n",
       "   'TCCTCTGTAGTTCAGTCGGTAGAACGGCGGACTGTTAATCCGTA': 3,\n",
       "   'TCCTCTGTAGTTCAGTCGGTAGAACGGCGGACTGTTAATCCGTAT': 3,\n",
       "   'TTCCTCTGTAGTTCAGTCGGTAGAACGGCGGACTGTTAATCCGTA': 3,\n",
       "   'TCCTCTGTAGTTCAGTCGGTAGAACGGCGGACTGTTAATCCGTATG': 3,\n",
       "   'TTCCTCTGTAGTTCAGTCGGTAGAACGGCGGACTGTTAATCCGTAT': 3,\n",
       "   'ATTCCTCTGTAGTTCAGTCGGTAGAACGGCGGACTGTTAATCCGTA': 3,\n",
       "   'TTCCTCTGTAGTTCAGTCGGTAGAACGGCGGACTGTTAATCCGTATG': 3,\n",
       "   'ATTCCTCTGTAGTTCAGTCGGTAGAACGGCGGACTGTTAATCCGTAT': 3,\n",
       "   'CGATTCCTCTGTAGTTCAGTCGGTAGAACGGCGGACTGTTAATCCGT': 3,\n",
       "   'GATTCCTCTGTAGTTCAGTCGGTAGAACGGCGGACTGTTAATCCGTA': 3,\n",
       "   'GATTCCTCTGTAGTTCAGTCGGTAGAACGGCGGACTGTTAATCCGTAT': 3,\n",
       "   'TCCTCTGTAGTTCAGTCGGTAGAACGGCGGACTGTTAATCCGTATGTC': 3,\n",
       "   'CGATTCCTCTGTAGTTCAGTCGGTAGAACGGCGGACTGTTAATCCGTA': 3,\n",
       "   'ATTCCTCTGTAGTTCAGTCGGTAGAACGGCGGACTGTTAATCCGTATG': 3,\n",
       "   'CGATTCCTCTGTAGTTCAGTCGGTAGAACGGCGGACTGTTAATCCGTAT': 3,\n",
       "   'ATTCCTCTGTAGTTCAGTCGGTAGAACGGCGGACTGTTAATCCGTATGT': 3,\n",
       "   'TCCTCTGTAGTTCAGTCGGTAGAACGGCGGACTGTTAATCCGTATGTCA': 3,\n",
       "   'GATTCCTCTGTAGTTCAGTCGGTAGAACGGCGGACTGTTAATCCGTATG': 3},\n",
       "  'cpai_5': {},\n",
       "  'cpai_2': {},\n",
       "  'cpai_6': {},\n",
       "  'cpai_1': {},\n",
       "  'npai_1': {}},\n",
       " 'NC_013361': {'pai_1': {},\n",
       "  'cpai_4': {'CAATTATATACGGATAGGGAGGTTCTTAACAT': 1,\n",
       "   'CAATTATATACGGATAGGGAGGTTCTTAACATG': 1,\n",
       "   'CAATTATATACGGATAGGGAGGTTCTTAACATGG': 1,\n",
       "   'CAATTATATACGGATAGGGAGGTTCTTAACATGGG': 1,\n",
       "   'CAATTATATACGGATAGGGAGGTTCTTAACATGGGG': 1,\n",
       "   'CAATTATATACGGATAGGGAGGTTCTTAACATGGGGC': 1,\n",
       "   'CAATTATATACGGATAGGGAGGTTCTTAACATGGGGCT': 1,\n",
       "   'CAATTATATACGGATAGGGAGGTTCTTAACATGGGGCTT': 1,\n",
       "   'CAATTATATACGGATAGGGAGGTTCTTAACATGGGGCTTT': 1,\n",
       "   'CAATTATATACGGATAGGGAGGTTCTTAACATGGGGCTTTG': 1,\n",
       "   'CAATTATATACGGATAGGGAGGTTCTTAACATGGGGCTTTGT': 1,\n",
       "   'CAATTATATACGGATAGGGAGGTTCTTAACATGGGGCTTTGTA': 1,\n",
       "   'CAATTATATACGGATAGGGAGGTTCTTAACATGGGGCTTTGTAG': 1,\n",
       "   'CAATTATATACGGATAGGGAGGTTCTTAACATGGGGCTTTGTAGT': 1,\n",
       "   'CAATTATATACGGATAGGGAGGTTCTTAACATGGGGCTTTGTAGTC': 1,\n",
       "   'CAATTATATACGGATAGGGAGGTTCTTAACATGGGGCTTTGTAGTCG': 1,\n",
       "   'CAATTATATACGGATAGGGAGGTTCTTAACATGGGGCTTTGTAGTCGT': 1,\n",
       "   'CAATTATATACGGATAGGGAGGTTCTTAACATGGGGCTTTGTAGTCGTT': 1},\n",
       "  'cpai_3': {},\n",
       "  'cpai_5': {},\n",
       "  'cpai_2': {},\n",
       "  'cpai_6': {},\n",
       "  'cpai_1': {},\n",
       "  'npai_1': {}},\n",
       " 'NC_009838': {'cpai_1': {}},\n",
       " 'NC_018659': {'cpai_1': {}},\n",
       " 'NC_008563': {'pai_2': {},\n",
       "  'pai_1': {},\n",
       "  'pai_4': {},\n",
       "  'pai_5': {},\n",
       "  'pai_3': {'CGATTCCTCTG': 3,\n",
       "   'GATTCCTCTGTAG': 3,\n",
       "   'CGATTCCTCTGTAG': 3,\n",
       "   'CGATTCCTCTGTAGT': 3,\n",
       "   'TTCCTCTGTAGTTCA': 3,\n",
       "   'TCCTCTGTAGTTCAGT': 3,\n",
       "   'CGATTCCTCTGTAGTT': 3,\n",
       "   'ATTCCTCTGTAGTTCAG': 3,\n",
       "   'GATTCCTCTGTAGTTCAG': 3,\n",
       "   'ATTCCTCTGTAGTTCAGT': 3,\n",
       "   'TCCTCTGTAGTTCAGTCGG': 3,\n",
       "   'ATTCCTCTGTAGTTCAGTC': 3,\n",
       "   'ATTCCTCTGTAGTTCAGTCG': 3,\n",
       "   'GATTCCTCTGTAGTTCAGTCG': 3,\n",
       "   'CGATTCCTCTGTAGTTCAGTC': 3,\n",
       "   'TTCCTCTGTAGTTCAGTCGGT': 3,\n",
       "   'CGATTCCTCTGTAGTTCAGTCG': 3,\n",
       "   'TTCCTCTGTAGTTCAGTCGGTA': 3,\n",
       "   'CGATTCCTCTGTAGTTCAGTCGG': 3,\n",
       "   'TTCCTCTGTAGTTCAGTCGGTAG': 3,\n",
       "   'CGATTCCTCTGTAGTTCAGTCGGT': 3,\n",
       "   'TCCTCTGTAGTTCAGTCGGTAGAA': 3,\n",
       "   'TTCCTCTGTAGTTCAGTCGGTAGAA': 3,\n",
       "   'CGATTCCTCTGTAGTTCAGTCGGTA': 3,\n",
       "   'ATTCCTCTGTAGTTCAGTCGGTAGAA': 3,\n",
       "   'TTCCTCTGTAGTTCAGTCGGTAGAAC': 3,\n",
       "   'TTCCTCTGTAGTTCAGTCGGTAGAACG': 3,\n",
       "   'ATTCCTCTGTAGTTCAGTCGGTAGAAC': 3,\n",
       "   'CGATTCCTCTGTAGTTCAGTCGGTAGAA': 3,\n",
       "   'CGATTCCTCTGTAGTTCAGTCGGTAGAAC': 3,\n",
       "   'TTCCTCTGTAGTTCAGTCGGTAGAACGGCGGAC': 3,\n",
       "   'ATTCCTCTGTAGTTCAGTCGGTAGAACGGCGGA': 3,\n",
       "   'ATTCCTCTGTAGTTCAGTCGGTAGAACGGCGGAC': 3,\n",
       "   'CGATTCCTCTGTAGTTCAGTCGGTAGAACGGCGGA': 3,\n",
       "   'ATTCCTCTGTAGTTCAGTCGGTAGAACGGCGGACT': 3,\n",
       "   'TTCCTCTGTAGTTCAGTCGGTAGAACGGCGGACTGT': 3,\n",
       "   'ATTCCTCTGTAGTTCAGTCGGTAGAACGGCGGACTG': 3,\n",
       "   'TTCCTCTGTAGTTCAGTCGGTAGAACGGCGGACTGTT': 3,\n",
       "   'CGATTCCTCTGTAGTTCAGTCGGTAGAACGGCGGACT': 3,\n",
       "   'GATTCCTCTGTAGTTCAGTCGGTAGAACGGCGGACTG': 3,\n",
       "   'ATTCCTCTGTAGTTCAGTCGGTAGAACGGCGGACTGTT': 3,\n",
       "   'TTCCTCTGTAGTTCAGTCGGTAGAACGGCGGACTGTTA': 3,\n",
       "   'ATTCCTCTGTAGTTCAGTCGGTAGAACGGCGGACTGTTA': 3,\n",
       "   'TTCCTCTGTAGTTCAGTCGGTAGAACGGCGGACTGTTAA': 3,\n",
       "   'TTCCTCTGTAGTTCAGTCGGTAGAACGGCGGACTGTTAAT': 3,\n",
       "   'ATTCCTCTGTAGTTCAGTCGGTAGAACGGCGGACTGTTAA': 3,\n",
       "   'TTCCTCTGTAGTTCAGTCGGTAGAACGGCGGACTGTTAATC': 3,\n",
       "   'ATTCCTCTGTAGTTCAGTCGGTAGAACGGCGGACTGTTAAT': 3,\n",
       "   'TTCCTCTGTAGTTCAGTCGGTAGAACGGCGGACTGTTAATCC': 3,\n",
       "   'ATTCCTCTGTAGTTCAGTCGGTAGAACGGCGGACTGTTAATC': 3,\n",
       "   'TTCCTCTGTAGTTCAGTCGGTAGAACGGCGGACTGTTAATCCG': 3,\n",
       "   'ATTCCTCTGTAGTTCAGTCGGTAGAACGGCGGACTGTTAATCC': 3,\n",
       "   'TTCCTCTGTAGTTCAGTCGGTAGAACGGCGGACTGTTAATCCGT': 3,\n",
       "   'ATTCCTCTGTAGTTCAGTCGGTAGAACGGCGGACTGTTAATCCG': 3,\n",
       "   'TTCCTCTGTAGTTCAGTCGGTAGAACGGCGGACTGTTAATCCGTA': 3,\n",
       "   'GATTCCTCTGTAGTTCAGTCGGTAGAACGGCGGACTGTTAATCCGT': 3,\n",
       "   'TTCCTCTGTAGTTCAGTCGGTAGAACGGCGGACTGTTAATCCGTAT': 3,\n",
       "   'ATTCCTCTGTAGTTCAGTCGGTAGAACGGCGGACTGTTAATCCGTA': 3,\n",
       "   'GATTCCTCTGTAGTTCAGTCGGTAGAACGGCGGACTGTTAATCCGTA': 3,\n",
       "   'CGATTCCTCTGTAGTTCAGTCGGTAGAACGGCGGACTGTTAATCCGT': 3,\n",
       "   'TTCCTCTGTAGTTCAGTCGGTAGAACGGCGGACTGTTAATCCGTATG': 3,\n",
       "   'TCCTCTGTAGTTCAGTCGGTAGAACGGCGGACTGTTAATCCGTATGT': 3,\n",
       "   'TTCCTCTGTAGTTCAGTCGGTAGAACGGCGGACTGTTAATCCGTATGT': 3,\n",
       "   'ATTCCTCTGTAGTTCAGTCGGTAGAACGGCGGACTGTTAATCCGTATG': 3,\n",
       "   'GATTCCTCTGTAGTTCAGTCGGTAGAACGGCGGACTGTTAATCCGTAT': 3,\n",
       "   'TCCTCTGTAGTTCAGTCGGTAGAACGGCGGACTGTTAATCCGTATGTCA': 3,\n",
       "   'TTCCTCTGTAGTTCAGTCGGTAGAACGGCGGACTGTTAATCCGTATGTC': 3,\n",
       "   'ATTCCTCTGTAGTTCAGTCGGTAGAACGGCGGACTGTTAATCCGTATGT': 3},\n",
       "  'cpai_7': {},\n",
       "  'cpai_4': {},\n",
       "  'cpai_3': {},\n",
       "  'cpai_5': {},\n",
       "  'cpai_2': {},\n",
       "  'cpai_6': {},\n",
       "  'cpai_1': {},\n",
       "  'npai_2': {},\n",
       "  'npai_1': {}},\n",
       " 'NC_013655': {'npai_1': {}},\n",
       " 'NC_012971': {'cpai_7': {},\n",
       "  'cpai_4': {},\n",
       "  'cpai_3': {},\n",
       "  'cpai_5': {},\n",
       "  'cpai_2': {},\n",
       "  'cpai_6': {},\n",
       "  'cpai_1': {},\n",
       "  'npai_1': {}},\n",
       " 'NC_017907': {'npai_1': {'CACACTGAATTTGGCCACCTGAACAGAGGT': 1,\n",
       "   'CACACTGAATTTGGCCACCTGAACAGAGGTG': 1,\n",
       "   'CACACTGAATTTGGCCACCTGAACAGAGGTGA': 1,\n",
       "   'CACACTGAATTTGGCCACCTGAACAGAGGTGAT': 1,\n",
       "   'CACACTGAATTTGGCCACCTGAACAGAGGTGATA': 1,\n",
       "   'CACACTGAATTTGGCCACCTGAACAGAGGTGATAT': 1,\n",
       "   'CACACTGAATTTGGCCACCTGAACAGAGGTGATATG': 1,\n",
       "   'CACACTGAATTTGGCCACCTGAACAGAGGTGATATGC': 1,\n",
       "   'CACACTGAATTTGGCCACCTGAACAGAGGTGATATGCT': 1,\n",
       "   'CACACTGAATTTGGCCACCTGAACAGAGGTGATATGCTC': 1,\n",
       "   'CACACTGAATTTGGCCACCTGAACAGAGGTGATATGCTCA': 1,\n",
       "   'CACACTGAATTTGGCCACCTGAACAGAGGTGATATGCTCAC': 1,\n",
       "   'CACACTGAATTTGGCCACCTGAACAGAGGTGATATGCTCACC': 1,\n",
       "   'CACACTGAATTTGGCCACCTGAACAGAGGTGATATGCTCACCT': 1,\n",
       "   'CACACTGAATTTGGCCACCTGAACAGAGGTGATATGCTCACCTC': 1,\n",
       "   'CACACTGAATTTGGCCACCTGAACAGAGGTGATATGCTCACCTCA': 1,\n",
       "   'CACACTGAATTTGGCCACCTGAACAGAGGTGATATGCTCACCTCAG': 1,\n",
       "   'CACACTGAATTTGGCCACCTGAACAGAGGTGATATGCTCACCTCAGA': 1,\n",
       "   'CACACTGAATTTGGCCACCTGAACAGAGGTGATATGCTCACCTCAGAA': 1,\n",
       "   'CACACTGAATTTGGCCACCTGAACAGAGGTGATATGCTCACCTCAGAAC': 1}},\n",
       " 'NC_013369': {'npai_1': {}},\n",
       " 'NC_013366': {'npai_2': {'GCCTGAGTTCA': 2}, 'npai_1': {}},\n",
       " 'NC_011749': {'cpai_1': {'GAGGGACAGCTGATAGAAACAGAAGCCACT': 2,\n",
       "   'GAACAGGAGGGACAGCTGATAGAAACAGAAGCCACT': 2,\n",
       "   'AGAAGCCACTGGAGCACCTCAAAAACACCATCATACA': 2,\n",
       "   'GAGGGACAGCTGATAGAAACAGAAGCCACTGGAGCACC': 2,\n",
       "   'GAGGGACAGCTGATAGAAACAGAAGCCACTGGAGCACCT': 2,\n",
       "   'GAACAGGAGGGACAGCTGATAGAAACAGAAGCCACTGGAG': 2,\n",
       "   'GAACAGGAGGGACAGCTGATAGAAACAGAAGCCACTGGAGC': 2,\n",
       "   'GAGGGACAGCTGATAGAAACAGAAGCCACTGGAGCACCTCAA': 2,\n",
       "   'GAGGGACAGCTGATAGAAACAGAAGCCACTGGAGCACCTCAAA': 2,\n",
       "   'GAGGGACAGCTGATAGAAACAGAAGCCACTGGAGCACCTCAAAA': 2,\n",
       "   'GAGGGACAGCTGATAGAAACAGAAGCCACTGGAGCACCTCAAAAA': 2,\n",
       "   'GAGGGACAGCTGATAGAAACAGAAGCCACTGGAGCACCTCAAAAAC': 2,\n",
       "   'GAACAGGAGGGACAGCTGATAGAAACAGAAGCCACTGGAGCACCTCA': 2,\n",
       "   'GAGGGACAGCTGATAGAAACAGAAGCCACTGGAGCACCTCAAAAACAC': 2,\n",
       "   'GAGGGACAGCTGATAGAAACAGAAGCCACTGGAGCACCTCAAAAACACC': 2},\n",
       "  'npai_1': {}},\n",
       " 'NC_017642': {'cpai_1': {}},\n",
       " 'NC_008253': {'cpai_7': {},\n",
       "  'cpai_4': {'CCATAAGCTCTCCTGAATCAGGAGAGCAGATTACCCCCTGG': 1,\n",
       "   'CCATAAGCTCTCCTGAATCAGGAGAGCAGATTACCCCCTGGA': 1,\n",
       "   'CCATAAGCTCTCCTGAATCAGGAGAGCAGATTACCCCCTGGAT': 1,\n",
       "   'CCATAAGCTCTCCTGAATCAGGAGAGCAGATTACCCCCTGGATC': 1,\n",
       "   'CCATAAGCTCTCCTGAATCAGGAGAGCAGATTACCCCCTGGATCT': 1,\n",
       "   'CCATAAGCTCTCCTGAATCAGGAGAGCAGATTACCCCCTGGATCTG': 1,\n",
       "   'CCATAAGCTCTCCTGAATCAGGAGAGCAGATTACCCCCTGGATCTGA': 1,\n",
       "   'CCATAAGCTCTCCTGAATCAGGAGAGCAGATTACCCCCTGGATCTGAT': 1,\n",
       "   'CCATAAGCTCTCCTGAATCAGGAGAGCAGATTACCCCCTGGATCTGATT': 1},\n",
       "  'cpai_3': {},\n",
       "  'cpai_5': {},\n",
       "  'cpai_2': {},\n",
       "  'cpai_6': {},\n",
       "  'cpai_1': {},\n",
       "  'npai_3': {},\n",
       "  'npai_2': {},\n",
       "  'npai_1': {}},\n",
       " 'NC_018654': {'npai_1': {}},\n",
       " 'NC_018661': {'cpai_12': {},\n",
       "  'cpai_7': {},\n",
       "  'cpai_4': {},\n",
       "  'cpai_3': {},\n",
       "  'cpai_5': {},\n",
       "  'cpai_13': {},\n",
       "  'cpai_8': {'TTTTTTTAAGCAGT': 1,\n",
       "   'TTTTTTTAAGCAGTC': 1,\n",
       "   'TTTTTTTAAGCAGTCA': 1,\n",
       "   'TTTTTTTAAGCAGTCAT': 1,\n",
       "   'TTTTTTTAAGCAGTCATC': 1,\n",
       "   'TTTTTTTAAGCAGTCATCT': 1,\n",
       "   'TTTTTTTAAGCAGTCATCTG': 1,\n",
       "   'TTTTTTTAAGCAGTCATCTGA': 1,\n",
       "   'TTTTTTTAAGCAGTCATCTGAT': 1,\n",
       "   'TTTTTTTAAGCAGTCATCTGATG': 1,\n",
       "   'TTTTTTTAAGCAGTCATCTGATGA': 1,\n",
       "   'TTTTTTTAAGCAGTCATCTGATGAT': 1,\n",
       "   'TTTTTTTAAGCAGTCATCTGATGATA': 1,\n",
       "   'TTTTTTTAAGCAGTCATCTGATGATAT': 1,\n",
       "   'TTTTTTTAAGCAGTCATCTGATGATATT': 1,\n",
       "   'TTTTTTTAAGCAGTCATCTGATGATATTT': 1,\n",
       "   'TTTTTTTAAGCAGTCATCTGATGATATTTT': 1,\n",
       "   'TTTTTTTAAGCAGTCATCTGATGATATTTTT': 1,\n",
       "   'TTTTTTTAAGCAGTCATCTGATGATATTTTTC': 1,\n",
       "   'TTTTTTTAAGCAGTCATCTGATGATATTTTTCC': 1,\n",
       "   'TTTTTTTAAGCAGTCATCTGATGATATTTTTCCC': 1,\n",
       "   'TTTTTTTAAGCAGTCATCTGATGATATTTTTCCCT': 1,\n",
       "   'TTTTTTTAAGCAGTCATCTGATGATATTTTTCCCTG': 1,\n",
       "   'TTTTTTTAAGCAGTCATCTGATGATATTTTTCCCTGA': 1,\n",
       "   'TTTTTTTAAGCAGTCATCTGATGATATTTTTCCCTGAA': 1,\n",
       "   'TTTTTTTAAGCAGTCATCTGATGATATTTTTCCCTGAAG': 1,\n",
       "   'TTTTTTTAAGCAGTCATCTGATGATATTTTTCCCTGAAGG': 1,\n",
       "   'TTTTTTTAAGCAGTCATCTGATGATATTTTTCCCTGAAGGC': 1,\n",
       "   'TTTTTTTAAGCAGTCATCTGATGATATTTTTCCCTGAAGGCT': 1,\n",
       "   'TTTTTTTAAGCAGTCATCTGATGATATTTTTCCCTGAAGGCTG': 1,\n",
       "   'TTTTTTTAAGCAGTCATCTGATGATATTTTTCCCTGAAGGCTGC': 1,\n",
       "   'TTTTTTTAAGCAGTCATCTGATGATATTTTTCCCTGAAGGCTGCC': 1,\n",
       "   'TTTTTTTAAGCAGTCATCTGATGATATTTTTCCCTGAAGGCTGCCG': 1,\n",
       "   'TTTTTTTAAGCAGTCATCTGATGATATTTTTCCCTGAAGGCTGCCGG': 1,\n",
       "   'TTTTTTTAAGCAGTCATCTGATGATATTTTTCCCTGAAGGCTGCCGGG': 1,\n",
       "   'TTTTTTTAAGCAGTCATCTGATGATATTTTTCCCTGAAGGCTGCCGGGG': 1},\n",
       "  'cpai_2': {},\n",
       "  'cpai_11': {},\n",
       "  'cpai_9': {},\n",
       "  'cpai_10': {},\n",
       "  'cpai_6': {},\n",
       "  'cpai_1': {},\n",
       "  'npai_1': {}},\n",
       " 'NC_002128': {'npai_1': {'CACACTGAATTTGGCCACCTGAACAGAGGT': 1,\n",
       "   'CACACTGAATTTGGCCACCTGAACAGAGGTG': 1,\n",
       "   'CACACTGAATTTGGCCACCTGAACAGAGGTGA': 1,\n",
       "   'CACACTGAATTTGGCCACCTGAACAGAGGTGAT': 1,\n",
       "   'CACACTGAATTTGGCCACCTGAACAGAGGTGATA': 1,\n",
       "   'CACACTGAATTTGGCCACCTGAACAGAGGTGATAT': 1,\n",
       "   'CACACTGAATTTGGCCACCTGAACAGAGGTGATATG': 1,\n",
       "   'CACACTGAATTTGGCCACCTGAACAGAGGTGATATGC': 1,\n",
       "   'CACACTGAATTTGGCCACCTGAACAGAGGTGATATGCT': 1,\n",
       "   'CACACTGAATTTGGCCACCTGAACAGAGGTGATATGCTC': 1,\n",
       "   'CACACTGAATTTGGCCACCTGAACAGAGGTGATATGCTCA': 1,\n",
       "   'CACACTGAATTTGGCCACCTGAACAGAGGTGATATGCTCAC': 1,\n",
       "   'CACACTGAATTTGGCCACCTGAACAGAGGTGATATGCTCACC': 1,\n",
       "   'CACACTGAATTTGGCCACCTGAACAGAGGTGATATGCTCACCT': 1,\n",
       "   'CACACTGAATTTGGCCACCTGAACAGAGGTGATATGCTCACCTC': 1,\n",
       "   'CACACTGAATTTGGCCACCTGAACAGAGGTGATATGCTCACCTCA': 1,\n",
       "   'CACACTGAATTTGGCCACCTGAACAGAGGTGATATGCTCACCTCAG': 1,\n",
       "   'CACACTGAATTTGGCCACCTGAACAGAGGTGATATGCTCACCTCAGA': 1,\n",
       "   'CACACTGAATTTGGCCACCTGAACAGAGGTGATATGCTCACCTCAGAA': 1,\n",
       "   'CACACTGAATTTGGCCACCTGAACAGAGGTGATATGCTCACCTCAGAAC': 1}},\n",
       " 'NC_013010': {'npai_1': {}},\n",
       " 'NC_020163': {'cpai_2': {}, 'cpai_1': {}, 'npai_1': {}},\n",
       " 'NC_010498': {'cpai_7': {},\n",
       "  'cpai_4': {},\n",
       "  'cpai_3': {},\n",
       "  'cpai_5': {},\n",
       "  'cpai_8': {},\n",
       "  'cpai_2': {'TATAAAAATGGA': 2,\n",
       "   'ATAAAAATGGAAA': 2,\n",
       "   'TATAAAAATGGAA': 2,\n",
       "   'TATAAAAATGGAAA': 2},\n",
       "  'cpai_6': {},\n",
       "  'cpai_1': {},\n",
       "  'npai_2': {},\n",
       "  'npai_1': {}},\n",
       " 'NC_017906': {'cpai_4': {},\n",
       "  'cpai_3': {},\n",
       "  'cpai_5': {},\n",
       "  'cpai_2': {},\n",
       "  'cpai_6': {},\n",
       "  'cpai_1': {},\n",
       "  'npai_2': {},\n",
       "  'npai_1': {}},\n",
       " 'NC_011742': {'cpai_7': {},\n",
       "  'cpai_4': {},\n",
       "  'cpai_3': {},\n",
       "  'cpai_5': {},\n",
       "  'cpai_2': {'CCAGATCCTGAGATCCCTTTAGGCTCAAATAGATAAT': 1,\n",
       "   'CCAGATCCTGAGATCCCTTTAGGCTCAAATAGATAATG': 1,\n",
       "   'CCAGATCCTGAGATCCCTTTAGGCTCAAATAGATAATGC': 1,\n",
       "   'CCAGATCCTGAGATCCCTTTAGGCTCAAATAGATAATGCT': 1,\n",
       "   'CCAGATCCTGAGATCCCTTTAGGCTCAAATAGATAATGCTT': 1,\n",
       "   'CCAGATCCTGAGATCCCTTTAGGCTCAAATAGATAATGCTTT': 1,\n",
       "   'CCAGATCCTGAGATCCCTTTAGGCTCAAATAGATAATGCTTTG': 1,\n",
       "   'CCAGATCCTGAGATCCCTTTAGGCTCAAATAGATAATGCTTTGA': 1,\n",
       "   'CCAGATCCTGAGATCCCTTTAGGCTCAAATAGATAATGCTTTGAA': 1,\n",
       "   'CCAGATCCTGAGATCCCTTTAGGCTCAAATAGATAATGCTTTGAAT': 1,\n",
       "   'CCAGATCCTGAGATCCCTTTAGGCTCAAATAGATAATGCTTTGAATG': 1,\n",
       "   'CCAGATCCTGAGATCCCTTTAGGCTCAAATAGATAATGCTTTGAATGA': 1,\n",
       "   'CCAGATCCTGAGATCCCTTTAGGCTCAAATAGATAATGCTTTGAATGAT': 1},\n",
       "  'cpai_6': {},\n",
       "  'cpai_1': {},\n",
       "  'npai_2': {},\n",
       "  'npai_1': {}},\n",
       " 'NC_017632': {'cpai_7': {},\n",
       "  'cpai_4': {},\n",
       "  'cpai_3': {},\n",
       "  'cpai_5': {},\n",
       "  'cpai_8': {},\n",
       "  'cpai_2': {},\n",
       "  'cpai_9': {},\n",
       "  'cpai_10': {},\n",
       "  'cpai_6': {},\n",
       "  'cpai_1': {},\n",
       "  'npai_2': {},\n",
       "  'npai_1': {}},\n",
       " 'NC_017646': {'cpai_7': {},\n",
       "  'cpai_4': {'CAATAACCAATGAAATTATGCAATTATATACGGATAGGGAGGTT': 1,\n",
       "   'CAATAACCAATGAAATTATGCAATTATATACGGATAGGGAGGTTC': 1,\n",
       "   'CAATAACCAATGAAATTATGCAATTATATACGGATAGGGAGGTTCT': 1,\n",
       "   'CAATAACCAATGAAATTATGCAATTATATACGGATAGGGAGGTTCTT': 1},\n",
       "  'cpai_3': {},\n",
       "  'cpai_5': {},\n",
       "  'cpai_8': {},\n",
       "  'cpai_2': {},\n",
       "  'cpai_6': {},\n",
       "  'cpai_1': {},\n",
       "  'npai_2': {},\n",
       "  'npai_1': {}},\n",
       " 'NC_009837': {'cpai_2': {'ACTCCAACTTATTGA': 2,\n",
       "   'ACTCCAACTTATTGAT': 2,\n",
       "   'ATGACTCCAACTTATTGATAG': 2},\n",
       "  'cpai_1': {'CAAGATGCAGT': 2},\n",
       "  'npai_1': {'CCCCGATTTTCCTGGAGAGTGTTTTATCTGTGAACTC': 1,\n",
       "   'CCCCGATTTTCCTGGAGAGTGTTTTATCTGTGAACTCA': 1,\n",
       "   'CCCCGATTTTCCTGGAGAGTGTTTTATCTGTGAACTCAG': 1,\n",
       "   'CCCCGATTTTCCTGGAGAGTGTTTTATCTGTGAACTCAGG': 1,\n",
       "   'CCCCGATTTTCCTGGAGAGTGTTTTATCTGTGAACTCAGGC': 1,\n",
       "   'CCCCGATTTTCCTGGAGAGTGTTTTATCTGTGAACTCAGGCT': 1,\n",
       "   'CCCCGATTTTCCTGGAGAGTGTTTTATCTGTGAACTCAGGCTG': 1,\n",
       "   'CCCCGATTTTCCTGGAGAGTGTTTTATCTGTGAACTCAGGCTGC': 1,\n",
       "   'CCCCGATTTTCCTGGAGAGTGTTTTATCTGTGAACTCAGGCTGCC': 1,\n",
       "   'CCCCGATTTTCCTGGAGAGTGTTTTATCTGTGAACTCAGGCTGCCA': 1,\n",
       "   'CCCCGATTTTCCTGGAGAGTGTTTTATCTGTGAACTCAGGCTGCCAG': 1,\n",
       "   'CCCCGATTTTCCTGGAGAGTGTTTTATCTGTGAACTCAGGCTGCCAGA': 1,\n",
       "   'CCCCGATTTTCCTGGAGAGTGTTTTATCTGTGAACTCAGGCTGCCAGAT': 1}},\n",
       " 'NC_009801': {'cpai_4': {},\n",
       "  'cpai_3': {},\n",
       "  'cpai_5': {},\n",
       "  'cpai_2': {},\n",
       "  'cpai_6': {},\n",
       "  'cpai_1': {},\n",
       "  'npai_1': {}},\n",
       " 'NC_017627': {'npai_1': {}},\n",
       " 'NC_012947': {'cpai_4': {'CATCGCCCGGTAAC': 1,\n",
       "   'CATCGCCCGGTAACA': 1,\n",
       "   'CATCGCCCGGTAACAA': 1,\n",
       "   'CATCGCCCGGTAACAAC': 1,\n",
       "   'CATCGCCCGGTAACAACA': 1,\n",
       "   'CATCGCCCGGTAACAACAG': 1,\n",
       "   'CATCGCCCGGTAACAACAGG': 1,\n",
       "   'CATCGCCCGGTAACAACAGGT': 1,\n",
       "   'CATCGCCCGGTAACAACAGGTT': 1,\n",
       "   'CATCGCCCGGTAACAACAGGTTC': 1,\n",
       "   'CATCGCCCGGTAACAACAGGTTCC': 1,\n",
       "   'CATCGCCCGGTAACAACAGGTTCCC': 1,\n",
       "   'CATCGCCCGGTAACAACAGGTTCCCG': 1,\n",
       "   'CATCGCCCGGTAACAACAGGTTCCCGG': 1,\n",
       "   'CATCGCCCGGTAACAACAGGTTCCCGGT': 1,\n",
       "   'CATCGCCCGGTAACAACAGGTTCCCGGTA': 1,\n",
       "   'CATCGCCCGGTAACAACAGGTTCCCGGTAT': 1,\n",
       "   'CATCGCCCGGTAACAACAGGTTCCCGGTATT': 1,\n",
       "   'CATCGCCCGGTAACAACAGGTTCCCGGTATTT': 1,\n",
       "   'CATCGCCCGGTAACAACAGGTTCCCGGTATTTC': 1,\n",
       "   'CATCGCCCGGTAACAACAGGTTCCCGGTATTTCT': 1,\n",
       "   'CATCGCCCGGTAACAACAGGTTCCCGGTATTTCTG': 1,\n",
       "   'CATCGCCCGGTAACAACAGGTTCCCGGTATTTCTGG': 1,\n",
       "   'CATCGCCCGGTAACAACAGGTTCCCGGTATTTCTGGC': 1,\n",
       "   'CATCGCCCGGTAACAACAGGTTCCCGGTATTTCTGGCT': 1,\n",
       "   'CATCGCCCGGTAACAACAGGTTCCCGGTATTTCTGGCTG': 1,\n",
       "   'CATCGCCCGGTAACAACAGGTTCCCGGTATTTCTGGCTGG': 1,\n",
       "   'CATCGCCCGGTAACAACAGGTTCCCGGTATTTCTGGCTGGA': 1,\n",
       "   'CATCGCCCGGTAACAACAGGTTCCCGGTATTTCTGGCTGGAA': 1,\n",
       "   'CATCGCCCGGTAACAACAGGTTCCCGGTATTTCTGGCTGGAAA': 1,\n",
       "   'CATCGCCCGGTAACAACAGGTTCCCGGTATTTCTGGCTGGAAAT': 1,\n",
       "   'CATCGCCCGGTAACAACAGGTTCCCGGTATTTCTGGCTGGAAATA': 1,\n",
       "   'CATCGCCCGGTAACAACAGGTTCCCGGTATTTCTGGCTGGAAATAT': 1,\n",
       "   'CATCGCCCGGTAACAACAGGTTCCCGGTATTTCTGGCTGGAAATATC': 1,\n",
       "   'CATCGCCCGGTAACAACAGGTTCCCGGTATTTCTGGCTGGAAATATCG': 1,\n",
       "   'CATCGCCCGGTAACAACAGGTTCCCGGTATTTCTGGCTGGAAATATCGA': 1},\n",
       "  'cpai_3': {},\n",
       "  'cpai_5': {},\n",
       "  'cpai_2': {},\n",
       "  'cpai_1': {},\n",
       "  'npai_2': {},\n",
       "  'npai_1': {}},\n",
       " 'NC_011747': {'cpai_3': {'AAGATGCAGT': 2, 'CAAGATGCAGT': 2},\n",
       "  'cpai_2': {},\n",
       "  'cpai_1': {'ATAAAACACTATCAATAAG': 2,\n",
       "   'ATAAAACACTATCAATAAGTT': 2,\n",
       "   'TATCAATAAGTTGGAGTCATTA': 2,\n",
       "   'ATAAAACACTATCAATAAGTTGG': 2,\n",
       "   'ATAAAACACTATCAATAAGTTGGA': 2,\n",
       "   'ATAAAACACTATCAATAAGTTGGAGT': 2,\n",
       "   'GGGCATTATCTGAACATAAAACACTATCAATAAG': 2,\n",
       "   'GGGCATTATCTGAACATAAAACACTATCAATAAGTTG': 2,\n",
       "   'GGGCATTATCTGAACATAAAACACTATCAATAAGTTGG': 2,\n",
       "   'GTCATCGGGCATTATCTGAACATAAAACACTATCAATAAGTTGGAGT': 2,\n",
       "   'CAAAGTCATCGGGCATTATCTGAACATAAAACACTATCAATAAGTTG': 2,\n",
       "   'TCATCGGGCATTATCTGAACATAAAACACTATCAATAAGTTGGAGTCAT': 2},\n",
       "  'npai_1': {}},\n",
       " 'NC_013654': {'cpai_4': {'CCAGGGAGGGTATCCGTACCCTGCGCCAACAGTAACTTTTGTACCAG': 1},\n",
       "  'cpai_3': {},\n",
       "  'cpai_2': {},\n",
       "  'cpai_1': {},\n",
       "  'npai_2': {},\n",
       "  'npai_1': {}},\n",
       " 'NC_011745': {'cpai_7': {},\n",
       "  'cpai_4': {},\n",
       "  'cpai_3': {},\n",
       "  'cpai_5': {},\n",
       "  'cpai_8': {},\n",
       "  'cpai_2': {'CATAAAACACTATCAGTAAGTTGGAGTCATTACCCG': 1,\n",
       "   'CATAAAACACTATCAGTAAGTTGGAGTCATTACCCGG': 1,\n",
       "   'CATAAAACACTATCAGTAAGTTGGAGTCATTACCCGGG': 1,\n",
       "   'CATAAAACACTATCAGTAAGTTGGAGTCATTACCCGGGA': 1,\n",
       "   'CATAAAACACTATCAGTAAGTTGGAGTCATTACCCGGGAA': 1,\n",
       "   'CATAAAACACTATCAGTAAGTTGGAGTCATTACCCGGGAAG': 1,\n",
       "   'CATAAAACACTATCAGTAAGTTGGAGTCATTACCCGGGAAGA': 1,\n",
       "   'CATAAAACACTATCAGTAAGTTGGAGTCATTACCCGGGAAGAA': 1,\n",
       "   'CATAAAACACTATCAGTAAGTTGGAGTCATTACCCGGGAAGAAA': 1,\n",
       "   'CATAAAACACTATCAGTAAGTTGGAGTCATTACCCGGGAAGAAAA': 1,\n",
       "   'CATAAAACACTATCAGTAAGTTGGAGTCATTACCCGGGAAGAAAAG': 1,\n",
       "   'CATAAAACACTATCAGTAAGTTGGAGTCATTACCCGGGAAGAAAAGC': 1,\n",
       "   'CATAAAACACTATCAGTAAGTTGGAGTCATTACCCGGGAAGAAAAGCA': 1,\n",
       "   'CATAAAACACTATCAGTAAGTTGGAGTCATTACCCGGGAAGAAAAGCAA': 1},\n",
       "  'cpai_11': {},\n",
       "  'cpai_9': {},\n",
       "  'cpai_10': {},\n",
       "  'cpai_6': {},\n",
       "  'cpai_1': {},\n",
       "  'npai_2': {},\n",
       "  'npai_1': {'TTTTTTTATCGAGTGCATA': 1,\n",
       "   'TTTTTTTATCGAGTGCATAA': 1,\n",
       "   'TTTTTTTATCGAGTGCATAAT': 1,\n",
       "   'TTTTTTTATCGAGTGCATAATT': 1,\n",
       "   'TTTTTTTATCGAGTGCATAATTT': 1,\n",
       "   'TTTTTTTATCGAGTGCATAATTTA': 1,\n",
       "   'TTTTTTTATCGAGTGCATAATTTAG': 1,\n",
       "   'TTTTTTTATCGAGTGCATAATTTAGT': 1,\n",
       "   'TTTTTTTATCGAGTGCATAATTTAGTA': 1,\n",
       "   'TTTTTTTATCGAGTGCATAATTTAGTAC': 1,\n",
       "   'TTTTTTTATCGAGTGCATAATTTAGTACC': 1,\n",
       "   'TTTTTTTATCGAGTGCATAATTTAGTACCT': 1,\n",
       "   'TTTTTTTATCGAGTGCATAATTTAGTACCTA': 1,\n",
       "   'TTTTTTTATCGAGTGCATAATTTAGTACCTAT': 1,\n",
       "   'TTTTTTTATCGAGTGCATAATTTAGTACCTATA': 1,\n",
       "   'TTTTTTTATCGAGTGCATAATTTAGTACCTATAG': 1,\n",
       "   'TTTTTTTATCGAGTGCATAATTTAGTACCTATAGT': 1,\n",
       "   'CCAAGAGCATGGTTACTTTTTTTATCGAGTGCATA': 1,\n",
       "   'TTTTTTTATCGAGTGCATAATTTAGTACCTATAGTG': 1,\n",
       "   'CCAAGAGCATGGTTACTTTTTTTATCGAGTGCATAA': 1,\n",
       "   'TTTTTTTATCGAGTGCATAATTTAGTACCTATAGTGA': 1,\n",
       "   'CCAAGAGCATGGTTACTTTTTTTATCGAGTGCATAAT': 1,\n",
       "   'TTTTTTTATCGAGTGCATAATTTAGTACCTATAGTGAG': 1,\n",
       "   'CCAAGAGCATGGTTACTTTTTTTATCGAGTGCATAATT': 1,\n",
       "   'TTTTTTTATCGAGTGCATAATTTAGTACCTATAGTGAGC': 1,\n",
       "   'CCAAGAGCATGGTTACTTTTTTTATCGAGTGCATAATTT': 1,\n",
       "   'TTTTTTTATCGAGTGCATAATTTAGTACCTATAGTGAGCA': 1,\n",
       "   'CCAAGAGCATGGTTACTTTTTTTATCGAGTGCATAATTTA': 1,\n",
       "   'TTTTTTTATCGAGTGCATAATTTAGTACCTATAGTGAGCAA': 1,\n",
       "   'CCAAGAGCATGGTTACTTTTTTTATCGAGTGCATAATTTAG': 1,\n",
       "   'TTTTTTTATCGAGTGCATAATTTAGTACCTATAGTGAGCAAA': 1,\n",
       "   'CCAAGAGCATGGTTACTTTTTTTATCGAGTGCATAATTTAGT': 1,\n",
       "   'TTTTTTTATCGAGTGCATAATTTAGTACCTATAGTGAGCAAAA': 1,\n",
       "   'CCAAGAGCATGGTTACTTTTTTTATCGAGTGCATAATTTAGTA': 1,\n",
       "   'TTTTTTTATCGAGTGCATAATTTAGTACCTATAGTGAGCAAAAT': 1,\n",
       "   'CCAAGAGCATGGTTACTTTTTTTATCGAGTGCATAATTTAGTAC': 1,\n",
       "   'TTTTTTTATCGAGTGCATAATTTAGTACCTATAGTGAGCAAAATT': 1,\n",
       "   'CCAAGAGCATGGTTACTTTTTTTATCGAGTGCATAATTTAGTACC': 1,\n",
       "   'TTTTTTTATCGAGTGCATAATTTAGTACCTATAGTGAGCAAAATTA': 1,\n",
       "   'CCAAGAGCATGGTTACTTTTTTTATCGAGTGCATAATTTAGTACCT': 1,\n",
       "   'TTTTTTTATCGAGTGCATAATTTAGTACCTATAGTGAGCAAAATTAG': 1,\n",
       "   'CCAAGAGCATGGTTACTTTTTTTATCGAGTGCATAATTTAGTACCTA': 1,\n",
       "   'TTTTTTTATCGAGTGCATAATTTAGTACCTATAGTGAGCAAAATTAGA': 1,\n",
       "   'CCAAGAGCATGGTTACTTTTTTTATCGAGTGCATAATTTAGTACCTAT': 1,\n",
       "   'TTTTTTTATCGAGTGCATAATTTAGTACCTATAGTGAGCAAAATTAGAA': 1,\n",
       "   'CCAAGAGCATGGTTACTTTTTTTATCGAGTGCATAATTTAGTACCTATA': 1}},\n",
       " 'NC_011353': {'cpai_4': {},\n",
       "  'cpai_3': {'TTCCTCTGTAGT': 3,\n",
       "   'GATTCCTCTGTAGT': 3,\n",
       "   'GATTCCTCTGTAGTT': 3,\n",
       "   'TTCCTCTGTAGTTCAG': 3,\n",
       "   'CGATTCCTCTGTAGTTCA': 3,\n",
       "   'GATTCCTCTGTAGTTCAG': 3,\n",
       "   'TTCCTCTGTAGTTCAGTCG': 3,\n",
       "   'GATTCCTCTGTAGTTCAGT': 3,\n",
       "   'CGATTCCTCTGTAGTTCAG': 3,\n",
       "   'GATTCCTCTGTAGTTCAGTC': 3,\n",
       "   'CGATTCCTCTGTAGTTCAGT': 3,\n",
       "   'CGATTCCTCTGTAGTTCAGTC': 3,\n",
       "   'GATTCCTCTGTAGTTCAGTCGG': 3,\n",
       "   'ATTCCTCTGTAGTTCAGTCGGTA': 3,\n",
       "   'TTCCTCTGTAGTTCAGTCGGTAGA': 3,\n",
       "   'ATTCCTCTGTAGTTCAGTCGGTAGAA': 3,\n",
       "   'CGATTCCTCTGTAGTTCAGTCGGTAG': 3,\n",
       "   'CGATTCCTCTGTAGTTCAGTCGGTAGA': 3,\n",
       "   'GATTCCTCTGTAGTTCAGTCGGTAGAA': 3,\n",
       "   'CGATTCCTCTGTAGTTCAGTCGGTAGAA': 3,\n",
       "   'TTCCTCTGTAGTTCAGTCGGTAGAACGG': 3,\n",
       "   'GATTCCTCTGTAGTTCAGTCGGTAGAACG': 3,\n",
       "   'TTCCTCTGTAGTTCAGTCGGTAGAACGGCG': 3,\n",
       "   'TTCCTCTGTAGTTCAGTCGGTAGAACGGCGG': 3,\n",
       "   'GATTCCTCTGTAGTTCAGTCGGTAGAACGGC': 3,\n",
       "   'CGATTCCTCTGTAGTTCAGTCGGTAGAACGG': 3,\n",
       "   'GATTCCTCTGTAGTTCAGTCGGTAGAACGGCG': 3,\n",
       "   'TTCCTCTGTAGTTCAGTCGGTAGAACGGCGGAC': 3,\n",
       "   'CGATTCCTCTGTAGTTCAGTCGGTAGAACGGCG': 3,\n",
       "   'TTCCTCTGTAGTTCAGTCGGTAGAACGGCGGACT': 3,\n",
       "   'CGATTCCTCTGTAGTTCAGTCGGTAGAACGGCGG': 3,\n",
       "   'CGATTCCTCTGTAGTTCAGTCGGTAGAACGGCGGA': 3,\n",
       "   'TTCCTCTGTAGTTCAGTCGGTAGAACGGCGGACTG': 3,\n",
       "   'TTCCTCTGTAGTTCAGTCGGTAGAACGGCGGACTGT': 3,\n",
       "   'CGATTCCTCTGTAGTTCAGTCGGTAGAACGGCGGAC': 3,\n",
       "   'CGATTCCTCTGTAGTTCAGTCGGTAGAACGGCGGACT': 3,\n",
       "   'TTCCTCTGTAGTTCAGTCGGTAGAACGGCGGACTGTT': 3,\n",
       "   'CGATTCCTCTGTAGTTCAGTCGGTAGAACGGCGGACTG': 3,\n",
       "   'TTCCTCTGTAGTTCAGTCGGTAGAACGGCGGACTGTTA': 3,\n",
       "   'TTCCTCTGTAGTTCAGTCGGTAGAACGGCGGACTGTTAA': 3,\n",
       "   'CGATTCCTCTGTAGTTCAGTCGGTAGAACGGCGGACTGT': 3,\n",
       "   'TTCCTCTGTAGTTCAGTCGGTAGAACGGCGGACTGTTAAT': 3,\n",
       "   'CGATTCCTCTGTAGTTCAGTCGGTAGAACGGCGGACTGTT': 3,\n",
       "   'GATTCCTCTGTAGTTCAGTCGGTAGAACGGCGGACTGTTA': 3,\n",
       "   'TTCCTCTGTAGTTCAGTCGGTAGAACGGCGGACTGTTAATC': 3,\n",
       "   'CGATTCCTCTGTAGTTCAGTCGGTAGAACGGCGGACTGTTA': 3,\n",
       "   'GATTCCTCTGTAGTTCAGTCGGTAGAACGGCGGACTGTTAA': 3,\n",
       "   'ATTCCTCTGTAGTTCAGTCGGTAGAACGGCGGACTGTTAATC': 3,\n",
       "   'TTCCTCTGTAGTTCAGTCGGTAGAACGGCGGACTGTTAATCC': 3,\n",
       "   'CGATTCCTCTGTAGTTCAGTCGGTAGAACGGCGGACTGTTAA': 3,\n",
       "   'CGATTCCTCTGTAGTTCAGTCGGTAGAACGGCGGACTGTTAAT': 3,\n",
       "   'ATTCCTCTGTAGTTCAGTCGGTAGAACGGCGGACTGTTAATCCG': 3,\n",
       "   'TTCCTCTGTAGTTCAGTCGGTAGAACGGCGGACTGTTAATCCGT': 3,\n",
       "   'ATTCCTCTGTAGTTCAGTCGGTAGAACGGCGGACTGTTAATCCGT': 3,\n",
       "   'TTCCTCTGTAGTTCAGTCGGTAGAACGGCGGACTGTTAATCCGTA': 3,\n",
       "   'GATTCCTCTGTAGTTCAGTCGGTAGAACGGCGGACTGTTAATCCGT': 3,\n",
       "   'CGATTCCTCTGTAGTTCAGTCGGTAGAACGGCGGACTGTTAATCCG': 3,\n",
       "   'ATTCCTCTGTAGTTCAGTCGGTAGAACGGCGGACTGTTAATCCGTAT': 3,\n",
       "   'TTCCTCTGTAGTTCAGTCGGTAGAACGGCGGACTGTTAATCCGTATG': 3,\n",
       "   'GATTCCTCTGTAGTTCAGTCGGTAGAACGGCGGACTGTTAATCCGTAT': 3,\n",
       "   'ATTCCTCTGTAGTTCAGTCGGTAGAACGGCGGACTGTTAATCCGTATG': 3,\n",
       "   'CGATTCCTCTGTAGTTCAGTCGGTAGAACGGCGGACTGTTAATCCGTA': 3,\n",
       "   'ATTCCTCTGTAGTTCAGTCGGTAGAACGGCGGACTGTTAATCCGTATGT': 3},\n",
       "  'cpai_5': {},\n",
       "  'cpai_2': {},\n",
       "  'cpai_6': {},\n",
       "  'cpai_1': {},\n",
       "  'npai_1': {}},\n",
       " 'NC_017657': {'cpai_1': {}},\n",
       " 'NC_002655': {'pai_2': {},\n",
       "  'pai_1': {},\n",
       "  'pai_4': {},\n",
       "  'pai_5': {},\n",
       "  'pai_3': {},\n",
       "  'cpai_7': {},\n",
       "  'cpai_4': {},\n",
       "  'cpai_3': {},\n",
       "  'cpai_5': {},\n",
       "  'cpai_2': {},\n",
       "  'cpai_6': {},\n",
       "  'cpai_1': {},\n",
       "  'npai_2': {},\n",
       "  'npai_1': {}},\n",
       " 'NC_017638': {'cpai_3': {},\n",
       "  'cpai_2': {},\n",
       "  'cpai_1': {'ACGATTCCTCT': 3,\n",
       "   'TTCCTCTGTAG': 3,\n",
       "   'GATTCCTCTGT': 3,\n",
       "   'GATTCCTCTGTAGT': 3,\n",
       "   'CGATTCCTCTGTAGTTCA': 3,\n",
       "   'ACGATTCCTCTGTAGTTC': 3,\n",
       "   'GATTCCTCTGTAGTTCAG': 3,\n",
       "   'TTCCTCTGTAGTTCAGTC': 3,\n",
       "   'GATTCCTCTGTAGTTCAGT': 3,\n",
       "   'GATTCCTCTGTAGTTCAGTCG': 3,\n",
       "   'CGATTCCTCTGTAGTTCAGTCG': 3,\n",
       "   'GATTCCTCTGTAGTTCAGTCGG': 3,\n",
       "   'TTCCTCTGTAGTTCAGTCGGTAG': 3,\n",
       "   'ACGATTCCTCTGTAGTTCAGTCGG': 3,\n",
       "   'GATTCCTCTGTAGTTCAGTCGGTAGA': 3,\n",
       "   'CGATTCCTCTGTAGTTCAGTCGGTAGA': 3,\n",
       "   'TTCCTCTGTAGTTCAGTCGGTAGAACGG': 3,\n",
       "   'ACGATTCCTCTGTAGTTCAGTCGGTAGAAC': 3,\n",
       "   'CGATTCCTCTGTAGTTCAGTCGGTAGAACGG': 3,\n",
       "   'ACGATTCCTCTGTAGTTCAGTCGGTAGAACGG': 3,\n",
       "   'ACGATTCCTCTGTAGTTCAGTCGGTAGAACGGC': 3,\n",
       "   'TCCTCTGTAGTTCAGTCGGTAGAACGGCGGACTG': 3,\n",
       "   'ACGATTCCTCTGTAGTTCAGTCGGTAGAACGGCG': 3,\n",
       "   'CGATTCCTCTGTAGTTCAGTCGGTAGAACGGCGGA': 3,\n",
       "   'TCCTCTGTAGTTCAGTCGGTAGAACGGCGGACTGT': 3,\n",
       "   'TCCTCTGTAGTTCAGTCGGTAGAACGGCGGACTGTT': 3,\n",
       "   'ACGATTCCTCTGTAGTTCAGTCGGTAGAACGGCGGA': 3,\n",
       "   'TTCCTCTGTAGTTCAGTCGGTAGAACGGCGGACTGTT': 3,\n",
       "   'CGATTCCTCTGTAGTTCAGTCGGTAGAACGGCGGACT': 3,\n",
       "   'ACGATTCCTCTGTAGTTCAGTCGGTAGAACGGCGGAC': 3,\n",
       "   'GATTCCTCTGTAGTTCAGTCGGTAGAACGGCGGACTG': 3,\n",
       "   'ACGATTCCTCTGTAGTTCAGTCGGTAGAACGGCGGACT': 3,\n",
       "   'CGATTCCTCTGTAGTTCAGTCGGTAGAACGGCGGACTG': 3,\n",
       "   'CGATTCCTCTGTAGTTCAGTCGGTAGAACGGCGGACTGTT': 3,\n",
       "   'ACGATTCCTCTGTAGTTCAGTCGGTAGAACGGCGGACTGTT': 3,\n",
       "   'CGATTCCTCTGTAGTTCAGTCGGTAGAACGGCGGACTGTTA': 3,\n",
       "   'CGATTCCTCTGTAGTTCAGTCGGTAGAACGGCGGACTGTTAA': 3,\n",
       "   'ACGATTCCTCTGTAGTTCAGTCGGTAGAACGGCGGACTGTTA': 3,\n",
       "   'ACGATTCCTCTGTAGTTCAGTCGGTAGAACGGCGGACTGTTAA': 3,\n",
       "   'CGATTCCTCTGTAGTTCAGTCGGTAGAACGGCGGACTGTTAATC': 3,\n",
       "   'ACGATTCCTCTGTAGTTCAGTCGGTAGAACGGCGGACTGTTAAT': 3,\n",
       "   'CGATTCCTCTGTAGTTCAGTCGGTAGAACGGCGGACTGTTAATCC': 3,\n",
       "   'ACGATTCCTCTGTAGTTCAGTCGGTAGAACGGCGGACTGTTAATC': 3,\n",
       "   'CGATTCCTCTGTAGTTCAGTCGGTAGAACGGCGGACTGTTAATCCG': 3,\n",
       "   'ACGATTCCTCTGTAGTTCAGTCGGTAGAACGGCGGACTGTTAATCC': 3,\n",
       "   'TCCTCTGTAGTTCAGTCGGTAGAACGGCGGACTGTTAATCCGTATGT': 3,\n",
       "   'CGATTCCTCTGTAGTTCAGTCGGTAGAACGGCGGACTGTTAATCCGT': 3,\n",
       "   'ACGATTCCTCTGTAGTTCAGTCGGTAGAACGGCGGACTGTTAATCCG': 3,\n",
       "   'ATTCCTCTGTAGTTCAGTCGGTAGAACGGCGGACTGTTAATCCGTAT': 3,\n",
       "   'TCCTCTGTAGTTCAGTCGGTAGAACGGCGGACTGTTAATCCGTATGTC': 3,\n",
       "   'CGATTCCTCTGTAGTTCAGTCGGTAGAACGGCGGACTGTTAATCCGTA': 3,\n",
       "   'ACGATTCCTCTGTAGTTCAGTCGGTAGAACGGCGGACTGTTAATCCGT': 3,\n",
       "   'CGATTCCTCTGTAGTTCAGTCGGTAGAACGGCGGACTGTTAATCCGTAT': 3,\n",
       "   'ACGATTCCTCTGTAGTTCAGTCGGTAGAACGGCGGACTGTTAATCCGTA': 3},\n",
       "  'npai_3': {},\n",
       "  'npai_2': {},\n",
       "  'npai_1': {}},\n",
       " 'NC_011750': {'cpai_7': {'CATTTTTTATCCT': 1,\n",
       "   'CATTTTTTATCCTT': 1,\n",
       "   'CATTTTTTATCCTTT': 1,\n",
       "   'CATTTTTTATCCTTTT': 1,\n",
       "   'CATTTTTTATCCTTTTT': 1,\n",
       "   'CATTTTTTATCCTTTTTT': 1,\n",
       "   'CATTTTTTATCCTTTTTTA': 1,\n",
       "   'CATTTTTTATCCTTTTTTAA': 1,\n",
       "   'CATTTTTTATCCTTTTTTAAT': 1,\n",
       "   'CATTTTTTATCCTTTTTTAATC': 1,\n",
       "   'CATTTTTTATCCTTTTTTAATCA': 1,\n",
       "   'CATTTTTTATCCTTTTTTAATCAT': 1,\n",
       "   'CATTTTTTATCCTTTTTTAATCATT': 1,\n",
       "   'CATTTTTTATCCTTTTTTAATCATTA': 1,\n",
       "   'CATTTTTTATCCTTTTTTAATCATTAA': 1,\n",
       "   'CATTTTTTATCCTTTTTTAATCATTAAC': 1,\n",
       "   'CATTTTTTATCCTTTTTTAATCATTAACT': 1,\n",
       "   'CATTTTTTATCCTTTTTTAATCATTAACTG': 1,\n",
       "   'CATTTTTTATCCTTTTTTAATCATTAACTGA': 1,\n",
       "   'CATTTTTTATCCTTTTTTAATCATTAACTGAC': 1,\n",
       "   'CATTTTTTATCCTTTTTTAATCATTAACTGACT': 1,\n",
       "   'CATTTTTTATCCTTTTTTAATCATTAACTGACTA': 1,\n",
       "   'CATTTTTTATCCTTTTTTAATCATTAACTGACTAT': 1,\n",
       "   'CATTTTTTATCCTTTTTTAATCATTAACTGACTATA': 1,\n",
       "   'CATTTTTTATCCTTTTTTAATCATTAACTGACTATAA': 1,\n",
       "   'CATTTTTTATCCTTTTTTAATCATTAACTGACTATAAT': 1,\n",
       "   'CATTTTTTATCCTTTTTTAATCATTAACTGACTATAATG': 1,\n",
       "   'CATTTTTTATCCTTTTTTAATCATTAACTGACTATAATGG': 1,\n",
       "   'CATTTTTTATCCTTTTTTAATCATTAACTGACTATAATGGC': 1,\n",
       "   'CATTTTTTATCCTTTTTTAATCATTAACTGACTATAATGGCA': 1,\n",
       "   'CATTTTTTATCCTTTTTTAATCATTAACTGACTATAATGGCAA': 1,\n",
       "   'CATTTTTTATCCTTTTTTAATCATTAACTGACTATAATGGCAAG': 1,\n",
       "   'CATTTTTTATCCTTTTTTAATCATTAACTGACTATAATGGCAAGA': 1,\n",
       "   'CATTTTTTATCCTTTTTTAATCATTAACTGACTATAATGGCAAGAT': 1,\n",
       "   'CATTTTTTATCCTTTTTTAATCATTAACTGACTATAATGGCAAGATC': 1},\n",
       "  'cpai_4': {},\n",
       "  'cpai_3': {},\n",
       "  'cpai_5': {},\n",
       "  'cpai_8': {},\n",
       "  'cpai_2': {},\n",
       "  'cpai_9': {},\n",
       "  'cpai_6': {},\n",
       "  'cpai_1': {},\n",
       "  'npai_2': {},\n",
       "  'npai_1': {}},\n",
       " 'NC_011741': {'cpai_2': {}, 'cpai_1': {}, 'npai_2': {}, 'npai_1': {}},\n",
       " 'NC_011415': {'cpai_2': {'ATTTTTCCCAGCAAAATTACAAAATCATGGTGTATT': 1,\n",
       "   'ATTTTTCCCAGCAAAATTACAAAATCATGGTGTATTG': 1,\n",
       "   'ATTTTTCCCAGCAAAATTACAAAATCATGGTGTATTGA': 1,\n",
       "   'ATTTTTCCCAGCAAAATTACAAAATCATGGTGTATTGAC': 1,\n",
       "   'ATTTTTCCCAGCAAAATTACAAAATCATGGTGTATTGACA': 1,\n",
       "   'ATTTTTCCCAGCAAAATTACAAAATCATGGTGTATTGACAT': 1,\n",
       "   'ATTTTTCCCAGCAAAATTACAAAATCATGGTGTATTGACATC': 1,\n",
       "   'ATTTTTCCCAGCAAAATTACAAAATCATGGTGTATTGACATCA': 1,\n",
       "   'ATTTTTCCCAGCAAAATTACAAAATCATGGTGTATTGACATCAT': 1,\n",
       "   'ATTTTTCCCAGCAAAATTACAAAATCATGGTGTATTGACATCATC': 1,\n",
       "   'ATTTTTCCCAGCAAAATTACAAAATCATGGTGTATTGACATCATCA': 1,\n",
       "   'ATTTTTCCCAGCAAAATTACAAAATCATGGTGTATTGACATCATCAA': 1,\n",
       "   'ATTTTTCCCAGCAAAATTACAAAATCATGGTGTATTGACATCATCAAT': 1,\n",
       "   'ATTTTTCCCAGCAAAATTACAAAATCATGGTGTATTGACATCATCAATC': 1},\n",
       "  'cpai_1': {},\n",
       "  'npai_2': {},\n",
       "  'npai_1': {}},\n",
       " 'NC_017633': {'cpai_7': {},\n",
       "  'cpai_4': {},\n",
       "  'cpai_3': {},\n",
       "  'cpai_5': {},\n",
       "  'cpai_2': {},\n",
       "  'cpai_6': {},\n",
       "  'cpai_1': {},\n",
       "  'npai_2': {},\n",
       "  'npai_1': {}},\n",
       " 'NC_017665': {'npai_1': {}},\n",
       " 'NC_010473': {'cpai_4': {},\n",
       "  'cpai_3': {},\n",
       "  'cpai_2': {},\n",
       "  'cpai_1': {},\n",
       "  'npai_2': {},\n",
       "  'npai_1': {}},\n",
       " 'NC_017652': {'cpai_12': {},\n",
       "  'cpai_7': {},\n",
       "  'cpai_4': {'CCAGATCCTGAGATCCCTTTAGGCTCAAATAGATAAT': 1,\n",
       "   'CCAGATCCTGAGATCCCTTTAGGCTCAAATAGATAATG': 1,\n",
       "   'CCAGATCCTGAGATCCCTTTAGGCTCAAATAGATAATGC': 1,\n",
       "   'CCAGATCCTGAGATCCCTTTAGGCTCAAATAGATAATGCT': 1,\n",
       "   'CCAGATCCTGAGATCCCTTTAGGCTCAAATAGATAATGCTT': 1,\n",
       "   'CCAGATCCTGAGATCCCTTTAGGCTCAAATAGATAATGCTTT': 1,\n",
       "   'CCAGATCCTGAGATCCCTTTAGGCTCAAATAGATAATGCTTTG': 1,\n",
       "   'CCAGATCCTGAGATCCCTTTAGGCTCAAATAGATAATGCTTTGA': 1,\n",
       "   'CCAGATCCTGAGATCCCTTTAGGCTCAAATAGATAATGCTTTGAA': 1,\n",
       "   'CCAGATCCTGAGATCCCTTTAGGCTCAAATAGATAATGCTTTGAAT': 1,\n",
       "   'CCAGATCCTGAGATCCCTTTAGGCTCAAATAGATAATGCTTTGAATG': 1,\n",
       "   'CCAGATCCTGAGATCCCTTTAGGCTCAAATAGATAATGCTTTGAATGA': 1,\n",
       "   'CCAGATCCTGAGATCCCTTTAGGCTCAAATAGATAATGCTTTGAATGAT': 1},\n",
       "  'cpai_3': {},\n",
       "  'cpai_5': {'CCAGAGTGACGGGAATTAGCGTAT': 1,\n",
       "   'TTTTTTTTCGGGTTGCCCGGCCTGAT': 1,\n",
       "   'TTTTTTTTCGGGTTGCCCGGCCTGATA': 1,\n",
       "   'TTTTTTTTCGGGTTGCCCGGCCTGATAC': 1,\n",
       "   'TTTTTTTTCGGGTTGCCCGGCCTGATACA': 1,\n",
       "   'TTTTTTTTCGGGTTGCCCGGCCTGATACAT': 1,\n",
       "   'TTTTTTTTCGGGTTGCCCGGCCTGATACATC': 1,\n",
       "   'TTTTTTTTCGGGTTGCCCGGCCTGATACATCA': 1,\n",
       "   'TTTTTTTTCGGGTTGCCCGGCCTGATACATCAG': 1,\n",
       "   'TTTTTTTTCGGGTTGCCCGGCCTGATACATCAGA': 1,\n",
       "   'TTTTTTTTCGGGTTGCCCGGCCTGATACATCAGAG': 1,\n",
       "   'TTTTTTTTCGGGTTGCCCGGCCTGATACATCAGAGC': 1,\n",
       "   'TTTTTTTTCGGGTTGCCCGGCCTGATACATCAGAGCA': 1,\n",
       "   'TTTTTTTTCGGGTTGCCCGGCCTGATACATCAGAGCAA': 1,\n",
       "   'TTTTTTTTCGGGTTGCCCGGCCTGATACATCAGAGCAAT': 1,\n",
       "   'TTTTTTTTCGGGTTGCCCGGCCTGATACATCAGAGCAATA': 1,\n",
       "   'TTTTTTTTCGGGTTGCCCGGCCTGATACATCAGAGCAATAC': 1,\n",
       "   'TTTTTTTTCGGGTTGCCCGGCCTGATACATCAGAGCAATACG': 1,\n",
       "   'TTTTTTTTCGGGTTGCCCGGCCTGATACATCAGAGCAATACGT': 1,\n",
       "   'TTTTTTTTCGGGTTGCCCGGCCTGATACATCAGAGCAATACGTT': 1,\n",
       "   'TTTTTTTTCGGGTTGCCCGGCCTGATACATCAGAGCAATACGTTG': 1,\n",
       "   'TTTTTTTTCGGGTTGCCCGGCCTGATACATCAGAGCAATACGTTGC': 1,\n",
       "   'TTTTTTTTCGGGTTGCCCGGCCTGATACATCAGAGCAATACGTTGCT': 1,\n",
       "   'TTTTTTTTCGGGTTGCCCGGCCTGATACATCAGAGCAATACGTTGCTT': 1,\n",
       "   'TTTTTTTTCGGGTTGCCCGGCCTGATACATCAGAGCAATACGTTGCTTT': 1},\n",
       "  'cpai_8': {},\n",
       "  'cpai_2': {},\n",
       "  'cpai_11': {},\n",
       "  'cpai_9': {'CATGACGGATATT': 1,\n",
       "   'CATGACGGATATTA': 1,\n",
       "   'CATGACGGATATTAC': 1,\n",
       "   'CATGACGGATATTACT': 1,\n",
       "   'CATGACGGATATTACTG': 1,\n",
       "   'CATGACGGATATTACTGA': 1,\n",
       "   'CATGACGGATATTACTGAC': 1,\n",
       "   'CATGACGGATATTACTGACA': 1,\n",
       "   'CATGACGGATATTACTGACAG': 1,\n",
       "   'CATGACGGATATTACTGACAGA': 1,\n",
       "   'CATGACGGATATTACTGACAGAC': 1,\n",
       "   'CATGACGGATATTACTGACAGACA': 1,\n",
       "   'CATGACGGATATTACTGACAGACAT': 1,\n",
       "   'CATGACGGATATTACTGACAGACATA': 1,\n",
       "   'CATGACGGATATTACTGACAGACATAC': 1,\n",
       "   'CATGACGGATATTACTGACAGACATACA': 1,\n",
       "   'CATGACGGATATTACTGACAGACATACAC': 1,\n",
       "   'CATGACGGATATTACTGACAGACATACACT': 1,\n",
       "   'CATGACGGATATTACTGACAGACATACACTT': 1,\n",
       "   'CATGACGGATATTACTGACAGACATACACTTC': 1,\n",
       "   'CATGACGGATATTACTGACAGACATACACTTCG': 1,\n",
       "   'CATGACGGATATTACTGACAGACATACACTTCGC': 1,\n",
       "   'CATGACGGATATTACTGACAGACATACACTTCGCC': 1,\n",
       "   'CATGACGGATATTACTGACAGACATACACTTCGCCG': 1,\n",
       "   'CATGACGGATATTACTGACAGACATACACTTCGCCGT': 1,\n",
       "   'CATGACGGATATTACTGACAGACATACACTTCGCCGTA': 1,\n",
       "   'CATGACGGATATTACTGACAGACATACACTTCGCCGTAT': 1,\n",
       "   'CATGACGGATATTACTGACAGACATACACTTCGCCGTATG': 1,\n",
       "   'CATGACGGATATTACTGACAGACATACACTTCGCCGTATGT': 1,\n",
       "   'CATGACGGATATTACTGACAGACATACACTTCGCCGTATGTC': 1,\n",
       "   'CATGACGGATATTACTGACAGACATACACTTCGCCGTATGTCC': 1,\n",
       "   'CATGACGGATATTACTGACAGACATACACTTCGCCGTATGTCCT': 1,\n",
       "   'CATGACGGATATTACTGACAGACATACACTTCGCCGTATGTCCTG': 1,\n",
       "   'CATGACGGATATTACTGACAGACATACACTTCGCCGTATGTCCTGG': 1,\n",
       "   'CATGACGGATATTACTGACAGACATACACTTCGCCGTATGTCCTGGT': 1,\n",
       "   'CATGACGGATATTACTGACAGACATACACTTCGCCGTATGTCCTGGTC': 1,\n",
       "   'CATGACGGATATTACTGACAGACATACACTTCGCCGTATGTCCTGGTCG': 1},\n",
       "  'cpai_10': {},\n",
       "  'cpai_6': {},\n",
       "  'cpai_1': {},\n",
       "  'npai_2': {},\n",
       "  'npai_1': {}},\n",
       " 'NC_017637': {'npai_1': {}},\n",
       " 'NC_017626': {'cpai_7': {},\n",
       "  'cpai_4': {},\n",
       "  'cpai_3': {},\n",
       "  'cpai_5': {},\n",
       "  'cpai_8': {'TTTTTTTGTTCACAGATTAAGGTGCGTTTAT': 1,\n",
       "   'TTTTTTTGTTCACAGATTAAGGTGCGTTTATG': 1,\n",
       "   'TTTTTTTGTTCACAGATTAAGGTGCGTTTATGG': 1,\n",
       "   'TTTTTTTGTTCACAGATTAAGGTGCGTTTATGGC': 1,\n",
       "   'TTTTTTTGTTCACAGATTAAGGTGCGTTTATGGCG': 1,\n",
       "   'TTTTTTTGTTCACAGATTAAGGTGCGTTTATGGCGA': 1,\n",
       "   'TTTTTTTGTTCACAGATTAAGGTGCGTTTATGGCGAA': 1,\n",
       "   'TTTTTTTGTTCACAGATTAAGGTGCGTTTATGGCGAAA': 1,\n",
       "   'TTTTTTTGTTCACAGATTAAGGTGCGTTTATGGCGAAAC': 1,\n",
       "   'TTTTTTTGTTCACAGATTAAGGTGCGTTTATGGCGAAACT': 1,\n",
       "   'TTTTTTTGTTCACAGATTAAGGTGCGTTTATGGCGAAACTG': 1,\n",
       "   'TTTTTTTGTTCACAGATTAAGGTGCGTTTATGGCGAAACTGA': 1,\n",
       "   'TTTTTTTGTTCACAGATTAAGGTGCGTTTATGGCGAAACTGAT': 1,\n",
       "   'TTTTTTTGTTCACAGATTAAGGTGCGTTTATGGCGAAACTGATA': 1,\n",
       "   'TTTTTTTGTTCACAGATTAAGGTGCGTTTATGGCGAAACTGATAA': 1,\n",
       "   'TTTTTTTGTTCACAGATTAAGGTGCGTTTATGGCGAAACTGATAAA': 1,\n",
       "   'TTTTTTTGTTCACAGATTAAGGTGCGTTTATGGCGAAACTGATAAAT': 1,\n",
       "   'TTTTTTTGTTCACAGATTAAGGTGCGTTTATGGCGAAACTGATAAATG': 1,\n",
       "   'TTTTTTTGTTCACAGATTAAGGTGCGTTTATGGCGAAACTGATAAATGT': 1},\n",
       "  'cpai_2': {},\n",
       "  'cpai_11': {},\n",
       "  'cpai_9': {},\n",
       "  'cpai_10': {},\n",
       "  'cpai_6': {},\n",
       "  'cpai_1': {},\n",
       "  'npai_1': {}},\n",
       " 'NC_022370': {'cpai_7': {},\n",
       "  'cpai_4': {},\n",
       "  'cpai_3': {},\n",
       "  'cpai_5': {},\n",
       "  'cpai_8': {},\n",
       "  'cpai_2': {'CCAGATCCTGAGATCCCTTTAGGCTCAAATAGATAAT': 1,\n",
       "   'CCAGATCCTGAGATCCCTTTAGGCTCAAATAGATAATG': 1,\n",
       "   'CCAGATCCTGAGATCCCTTTAGGCTCAAATAGATAATGC': 1,\n",
       "   'CCAGATCCTGAGATCCCTTTAGGCTCAAATAGATAATGCT': 1,\n",
       "   'CCAGATCCTGAGATCCCTTTAGGCTCAAATAGATAATGCTT': 1,\n",
       "   'CCAGATCCTGAGATCCCTTTAGGCTCAAATAGATAATGCTTT': 1,\n",
       "   'CCAGATCCTGAGATCCCTTTAGGCTCAAATAGATAATGCTTTG': 1,\n",
       "   'CCAGATCCTGAGATCCCTTTAGGCTCAAATAGATAATGCTTTGA': 1,\n",
       "   'CCAGATCCTGAGATCCCTTTAGGCTCAAATAGATAATGCTTTGAA': 1,\n",
       "   'CCAGATCCTGAGATCCCTTTAGGCTCAAATAGATAATGCTTTGAAT': 1,\n",
       "   'CCAGATCCTGAGATCCCTTTAGGCTCAAATAGATAATGCTTTGAATG': 1,\n",
       "   'CCAGATCCTGAGATCCCTTTAGGCTCAAATAGATAATGCTTTGAATGA': 1,\n",
       "   'CCAGATCCTGAGATCCCTTTAGGCTCAAATAGATAATGCTTTGAATGAT': 1},\n",
       "  'cpai_6': {},\n",
       "  'cpai_1': {},\n",
       "  'npai_3': {},\n",
       "  'npai_2': {},\n",
       "  'npai_1': {}},\n",
       " 'NC_022364': {'cpai_2': {},\n",
       "  'cpai_1': {},\n",
       "  'npai_3': {},\n",
       "  'npai_2': {'TATTTGACATTAT': 2},\n",
       "  'npai_4': {},\n",
       "  'npai_1': {}},\n",
       " 'NC_018650': {'cpai_12': {},\n",
       "  'cpai_7': {'TTTTTTTAAGCAGT': 1,\n",
       "   'TTTTTTTAAGCAGTC': 1,\n",
       "   'TTTTTTTAAGCAGTCA': 1,\n",
       "   'TTTTTTTAAGCAGTCAT': 1,\n",
       "   'TTTTTTTAAGCAGTCATC': 1,\n",
       "   'TTTTTTTAAGCAGTCATCT': 1,\n",
       "   'TTTTTTTAAGCAGTCATCTG': 1,\n",
       "   'TTTTTTTAAGCAGTCATCTGA': 1,\n",
       "   'TTTTTTTAAGCAGTCATCTGAT': 1,\n",
       "   'TTTTTTTAAGCAGTCATCTGATG': 1,\n",
       "   'TTTTTTTAAGCAGTCATCTGATGA': 1,\n",
       "   'TTTTTTTAAGCAGTCATCTGATGAT': 1,\n",
       "   'TTTTTTTAAGCAGTCATCTGATGATA': 1,\n",
       "   'TTTTTTTAAGCAGTCATCTGATGATAT': 1,\n",
       "   'TTTTTTTAAGCAGTCATCTGATGATATT': 1,\n",
       "   'TTTTTTTAAGCAGTCATCTGATGATATTT': 1,\n",
       "   'TTTTTTTAAGCAGTCATCTGATGATATTTT': 1,\n",
       "   'TTTTTTTAAGCAGTCATCTGATGATATTTTT': 1,\n",
       "   'TTTTTTTAAGCAGTCATCTGATGATATTTTTC': 1,\n",
       "   'TTTTTTTAAGCAGTCATCTGATGATATTTTTCC': 1,\n",
       "   'TTTTTTTAAGCAGTCATCTGATGATATTTTTCCC': 1,\n",
       "   'TTTTTTTAAGCAGTCATCTGATGATATTTTTCCCT': 1,\n",
       "   'TTTTTTTAAGCAGTCATCTGATGATATTTTTCCCTG': 1,\n",
       "   'TTTTTTTAAGCAGTCATCTGATGATATTTTTCCCTGA': 1,\n",
       "   'TTTTTTTAAGCAGTCATCTGATGATATTTTTCCCTGAA': 1,\n",
       "   'TTTTTTTAAGCAGTCATCTGATGATATTTTTCCCTGAAG': 1,\n",
       "   'TTTTTTTAAGCAGTCATCTGATGATATTTTTCCCTGAAGG': 1,\n",
       "   'TTTTTTTAAGCAGTCATCTGATGATATTTTTCCCTGAAGGC': 1,\n",
       "   'TTTTTTTAAGCAGTCATCTGATGATATTTTTCCCTGAAGGCT': 1,\n",
       "   'TTTTTTTAAGCAGTCATCTGATGATATTTTTCCCTGAAGGCTG': 1,\n",
       "   'TTTTTTTAAGCAGTCATCTGATGATATTTTTCCCTGAAGGCTGC': 1,\n",
       "   'TTTTTTTAAGCAGTCATCTGATGATATTTTTCCCTGAAGGCTGCC': 1,\n",
       "   'TTTTTTTAAGCAGTCATCTGATGATATTTTTCCCTGAAGGCTGCCG': 1,\n",
       "   'TTTTTTTAAGCAGTCATCTGATGATATTTTTCCCTGAAGGCTGCCGG': 1,\n",
       "   'TTTTTTTAAGCAGTCATCTGATGATATTTTTCCCTGAAGGCTGCCGGG': 1,\n",
       "   'TTTTTTTAAGCAGTCATCTGATGATATTTTTCCCTGAAGGCTGCCGGGG': 1},\n",
       "  'cpai_4': {},\n",
       "  'cpai_3': {},\n",
       "  'cpai_5': {},\n",
       "  'cpai_8': {},\n",
       "  'cpai_2': {},\n",
       "  'cpai_11': {},\n",
       "  'cpai_9': {},\n",
       "  'cpai_10': {},\n",
       "  'cpai_6': {},\n",
       "  'cpai_1': {},\n",
       "  'npai_1': {}},\n",
       " 'NC_017634': {'cpai_4': {},\n",
       "  'cpai_3': {'GGTTCGAGTCCAGTCAGAGGAGCCAA': 3,\n",
       "   'CTGGTTCGAGTCCAGTCAGAGGAGCCAA': 3,\n",
       "   'TCACTGGTTCGAGTCCAGTCAGAGGAGCCAA': 3,\n",
       "   'TGTCACTGGTTCGAGTCCAGTCAGAGGAGCCAA': 3,\n",
       "   'ATGTCACTGGTTCGAGTCCAGTCAGAGGAGCCAA': 3,\n",
       "   'GTATGTCACTGGTTCGAGTCCAGTCAGAGGAGCCAA': 3,\n",
       "   'CCGTATGTCACTGGTTCGAGTCCAGTCAGAGGAGCCAA': 3,\n",
       "   'TCCGTATGTCACTGGTTCGAGTCCAGTCAGAGGAGCCAA': 3,\n",
       "   'ATCCGTATGTCACTGGTTCGAGTCCAGTCAGAGGAGCCAA': 3,\n",
       "   'AATCCGTATGTCACTGGTTCGAGTCCAGTCAGAGGAGCCAA': 3,\n",
       "   'TTAATCCGTATGTCACTGGTTCGAGTCCAGTCAGAGGAGCCAA': 3,\n",
       "   'GTTAATCCGTATGTCACTGGTTCGAGTCCAGTCAGAGGAGCCAA': 3,\n",
       "   'CTGTTAATCCGTATGTCACTGGTTCGAGTCCAGTCAGAGGAGCCAA': 3,\n",
       "   'ACTGTTAATCCGTATGTCACTGGTTCGAGTCCAGTCAGAGGAGCCAA': 3,\n",
       "   'GGACTGTTAATCCGTATGTCACTGGTTCGAGTCCAGTCAGAGGAGCCAA': 3},\n",
       "  'cpai_5': {},\n",
       "  'cpai_2': {'CCAGATCCTGAGATCCCTTTAGGCTCAAATAGATAAT': 1,\n",
       "   'CCAGATCCTGAGATCCCTTTAGGCTCAAATAGATAATG': 1,\n",
       "   'CCAGATCCTGAGATCCCTTTAGGCTCAAATAGATAATGC': 1,\n",
       "   'CCAGATCCTGAGATCCCTTTAGGCTCAAATAGATAATGCT': 1,\n",
       "   'CCAGATCCTGAGATCCCTTTAGGCTCAAATAGATAATGCTT': 1,\n",
       "   'CCAGATCCTGAGATCCCTTTAGGCTCAAATAGATAATGCTTT': 1,\n",
       "   'CCAGATCCTGAGATCCCTTTAGGCTCAAATAGATAATGCTTTG': 1,\n",
       "   'CCAGATCCTGAGATCCCTTTAGGCTCAAATAGATAATGCTTTGA': 1,\n",
       "   'CCAGATCCTGAGATCCCTTTAGGCTCAAATAGATAATGCTTTGAA': 1,\n",
       "   'CCAGATCCTGAGATCCCTTTAGGCTCAAATAGATAATGCTTTGAAT': 1,\n",
       "   'CCAGATCCTGAGATCCCTTTAGGCTCAAATAGATAATGCTTTGAATG': 1,\n",
       "   'CCAGATCCTGAGATCCCTTTAGGCTCAAATAGATAATGCTTTGAATGA': 1,\n",
       "   'CCAGATCCTGAGATCCCTTTAGGCTCAAATAGATAATGCTTTGAATGAT': 1},\n",
       "  'cpai_1': {},\n",
       "  'npai_2': {},\n",
       "  'npai_1': {}},\n",
       " 'NC_018666': {'npai_1': {'CAGTGGCTTCTGT': 1,\n",
       "   'CAGTGGCTTCTGTT': 1,\n",
       "   'CAGTGGCTTCTGTTT': 1,\n",
       "   'CAGTGGCTTCTGTTTC': 1,\n",
       "   'CAGTGGCTTCTGTTTCT': 1,\n",
       "   'CAGTGGCTTCTGTTTCTA': 1,\n",
       "   'CAGTGGCTTCTGTTTCTAT': 1,\n",
       "   'CAGTGGCTTCTGTTTCTATC': 1,\n",
       "   'CAGTGGCTTCTGTTTCTATCA': 1,\n",
       "   'CAGTGGCTTCTGTTTCTATCAG': 1,\n",
       "   'CAGTGGCTTCTGTTTCTATCAGC': 1,\n",
       "   'CAGTGGCTTCTGTTTCTATCAGCT': 1,\n",
       "   'CAGTGGCTTCTGTTTCTATCAGCTA': 1,\n",
       "   'CAGTGGCTTCTGTTTCTATCAGCTAT': 1,\n",
       "   'CAGTGGCTTCTGTTTCTATCAGCTATC': 1,\n",
       "   'CAGTGGCTTCTGTTTCTATCAGCTATCC': 1,\n",
       "   'CAGTGGCTTCTGTTTCTATCAGCTATCCC': 1,\n",
       "   'CAGTGGCTTCTGTTTCTATCAGCTATCCCT': 1,\n",
       "   'CAGTGGCTTCTGTTTCTATCAGCTATCCCTC': 1,\n",
       "   'CAGTGGCTTCTGTTTCTATCAGCTATCCCTCC': 1,\n",
       "   'CAGTGGCTTCTGTTTCTATCAGCTATCCCTCCT': 1,\n",
       "   'CAGTGGCTTCTGTTTCTATCAGCTATCCCTCCTG': 1,\n",
       "   'CAGTGGCTTCTGTTTCTATCAGCTATCCCTCCTGTT': 1,\n",
       "   'CAGTGGCTTCTGTTTCTATCAGCTATCCCTCCTGTTCAGC': 1,\n",
       "   'CAGTGGCTTCTGTTTCTATCAGCTATCCCTCCTGTTCAGCTACTGA': 1,\n",
       "   'CAGTGGCTTCTGTTTCTATCAGCTATCCCTCCTGTTCAGCTACTGAC': 1,\n",
       "   'CAGTGGCTTCTGTTTCTATCAGCTATCCCTCCTGTTCAGCTACTGACG': 1}},\n",
       " 'NC_017631': {'cpai_12': {},\n",
       "  'cpai_7': {},\n",
       "  'cpai_4': {'CAGTATCCTGCCAGGGATATGTTCTCAGCTGTAAT': 1,\n",
       "   'CAGTATCCTGCCAGGGATATGTTCTCAGCTGTAATG': 1,\n",
       "   'CAGTATCCTGCCAGGGATATGTTCTCAGCTGTAATGT': 1,\n",
       "   'CAGTATCCTGCCAGGGATATGTTCTCAGCTGTAATGTT': 1,\n",
       "   'CAGTATCCTGCCAGGGATATGTTCTCAGCTGTAATGTTC': 1,\n",
       "   'CAGTATCCTGCCAGGGATATGTTCTCAGCTGTAATGTTCT': 1,\n",
       "   'CAGTATCCTGCCAGGGATATGTTCTCAGCTGTAATGTTCTG': 1,\n",
       "   'CAGTATCCTGCCAGGGATATGTTCTCAGCTGTAATGTTCTGA': 1,\n",
       "   'CAGTATCCTGCCAGGGATATGTTCTCAGCTGTAATGTTCTGAA': 1,\n",
       "   'CAGTATCCTGCCAGGGATATGTTCTCAGCTGTAATGTTCTGAAC': 1,\n",
       "   'CAGTATCCTGCCAGGGATATGTTCTCAGCTGTAATGTTCTGAACA': 1,\n",
       "   'CAGTATCCTGCCAGGGATATGTTCTCAGCTGTAATGTTCTGAACAA': 1,\n",
       "   'CAGTATCCTGCCAGGGATATGTTCTCAGCTGTAATGTTCTGAACAAC': 1,\n",
       "   'CAGTATCCTGCCAGGGATATGTTCTCAGCTGTAATGTTCTGAACAACA': 1,\n",
       "   'CAGTATCCTGCCAGGGATATGTTCTCAGCTGTAATGTTCTGAACAACAA': 1},\n",
       "  'cpai_3': {'CCAGATCCTGAGATCCCTTTAGGCTCAAATAGATAAT': 1,\n",
       "   'CCAGATCCTGAGATCCCTTTAGGCTCAAATAGATAATG': 1,\n",
       "   'CCAGATCCTGAGATCCCTTTAGGCTCAAATAGATAATGC': 1,\n",
       "   'CCAGATCCTGAGATCCCTTTAGGCTCAAATAGATAATGCT': 1,\n",
       "   'CCAGATCCTGAGATCCCTTTAGGCTCAAATAGATAATGCTT': 1,\n",
       "   'CCAGATCCTGAGATCCCTTTAGGCTCAAATAGATAATGCTTT': 1,\n",
       "   'CCAGATCCTGAGATCCCTTTAGGCTCAAATAGATAATGCTTTG': 1,\n",
       "   'CCAGATCCTGAGATCCCTTTAGGCTCAAATAGATAATGCTTTGA': 1,\n",
       "   'CCAGATCCTGAGATCCCTTTAGGCTCAAATAGATAATGCTTTGAA': 1,\n",
       "   'CCAGATCCTGAGATCCCTTTAGGCTCAAATAGATAATGCTTTGAAT': 1,\n",
       "   'CCAGATCCTGAGATCCCTTTAGGCTCAAATAGATAATGCTTTGAATG': 1,\n",
       "   'CCAGATCCTGAGATCCCTTTAGGCTCAAATAGATAATGCTTTGAATGA': 1,\n",
       "   'CCAGATCCTGAGATCCCTTTAGGCTCAAATAGATAATGCTTTGAATGAT': 1},\n",
       "  'cpai_5': {},\n",
       "  'cpai_13': {},\n",
       "  'cpai_8': {'TTTTTATACCCC': 2},\n",
       "  'cpai_2': {},\n",
       "  'cpai_11': {},\n",
       "  'cpai_9': {},\n",
       "  'cpai_10': {},\n",
       "  'cpai_6': {'TTTTTTTACCGGGAATACATGTAT': 1,\n",
       "   'TTTTTTTACCGGGAATACATGTATG': 1,\n",
       "   'TTTTTTTACCGGGAATACATGTATGA': 1,\n",
       "   'TTTTTTTACCGGGAATACATGTATGAA': 1,\n",
       "   'TTTTTTTACCGGGAATACATGTATGAAT': 1,\n",
       "   'TTTTTTTACCGGGAATACATGTATGAATC': 1,\n",
       "   'TTTTTTTACCGGGAATACATGTATGAATCC': 1,\n",
       "   'TTTTTTTACCGGGAATACATGTATGAATCCG': 1,\n",
       "   'TTTTTTTACCGGGAATACATGTATGAATCCGT': 1,\n",
       "   'TTTTTTTACCGGGAATACATGTATGAATCCGTC': 1,\n",
       "   'TTTTTTTACCGGGAATACATGTATGAATCCGTCT': 1,\n",
       "   'TTTTTTTACCGGGAATACATGTATGAATCCGTCTG': 1,\n",
       "   'TTTTTTTACCGGGAATACATGTATGAATCCGTCTGA': 1,\n",
       "   'TTTTTTTACCGGGAATACATGTATGAATCCGTCTGAT': 1,\n",
       "   'TTTTTTTACCGGGAATACATGTATGAATCCGTCTGATG': 1,\n",
       "   'TTTTTTTACCGGGAATACATGTATGAATCCGTCTGATGC': 1,\n",
       "   'TTTTTTTACCGGGAATACATGTATGAATCCGTCTGATGCC': 1,\n",
       "   'TTTTTTTACCGGGAATACATGTATGAATCCGTCTGATGCCA': 1,\n",
       "   'TTTTTTTACCGGGAATACATGTATGAATCCGTCTGATGCCAT': 1,\n",
       "   'TTTTTTTACCGGGAATACATGTATGAATCCGTCTGATGCCATT': 1,\n",
       "   'TTTTTTTACCGGGAATACATGTATGAATCCGTCTGATGCCATTG': 1,\n",
       "   'TTTTTTTACCGGGAATACATGTATGAATCCGTCTGATGCCATTGA': 1,\n",
       "   'TTTTTTTACCGGGAATACATGTATGAATCCGTCTGATGCCATTGAG': 1,\n",
       "   'TTTTTTTACCGGGAATACATGTATGAATCCGTCTGATGCCATTGAGG': 1,\n",
       "   'TTTTTTTACCGGGAATACATGTATGAATCCGTCTGATGCCATTGAGGC': 1,\n",
       "   'TTTTTTTACCGGGAATACATGTATGAATCCGTCTGATGCCATTGAGGCA': 1},\n",
       "  'cpai_1': {},\n",
       "  'npai_2': {},\n",
       "  'npai_1': {}}}"
      ]
     },
     "execution_count": 22,
     "metadata": {},
     "output_type": "execute_result"
    }
   ],
   "source": [
    "all_partial_patterns"
   ]
  },
  {
   "cell_type": "code",
   "execution_count": 25,
   "id": "32b1938c",
   "metadata": {},
   "outputs": [],
   "source": [
    "with open('json/recurring_patterns/all_recurring_patterns.json', 'r') as file:\n",
    "    all_recurring_patterns = json.load(file)"
   ]
  },
  {
   "cell_type": "code",
   "execution_count": 32,
   "id": "844ceed1",
   "metadata": {},
   "outputs": [
    {
     "name": "stdout",
     "output_type": "stream",
     "text": [
      "New genome\n",
      "New pattern\n",
      "New pattern\n",
      "New pattern\n",
      "New pattern\n",
      "New pattern\n",
      "New pattern\n",
      "New pattern\n",
      "New pattern\n",
      "New pattern\n",
      "New pattern\n",
      "New pattern\n",
      "New pattern\n",
      "New pattern\n",
      "New pattern\n",
      "New pattern\n",
      "New pattern\n",
      "New pattern\n",
      "New pattern\n",
      "New pattern\n",
      "New pattern\n",
      "New pattern\n",
      "New pattern\n",
      "New pattern\n",
      "New pattern\n",
      "New pattern\n",
      "New pattern\n",
      "New pattern\n",
      "New pattern\n",
      "New pattern\n",
      "New pattern\n",
      "New pattern\n",
      "New pattern\n",
      "New pattern\n",
      "New pattern\n",
      "New pattern\n",
      "New pattern\n",
      "New pattern\n",
      "New pattern\n",
      "New pattern\n",
      "New pattern\n",
      "New pattern\n",
      "New pattern\n",
      "New pattern\n",
      "New pattern\n",
      "New pattern\n",
      "New pattern\n",
      "New pattern\n",
      "New pattern\n",
      "New pattern\n",
      "New pattern\n",
      "New pattern\n",
      "New pattern\n",
      "New pattern\n",
      "New pattern\n",
      "New pattern\n",
      "New pattern\n",
      "New pattern\n",
      "New pattern\n",
      "New pattern\n",
      "New pattern\n",
      "New pattern\n",
      "New pattern\n",
      "New pattern\n",
      "New pattern\n",
      "New genome\n",
      "New genome\n",
      "New genome\n",
      "New genome\n",
      "New genome\n",
      "New genome\n",
      "New genome\n",
      "New genome\n",
      "New genome\n",
      "New genome\n",
      "New genome\n",
      "New genome\n",
      "New genome\n",
      "New genome\n",
      "New genome\n",
      "New genome\n",
      "New genome\n",
      "New genome\n",
      "New genome\n",
      "New genome\n",
      "New genome\n",
      "New genome\n",
      "New genome\n",
      "New genome\n",
      "New genome\n",
      "New genome\n",
      "New genome\n",
      "New genome\n",
      "New genome\n",
      "New genome\n",
      "New genome\n",
      "New genome\n",
      "New genome\n",
      "New genome\n",
      "New genome\n",
      "New genome\n",
      "New genome\n",
      "New genome\n",
      "New genome\n",
      "New genome\n",
      "New genome\n",
      "New genome\n",
      "New genome\n",
      "New genome\n",
      "New genome\n",
      "New genome\n",
      "New genome\n",
      "New genome\n",
      "New genome\n",
      "New genome\n",
      "New genome\n",
      "New genome\n",
      "New genome\n",
      "New genome\n",
      "New genome\n",
      "New genome\n",
      "New genome\n",
      "New genome\n",
      "New genome\n",
      "New genome\n",
      "New genome\n",
      "New genome\n",
      "New genome\n",
      "New genome\n",
      "New genome\n",
      "New genome\n",
      "New genome\n",
      "New genome\n",
      "New genome\n",
      "New genome\n",
      "New genome\n",
      "New genome\n",
      "New genome\n",
      "New pattern\n",
      "New pattern\n",
      "New pattern\n",
      "New pattern\n",
      "New pattern\n",
      "New pattern\n",
      "New pattern\n",
      "New pattern\n",
      "New pattern\n",
      "New pattern\n",
      "New pattern\n",
      "New pattern\n",
      "New pattern\n",
      "New pattern\n",
      "New pattern\n",
      "New pattern\n",
      "New pattern\n",
      "New pattern\n",
      "New pattern\n",
      "New pattern\n",
      "New pattern\n",
      "New pattern\n",
      "New genome\n",
      "New genome\n",
      "New genome\n",
      "New genome\n",
      "New genome\n",
      "New genome\n",
      "New genome\n",
      "New genome\n",
      "New genome\n",
      "New genome\n",
      "New genome\n",
      "New genome\n",
      "New genome\n",
      "New genome\n",
      "New genome\n",
      "New genome\n",
      "New genome\n",
      "New genome\n",
      "New genome\n",
      "New genome\n",
      "New genome\n",
      "New genome\n",
      "New genome\n",
      "New genome\n",
      "New genome\n",
      "New genome\n",
      "New genome\n",
      "New genome\n",
      "New genome\n",
      "New genome\n",
      "New genome\n",
      "New genome\n",
      "New genome\n",
      "New genome\n",
      "New genome\n",
      "New pattern\n",
      "New pattern\n",
      "New pattern\n",
      "New pattern\n",
      "New pattern\n",
      "New pattern\n",
      "New pattern\n",
      "New pattern\n",
      "New pattern\n",
      "New pattern\n",
      "New pattern\n",
      "New pattern\n",
      "New pattern\n",
      "New pattern\n",
      "New pattern\n",
      "New pattern\n",
      "New pattern\n",
      "New pattern\n",
      "New pattern\n",
      "New pattern\n",
      "New pattern\n",
      "New pattern\n",
      "New pattern\n",
      "New pattern\n",
      "New pattern\n",
      "New pattern\n",
      "New pattern\n",
      "New pattern\n",
      "New pattern\n",
      "New pattern\n",
      "New pattern\n",
      "New pattern\n",
      "New pattern\n",
      "New pattern\n",
      "New pattern\n",
      "New pattern\n",
      "New pattern\n",
      "New pattern\n",
      "New pattern\n",
      "New pattern\n",
      "New pattern\n",
      "New pattern\n",
      "New pattern\n",
      "New pattern\n",
      "New pattern\n",
      "New pattern\n",
      "New pattern\n",
      "New pattern\n",
      "New pattern\n",
      "New pattern\n",
      "New pattern\n",
      "New pattern\n",
      "New pattern\n",
      "New pattern\n",
      "New pattern\n",
      "New pattern\n",
      "New pattern\n",
      "New pattern\n",
      "New pattern\n",
      "New pattern\n",
      "New pattern\n",
      "New pattern\n",
      "New genome\n",
      "New genome\n",
      "New genome\n",
      "New genome\n",
      "New genome\n",
      "New pattern\n",
      "New pattern\n",
      "New pattern\n",
      "New pattern\n",
      "New pattern\n",
      "New pattern\n",
      "New pattern\n",
      "New pattern\n",
      "New pattern\n",
      "New pattern\n",
      "New pattern\n",
      "New pattern\n",
      "New pattern\n",
      "New pattern\n",
      "New pattern\n",
      "New pattern\n",
      "New pattern\n",
      "New pattern\n",
      "New pattern\n",
      "New pattern\n",
      "New pattern\n",
      "New pattern\n",
      "New pattern\n",
      "New pattern\n",
      "New pattern\n",
      "New pattern\n",
      "New pattern\n",
      "New pattern\n",
      "New pattern\n",
      "New pattern\n",
      "New pattern\n",
      "New pattern\n",
      "New pattern\n",
      "New pattern\n",
      "New pattern\n",
      "New pattern\n",
      "New pattern\n",
      "New pattern\n",
      "New pattern\n",
      "New pattern\n",
      "New pattern\n",
      "New pattern\n",
      "New pattern\n",
      "New pattern\n",
      "New pattern\n",
      "New pattern\n",
      "New pattern\n",
      "New pattern\n",
      "New pattern\n",
      "New pattern\n",
      "New pattern\n",
      "New pattern\n",
      "New pattern\n",
      "New pattern\n",
      "New pattern\n",
      "New pattern\n",
      "New pattern\n",
      "New pattern\n",
      "New pattern\n",
      "New pattern\n",
      "New pattern\n",
      "New pattern\n",
      "New pattern\n",
      "New pattern\n",
      "New genome\n",
      "New genome\n",
      "New genome\n",
      "New genome\n",
      "New genome\n",
      "New genome\n",
      "New genome\n",
      "New genome\n",
      "New genome\n",
      "New genome\n",
      "New genome\n",
      "New genome\n",
      "New genome\n",
      "New genome\n",
      "New genome\n",
      "New genome\n",
      "New genome\n",
      "New genome\n",
      "New genome\n",
      "New genome\n",
      "New genome\n",
      "New genome\n",
      "New genome\n",
      "New genome\n",
      "New pattern\n",
      "New pattern\n",
      "New pattern\n",
      "New pattern\n",
      "New pattern\n",
      "New pattern\n",
      "New pattern\n",
      "New pattern\n",
      "New pattern\n",
      "New pattern\n",
      "New pattern\n",
      "New pattern\n",
      "New pattern\n",
      "New pattern\n",
      "New pattern\n",
      "New pattern\n",
      "New pattern\n",
      "New pattern\n",
      "New pattern\n",
      "New pattern\n",
      "New pattern\n",
      "New pattern\n",
      "New pattern\n",
      "New pattern\n",
      "New pattern\n",
      "New pattern\n",
      "New pattern\n",
      "New pattern\n",
      "New genome\n",
      "New genome\n",
      "New genome\n",
      "New genome\n",
      "New genome\n",
      "New genome\n",
      "New genome\n",
      "New genome\n",
      "New genome\n",
      "New genome\n",
      "New genome\n",
      "New genome\n",
      "New genome\n",
      "New genome\n",
      "New genome\n",
      "New genome\n",
      "New genome\n",
      "New genome\n",
      "New genome\n",
      "New genome\n",
      "New genome\n",
      "New genome\n",
      "New genome\n",
      "New genome\n",
      "New genome\n",
      "New genome\n",
      "New pattern\n",
      "New pattern\n",
      "New pattern\n",
      "New pattern\n",
      "New pattern\n",
      "New pattern\n",
      "New pattern\n",
      "New pattern\n",
      "New pattern\n",
      "New pattern\n",
      "New pattern\n",
      "New pattern\n",
      "New pattern\n",
      "New pattern\n",
      "New pattern\n",
      "New pattern\n",
      "New pattern\n",
      "New pattern\n",
      "New pattern\n",
      "New pattern\n",
      "New pattern\n",
      "New pattern\n",
      "New pattern\n",
      "New pattern\n",
      "New pattern\n",
      "New pattern\n",
      "New pattern\n",
      "New pattern\n",
      "New pattern\n",
      "New pattern\n",
      "New pattern\n",
      "New pattern\n",
      "New pattern\n",
      "New pattern\n",
      "New pattern\n",
      "New pattern\n",
      "New pattern\n",
      "New pattern\n",
      "New pattern\n",
      "New pattern\n",
      "New pattern\n",
      "New pattern\n",
      "New pattern\n",
      "New pattern\n",
      "New pattern\n",
      "New pattern\n",
      "New pattern\n",
      "New pattern\n",
      "New pattern\n",
      "New pattern\n",
      "New pattern\n",
      "New pattern\n",
      "New genome\n",
      "New genome\n",
      "New pattern\n",
      "New genome\n",
      "New genome\n",
      "New genome\n",
      "New genome\n",
      "New genome\n",
      "New genome\n",
      "New genome\n",
      "New genome\n",
      "New genome\n",
      "New genome\n",
      "New genome\n",
      "New genome\n",
      "New genome\n",
      "New genome\n",
      "New genome\n",
      "New genome\n",
      "New genome\n",
      "New genome\n",
      "New genome\n",
      "New genome\n",
      "New genome\n",
      "New genome\n",
      "New pattern\n",
      "New pattern\n",
      "New pattern\n",
      "New pattern\n",
      "New pattern\n",
      "New pattern\n",
      "New pattern\n",
      "New pattern\n",
      "New pattern\n",
      "New pattern\n",
      "New pattern\n",
      "New pattern\n",
      "New pattern\n",
      "New pattern\n",
      "New pattern\n",
      "New genome\n",
      "New genome\n",
      "New genome\n",
      "New genome\n",
      "New genome\n",
      "New genome\n",
      "New genome\n",
      "New genome\n",
      "New genome\n",
      "New genome\n",
      "New genome\n",
      "New genome\n",
      "New genome\n",
      "New pattern\n",
      "New pattern\n",
      "New pattern\n",
      "New pattern\n",
      "New pattern\n",
      "New pattern\n",
      "New pattern\n",
      "New pattern\n",
      "New pattern\n",
      "New pattern\n",
      "New pattern\n",
      "New pattern\n",
      "New pattern\n",
      "New pattern\n",
      "New pattern\n",
      "New pattern\n",
      "New pattern\n",
      "New pattern\n",
      "New pattern\n",
      "New pattern\n",
      "New pattern\n",
      "New pattern\n",
      "New pattern\n",
      "New pattern\n",
      "New pattern\n",
      "New pattern\n",
      "New pattern\n",
      "New pattern\n",
      "New pattern\n",
      "New pattern\n",
      "New pattern\n",
      "New pattern\n",
      "New pattern\n",
      "New pattern\n",
      "New pattern\n",
      "New pattern\n",
      "New pattern\n",
      "New pattern\n",
      "New pattern\n",
      "New pattern\n",
      "New pattern\n",
      "New pattern\n",
      "New pattern\n",
      "New pattern\n",
      "New pattern\n",
      "New pattern\n",
      "New pattern\n",
      "Pattern occurrences change\n",
      "Pattern occurrences change\n",
      "Pattern occurrences change\n",
      "Pattern occurrences change\n",
      "Pattern occurrences change\n",
      "Pattern occurrences change\n",
      "Pattern occurrences change\n",
      "Pattern occurrences change\n",
      "Pattern occurrences change\n",
      "Pattern occurrences change\n",
      "Pattern occurrences change\n",
      "Pattern occurrences change\n",
      "Pattern occurrences change\n",
      "Pattern occurrences change\n",
      "Pattern occurrences change\n",
      "Pattern occurrences change\n",
      "Pattern occurrences change\n",
      "Pattern occurrences change\n",
      "Pattern occurrences change\n",
      "Pattern occurrences change\n",
      "Pattern occurrences change\n",
      "Pattern occurrences change\n",
      "Pattern occurrences change\n",
      "Pattern occurrences change\n",
      "Pattern occurrences change\n",
      "Pattern occurrences change\n",
      "Pattern occurrences change\n",
      "Pattern occurrences change\n",
      "Pattern occurrences change\n",
      "Pattern occurrences change\n",
      "Pattern occurrences change\n",
      "Pattern occurrences change\n",
      "Pattern occurrences change\n",
      "Pattern occurrences change\n",
      "Pattern occurrences change\n",
      "Pattern occurrences change\n",
      "Pattern occurrences change\n",
      "Pattern occurrences change\n",
      "Pattern occurrences change\n",
      "Pattern occurrences change\n",
      "Pattern occurrences change\n",
      "Pattern occurrences change\n",
      "Pattern occurrences change\n",
      "Pattern occurrences change\n",
      "Pattern occurrences change\n",
      "Pattern occurrences change\n",
      "Pattern occurrences change\n",
      "Pattern occurrences change\n",
      "Pattern occurrences change\n",
      "Pattern occurrences change\n",
      "Pattern occurrences change\n",
      "Pattern occurrences change\n",
      "Pattern occurrences change\n",
      "Pattern occurrences change\n",
      "Pattern occurrences change\n",
      "Pattern occurrences change\n",
      "Pattern occurrences change\n",
      "Pattern occurrences change\n",
      "Pattern occurrences change\n",
      "Pattern occurrences change\n",
      "Pattern occurrences change\n",
      "Pattern occurrences change\n",
      "Pattern occurrences change\n",
      "Pattern occurrences change\n",
      "Pattern occurrences change\n",
      "Pattern occurrences change\n",
      "Pattern occurrences change\n",
      "Pattern occurrences change\n",
      "Pattern occurrences change\n",
      "Pattern occurrences change\n",
      "Pattern occurrences change\n",
      "Pattern occurrences change\n",
      "Pattern occurrences change\n",
      "Pattern occurrences change\n",
      "Pattern occurrences change\n",
      "Pattern occurrences change\n",
      "Pattern occurrences change\n",
      "Pattern occurrences change\n",
      "Pattern occurrences change\n",
      "Pattern occurrences change\n",
      "Pattern occurrences change\n",
      "Pattern occurrences change\n",
      "Pattern occurrences change\n",
      "Pattern occurrences change\n",
      "Pattern occurrences change\n",
      "Pattern occurrences change\n",
      "Pattern occurrences change\n",
      "Pattern occurrences change\n",
      "Pattern occurrences change\n",
      "Pattern occurrences change\n",
      "Pattern occurrences change\n",
      "Pattern occurrences change\n",
      "New pattern\n",
      "New pattern\n",
      "New pattern\n",
      "New pattern\n",
      "New pattern\n",
      "New pattern\n",
      "New pattern\n",
      "New pattern\n",
      "New pattern\n",
      "New pattern\n",
      "New pattern\n",
      "New pattern\n",
      "New pattern\n",
      "New pattern\n",
      "New pattern\n",
      "New pattern\n",
      "New pattern\n",
      "New pattern\n",
      "New genome\n",
      "New genome\n",
      "New genome\n",
      "New genome\n",
      "New genome\n",
      "Pattern occurrences change\n",
      "Pattern occurrences change\n",
      "New genome\n",
      "Pattern occurrences change\n",
      "New genome\n",
      "Pattern occurrences change\n",
      "Pattern occurrences change\n",
      "Pattern occurrences change\n",
      "Pattern occurrences change\n",
      "New genome\n",
      "New genome\n",
      "New genome\n",
      "New genome\n",
      "New genome\n",
      "New genome\n",
      "New genome\n",
      "New genome\n",
      "New genome\n",
      "New genome\n",
      "Pattern occurrences change\n",
      "New genome\n",
      "New genome\n",
      "Pattern occurrences change\n",
      "Pattern occurrences change\n",
      "Pattern occurrences change\n",
      "New genome\n",
      "New genome\n",
      "Pattern occurrences change\n",
      "Pattern occurrences change\n",
      "Pattern occurrences change\n",
      "New genome\n",
      "Pattern occurrences change\n",
      "New genome\n",
      "Pattern occurrences change\n",
      "Pattern occurrences change\n",
      "New genome\n",
      "New genome\n",
      "New genome\n",
      "New genome\n",
      "New genome\n",
      "New genome\n",
      "New genome\n",
      "New genome\n",
      "New genome\n",
      "New genome\n",
      "New genome\n",
      "New genome\n",
      "New genome\n",
      "New genome\n",
      "New genome\n",
      "New genome\n",
      "New genome\n",
      "New genome\n",
      "Pattern occurrences change\n",
      "New genome\n",
      "New genome\n",
      "New genome\n",
      "New genome\n",
      "Pattern occurrences change\n",
      "Pattern occurrences change\n",
      "New genome\n",
      "New genome\n",
      "Pattern occurrences change\n",
      "New genome\n",
      "New genome\n",
      "New genome\n",
      "New genome\n",
      "New genome\n",
      "New genome\n",
      "New genome\n",
      "New genome\n",
      "New genome\n",
      "New genome\n",
      "New genome\n",
      "New genome\n",
      "New genome\n",
      "New genome\n",
      "New genome\n",
      "New genome\n",
      "New genome\n",
      "New genome\n",
      "New genome\n",
      "New genome\n",
      "New pattern\n",
      "New pattern\n",
      "New pattern\n",
      "New pattern\n",
      "New pattern\n",
      "New pattern\n",
      "New pattern\n",
      "New pattern\n",
      "New pattern\n",
      "New pattern\n",
      "New pattern\n",
      "New pattern\n",
      "New pattern\n",
      "New pattern\n",
      "New pattern\n",
      "New pattern\n",
      "New genome\n",
      "New genome\n",
      "New genome\n",
      "New genome\n",
      "New genome\n",
      "New genome\n",
      "New genome\n",
      "New genome\n",
      "New genome\n",
      "New genome\n",
      "New genome\n",
      "New genome\n",
      "New genome\n",
      "New genome\n",
      "New genome\n",
      "New genome\n",
      "New genome\n",
      "New genome\n",
      "New genome\n",
      "New genome\n",
      "New genome\n",
      "New genome\n",
      "New genome\n",
      "New genome\n",
      "New genome\n",
      "New genome\n",
      "New genome\n",
      "New genome\n",
      "New genome\n",
      "New genome\n",
      "New genome\n",
      "New genome\n",
      "New genome\n",
      "New genome\n",
      "New genome\n",
      "New genome\n",
      "New genome\n",
      "New genome\n",
      "New genome\n",
      "New genome\n",
      "New genome\n",
      "New genome\n",
      "New genome\n",
      "New genome\n",
      "New genome\n",
      "New genome\n",
      "New genome\n",
      "New genome\n",
      "New genome\n",
      "New genome\n",
      "New genome\n",
      "New genome\n",
      "New genome\n",
      "New genome\n",
      "New genome\n",
      "New genome\n",
      "New genome\n",
      "New genome\n",
      "New genome\n",
      "New genome\n",
      "New genome\n",
      "New genome\n",
      "New genome\n",
      "New genome\n",
      "New genome\n",
      "New pattern\n",
      "New pattern\n",
      "New pattern\n",
      "New pattern\n",
      "New genome\n",
      "New genome\n",
      "New genome\n",
      "New genome\n",
      "New genome\n",
      "New genome\n",
      "New genome\n",
      "New genome\n",
      "New genome\n",
      "New genome\n",
      "New genome\n",
      "New genome\n",
      "New genome\n",
      "New pattern\n",
      "New pattern\n",
      "New pattern\n",
      "New pattern\n",
      "New pattern\n",
      "New pattern\n",
      "New pattern\n",
      "New pattern\n",
      "New pattern\n",
      "New pattern\n",
      "New pattern\n",
      "New pattern\n",
      "New pattern\n",
      "New pattern\n",
      "New pattern\n",
      "New pattern\n",
      "New pattern\n",
      "New pattern\n",
      "New pattern\n",
      "New pattern\n",
      "New pattern\n",
      "New pattern\n",
      "New pattern\n",
      "New pattern\n",
      "New pattern\n",
      "New pattern\n",
      "New pattern\n",
      "New pattern\n",
      "New pattern\n",
      "New pattern\n",
      "New pattern\n",
      "New pattern\n",
      "New pattern\n",
      "New pattern\n",
      "New pattern\n",
      "New pattern\n",
      "New pattern\n",
      "New pattern\n",
      "New pattern\n",
      "New pattern\n",
      "New pattern\n",
      "New pattern\n",
      "New pattern\n",
      "New pattern\n",
      "New pattern\n",
      "New pattern\n",
      "New pattern\n",
      "New pattern\n",
      "New pattern\n",
      "New pattern\n",
      "New pattern\n",
      "New pattern\n",
      "New pattern\n",
      "New pattern\n",
      "New pattern\n",
      "New pattern\n",
      "New pattern\n",
      "New pattern\n",
      "New genome\n",
      "New pattern\n",
      "New pattern\n",
      "New pattern\n",
      "New pattern\n",
      "New pattern\n",
      "New pattern\n",
      "New pattern\n",
      "New pattern\n",
      "New pattern\n",
      "New pattern\n",
      "New pattern\n",
      "New pattern\n",
      "New pattern\n",
      "New pattern\n",
      "New pattern\n",
      "New pattern\n",
      "New pattern\n",
      "New pattern\n",
      "New pattern\n",
      "New pattern\n",
      "New pattern\n",
      "New pattern\n",
      "New pattern\n",
      "New pattern\n",
      "New pattern\n",
      "New pattern\n",
      "New pattern\n",
      "New pattern\n",
      "New pattern\n",
      "New pattern\n",
      "New pattern\n",
      "New pattern\n",
      "New pattern\n",
      "New pattern\n",
      "New pattern\n",
      "New pattern\n",
      "New pattern\n",
      "New pattern\n",
      "New pattern\n",
      "New pattern\n",
      "New pattern\n",
      "New pattern\n",
      "New pattern\n",
      "New pattern\n",
      "New pattern\n",
      "New pattern\n",
      "New pattern\n",
      "New pattern\n",
      "New pattern\n",
      "New pattern\n",
      "New pattern\n",
      "New pattern\n",
      "New pattern\n",
      "New pattern\n",
      "New pattern\n",
      "New pattern\n",
      "New pattern\n",
      "New pattern\n",
      "New pattern\n",
      "New pattern\n",
      "New pattern\n",
      "New pattern\n",
      "New pattern\n",
      "New pattern\n",
      "New pattern\n",
      "New pattern\n",
      "New pattern\n",
      "New pattern\n",
      "New pattern\n",
      "New pattern\n",
      "New pattern\n",
      "New pattern\n",
      "New pattern\n",
      "Pattern occurrences change\n",
      "Pattern occurrences change\n",
      "Pattern occurrences change\n",
      "Pattern occurrences change\n",
      "Pattern occurrences change\n",
      "Pattern occurrences change\n",
      "Pattern occurrences change\n",
      "Pattern occurrences change\n",
      "Pattern occurrences change\n",
      "Pattern occurrences change\n",
      "Pattern occurrences change\n",
      "Pattern occurrences change\n",
      "Pattern occurrences change\n",
      "Pattern occurrences change\n",
      "Pattern occurrences change\n",
      "Pattern occurrences change\n",
      "Pattern occurrences change\n",
      "Pattern occurrences change\n",
      "Pattern occurrences change\n",
      "Pattern occurrences change\n",
      "Pattern occurrences change\n",
      "Pattern occurrences change\n",
      "Pattern occurrences change\n",
      "Pattern occurrences change\n",
      "Pattern occurrences change\n",
      "Pattern occurrences change\n",
      "Pattern occurrences change\n",
      "Pattern occurrences change\n",
      "Pattern occurrences change\n",
      "Pattern occurrences change\n",
      "Pattern occurrences change\n",
      "Pattern occurrences change\n",
      "Pattern occurrences change\n",
      "Pattern occurrences change\n",
      "Pattern occurrences change\n",
      "Pattern occurrences change\n",
      "Pattern occurrences change\n",
      "Pattern occurrences change\n",
      "Pattern occurrences change\n",
      "Pattern occurrences change\n",
      "Pattern occurrences change\n",
      "Pattern occurrences change\n",
      "Pattern occurrences change\n",
      "Pattern occurrences change\n",
      "Pattern occurrences change\n",
      "Pattern occurrences change\n",
      "Pattern occurrences change\n",
      "Pattern occurrences change\n",
      "Pattern occurrences change\n",
      "Pattern occurrences change\n",
      "Pattern occurrences change\n",
      "Pattern occurrences change\n",
      "Pattern occurrences change\n",
      "Pattern occurrences change\n",
      "Pattern occurrences change\n",
      "Pattern occurrences change\n",
      "Pattern occurrences change\n",
      "Pattern occurrences change\n",
      "Pattern occurrences change\n",
      "Pattern occurrences change\n",
      "Pattern occurrences change\n",
      "Pattern occurrences change\n",
      "Pattern occurrences change\n",
      "Pattern occurrences change\n",
      "Pattern occurrences change\n",
      "Pattern occurrences change\n",
      "Pattern occurrences change\n",
      "Pattern occurrences change\n",
      "Pattern occurrences change\n",
      "Pattern occurrences change\n",
      "Pattern occurrences change\n",
      "Pattern occurrences change\n",
      "Pattern occurrences change\n",
      "Pattern occurrences change\n",
      "Pattern occurrences change\n",
      "Pattern occurrences change\n",
      "Pattern occurrences change\n",
      "Pattern occurrences change\n",
      "Pattern occurrences change\n",
      "Pattern occurrences change\n",
      "Pattern occurrences change\n",
      "Pattern occurrences change\n",
      "Pattern occurrences change\n",
      "Pattern occurrences change\n",
      "Pattern occurrences change\n",
      "Pattern occurrences change\n",
      "Pattern occurrences change\n",
      "Pattern occurrences change\n",
      "Pattern occurrences change\n",
      "Pattern occurrences change\n",
      "Pattern occurrences change\n",
      "Pattern occurrences change\n",
      "Pattern occurrences change\n",
      "Pattern occurrences change\n",
      "Pattern occurrences change\n",
      "Pattern occurrences change\n",
      "Pattern occurrences change\n",
      "Pattern occurrences change\n",
      "Pattern occurrences change\n",
      "Pattern occurrences change\n",
      "Pattern occurrences change\n",
      "Pattern occurrences change\n",
      "Pattern occurrences change\n",
      "Pattern occurrences change\n",
      "Pattern occurrences change\n",
      "Pattern occurrences change\n",
      "Pattern occurrences change\n",
      "Pattern occurrences change\n",
      "Pattern occurrences change\n",
      "Pattern occurrences change\n",
      "Pattern occurrences change\n",
      "Pattern occurrences change\n",
      "Pattern occurrences change\n",
      "Pattern occurrences change\n",
      "Pattern occurrences change\n",
      "Pattern occurrences change\n",
      "Pattern occurrences change\n",
      "New pattern\n",
      "New pattern\n",
      "New pattern\n",
      "New pattern\n",
      "New pattern\n",
      "New pattern\n",
      "New pattern\n",
      "New pattern\n",
      "New pattern\n",
      "New pattern\n",
      "New pattern\n",
      "New pattern\n",
      "New pattern\n",
      "New pattern\n",
      "New pattern\n",
      "New pattern\n",
      "New pattern\n",
      "New pattern\n",
      "New pattern\n",
      "New pattern\n",
      "New pattern\n",
      "New pattern\n",
      "New pattern\n",
      "New pattern\n",
      "New pattern\n",
      "New pattern\n",
      "New pattern\n",
      "New pattern\n",
      "New pattern\n",
      "New pattern\n",
      "New pattern\n",
      "New pattern\n",
      "New pattern\n",
      "New pattern\n",
      "New pattern\n",
      "New pattern\n",
      "New pattern\n",
      "New pattern\n",
      "New pattern\n",
      "New pattern\n",
      "New pattern\n",
      "New pattern\n",
      "New pattern\n",
      "New pattern\n",
      "New pattern\n",
      "New pattern\n",
      "New pattern\n",
      "New pattern\n",
      "New pattern\n",
      "New genome\n",
      "New genome\n",
      "New genome\n",
      "New genome\n",
      "New genome\n",
      "New genome\n",
      "New genome\n",
      "New genome\n",
      "New genome\n",
      "New genome\n",
      "New genome\n",
      "New genome\n",
      "New genome\n",
      "New genome\n",
      "New genome\n",
      "New genome\n",
      "New genome\n",
      "New genome\n",
      "New genome\n",
      "New genome\n",
      "New genome\n",
      "New genome\n",
      "New genome\n",
      "New genome\n",
      "New genome\n",
      "New genome\n",
      "New genome\n",
      "New genome\n",
      "New genome\n",
      "New genome\n",
      "New genome\n",
      "New genome\n",
      "New genome\n",
      "New genome\n",
      "New genome\n",
      "New genome\n",
      "New genome\n",
      "New genome\n",
      "New genome\n",
      "New genome\n",
      "New genome\n",
      "New genome\n",
      "New genome\n",
      "New genome\n",
      "New genome\n",
      "New genome\n",
      "New genome\n",
      "New genome\n",
      "New genome\n",
      "New genome\n",
      "New genome\n",
      "New genome\n",
      "New genome\n",
      "New genome\n",
      "New genome\n",
      "New genome\n",
      "New genome\n",
      "New genome\n",
      "New genome\n",
      "New genome\n",
      "New genome\n",
      "New genome\n",
      "New genome\n",
      "New genome\n",
      "New genome\n",
      "New genome\n",
      "New genome\n",
      "New genome\n",
      "New genome\n",
      "New genome\n",
      "New genome\n",
      "New genome\n",
      "New genome\n",
      "New genome\n",
      "New genome\n",
      "New pattern\n",
      "New pattern\n",
      "New pattern\n",
      "New pattern\n",
      "New pattern\n",
      "New pattern\n",
      "New pattern\n",
      "New pattern\n",
      "New pattern\n",
      "New pattern\n",
      "New pattern\n",
      "New pattern\n",
      "New pattern\n",
      "New pattern\n",
      "New pattern\n",
      "New pattern\n",
      "New pattern\n",
      "New pattern\n",
      "New pattern\n",
      "New genome\n",
      "New genome\n",
      "New genome\n",
      "New genome\n",
      "New genome\n",
      "New genome\n",
      "New genome\n",
      "New genome\n",
      "New genome\n",
      "New genome\n",
      "New genome\n",
      "New genome\n",
      "New genome\n",
      "New genome\n",
      "New genome\n",
      "New genome\n",
      "New genome\n",
      "New genome\n",
      "New genome\n",
      "New genome\n",
      "New genome\n",
      "New genome\n",
      "New genome\n",
      "New genome\n",
      "New genome\n",
      "New genome\n",
      "New genome\n",
      "New genome\n",
      "New genome\n",
      "New genome\n",
      "New genome\n",
      "New genome\n",
      "New genome\n",
      "New genome\n",
      "New genome\n",
      "New genome\n",
      "New genome\n",
      "New genome\n",
      "New genome\n",
      "New genome\n",
      "New genome\n",
      "New genome\n",
      "New genome\n",
      "New genome\n",
      "New genome\n",
      "New genome\n",
      "New genome\n",
      "New genome\n",
      "New genome\n",
      "New genome\n",
      "New genome\n",
      "New genome\n",
      "New genome\n",
      "New genome\n",
      "New genome\n",
      "New genome\n",
      "New genome\n",
      "New genome\n",
      "New genome\n",
      "New genome\n",
      "New genome\n",
      "New genome\n",
      "New genome\n",
      "New genome\n",
      "New genome\n",
      "New genome\n",
      "New genome\n",
      "New genome\n",
      "New genome\n",
      "New genome\n",
      "New genome\n",
      "New genome\n",
      "New genome\n",
      "New genome\n",
      "New genome\n",
      "New genome\n",
      "New genome\n",
      "New genome\n",
      "New genome\n",
      "New genome\n",
      "New genome\n",
      "New genome\n",
      "New genome\n",
      "New genome\n",
      "New genome\n",
      "New genome\n",
      "New pattern\n",
      "New pattern\n",
      "New pattern\n",
      "New pattern\n",
      "New pattern\n",
      "New pattern\n",
      "New pattern\n",
      "New pattern\n",
      "New pattern\n",
      "New pattern\n",
      "New pattern\n",
      "New pattern\n",
      "New pattern\n",
      "New pattern\n",
      "New pattern\n",
      "New pattern\n",
      "New pattern\n",
      "New pattern\n",
      "New pattern\n",
      "New genome\n",
      "New genome\n",
      "New genome\n",
      "New genome\n",
      "New genome\n",
      "New genome\n",
      "New genome\n",
      "New genome\n",
      "New genome\n",
      "New genome\n",
      "New genome\n",
      "New genome\n",
      "New genome\n",
      "New genome\n",
      "New genome\n",
      "New genome\n",
      "New genome\n",
      "New genome\n",
      "New genome\n",
      "New genome\n",
      "New genome\n",
      "New genome\n",
      "New genome\n",
      "New genome\n",
      "New genome\n",
      "New genome\n",
      "New genome\n",
      "New genome\n",
      "New genome\n",
      "New pattern\n",
      "New pattern\n",
      "New pattern\n",
      "New pattern\n",
      "New pattern\n",
      "New pattern\n",
      "New pattern\n",
      "New pattern\n",
      "New pattern\n",
      "New pattern\n",
      "New pattern\n",
      "New pattern\n",
      "New pattern\n",
      "New pattern\n",
      "New pattern\n",
      "New pattern\n",
      "New pattern\n",
      "New pattern\n",
      "New pattern\n",
      "New pattern\n",
      "New pattern\n",
      "New pattern\n",
      "New pattern\n",
      "New pattern\n",
      "New pattern\n",
      "New pattern\n"
     ]
    }
   ],
   "source": [
    "for genome in all_partial_patterns:\n",
    "    for island in all_partial_patterns[genome]:\n",
    "        for pattern in all_partial_patterns[genome][island]:\n",
    "            occurrences = all_partial_patterns[genome][island][pattern]\n",
    "            \n",
    "            if pattern in all_recurring_patterns:\n",
    "                \n",
    "                if genome in all_recurring_patterns[pattern]:\n",
    "                    if island in all_recurring_patterns[pattern][genome]: \n",
    "                        if occurrences > all_recurring_patterns[pattern][genome][island]:\n",
    "                            all_recurring_patterns[pattern][genome][island] = occurrences\n",
    "                            print('Pattern occurrences change')\n",
    "                    else:\n",
    "                        all_recurring_patterns[pattern][genome][island] = occurrences\n",
    "                        print('New island')\n",
    "                else:\n",
    "                    all_recurring_patterns[pattern][genome] = {}\n",
    "                    all_recurring_patterns[pattern][genome][island] = occurrences\n",
    "                    print('New genome')\n",
    "            else:\n",
    "                all_recurring_patterns[pattern] = {}\n",
    "                all_recurring_patterns[pattern][genome] = {}\n",
    "                all_recurring_patterns[pattern][genome][island] = occurrences\n",
    "                print('New pattern')"
   ]
  },
  {
   "cell_type": "code",
   "execution_count": 33,
   "id": "1e8c952a",
   "metadata": {},
   "outputs": [
    {
     "data": {
      "text/plain": [
       "259481"
      ]
     },
     "execution_count": 33,
     "metadata": {},
     "output_type": "execute_result"
    }
   ],
   "source": [
    "len(all_recurring_patterns)"
   ]
  },
  {
   "cell_type": "code",
   "execution_count": 34,
   "id": "ee738794",
   "metadata": {},
   "outputs": [],
   "source": [
    "with open('json/recurring_patterns/all_recurring_patterns_plus_partial.json', 'w') as file:\n",
    "    json.dump(all_recurring_patterns, file)"
   ]
  },
  {
   "cell_type": "code",
   "execution_count": 37,
   "id": "aa16655f",
   "metadata": {},
   "outputs": [
    {
     "data": {
      "text/plain": [
       "86"
      ]
     },
     "execution_count": 37,
     "metadata": {},
     "output_type": "execute_result"
    }
   ],
   "source": [
    "len(all_partial_patterns)"
   ]
  },
  {
   "cell_type": "code",
   "execution_count": 67,
   "id": "f40e9451",
   "metadata": {},
   "outputs": [],
   "source": [
    "genomes_without_islands = {}"
   ]
  },
  {
   "cell_type": "code",
   "execution_count": 68,
   "id": "a8a5cc0c",
   "metadata": {},
   "outputs": [],
   "source": [
    "for genome in e_coli_data:\n",
    "    no_island_sequence = e_coli_data[genome]['genome_sequence'].seq\n",
    "    \n",
    "    for _, indices in e_coli_data[genome]['pai_sequences']:\n",
    "        start = indices[0]\n",
    "        end = indices[1]\n",
    "        \n",
    "        no_island_sequence = no_island_sequence[:start] + '0' * (end - start) + no_island_sequence[end:]\n",
    "        \n",
    "    for _, indices in e_coli_data[genome]['cpai_sequences']:\n",
    "        start = indices[0]\n",
    "        end = indices[1]\n",
    "        \n",
    "        no_island_sequence = no_island_sequence[:start] + '0' * (end - start) + no_island_sequence[end:]\n",
    "        \n",
    "    for _, indices in e_coli_data[genome]['npai_sequences']:\n",
    "        start = indices[0]\n",
    "        end = indices[1]\n",
    "        \n",
    "        no_island_sequence = no_island_sequence[:start] + '0' * (end - start) + no_island_sequence[end:]\n",
    "        \n",
    "    genomes_without_islands[genome] = no_island_sequence"
   ]
  },
  {
   "cell_type": "code",
   "execution_count": 69,
   "id": "275902e1",
   "metadata": {},
   "outputs": [],
   "source": [
    "def is_outside_any_island(pattern):\n",
    "    for genome in genomes_without_islands:\n",
    "        sequence = genomes_without_islands[genome]\n",
    "        \n",
    "        if pattern in sequence:\n",
    "            return True\n",
    "        \n",
    "    return False"
   ]
  },
  {
   "cell_type": "code",
   "execution_count": 81,
   "id": "6256a32e",
   "metadata": {},
   "outputs": [
    {
     "name": "stdout",
     "output_type": "stream",
     "text": [
      "Pattern 191023/191023            \r"
     ]
    }
   ],
   "source": [
    "import collections\n",
    "\n",
    "patterns_to_delete = collections.deque()\n",
    "\n",
    "for i, pattern in enumerate(all_recurring_patterns):\n",
    "    print(f'Pattern {i+1}/{len(all_recurring_patterns)}            ', end='\\r')\n",
    "    if is_outside_any_island(pattern):\n",
    "        patterns_to_delete.append(pattern)"
   ]
  },
  {
   "cell_type": "code",
   "execution_count": 82,
   "id": "8f0af738",
   "metadata": {},
   "outputs": [
    {
     "data": {
      "text/plain": [
       "101690"
      ]
     },
     "execution_count": 82,
     "metadata": {},
     "output_type": "execute_result"
    }
   ],
   "source": [
    "len(patterns_to_delete)"
   ]
  },
  {
   "cell_type": "code",
   "execution_count": 83,
   "id": "d1103b12",
   "metadata": {},
   "outputs": [],
   "source": [
    "for pattern in patterns_to_delete:\n",
    "    del all_recurring_patterns[pattern]"
   ]
  },
  {
   "cell_type": "code",
   "execution_count": 84,
   "id": "e980ef83",
   "metadata": {},
   "outputs": [
    {
     "data": {
      "text/plain": [
       "89333"
      ]
     },
     "execution_count": 84,
     "metadata": {},
     "output_type": "execute_result"
    }
   ],
   "source": [
    "len(all_recurring_patterns)"
   ]
  },
  {
   "cell_type": "code",
   "execution_count": 85,
   "id": "f404530f",
   "metadata": {},
   "outputs": [],
   "source": [
    "with open('json/filtered_recurring_patterns.json', 'w') as file:\n",
    "    json.dump(all_recurring_patterns, file)"
   ]
  },
  {
   "cell_type": "code",
   "execution_count": 87,
   "id": "56ce05ad",
   "metadata": {},
   "outputs": [],
   "source": [
    "max_occurrences = 0\n",
    "max_occurrences_pattern = None\n",
    "\n",
    "for pattern in all_recurring_patterns:\n",
    "    occurrences = len(all_recurring_patterns[pattern])\n",
    "    if occurrences > max_occurrences:\n",
    "        max_occurrences = occurrences\n",
    "        max_occurrences_pattern = pattern"
   ]
  },
  {
   "cell_type": "code",
   "execution_count": 88,
   "id": "e9f07d98",
   "metadata": {},
   "outputs": [
    {
     "data": {
      "text/plain": [
       "{'NC_000913': {'cpai_3': 2},\n",
       " 'NC_020163': {'cpai_2': 2},\n",
       " 'NC_017635': {'cpai_2': 2},\n",
       " 'NC_017906': {'cpai_4': 2},\n",
       " 'NC_013353': {'cpai_4': 2},\n",
       " 'NC_002695': {'pai_1': 2, 'cpai_4': 2},\n",
       " 'NC_022364': {'npai_2': 2},\n",
       " 'NC_013008': {'cpai_4': 2},\n",
       " 'NC_017664': {'cpai_2': 2},\n",
       " 'NC_017641': {'cpai_4': 2},\n",
       " 'NC_007779': {'cpai_3': 2},\n",
       " 'NC_002655': {'cpai_5': 2},\n",
       " 'NC_009801': {'cpai_2': 2},\n",
       " 'NC_009800': {'cpai_3': 2},\n",
       " 'NC_010473': {'cpai_3': 2},\n",
       " 'NC_017638': {'cpai_2': 2},\n",
       " 'NC_013364': {'cpai_6': 2},\n",
       " 'NC_017633': {'cpai_3': 2},\n",
       " 'NC_013361': {'cpai_4': 2},\n",
       " 'NC_011415': {'cpai_2': 2},\n",
       " 'NC_011353': {'cpai_4': 2},\n",
       " 'NC_012759': {'cpai_5': 2},\n",
       " 'NC_011748': {'cpai_3': 2},\n",
       " 'NC_011741': {'cpai_2': 2}}"
      ]
     },
     "execution_count": 88,
     "metadata": {},
     "output_type": "execute_result"
    }
   ],
   "source": [
    "all_recurring_patterns[max_occurrences_pattern]"
   ]
  },
  {
   "cell_type": "code",
   "execution_count": 35,
   "id": "48ef9055",
   "metadata": {},
   "outputs": [],
   "source": [
    "import pandas as pd"
   ]
  },
  {
   "cell_type": "code",
   "execution_count": 36,
   "id": "02e4c8df",
   "metadata": {},
   "outputs": [],
   "source": [
    "genomes = [genome for genome in e_coli_data]\n",
    "recurring_patterns_df = pd.DataFrame(columns=(['pattern'] + genomes))"
   ]
  },
  {
   "cell_type": "code",
   "execution_count": 37,
   "id": "65816b11",
   "metadata": {},
   "outputs": [],
   "source": [
    "for pattern in all_recurring_patterns:\n",
    "    idx = len(recurring_patterns_df)\n",
    "    val = deepcopy(all_recurring_patterns[pattern])\n",
    "    \n",
    "    for genome in val:\n",
    "        islands = ''\n",
    "        for island in val[genome]:\n",
    "            if islands == '':\n",
    "                islands += island\n",
    "            else:\n",
    "                islands += ', '\n",
    "                islands += island\n",
    "                \n",
    "        val[genome] = islands\n",
    "    \n",
    "    val['pattern'] = pattern\n",
    "    \n",
    "    recurring_patterns_df.loc[idx] = val"
   ]
  },
  {
   "cell_type": "code",
   "execution_count": 40,
   "id": "e7f16526",
   "metadata": {},
   "outputs": [],
   "source": [
    "recurring_patterns_df = recurring_patterns_df.sort_values('pattern', key=lambda x: x.str.len())\n",
    "recurring_patterns_df.to_csv('csv/patterns.csv')"
   ]
  },
  {
   "cell_type": "code",
   "execution_count": 18,
   "id": "d626acc3",
   "metadata": {},
   "outputs": [
    {
     "data": {
      "image/png": "[encoded data removed]",
      "text/plain": [
       "<Figure size 1200x600 with 1 Axes>"
      ]
     },
     "metadata": {},
     "output_type": "display_data"
    }
   ],
   "source": [
    "import json\n",
    "import matplotlib.pyplot as plt\n",
    "\n",
    "with open('json/recurring_patterns/filtered_recurring_patterns.json', 'r') as file:\n",
    "    all_recurring_patterns = json.load(file)\n",
    "\n",
    "pattern_freq = [(pattern, len(all_recurring_patterns[pattern])) for pattern in all_recurring_patterns]\n",
    "\n",
    "sorted_patterns = sorted(pattern_freq, key=lambda x: x[1], reverse=True)\n",
    "\n",
    "top_10_patterns = []\n",
    "\n",
    "for pattern, freq in sorted_patterns:\n",
    "    is_subpattern_or_superpattern = False\n",
    "    for top_pattern, _ in top_10_patterns:\n",
    "        if pattern in top_pattern or top_pattern[1:-1] in pattern:\n",
    "            is_subpattern_or_superpattern = True\n",
    "            break\n",
    "    \n",
    "    if not is_subpattern_or_superpattern:\n",
    "        top_10_patterns.append((pattern, freq))\n",
    "    \n",
    "    if len(top_10_patterns) == 10:\n",
    "        break\n",
    "\n",
    "patterns = [pattern for pattern, _ in top_10_patterns]\n",
    "frequencies = [freq for _, freq in top_10_patterns]\n",
    "\n",
    "plt.figure(figsize=(12, 6))\n",
    "plt.bar(patterns, frequencies)\n",
    "plt.xlabel('Patterns')\n",
    "plt.ylabel('Frequency')\n",
    "plt.title('Top 10 Most Frequent Patterns')\n",
    "plt.xticks(rotation=45, ha='right')\n",
    "plt.tight_layout()\n",
    "plt.show()"
   ]
  },
  {
   "cell_type": "code",
   "execution_count": 4,
   "id": "9107064f",
   "metadata": {},
   "outputs": [
    {
     "data": {
      "image/png": "[encoded data removed]",
      "text/plain": [
       "<Figure size 640x480 with 1 Axes>"
      ]
     },
     "metadata": {},
     "output_type": "display_data"
    },
    {
     "data": {
      "image/png": "[encoded data removed]",
      "text/plain": [
       "<Figure size 640x480 with 1 Axes>"
      ]
     },
     "metadata": {},
     "output_type": "display_data"
    }
   ],
   "source": [
    "import json\n",
    "import matplotlib.pyplot as plt\n",
    "\n",
    "with open('json/recurring_patterns/filtered_recurring_patterns.json', 'r') as file:\n",
    "    all_recurring_patterns = json.load(file)\n",
    "\n",
    "pattern_freq = [(pattern, sum(sum(island_counts.values()) for island_counts in genome_counts.values())) for pattern, genome_counts in all_recurring_patterns.items()]\n",
    "\n",
    "sorted_patterns = sorted(pattern_freq, key=lambda x: x[1], reverse=True)\n",
    "\n",
    "top_2_patterns = []\n",
    "\n",
    "for pattern, freq in sorted_patterns:\n",
    "    is_subpattern_or_superpattern = False\n",
    "    for top_pattern, _ in top_2_patterns:\n",
    "        if pattern in top_pattern or top_pattern[1:-1] in pattern:\n",
    "            is_subpattern_or_superpattern = True\n",
    "            break\n",
    "    \n",
    "    if not is_subpattern_or_superpattern:\n",
    "        top_2_patterns.append((pattern, freq))\n",
    "    \n",
    "    if len(top_2_patterns) == 2:\n",
    "        break\n",
    "\n",
    "def autopct_format(pct):\n",
    "    return f'{pct:.1f}%' if pct > 0 else ''\n",
    "\n",
    "for i, (pattern, _) in enumerate(top_2_patterns, start=1):\n",
    "    cpai_count = sum(occurrences for genome_counts in all_recurring_patterns[pattern].values() for island, occurrences in genome_counts.items() if 'cpai' in island)\n",
    "    npai_count = sum(occurrences for genome_counts in all_recurring_patterns[pattern].values() for island, occurrences in genome_counts.items() if 'npai' in island)\n",
    "    pai_count = sum(occurrences for genome_counts in all_recurring_patterns[pattern].values() for island, occurrences in genome_counts.items() if 'pai' in island and 'cpai' not in island and 'npai' not in island)\n",
    "\n",
    "    labels = ['cpai', 'npai', 'pai']\n",
    "    sizes = [cpai_count, npai_count, pai_count]\n",
    "\n",
    "    labels = [label for label, size in zip(labels, sizes) if size > 0]\n",
    "    sizes = [size for size in sizes if size > 0]\n",
    "\n",
    "    plt.pie(sizes, labels=labels, autopct=autopct_format)\n",
    "    plt.xlabel(pattern)\n",
    "    plt.axis('equal')\n",
    "    plt.tight_layout()\n",
    "    plt.show()"
   ]
  },
  {
   "cell_type": "code",
   "execution_count": 6,
   "id": "11ea1dee",
   "metadata": {},
   "outputs": [
    {
     "data": {
      "image/png": "[encoded data removed]",
      "text/plain": [
       "<Figure size 1500x500 with 3 Axes>"
      ]
     },
     "metadata": {},
     "output_type": "display_data"
    }
   ],
   "source": [
    "import json\n",
    "import matplotlib.pyplot as plt\n",
    "\n",
    "with open('json/recurring_patterns/filtered_recurring_patterns.json', 'r') as file:\n",
    "    all_recurring_patterns = json.load(file)\n",
    "\n",
    "def is_pattern_specific_to_class(pattern, class_name):\n",
    "    for genome_counts in all_recurring_patterns[pattern].values():\n",
    "        for island in genome_counts.keys():\n",
    "            if class_name not in island:\n",
    "                return False\n",
    "    return True\n",
    "\n",
    "def get_pattern_frequency(pattern, class_name):\n",
    "    if is_pattern_specific_to_class(pattern, class_name):\n",
    "        frequency = len(all_recurring_patterns[pattern])\n",
    "    else:\n",
    "        frequency = 0\n",
    "        \n",
    "    return frequency\n",
    "\n",
    "def get_top_patterns_per_class(class_name):\n",
    "    pattern_freq = [(pattern, get_pattern_frequency(pattern, class_name)) for pattern in all_recurring_patterns if is_pattern_specific_to_class(pattern, class_name)]\n",
    "    \n",
    "    sorted_patterns = sorted(pattern_freq, key=lambda x: x[1], reverse=True)\n",
    "    \n",
    "    top_3_patterns = []\n",
    "    \n",
    "    for pattern, freq in sorted_patterns:\n",
    "        is_subpattern_or_superpattern = False\n",
    "        for top_pattern, _ in top_3_patterns:\n",
    "            if pattern in top_pattern or top_pattern[1:-1] in pattern:\n",
    "                is_subpattern_or_superpattern = True\n",
    "                break\n",
    "        \n",
    "        if not is_subpattern_or_superpattern:\n",
    "            top_3_patterns.append((pattern, freq))\n",
    "        \n",
    "        if len(top_3_patterns) == 3:\n",
    "            break\n",
    "    \n",
    "    return top_3_patterns\n",
    "\n",
    "classes = ['cpai', 'npai', 'pai']\n",
    "\n",
    "fig, axs = plt.subplots(1, 3, figsize=(15, 5))\n",
    "\n",
    "for i, class_name in enumerate(classes):\n",
    "    top_3_patterns = get_top_patterns_per_class(class_name)\n",
    "    \n",
    "    patterns = [pattern for pattern, _ in top_3_patterns]\n",
    "    frequencies = [freq for _, freq in top_3_patterns]\n",
    "    \n",
    "    axs[i].bar(patterns, frequencies)\n",
    "    axs[i].set_title(f'Top 3 Patterns in {class_name}')\n",
    "    axs[i].set_xlabel('Patterns')\n",
    "    axs[i].set_ylabel('Frequency')\n",
    "    axs[i].tick_params(axis='x', rotation=45)\n",
    "\n",
    "plt.tight_layout()\n",
    "plt.show()"
   ]
  },
  {
   "cell_type": "code",
   "execution_count": null,
   "id": "1c6d7144",
   "metadata": {},
   "outputs": [],
   "source": []
  }
 ],
 "metadata": {
  "kernelspec": {
   "display_name": "Python 3 (ipykernel)",
   "language": "python",
   "name": "python3"
  },
  "language_info": {
   "codemirror_mode": {
    "name": "ipython",
    "version": 3
   },
   "file_extension": ".py",
   "mimetype": "text/x-python",
   "name": "python",
   "nbconvert_exporter": "python",
   "pygments_lexer": "ipython3",
   "version": "3.10.12"
  }
 },
 "nbformat": 4,
 "nbformat_minor": 5
}
